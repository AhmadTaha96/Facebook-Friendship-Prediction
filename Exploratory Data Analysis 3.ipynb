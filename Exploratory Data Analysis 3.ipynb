{
  "cells": [
    {
      "cell_type": "markdown",
      "metadata": {
        "id": "KGsPT3L4neqz"
      },
      "source": [
        "# Importing Libraries"
      ]
    },
    {
      "cell_type": "code",
      "execution_count": null,
      "metadata": {
        "id": "kpDcGNG1H-Wb"
      },
      "outputs": [],
      "source": [
        "import pandas as pd\n",
        "import numpy as np\n",
        "import matplotlib.pyplot as plt\n",
        "import seaborn as sns\n",
        "import networkx as nx\n",
        "import shutil\n",
        "import os\n",
        "from operator import add\n",
        "from collections import Counter"
      ]
    },
    {
      "cell_type": "markdown",
      "metadata": {
        "id": "3WWY7TZPIqXh"
      },
      "source": [
        "# Reading Data"
      ]
    },
    {
      "cell_type": "code",
      "execution_count": null,
      "metadata": {
        "id": "8MWACWRMIrUE"
      },
      "outputs": [],
      "source": [
        "train_data = pd.read_csv(\"Data/train.csv\", index_col = False)"
      ]
    },
    {
      "cell_type": "code",
      "execution_count": null,
      "metadata": {
        "id": "mMqIwt1IYmGr"
      },
      "outputs": [],
      "source": [
        "# Reading the whole data using networkx\n",
        "train_graph = nx.read_edgelist(\"Data/train.csv\", delimiter = ',', nodetype = int, comments = 's', create_using = nx.DiGraph())"
      ]
    },
    {
      "cell_type": "markdown",
      "metadata": {
        "id": "Zw49JJc4VNPB"
      },
      "source": [
        "# Followers & Following of Each User"
      ]
    },
    {
      "cell_type": "markdown",
      "source": [
        "Now, After we have finished analysing each user **followers** and **following**, incoming edges and outcoming edges or the indegree of each node in (graph language) and the outdegree,not it's time to merge the two values we have of each node to get more comprehensive view on each node,and i will apply the same method we have done in the first two parts."
      ],
      "metadata": {
        "id": "t03byNUMV2VR"
      }
    },
    {
      "cell_type": "code",
      "execution_count": null,
      "metadata": {
        "id": "eMh2wYS7yGun"
      },
      "outputs": [],
      "source": [
        "indegree_dist = list(dict(train_graph.in_degree()).values())\n",
        "outdegree_dist = list(dict(train_graph.out_degree()).values())"
      ]
    },
    {
      "cell_type": "code",
      "source": [
        "in_out_degree_dist = list(map(add, indegree_dist, outdegree_dist))\n",
        "in_out_degree_dist.sort()"
      ],
      "metadata": {
        "id": "wvtoc_eHxsHK"
      },
      "execution_count": null,
      "outputs": []
    },
    {
      "cell_type": "code",
      "execution_count": null,
      "metadata": {
        "colab": {
          "base_uri": "https://localhost:8080/",
          "height": 388
        },
        "id": "HTjHfEreUL60",
        "outputId": "930978bb-bf5a-49f6-f741-13098ba77a71"
      },
      "outputs": [
        {
          "output_type": "display_data",
          "data": {
            "image/png": "[encoded data removed]",
            "text/plain": [
              "<Figure size 720x432 with 1 Axes>"
            ]
          },
          "metadata": {
            "needs_background": "light"
          }
        }
      ],
      "source": [
        "plt.figure(figsize = (10, 6))\n",
        "plt.ticklabel_format(style = \"plain\", axis = 'x', useOffset = False)\n",
        "plt.plot(in_out_degree_dist)\n",
        "plt.xlabel(\"Node Number\")\n",
        "plt.ylabel(\"Full Node's Degree In & Out\")\n",
        "plt.show()"
      ]
    },
    {
      "cell_type": "markdown",
      "source": [
        "The shape of this plot is excactly as the previous one, a very few number of users with a lot of following and the rest of users gather togeather in the left and that expectable because most of users follow only the people they know and some celebrites sometimes."
      ],
      "metadata": {
        "id": "bzQpU1pZOjoB"
      }
    },
    {
      "cell_type": "code",
      "execution_count": null,
      "metadata": {
        "colab": {
          "base_uri": "https://localhost:8080/",
          "height": 388
        },
        "id": "EIVR6I3rVTle",
        "outputId": "3e5da30f-6aeb-46d0-c2ed-d630c236dee8"
      },
      "outputs": [
        {
          "output_type": "display_data",
          "data": {
            "image/png": "[encoded data removed]",
            "text/plain": [
              "<Figure size 720x432 with 1 Axes>"
            ]
          },
          "metadata": {
            "needs_background": "light"
          }
        }
      ],
      "source": [
        "plt.figure(figsize = (10, 6))\n",
        "# Taking the first 1,500,000 and focusing on it\n",
        "plt.plot(in_out_degree_dist[:1500000])\n",
        "plt.ticklabel_format(style = \"plain\", axis = 'x', useOffset = False)\n",
        "plt.xlabel(\"Node's Number\")\n",
        "plt.ylabel(\"Full Node's Degree\")\n",
        "plt.show()"
      ]
    },
    {
      "cell_type": "markdown",
      "metadata": {
        "id": "B_s7eaSgaBHV"
      },
      "source": [
        "When combining the two degrees togeather the result plot is more jagged than the previos two plots which mean that there is more varianec here in term of degrees rather than in degree and out degree alone."
      ]
    },
    {
      "cell_type": "code",
      "execution_count": null,
      "metadata": {
        "colab": {
          "base_uri": "https://localhost:8080/"
        },
        "id": "lhVNYeQ2yJuX",
        "outputId": "d057ab62-d45d-40bc-f5ad-6d4fd8726637"
      },
      "outputs": [
        {
          "output_type": "stream",
          "name": "stdout",
          "text": [
            "Min number of following for a node = 1\n",
            "Max number of following for a node = 1579\n"
          ]
        }
      ],
      "source": [
        "print(\"Min number of following for a node =\", np.min(in_out_degree_dist))\n",
        "print(\"Max number of following for a node =\", np.max(in_out_degree_dist))"
      ]
    },
    {
      "cell_type": "markdown",
      "source": [
        "So There is no degree which is not activea al all, no nodes disconnected from the graph and that is obvious because it would not be here but we need to know how many nodes with just degree equal to one."
      ],
      "metadata": {
        "id": "JXUZhBYZHvaw"
      }
    },
    {
      "cell_type": "code",
      "execution_count": null,
      "metadata": {
        "colab": {
          "base_uri": "https://localhost:8080/"
        },
        "id": "TUndsfSEyzAP",
        "outputId": "bb40b97e-d54b-4d78-df1c-ade4d33b803a"
      },
      "outputs": [
        {
          "output_type": "stream",
          "name": "stdout",
          "text": [
            "Number of nodes with one followers / following = 334291\n",
            "Percentage of nodes with one followers / following = 17.951208772325504 %\n"
          ]
        }
      ],
      "source": [
        "cnt, number_of_nodes = 0, train_graph.number_of_nodes()\n",
        "for i in in_out_degree_dist:\n",
        "  if i == 1:\n",
        "    cnt += 1\n",
        "\n",
        "print(\"Number of nodes with one followers / following =\", cnt)\n",
        "print(\"Percentage of nodes with one followers / following =\", (cnt / number_of_nodes) * 100, '%')"
      ]
    },
    {
      "cell_type": "markdown",
      "source": [
        "About 18% of nodes have only one link connected to it either in or out and this number if relativley large, now we are goona calculate most frequent degree number and return the top 10 values."
      ],
      "metadata": {
        "id": "jkp9Yc75IUMa"
      }
    },
    {
      "cell_type": "code",
      "execution_count": null,
      "metadata": {
        "colab": {
          "base_uri": "https://localhost:8080/"
        },
        "id": "P8CBnVnBzP7l",
        "outputId": "adfeb40d-ff9b-4ca2-bd0b-3e996dd0bd18"
      },
      "outputs": [
        {
          "output_type": "stream",
          "name": "stdout",
          "text": [
            "Degree 1 repeated 334291 times in graph with percentage = 17.951208772325504 %\n",
            "Degree 2 repeated 329273 times in graph with percentage = 17.681745443610314 %\n",
            "Degree 3 repeated 151273 times in graph with percentage = 8.123261483605589 %\n",
            "Degree 4 repeated 144683 times in graph with percentage = 7.769382779693054 %\n",
            "Degree 5 repeated 94279 times in graph with percentage = 5.062720838569019 %\n",
            "Degree 6 repeated 88499 times in graph with percentage = 4.752338606609316 %\n",
            "Degree 7 repeated 66413 times in graph with percentage = 3.566334804695471 %\n",
            "Degree 8 repeated 61704 times in graph with percentage = 3.313464574540065 %\n",
            "Degree 9 repeated 49911 times in graph with percentage = 2.6801881625157074 %\n",
            "Degree 10 repeated 46111 times in graph with percentage = 2.4761306397740332 %\n"
          ]
        }
      ],
      "source": [
        "cnt = Counter(in_out_degree_dist)\n",
        "for key, value in cnt.most_common(10):\n",
        "  print(f\"Degree {key} repeated {value} times in graph with percentage =\", (value / number_of_nodes) * 100, '%')"
      ]
    },
    {
      "cell_type": "markdown",
      "metadata": {
        "id": "U9DnFw_dzhMh"
      },
      "source": [
        "Most of nodes are not really active and tend to have really small number of connections and only a few number of nodes tend to form more connections like we saw in the previous analysis."
      ]
    },
    {
      "cell_type": "code",
      "execution_count": null,
      "metadata": {
        "colab": {
          "base_uri": "https://localhost:8080/"
        },
        "id": "Yq8JBWWkzx1a",
        "outputId": "38e333ab-50b8-41ce-8507-338f09bbc74e"
      },
      "outputs": [
        {
          "output_type": "stream",
          "name": "stdout",
          "text": [
            "The average of in / out degree distribution = 10.135772357723578\n",
            "The median of in / out degree distribution = 4.0\n",
            "The standard deviation of in / out degree distribution = 18.294002792411355\n"
          ]
        }
      ],
      "source": [
        "print(\"The average of in / out degree distribution =\", np.mean(in_out_degree_dist))\n",
        "print(\"The median of in / out degree distribution =\", np.median(in_out_degree_dist))\n",
        "print(\"The standard deviation of in / out degree distribution =\", np.std(in_out_degree_dist))"
      ]
    },
    {
      "cell_type": "code",
      "execution_count": null,
      "metadata": {
        "colab": {
          "base_uri": "https://localhost:8080/"
        },
        "id": "jBXFYleqFhf2",
        "outputId": "2bd69dc1-ec9f-4152-fa5a-d7bf79aaf396"
      },
      "outputs": [
        {
          "output_type": "stream",
          "name": "stdout",
          "text": [
            "The 0th percentile value of in / out degree distribution = 1.0\n",
            "The 10th percentile value of in / out degree distribution = 1.0\n",
            "The 20th percentile value of in / out degree distribution = 2.0\n",
            "The 30th percentile value of in / out degree distribution = 2.0\n",
            "The 40th percentile value of in / out degree distribution = 3.0\n",
            "The 50th percentile value of in / out degree distribution = 4.0\n",
            "The 60th percentile value of in / out degree distribution = 6.0\n",
            "The 70th percentile value of in / out degree distribution = 9.0\n",
            "The 80th percentile value of in / out degree distribution = 14.0\n",
            "The 90th percentile value of in / out degree distribution = 24.0\n",
            "The 100th percentile value of in / out degree distribution = 1579.0\n"
          ]
        }
      ],
      "source": [
        "for i in range(0, 110, 10):\n",
        "  print(f\"The {i}th percentile value of in / out degree distribution =\", np.percentile(in_out_degree_dist, i))"
      ]
    },
    {
      "cell_type": "markdown",
      "metadata": {
        "id": "_tMfSlIcFtts"
      },
      "source": [
        "60% of the users have 6 connections / links, 70% of them have 9 links coming in / out or less, Most of the values tend to follow / get followed by small number of users, which give us some thought of users in this graph tend not to make connections with others people easily and hence making new links may not be very probabe **(That might give intution of predicting negative class would be more probable and that why we need Precision / Recall metrics here)** and For that if we focus on the right part of the followers starting from 90th and larger to get more insight and how full degree of right part of our nodes is."
      ]
    },
    {
      "cell_type": "code",
      "execution_count": null,
      "metadata": {
        "colab": {
          "base_uri": "https://localhost:8080/"
        },
        "id": "2ePG4VtBEupB",
        "outputId": "2bb8902c-c0e2-490b-fac1-d45499000def"
      },
      "outputs": [
        {
          "output_type": "stream",
          "name": "stdout",
          "text": [
            "The 90th percentile = 24.0\n",
            "The 91th percentile = 26.0\n",
            "The 92th percentile = 28.0\n",
            "The 93th percentile = 31.0\n",
            "The 94th percentile = 33.0\n",
            "The 95th percentile = 37.0\n",
            "The 96th percentile = 41.0\n",
            "The 97th percentile = 48.0\n",
            "The 98th percentile = 58.0\n",
            "The 99th percentile = 79.0\n",
            "The 100th percentile = 1579.0\n"
          ]
        }
      ],
      "source": [
        "for i in range(90, 101, 1):\n",
        "  print(f\"The {i}th percentile =\", np.percentile(in_out_degree_dist, i))"
      ]
    },
    {
      "cell_type": "code",
      "execution_count": null,
      "metadata": {
        "colab": {
          "base_uri": "https://localhost:8080/"
        },
        "id": "ZwquDPN_GsYu",
        "outputId": "a051e270-fc54-48df-8b82-37a0020441c1"
      },
      "outputs": [
        {
          "output_type": "stream",
          "name": "stdout",
          "text": [
            "The 99.0th percentile = 79.0\n",
            "The 99.1th percentile = 83.0\n",
            "The 99.2th percentile = 87.0\n",
            "The 99.3th percentile = 93.0\n",
            "The 99.4th percentile = 99.0\n",
            "The 99.5th percentile = 108.0\n",
            "The 99.6th percentile = 120.0\n",
            "The 99.7th percentile = 138.0\n",
            "The 99.8th percentile = 168.0\n",
            "The 99.9th percentile = 221.0\n",
            "The 100.0th percentile = 1579.0\n"
          ]
        }
      ],
      "source": [
        "for i in range(0, 110, 10):\n",
        "  j = 99 + (i / 100)\n",
        "  print(f\"The {j}th percentile =\", np.percentile(in_out_degree_dist, j))"
      ]
    },
    {
      "cell_type": "markdown",
      "metadata": {
        "id": "UAn2rLGNICG0"
      },
      "source": [
        "The value at 100th percentile could be an outlier due to the large gap between it and the other nodes in term of following / followers degree."
      ]
    },
    {
      "cell_type": "code",
      "source": [
        "Q1, Q3 = np.percentile(in_out_degree_dist, 25), np.percentile(in_out_degree_dist, 75)\n",
        "IQR = Q3 - Q1\n",
        "print(\"Inter Quantile Range =\", IQR)"
      ],
      "metadata": {
        "id": "QPsygYHmL5PJ",
        "colab": {
          "base_uri": "https://localhost:8080/"
        },
        "outputId": "f70c18b4-ed8b-447e-cb9c-fc7614345081"
      },
      "execution_count": null,
      "outputs": [
        {
          "output_type": "stream",
          "name": "stdout",
          "text": [
            "Inter Quantile Range = 9.0\n"
          ]
        }
      ]
    },
    {
      "cell_type": "code",
      "source": [
        "low_limit, high_limit = -1.5 * Q1, +1.5 * Q3\n",
        "print(\"The low limit of the observation to be consider as outliers =\", int(low_limit))\n",
        "print(\"The high limit of the observation to be consider as outliers =\", int(high_limit))"
      ],
      "metadata": {
        "colab": {
          "base_uri": "https://localhost:8080/"
        },
        "id": "wF5d-f-ENOxd",
        "outputId": "48dc327f-cc7b-4ae9-8d4a-422cdbd5a817"
      },
      "execution_count": null,
      "outputs": [
        {
          "output_type": "stream",
          "name": "stdout",
          "text": [
            "The low limit of the observation to be consider as outliers = -3\n",
            "The high limit of the observation to be consider as outliers = 16\n"
          ]
        }
      ]
    },
    {
      "cell_type": "markdown",
      "source": [
        "So each value below our low limit would be considered as outlier but here this is not possible due to the fact that the low limit is negative hence no user has negative number of followers + followed and that's obvious because the data is clearley skewed to the right, and each value grater than our high limit in this case 16 would be considered as outliers."
      ],
      "metadata": {
        "id": "vcVMtjzLOL8D"
      }
    },
    {
      "cell_type": "code",
      "source": [
        "cnt = 0\n",
        "for i in in_out_degree_dist:\n",
        "  if i > high_limit:\n",
        "    cnt += 1\n",
        "\n",
        "print(\"Number of values over the upper limit =\", cnt)\n",
        "print(\"Percentage of values over the upper limit =\", (cnt / 1862220) * 100, '%')"
      ],
      "metadata": {
        "colab": {
          "base_uri": "https://localhost:8080/"
        },
        "id": "lPQNlt6yPEG2",
        "outputId": "077465bd-7ed7-4c4c-9b5d-1c1ccde9792c"
      },
      "execution_count": null,
      "outputs": [
        {
          "output_type": "stream",
          "name": "stdout",
          "text": [
            "Number of values over the upper limit = 312178\n",
            "Percentage of values over the upper limit = 16.763755088013234 %\n"
          ]
        }
      ]
    },
    {
      "cell_type": "code",
      "execution_count": null,
      "metadata": {
        "colab": {
          "base_uri": "https://localhost:8080/",
          "height": 469
        },
        "id": "mk9yXTCeIen6",
        "outputId": "e551a83c-1f96-4ca0-9a5c-36a0c5a75a08"
      },
      "outputs": [
        {
          "output_type": "display_data",
          "data": {
            "image/png": "[encoded data removed]",
            "text/plain": [
              "<Figure size 864x576 with 1 Axes>"
            ]
          },
          "metadata": {
            "needs_background": "light"
          }
        }
      ],
      "source": [
        "plt.figure(figsize = (12, 8))\n",
        "sns.boxplot(y = in_out_degree_dist)\n",
        "plt.show()"
      ]
    },
    {
      "cell_type": "code",
      "source": [
        "# increasing the threshold from 1.5 to 3\n",
        "# I will discard low limit as it will be negative anyway\n",
        "high_limit = +3 * Q3\n",
        "print(\"The high limit of the observation to be consider as outliers =\", high_limit)"
      ],
      "metadata": {
        "colab": {
          "base_uri": "https://localhost:8080/"
        },
        "id": "kYw-4lMsTKpf",
        "outputId": "88914b59-7a31-4400-9ce5-1540a5d1e969"
      },
      "execution_count": null,
      "outputs": [
        {
          "output_type": "stream",
          "name": "stdout",
          "text": [
            "The high limit of the observation to be consider as outliers = 33.0\n"
          ]
        }
      ]
    },
    {
      "cell_type": "code",
      "source": [
        "cnt = 0\n",
        "for i in in_out_degree_dist:\n",
        "  if i > high_limit:\n",
        "    cnt += 1\n",
        "\n",
        "print(\"Number of values over the upper limit =\", cnt)\n",
        "print(\"Percentage of values over the upper limit =\", (cnt / 1862220) * 100, '%')"
      ],
      "metadata": {
        "colab": {
          "base_uri": "https://localhost:8080/"
        },
        "id": "Zznx03s0TV5u",
        "outputId": "82f402d0-3f34-47ac-8590-8629ce598fcc"
      },
      "execution_count": null,
      "outputs": [
        {
          "output_type": "stream",
          "name": "stdout",
          "text": [
            "Number of values over the upper limit = 110854\n",
            "Percentage of values over the upper limit = 5.952787533159348 %\n"
          ]
        }
      ]
    },
    {
      "cell_type": "markdown",
      "source": [
        "This is more resonable and acceptable results as only 6% of the data could be outliers (not neccessary) rather than having 16.7% as outliers which is large percentage."
      ],
      "metadata": {
        "id": "P9-8BcNNTrlg"
      }
    },
    {
      "cell_type": "code",
      "execution_count": null,
      "metadata": {
        "colab": {
          "base_uri": "https://localhost:8080/",
          "height": 497
        },
        "id": "qy9BRfYu00Gk",
        "outputId": "bf563de6-7432-42be-fd65-b9037c25bd73"
      },
      "outputs": [
        {
          "output_type": "display_data",
          "data": {
            "image/png": "[encoded data removed]",
            "text/plain": [
              "<Figure size 864x576 with 1 Axes>"
            ]
          },
          "metadata": {
            "needs_background": "light"
          }
        }
      ],
      "source": [
        "plt.figure(figsize = (12, 8))\n",
        "sns.kdeplot(in_out_degree_dist, fill = True)\n",
        "plt.xlabel(\"Node's Index\")\n",
        "plt.show()"
      ]
    }
  ],
  "metadata": {
    "colab": {
      "collapsed_sections": [
        "KGsPT3L4neqz",
        "3WWY7TZPIqXh",
        "Zw49JJc4VNPB"
      ],
      "name": "Exploratory Data Analysis.ipynb",
      "provenance": [],
      "mount_file_id": "1uPGnyQFKjBJ_hMQ4Q-L3opOwvhDqRPxh",
      "authorship_tag": "ABX9TyNhNqqKj/w3KxJN2XlJzUa+"
    },
    "kernelspec": {
      "display_name": "Python 3",
      "name": "python3"
    },
    "language_info": {
      "name": "python"
    }
  },
  "nbformat": 4,
  "nbformat_minor": 0
}