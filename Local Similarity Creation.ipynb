{
  "cells": [
    {
      "cell_type": "markdown",
      "metadata": {
        "id": "KGsPT3L4neqz"
      },
      "source": [
        "# Importing Libraries"
      ]
    },
    {
      "cell_type": "code",
      "execution_count": 3,
      "metadata": {
        "id": "kpDcGNG1H-Wb"
      },
      "outputs": [],
      "source": [
        "import pandas as pd\n",
        "import numpy as np\n",
        "import networkx as nx\n",
        "import shutil\n",
        "import os"
      ]
    },
    {
      "cell_type": "markdown",
      "metadata": {
        "id": "aRvuf6DFp8QR"
      },
      "source": [
        "# Creating Features"
      ]
    },
    {
      "cell_type": "code",
      "execution_count": null,
      "metadata": {
        "id": "vzNCbPkVp95G"
      },
      "outputs": [],
      "source": [
        "x_train = pd.read_csv(\"Data/x_train.csv\")\n",
        "x_test = pd.read_csv(\"Data/x_test.csv\")\n",
        "x_valid = pd.read_csv(\"Data/x_valid.csv\")"
      ]
    },
    {
      "cell_type": "markdown",
      "metadata": {
        "id": "R_hd9lpurMV3"
      },
      "source": [
        "We shall design X_Train_Positive to use it for features creating, as it would be meaningless to use x_negative as well in graph buliding because  there is no edges at all so it would be just a bunch of scatterd nodes around the space, we will design train graph from x_train only so we don't have any data lekage."
      ]
    },
    {
      "cell_type": "code",
      "execution_count": null,
      "metadata": {
        "id": "QRRGsiLLsDjZ"
      },
      "outputs": [],
      "source": [
        "x_train_positive = x_train[x_train.label == 1]\n",
        "x_train_positive = x_train_positive.drop([\"label\"], axis = 1)\n",
        "x_train_positive.to_csv(\"Data/train graph.csv\", header = None, index = False)"
      ]
    },
    {
      "cell_type": "code",
      "execution_count": null,
      "metadata": {
        "id": "8zdfSsZPWVR9"
      },
      "outputs": [],
      "source": [
        "# Reading Traing Graph From Existing Links only\n",
        "train_graph = nx.read_edgelist(\"Data/train graph.csv\", comments = 's', create_using = nx.DiGraph(), nodetype = int, delimiter = \",\")"
      ]
    },
    {
      "cell_type": "code",
      "execution_count": null,
      "metadata": {
        "id": "tMWY9VajqO47"
      },
      "outputs": [],
      "source": [
        "# Calculating average degree of nodes in train graph to use later by some features\n",
        "# As it's a directed graph i will add indegree and outdegree then divie by 2\n",
        "nnodes = train_graph.number_of_nodes()\n",
        "in_degree = sum(d for n, d in train_graph.in_degree()) / float(nnodes)\n",
        "print(\"Average in degree: %8.4f\" % in_degree)\n",
        "out_degree = sum(d for n, d in train_graph.out_degree()) / float(nnodes)\n",
        "print(\"Average out degree: %8.4f\" % out_degree)"
      ]
    },
    {
      "cell_type": "markdown",
      "source": [
        "### Creating Degrees Features"
      ],
      "metadata": {
        "id": "Qv24ames3v2u"
      }
    },
    {
      "cell_type": "code",
      "execution_count": null,
      "metadata": {
        "id": "7eIhNkw7k3ki"
      },
      "outputs": [],
      "source": [
        "x_train[\"source_outdegree\"], x_train[\"source_indegree\"] = get_degree(x_train[\"source_node\"])\n",
        "x_train[\"destination_outdegree\"], x_train[\"destination_indegree\"] = get_degree(x_train[\"destination_node\"])\n",
        "\n",
        "x_test[\"source_outdegree\"], x_test[\"source_indegree\"] = get_degree(x_test[\"source_node\"])\n",
        "x_test[\"destination_outdegree\"], x_test[\"destination_indegree\"] = get_degree(x_test[\"destination_node\"])\n",
        "\n",
        "x_valid[\"source_outdegree\"], x_valid[\"source_indegree\"] = get_degree(x_valid[\"source_node\"])\n",
        "x_valid[\"destination_outdegree\"], x_valid[\"destination_indegree\"] = get_degree(x_valid[\"destination_node\"])"
      ]
    },
    {
      "cell_type": "markdown",
      "source": [
        "### Creating Intersection Features"
      ],
      "metadata": {
        "id": "KOabdXc9Wpax"
      }
    },
    {
      "cell_type": "code",
      "execution_count": null,
      "metadata": {
        "id": "nZXx0gpSrzLz"
      },
      "outputs": [],
      "source": [
        "x_train[\"outcoming_intersection\"], x_train[\"incoming_intersection\"] = get_intersection(x_train[\"source_node\"], x_train[\"destination_node\"])\n",
        "x_test[\"outcoming_intersection\"], x_test[\"incoming_intersection\"] = get_intersection(x_test[\"source_node\"], x_test[\"destination_node\"])\n",
        "x_valid[\"outcoming_intersection\"], x_valid[\"incoming_intersection\"] = get_intersection(x_valid[\"source_node\"], x_valid[\"destination_node\"])"
      ]
    },
    {
      "cell_type": "markdown",
      "source": [
        "### Creating Jaccard Features"
      ],
      "metadata": {
        "id": "henNsTG0WuLn"
      }
    },
    {
      "cell_type": "code",
      "execution_count": null,
      "metadata": {
        "id": "zq-LechgwepB"
      },
      "outputs": [],
      "source": [
        "x_train[\"jaccard_for_outcoming\"] = x_train.apply(lambda row : jaccard_for_outcoming(row[\"source_node\"], row[\"destination_node\"]), axis = 1)\n",
        "x_test[\"jaccard_for_outcoming\"] = x_test.apply(lambda row : jaccard_for_outcoming(row[\"source_node\"], row[\"destination_node\"]), axis = 1)\n",
        "x_valid[\"jaccard_for_outcoming\"] = x_valid.apply(lambda row : jaccard_for_outcoming(row[\"source_node\"], row[\"destination_node\"]), axis = 1)"
      ]
    },
    {
      "cell_type": "code",
      "execution_count": null,
      "metadata": {
        "colab": {
          "background_save": true
        },
        "id": "L5jiDdZdw-9p"
      },
      "outputs": [],
      "source": [
        "x_train[\"jaccard_for_incoming\"] = x_train.apply(lambda row : jaccard_for_incoming(row[\"source_node\"], row[\"destination_node\"]), axis = 1)\n",
        "x_test[\"jaccard_for_incoming\"] = x_test.apply(lambda row : jaccard_for_incoming(row[\"source_node\"], row[\"destination_node\"]), axis = 1)\n",
        "x_valid[\"jaccard_for_incoming\"] = x_valid.apply(lambda row : jaccard_for_incoming(row[\"source_node\"], row[\"destination_node\"]), axis = 1)"
      ]
    },
    {
      "cell_type": "code",
      "execution_count": null,
      "metadata": {
        "id": "wuxNG097pUYm"
      },
      "outputs": [],
      "source": [
        "# Rearrange columns in datasets\n",
        "# x_train = x_train[['source_node', 'destination_node', 'source_outdegree', 'source_indegree',\n",
        "#        'destination_outdegree', 'destination_indegree',\n",
        "#        'outcoming_intersection', 'incoming_intersection','jaccard_for_outcoming', 'jaccard_for_incoming', 'label']]\n",
        "\n",
        "# x_test = x_test[['source_node', 'destination_node', 'source_outdegree', 'source_indegree',\n",
        "#        'destination_outdegree', 'destination_indegree',\n",
        "#        'outcoming_intersection', 'incoming_intersection','jaccard_for_outcoming', 'jaccard_for_incoming', 'label']]\n",
        "\n",
        "# x_valid = x_valid[['source_node', 'destination_node', 'source_outdegree', 'source_indegree',\n",
        "#        'destination_outdegree', 'destination_indegree',\n",
        "#        'outcoming_intersection', 'incoming_intersection','jaccard_for_outcoming', 'jaccard_for_incoming', 'label']]"
      ]
    },
    {
      "cell_type": "code",
      "execution_count": null,
      "metadata": {
        "colab": {
          "base_uri": "https://localhost:8080/",
          "height": 270
        },
        "id": "j_uSnvPdsmU7",
        "outputId": "bd2d8f9a-0ca3-4ae4-8e4d-23d405f0213d"
      },
      "outputs": [
        {
          "data": {
            "text/html": [
              "\n",
              "  <div id=\"df-44ef0294-6203-4c78-8ad3-3423887f13f9\">\n",
              "    <div class=\"colab-df-container\">\n",
              "      <div>\n",
              "<style scoped>\n",
              "    .dataframe tbody tr th:only-of-type {\n",
              "        vertical-align: middle;\n",
              "    }\n",
              "\n",
              "    .dataframe tbody tr th {\n",
              "        vertical-align: top;\n",
              "    }\n",
              "\n",
              "    .dataframe thead th {\n",
              "        text-align: right;\n",
              "    }\n",
              "</style>\n",
              "<table border=\"1\" class=\"dataframe\">\n",
              "  <thead>\n",
              "    <tr style=\"text-align: right;\">\n",
              "      <th></th>\n",
              "      <th>source_node</th>\n",
              "      <th>destination_node</th>\n",
              "      <th>source_outdegree</th>\n",
              "      <th>source_indegree</th>\n",
              "      <th>destination_outdegree</th>\n",
              "      <th>destination_indegree</th>\n",
              "      <th>outcoming_intersection</th>\n",
              "      <th>incoming_intersection</th>\n",
              "      <th>jaccard_for_outcoming</th>\n",
              "      <th>jaccard_for_incoming</th>\n",
              "      <th>label</th>\n",
              "    </tr>\n",
              "  </thead>\n",
              "  <tbody>\n",
              "    <tr>\n",
              "      <th>0</th>\n",
              "      <td>712635</td>\n",
              "      <td>150377</td>\n",
              "      <td>3</td>\n",
              "      <td>4</td>\n",
              "      <td>1</td>\n",
              "      <td>1</td>\n",
              "      <td>0</td>\n",
              "      <td>0</td>\n",
              "      <td>0.0</td>\n",
              "      <td>0.0</td>\n",
              "      <td>1</td>\n",
              "    </tr>\n",
              "    <tr>\n",
              "      <th>1</th>\n",
              "      <td>1627794</td>\n",
              "      <td>174448</td>\n",
              "      <td>1</td>\n",
              "      <td>1</td>\n",
              "      <td>12</td>\n",
              "      <td>6</td>\n",
              "      <td>0</td>\n",
              "      <td>0</td>\n",
              "      <td>0.0</td>\n",
              "      <td>0.0</td>\n",
              "      <td>0</td>\n",
              "    </tr>\n",
              "    <tr>\n",
              "      <th>2</th>\n",
              "      <td>1304062</td>\n",
              "      <td>391971</td>\n",
              "      <td>1</td>\n",
              "      <td>0</td>\n",
              "      <td>10</td>\n",
              "      <td>9</td>\n",
              "      <td>0</td>\n",
              "      <td>0</td>\n",
              "      <td>0.0</td>\n",
              "      <td>0.0</td>\n",
              "      <td>0</td>\n",
              "    </tr>\n",
              "    <tr>\n",
              "      <th>3</th>\n",
              "      <td>485532</td>\n",
              "      <td>637180</td>\n",
              "      <td>1</td>\n",
              "      <td>0</td>\n",
              "      <td>9</td>\n",
              "      <td>6</td>\n",
              "      <td>0</td>\n",
              "      <td>0</td>\n",
              "      <td>0.0</td>\n",
              "      <td>0.0</td>\n",
              "      <td>0</td>\n",
              "    </tr>\n",
              "    <tr>\n",
              "      <th>4</th>\n",
              "      <td>583251</td>\n",
              "      <td>1021767</td>\n",
              "      <td>8</td>\n",
              "      <td>4</td>\n",
              "      <td>0</td>\n",
              "      <td>1</td>\n",
              "      <td>0</td>\n",
              "      <td>0</td>\n",
              "      <td>0.0</td>\n",
              "      <td>0.0</td>\n",
              "      <td>1</td>\n",
              "    </tr>\n",
              "  </tbody>\n",
              "</table>\n",
              "</div>\n",
              "      <button class=\"colab-df-convert\" onclick=\"convertToInteractive('df-44ef0294-6203-4c78-8ad3-3423887f13f9')\"\n",
              "              title=\"Convert this dataframe to an interactive table.\"\n",
              "              style=\"display:none;\">\n",
              "        \n",
              "  <svg xmlns=\"http://www.w3.org/2000/svg\" height=\"24px\"viewBox=\"0 0 24 24\"\n",
              "       width=\"24px\">\n",
              "    <path d=\"M0 0h24v24H0V0z\" fill=\"none\"/>\n",
              "    <path d=\"M18.56 5.44l.94 2.06.94-2.06 2.06-.94-2.06-.94-.94-2.06-.94 2.06-2.06.94zm-11 1L8.5 8.5l.94-2.06 2.06-.94-2.06-.94L8.5 2.5l-.94 2.06-2.06.94zm10 10l.94 2.06.94-2.06 2.06-.94-2.06-.94-.94-2.06-.94 2.06-2.06.94z\"/><path d=\"M17.41 7.96l-1.37-1.37c-.4-.4-.92-.59-1.43-.59-.52 0-1.04.2-1.43.59L10.3 9.45l-7.72 7.72c-.78.78-.78 2.05 0 2.83L4 21.41c.39.39.9.59 1.41.59.51 0 1.02-.2 1.41-.59l7.78-7.78 2.81-2.81c.8-.78.8-2.07 0-2.86zM5.41 20L4 18.59l7.72-7.72 1.47 1.35L5.41 20z\"/>\n",
              "  </svg>\n",
              "      </button>\n",
              "      \n",
              "  <style>\n",
              "    .colab-df-container {\n",
              "      display:flex;\n",
              "      flex-wrap:wrap;\n",
              "      gap: 12px;\n",
              "    }\n",
              "\n",
              "    .colab-df-convert {\n",
              "      background-color: #E8F0FE;\n",
              "      border: none;\n",
              "      border-radius: 50%;\n",
              "      cursor: pointer;\n",
              "      display: none;\n",
              "      fill: #1967D2;\n",
              "      height: 32px;\n",
              "      padding: 0 0 0 0;\n",
              "      width: 32px;\n",
              "    }\n",
              "\n",
              "    .colab-df-convert:hover {\n",
              "      background-color: #E2EBFA;\n",
              "      box-shadow: 0px 1px 2px rgba(60, 64, 67, 0.3), 0px 1px 3px 1px rgba(60, 64, 67, 0.15);\n",
              "      fill: #174EA6;\n",
              "    }\n",
              "\n",
              "    [theme=dark] .colab-df-convert {\n",
              "      background-color: #3B4455;\n",
              "      fill: #D2E3FC;\n",
              "    }\n",
              "\n",
              "    [theme=dark] .colab-df-convert:hover {\n",
              "      background-color: #434B5C;\n",
              "      box-shadow: 0px 1px 3px 1px rgba(0, 0, 0, 0.15);\n",
              "      filter: drop-shadow(0px 1px 2px rgba(0, 0, 0, 0.3));\n",
              "      fill: #FFFFFF;\n",
              "    }\n",
              "  </style>\n",
              "\n",
              "      <script>\n",
              "        const buttonEl =\n",
              "          document.querySelector('#df-44ef0294-6203-4c78-8ad3-3423887f13f9 button.colab-df-convert');\n",
              "        buttonEl.style.display =\n",
              "          google.colab.kernel.accessAllowed ? 'block' : 'none';\n",
              "\n",
              "        async function convertToInteractive(key) {\n",
              "          const element = document.querySelector('#df-44ef0294-6203-4c78-8ad3-3423887f13f9');\n",
              "          const dataTable =\n",
              "            await google.colab.kernel.invokeFunction('convertToInteractive',\n",
              "                                                     [key], {});\n",
              "          if (!dataTable) return;\n",
              "\n",
              "          const docLinkHtml = 'Like what you see? Visit the ' +\n",
              "            '<a target=\"_blank\" href=https://colab.research.google.com/notebooks/data_table.ipynb>data table notebook</a>'\n",
              "            + ' to learn more about interactive tables.';\n",
              "          element.innerHTML = '';\n",
              "          dataTable['output_type'] = 'display_data';\n",
              "          await google.colab.output.renderOutput(dataTable, element);\n",
              "          const docLink = document.createElement('div');\n",
              "          docLink.innerHTML = docLinkHtml;\n",
              "          element.appendChild(docLink);\n",
              "        }\n",
              "      </script>\n",
              "    </div>\n",
              "  </div>\n",
              "  "
            ],
            "text/plain": [
              "   source_node  destination_node  ...  jaccard_for_incoming  label\n",
              "0       712635            150377  ...                   0.0      1\n",
              "1      1627794            174448  ...                   0.0      0\n",
              "2      1304062            391971  ...                   0.0      0\n",
              "3       485532            637180  ...                   0.0      0\n",
              "4       583251           1021767  ...                   0.0      1\n",
              "\n",
              "[5 rows x 11 columns]"
            ]
          },
          "execution_count": 31,
          "metadata": {},
          "output_type": "execute_result"
        }
      ],
      "source": [
        "x_train.head()"
      ]
    },
    {
      "cell_type": "markdown",
      "source": [
        "### Creating Salton Features"
      ],
      "metadata": {
        "id": "6hppY1euXQ7p"
      }
    },
    {
      "cell_type": "code",
      "execution_count": null,
      "metadata": {
        "id": "LoPOch7P9u6n"
      },
      "outputs": [],
      "source": [
        "def salton_for_incoming(source, destination):\n",
        "  \"\"\"\n",
        "  Calculate Salton Index for outcoming edges, this index also known as cosine distance and defined as:\n",
        "  Number of common followee / square root of (number of followee of soruce times number of followee of destination)\n",
        "  \"\"\"\n",
        "  outcoming = []\n",
        "  \n",
        "  for s, d in zip(source, destination):\n",
        "    try:\n",
        "      s_in, d_in = train_graph.in_degree(s) == 0, train_graph.in_degree(d) == 0\n",
        "      if s_ind == 0 or d_in == 0:\n",
        "        outcoming.append(0)\n",
        "        continue\n",
        "\n",
        "      numerator = len(set(train_graph.predecessors(s)).intersection(set(train_graph.predecessors(d))))\n",
        "      denominator = (s_in * d_in) ** 0.5\n",
        "      \n",
        "      outcoming.append(numerator / denominator)\n",
        "    \n",
        "    except:\n",
        "      outcoming.append(0)\n",
        "\n",
        "  return outcoming"
      ]
    },
    {
      "cell_type": "code",
      "execution_count": null,
      "metadata": {
        "id": "PC2yyPFdot2K"
      },
      "outputs": [],
      "source": [
        "salton_for_outcoming1 = salton_for_outcoming(x_train[\"source_node\"], x_train[\"destination_node\"])\n",
        "x_train[\"salton_for_outcoming\"] = salton_for_outcoming1\n",
        "salton_for_outcoming1 = salton_for_outcoming(x_test[\"source_node\"], x_test[\"destination_node\"])\n",
        "x_test[\"salton_for_outcoming\"] = salton_for_outcoming1\n",
        "salton_for_outcoming1 = salton_for_outcoming(x_valid[\"source_node\"], x_valid[\"destination_node\"])\n",
        "x_valid[\"salton_for_outcoming\"] = salton_for_outcoming1"
      ]
    },
    {
      "cell_type": "code",
      "execution_count": null,
      "metadata": {
        "id": "cOZ1lc4cpZHE"
      },
      "outputs": [],
      "source": [
        "salton_for_incoming1 = salton_for_incoming(x_train[\"source_node\"], x_train[\"destination_node\"])\n",
        "x_train[\"salton_for_incoming\"] = salton_for_incoming1\n",
        "salton_for_incoming1 = salton_for_incoming(x_test[\"source_node\"], x_test[\"destination_node\"])\n",
        "x_test[\"salton_for_incoming\"] = salton_for_incoming1\n",
        "salton_for_incoming1 = salton_for_incoming(x_valid[\"source_node\"], x_valid[\"destination_node\"])\n",
        "x_valid[\"salton_for_incoming\"] = salton_for_incoming1"
      ]
    },
    {
      "cell_type": "code",
      "execution_count": null,
      "metadata": {
        "id": "vchvydD7voNq"
      },
      "outputs": [],
      "source": [
        "x_train[\"salton_for_outcoming\"] = x_train.apply(lambda row : salton_for_outcoming(row[\"source_node\"], row[\"destination_node\"]), axis = 1)\n",
        "x_test[\"salton_for_outcoming\"] = x_test.apply(lambda row : salton_for_outcoming(row[\"source_node\"], row[\"destination_node\"]), axis = 1)\n",
        "x_valid[\"salton_for_outcoming\"] = x_valid.apply(lambda row : salton_for_outcoming(row[\"source_node\"], row[\"destination_node\"]), axis = 1)"
      ]
    },
    {
      "cell_type": "code",
      "execution_count": null,
      "metadata": {
        "id": "NDGkdNUDvw5e"
      },
      "outputs": [],
      "source": [
        "x_train[\"salton_for_incoming\"] = x_train.apply(lambda row : salton_for_incoming(row[\"source_node\"], row[\"destination_node\"]), axis = 1)\n",
        "x_test[\"salton_for_incoming\"] = x_test.apply(lambda row : salton_for_incoming(row[\"source_node\"], row[\"destination_node\"]), axis = 1)\n",
        "x_valid[\"salton_for_incoming\"] = x_valid.apply(lambda row : salton_for_incoming(row[\"source_node\"], row[\"destination_node\"]), axis = 1)"
      ]
    },
    {
      "cell_type": "code",
      "execution_count": null,
      "metadata": {
        "colab": {
          "base_uri": "https://localhost:8080/",
          "height": 427
        },
        "id": "UjbfIO5O4sZm",
        "outputId": "34496e86-5537-4cb6-812c-2c93de5df752"
      },
      "outputs": [
        {
          "data": {
            "text/html": [
              "\n",
              "  <div id=\"df-e48eeb19-8081-4125-89fc-eb317cc0e479\">\n",
              "    <div class=\"colab-df-container\">\n",
              "      <div>\n",
              "<style scoped>\n",
              "    .dataframe tbody tr th:only-of-type {\n",
              "        vertical-align: middle;\n",
              "    }\n",
              "\n",
              "    .dataframe tbody tr th {\n",
              "        vertical-align: top;\n",
              "    }\n",
              "\n",
              "    .dataframe thead th {\n",
              "        text-align: right;\n",
              "    }\n",
              "</style>\n",
              "<table border=\"1\" class=\"dataframe\">\n",
              "  <thead>\n",
              "    <tr style=\"text-align: right;\">\n",
              "      <th></th>\n",
              "      <th>source_node</th>\n",
              "      <th>destination_node</th>\n",
              "      <th>label</th>\n",
              "      <th>salton_for_outcoming</th>\n",
              "      <th>salton_for_incoming</th>\n",
              "      <th>source_outdegree</th>\n",
              "      <th>source_indegree</th>\n",
              "      <th>destination_outdegree</th>\n",
              "      <th>destination_indegree</th>\n",
              "      <th>outcoming_intersection</th>\n",
              "      <th>incoming_intersection</th>\n",
              "      <th>jaccard_for_outcoming</th>\n",
              "      <th>jaccard_for_incoming</th>\n",
              "      <th>sorensen_for_outcoming</th>\n",
              "      <th>sorensen_for_incoming</th>\n",
              "      <th>outcoming_preferential_attachment</th>\n",
              "    </tr>\n",
              "  </thead>\n",
              "  <tbody>\n",
              "    <tr>\n",
              "      <th>0</th>\n",
              "      <td>712635</td>\n",
              "      <td>150377</td>\n",
              "      <td>1</td>\n",
              "      <td>0.000000</td>\n",
              "      <td>0.000000</td>\n",
              "      <td>3</td>\n",
              "      <td>4</td>\n",
              "      <td>1</td>\n",
              "      <td>1</td>\n",
              "      <td>0</td>\n",
              "      <td>0</td>\n",
              "      <td>0.000000</td>\n",
              "      <td>0.000000</td>\n",
              "      <td>0.000000</td>\n",
              "      <td>0.000000</td>\n",
              "      <td>3</td>\n",
              "    </tr>\n",
              "    <tr>\n",
              "      <th>1</th>\n",
              "      <td>1627794</td>\n",
              "      <td>174448</td>\n",
              "      <td>0</td>\n",
              "      <td>0.000000</td>\n",
              "      <td>0.000000</td>\n",
              "      <td>1</td>\n",
              "      <td>1</td>\n",
              "      <td>12</td>\n",
              "      <td>6</td>\n",
              "      <td>0</td>\n",
              "      <td>0</td>\n",
              "      <td>0.000000</td>\n",
              "      <td>0.000000</td>\n",
              "      <td>0.000000</td>\n",
              "      <td>0.000000</td>\n",
              "      <td>12</td>\n",
              "    </tr>\n",
              "    <tr>\n",
              "      <th>2</th>\n",
              "      <td>1304062</td>\n",
              "      <td>391971</td>\n",
              "      <td>0</td>\n",
              "      <td>0.000000</td>\n",
              "      <td>0.000000</td>\n",
              "      <td>1</td>\n",
              "      <td>0</td>\n",
              "      <td>10</td>\n",
              "      <td>9</td>\n",
              "      <td>0</td>\n",
              "      <td>0</td>\n",
              "      <td>0.000000</td>\n",
              "      <td>0.000000</td>\n",
              "      <td>0.000000</td>\n",
              "      <td>0.000000</td>\n",
              "      <td>10</td>\n",
              "    </tr>\n",
              "    <tr>\n",
              "      <th>3</th>\n",
              "      <td>485532</td>\n",
              "      <td>637180</td>\n",
              "      <td>0</td>\n",
              "      <td>0.000000</td>\n",
              "      <td>0.000000</td>\n",
              "      <td>1</td>\n",
              "      <td>0</td>\n",
              "      <td>9</td>\n",
              "      <td>6</td>\n",
              "      <td>0</td>\n",
              "      <td>0</td>\n",
              "      <td>0.000000</td>\n",
              "      <td>0.000000</td>\n",
              "      <td>0.000000</td>\n",
              "      <td>0.000000</td>\n",
              "      <td>9</td>\n",
              "    </tr>\n",
              "    <tr>\n",
              "      <th>4</th>\n",
              "      <td>583251</td>\n",
              "      <td>1021767</td>\n",
              "      <td>1</td>\n",
              "      <td>0.000000</td>\n",
              "      <td>0.000000</td>\n",
              "      <td>8</td>\n",
              "      <td>4</td>\n",
              "      <td>0</td>\n",
              "      <td>1</td>\n",
              "      <td>0</td>\n",
              "      <td>0</td>\n",
              "      <td>0.000000</td>\n",
              "      <td>0.000000</td>\n",
              "      <td>0.000000</td>\n",
              "      <td>0.000000</td>\n",
              "      <td>0</td>\n",
              "    </tr>\n",
              "    <tr>\n",
              "      <th>5</th>\n",
              "      <td>481131</td>\n",
              "      <td>836938</td>\n",
              "      <td>1</td>\n",
              "      <td>0.111035</td>\n",
              "      <td>0.084515</td>\n",
              "      <td>73</td>\n",
              "      <td>70</td>\n",
              "      <td>10</td>\n",
              "      <td>8</td>\n",
              "      <td>3</td>\n",
              "      <td>2</td>\n",
              "      <td>0.037500</td>\n",
              "      <td>0.026316</td>\n",
              "      <td>0.036145</td>\n",
              "      <td>0.025641</td>\n",
              "      <td>730</td>\n",
              "    </tr>\n",
              "    <tr>\n",
              "      <th>6</th>\n",
              "      <td>587779</td>\n",
              "      <td>334336</td>\n",
              "      <td>1</td>\n",
              "      <td>0.202548</td>\n",
              "      <td>0.455733</td>\n",
              "      <td>26</td>\n",
              "      <td>26</td>\n",
              "      <td>15</td>\n",
              "      <td>15</td>\n",
              "      <td>4</td>\n",
              "      <td>9</td>\n",
              "      <td>0.108108</td>\n",
              "      <td>0.281250</td>\n",
              "      <td>0.097561</td>\n",
              "      <td>0.219512</td>\n",
              "      <td>390</td>\n",
              "    </tr>\n",
              "    <tr>\n",
              "      <th>7</th>\n",
              "      <td>1491051</td>\n",
              "      <td>773032</td>\n",
              "      <td>0</td>\n",
              "      <td>0.000000</td>\n",
              "      <td>0.000000</td>\n",
              "      <td>16</td>\n",
              "      <td>16</td>\n",
              "      <td>1</td>\n",
              "      <td>0</td>\n",
              "      <td>0</td>\n",
              "      <td>0</td>\n",
              "      <td>0.000000</td>\n",
              "      <td>0.000000</td>\n",
              "      <td>0.000000</td>\n",
              "      <td>0.000000</td>\n",
              "      <td>16</td>\n",
              "    </tr>\n",
              "    <tr>\n",
              "      <th>8</th>\n",
              "      <td>189069</td>\n",
              "      <td>272812</td>\n",
              "      <td>1</td>\n",
              "      <td>0.000000</td>\n",
              "      <td>0.000000</td>\n",
              "      <td>2</td>\n",
              "      <td>0</td>\n",
              "      <td>5</td>\n",
              "      <td>6</td>\n",
              "      <td>0</td>\n",
              "      <td>0</td>\n",
              "      <td>0.000000</td>\n",
              "      <td>0.000000</td>\n",
              "      <td>0.000000</td>\n",
              "      <td>0.000000</td>\n",
              "      <td>10</td>\n",
              "    </tr>\n",
              "    <tr>\n",
              "      <th>9</th>\n",
              "      <td>1416904</td>\n",
              "      <td>1007057</td>\n",
              "      <td>1</td>\n",
              "      <td>0.000000</td>\n",
              "      <td>0.000000</td>\n",
              "      <td>58</td>\n",
              "      <td>59</td>\n",
              "      <td>1</td>\n",
              "      <td>1</td>\n",
              "      <td>0</td>\n",
              "      <td>0</td>\n",
              "      <td>0.000000</td>\n",
              "      <td>0.000000</td>\n",
              "      <td>0.000000</td>\n",
              "      <td>0.000000</td>\n",
              "      <td>58</td>\n",
              "    </tr>\n",
              "  </tbody>\n",
              "</table>\n",
              "</div>\n",
              "      <button class=\"colab-df-convert\" onclick=\"convertToInteractive('df-e48eeb19-8081-4125-89fc-eb317cc0e479')\"\n",
              "              title=\"Convert this dataframe to an interactive table.\"\n",
              "              style=\"display:none;\">\n",
              "        \n",
              "  <svg xmlns=\"http://www.w3.org/2000/svg\" height=\"24px\"viewBox=\"0 0 24 24\"\n",
              "       width=\"24px\">\n",
              "    <path d=\"M0 0h24v24H0V0z\" fill=\"none\"/>\n",
              "    <path d=\"M18.56 5.44l.94 2.06.94-2.06 2.06-.94-2.06-.94-.94-2.06-.94 2.06-2.06.94zm-11 1L8.5 8.5l.94-2.06 2.06-.94-2.06-.94L8.5 2.5l-.94 2.06-2.06.94zm10 10l.94 2.06.94-2.06 2.06-.94-2.06-.94-.94-2.06-.94 2.06-2.06.94z\"/><path d=\"M17.41 7.96l-1.37-1.37c-.4-.4-.92-.59-1.43-.59-.52 0-1.04.2-1.43.59L10.3 9.45l-7.72 7.72c-.78.78-.78 2.05 0 2.83L4 21.41c.39.39.9.59 1.41.59.51 0 1.02-.2 1.41-.59l7.78-7.78 2.81-2.81c.8-.78.8-2.07 0-2.86zM5.41 20L4 18.59l7.72-7.72 1.47 1.35L5.41 20z\"/>\n",
              "  </svg>\n",
              "      </button>\n",
              "      \n",
              "  <style>\n",
              "    .colab-df-container {\n",
              "      display:flex;\n",
              "      flex-wrap:wrap;\n",
              "      gap: 12px;\n",
              "    }\n",
              "\n",
              "    .colab-df-convert {\n",
              "      background-color: #E8F0FE;\n",
              "      border: none;\n",
              "      border-radius: 50%;\n",
              "      cursor: pointer;\n",
              "      display: none;\n",
              "      fill: #1967D2;\n",
              "      height: 32px;\n",
              "      padding: 0 0 0 0;\n",
              "      width: 32px;\n",
              "    }\n",
              "\n",
              "    .colab-df-convert:hover {\n",
              "      background-color: #E2EBFA;\n",
              "      box-shadow: 0px 1px 2px rgba(60, 64, 67, 0.3), 0px 1px 3px 1px rgba(60, 64, 67, 0.15);\n",
              "      fill: #174EA6;\n",
              "    }\n",
              "\n",
              "    [theme=dark] .colab-df-convert {\n",
              "      background-color: #3B4455;\n",
              "      fill: #D2E3FC;\n",
              "    }\n",
              "\n",
              "    [theme=dark] .colab-df-convert:hover {\n",
              "      background-color: #434B5C;\n",
              "      box-shadow: 0px 1px 3px 1px rgba(0, 0, 0, 0.15);\n",
              "      filter: drop-shadow(0px 1px 2px rgba(0, 0, 0, 0.3));\n",
              "      fill: #FFFFFF;\n",
              "    }\n",
              "  </style>\n",
              "\n",
              "      <script>\n",
              "        const buttonEl =\n",
              "          document.querySelector('#df-e48eeb19-8081-4125-89fc-eb317cc0e479 button.colab-df-convert');\n",
              "        buttonEl.style.display =\n",
              "          google.colab.kernel.accessAllowed ? 'block' : 'none';\n",
              "\n",
              "        async function convertToInteractive(key) {\n",
              "          const element = document.querySelector('#df-e48eeb19-8081-4125-89fc-eb317cc0e479');\n",
              "          const dataTable =\n",
              "            await google.colab.kernel.invokeFunction('convertToInteractive',\n",
              "                                                     [key], {});\n",
              "          if (!dataTable) return;\n",
              "\n",
              "          const docLinkHtml = 'Like what you see? Visit the ' +\n",
              "            '<a target=\"_blank\" href=https://colab.research.google.com/notebooks/data_table.ipynb>data table notebook</a>'\n",
              "            + ' to learn more about interactive tables.';\n",
              "          element.innerHTML = '';\n",
              "          dataTable['output_type'] = 'display_data';\n",
              "          await google.colab.output.renderOutput(dataTable, element);\n",
              "          const docLink = document.createElement('div');\n",
              "          docLink.innerHTML = docLinkHtml;\n",
              "          element.appendChild(docLink);\n",
              "        }\n",
              "      </script>\n",
              "    </div>\n",
              "  </div>\n",
              "  "
            ],
            "text/plain": [
              "   source_node  ...  outcoming_preferential_attachment\n",
              "0       712635  ...                                  3\n",
              "1      1627794  ...                                 12\n",
              "2      1304062  ...                                 10\n",
              "3       485532  ...                                  9\n",
              "4       583251  ...                                  0\n",
              "5       481131  ...                                730\n",
              "6       587779  ...                                390\n",
              "7      1491051  ...                                 16\n",
              "8       189069  ...                                 10\n",
              "9      1416904  ...                                 58\n",
              "\n",
              "[10 rows x 16 columns]"
            ]
          },
          "execution_count": 6,
          "metadata": {},
          "output_type": "execute_result"
        }
      ],
      "source": [
        "x_train.head(10)"
      ]
    },
    {
      "cell_type": "markdown",
      "source": [
        "### Creating Sorensen Features"
      ],
      "metadata": {
        "id": "bEZwuFHzXebT"
      }
    },
    {
      "cell_type": "code",
      "execution_count": null,
      "metadata": {
        "id": "x82Jt8_0DBbD"
      },
      "outputs": [],
      "source": [
        "x_train[\"sorensen_for_outcoming\"] = x_train.apply(lambda row : sorensen_for_outcoming(row[\"source_node\"], row[\"destination_node\"]), axis = 1)\n",
        "x_test[\"sorensen_for_outcoming\"] = x_test.apply(lambda row : sorensen_for_outcoming(row[\"source_node\"], row[\"destination_node\"]), axis = 1)\n",
        "x_valid[\"sorensen_for_outcoming\"] = x_valid.apply(lambda row : sorensen_for_outcoming(row[\"source_node\"], row[\"destination_node\"]), axis = 1)"
      ]
    },
    {
      "cell_type": "code",
      "execution_count": null,
      "metadata": {
        "id": "CKe3CzjpDdrD"
      },
      "outputs": [],
      "source": [
        "x_train[\"sorensen_for_incoming\"] = x_train.apply(lambda row : sorensen_for_incoming(row[\"source_node\"], row[\"destination_node\"]), axis = 1)\n",
        "x_test[\"sorensen_for_incoming\"] = x_test.apply(lambda row : sorensen_for_incoming(row[\"source_node\"], row[\"destination_node\"]), axis = 1)\n",
        "x_valid[\"sorensen_for_incoming\"] = x_valid.apply(lambda row : sorensen_for_incoming(row[\"source_node\"], row[\"destination_node\"]), axis = 1)"
      ]
    },
    {
      "cell_type": "markdown",
      "source": [
        "### Creating Preferential Attachment Features"
      ],
      "metadata": {
        "id": "1NbCdxVWXg1h"
      }
    },
    {
      "cell_type": "code",
      "execution_count": null,
      "metadata": {
        "colab": {
          "background_save": true
        },
        "id": "45C9RsdnGmgD"
      },
      "outputs": [],
      "source": [
        "x_train[\"outcoming_preferential_attachment\"] = x_train.apply(lambda row : outcoming_preferential_attachment(row[\"source_node\"], row[\"destination_node\"]), axis = 1)\n",
        "x_test[\"outcoming_preferential_attachment\"] = x_test.apply(lambda row : outcoming_preferential_attachment(row[\"source_node\"], row[\"destination_node\"]), axis = 1)\n",
        "x_valid[\"outcoming_preferential_attachment\"] = x_valid.apply(lambda row : outcoming_preferential_attachment(row[\"source_node\"], row[\"destination_node\"]), axis = 1)"
      ]
    },
    {
      "cell_type": "code",
      "execution_count": null,
      "metadata": {
        "id": "W4jBBB-CIkqf"
      },
      "outputs": [],
      "source": [
        "x_train[\"incoming_preferential_attachment\"] = x_train.apply(lambda row : incoming_preferential_attachment(row[\"source_node\"], row[\"destination_node\"]), axis = 1)\n",
        "x_test[\"incoming_preferential_attachment\"] = x_test.apply(lambda row : incoming_preferential_attachment(row[\"source_node\"], row[\"destination_node\"]), axis = 1)\n",
        "x_valid[\"incoming_preferential_attachment\"] = x_valid.apply(lambda row : incoming_preferential_attachment(row[\"source_node\"], row[\"destination_node\"]), axis = 1)"
      ]
    },
    {
      "cell_type": "markdown",
      "source": [
        "### Creating Adamic Adar Index Features"
      ],
      "metadata": {
        "id": "wjfdXYGjXnDX"
      }
    },
    {
      "cell_type": "code",
      "execution_count": null,
      "metadata": {
        "id": "W_i_cqkF4H7K"
      },
      "outputs": [],
      "source": [
        "x_train[\"adamic_adar\"] = adamic_adar(x_train[\"source_node\"], x_train[\"destination_node\"])\n",
        "x_test[\"adamic_adar\"] = adamic_adar(x_test[\"source_node\"], x_test[\"destination_node\"])\n",
        "x_valid[\"adamic_adar\"] = adamic_adar(x_valid[\"source_node\"], x_valid[\"destination_node\"])"
      ]
    },
    {
      "cell_type": "markdown",
      "source": [
        "### Creating Hup Promoted Features"
      ],
      "metadata": {
        "id": "vun09JdRXuGz"
      }
    },
    {
      "cell_type": "code",
      "execution_count": null,
      "metadata": {
        "id": "IE_vGeNxJsFh"
      },
      "outputs": [],
      "source": [
        "x_train[\"outcoming_hup_promoted\"] = outcoming_hup_promoted(x_train[\"source_node\"], x_train[\"destination_node\"])\n",
        "x_test[\"outcoming_hup_promoted\"] = outcoming_hup_promoted(x_test[\"source_node\"], x_test[\"destination_node\"])\n",
        "x_valid[\"outcoming_hup_promoted\"] = outcoming_hup_promoted(x_valid[\"source_node\"], x_valid[\"destination_node\"])"
      ]
    },
    {
      "cell_type": "code",
      "execution_count": null,
      "metadata": {
        "id": "rnCKb9YQaS9i"
      },
      "outputs": [],
      "source": [
        "x_train[\"incoming_hup_promoted\"] = incoming_hup_promoted(x_train[\"source_node\"], x_train[\"destination_node\"])\n",
        "x_test[\"incoming_hup_promoted\"] = incoming_hup_promoted(x_test[\"source_node\"], x_test[\"destination_node\"])\n",
        "x_valid[\"incoming_hup_promoted\"] = incoming_hup_promoted(x_valid[\"source_node\"], x_valid[\"destination_node\"])"
      ]
    },
    {
      "cell_type": "markdown",
      "source": [
        "### Creating Hup Depressed Features"
      ],
      "metadata": {
        "id": "2Q37Y_V7Xwg8"
      }
    },
    {
      "cell_type": "code",
      "execution_count": null,
      "metadata": {
        "id": "zFoUSBYVZ7Ox"
      },
      "outputs": [],
      "source": [
        "x_train[\"outcoming_hup_depressed\"] = outcoming_hup_depressed(x_train[\"source_node\"], x_train[\"destination_node\"])\n",
        "x_test[\"outcoming_hup_depressed\"] = outcoming_hup_depressed(x_test[\"source_node\"], x_test[\"destination_node\"])\n",
        "x_valid[\"outcoming_hup_depressed\"] = outcoming_hup_depressed(x_valid[\"source_node\"], x_valid[\"destination_node\"])"
      ]
    },
    {
      "cell_type": "code",
      "execution_count": null,
      "metadata": {
        "id": "g28pq0C9aADQ"
      },
      "outputs": [],
      "source": [
        "x_train[\"incoming_hup_depressed\"] = incoming_hup_depressed(x_train[\"source_node\"], x_train[\"destination_node\"])\n",
        "x_test[\"incoming_hup_depressed\"] = incoming_hup_depressed(x_test[\"source_node\"], x_test[\"destination_node\"])\n",
        "x_valid[\"incoming_hup_depressed\"] = incoming_hup_depressed(x_valid[\"source_node\"], x_valid[\"destination_node\"])"
      ]
    },
    {
      "cell_type": "markdown",
      "source": [
        "### Creating Leicht Holme Newman Features"
      ],
      "metadata": {
        "id": "jszqg8OQX0W1"
      }
    },
    {
      "cell_type": "code",
      "execution_count": null,
      "metadata": {
        "id": "SmhMBvi2CTLR"
      },
      "outputs": [],
      "source": [
        "x_train[\"outcoming_leicht\"] = outcoming_leicht(x_train[\"source_node\"], x_train[\"destination_node\"])\n",
        "x_test[\"outcoming_leicht\"] = outcoming_leicht(x_test[\"source_node\"], x_test[\"destination_node\"])\n",
        "x_valid[\"outcoming_leicht\"] = outcoming_leicht(x_valid[\"source_node\"], x_valid[\"destination_node\"])"
      ]
    },
    {
      "cell_type": "code",
      "execution_count": null,
      "metadata": {
        "id": "eMCmlNnjKGVx"
      },
      "outputs": [],
      "source": [
        "x_train[\"incoming_leicht\"] = incoming_leicht(x_train[\"source_node\"], x_train[\"destination_node\"])\n",
        "x_test[\"incoming_leicht\"] = incoming_leicht(x_test[\"source_node\"], x_test[\"destination_node\"])\n",
        "x_valid[\"incoming_leicht\"] = incoming_leicht(x_valid[\"source_node\"], x_valid[\"destination_node\"])"
      ]
    },
    {
      "cell_type": "markdown",
      "source": [
        "### Creating Local Affinity Structure Features"
      ],
      "metadata": {
        "id": "DhVrOo2oX6pj"
      }
    },
    {
      "cell_type": "code",
      "execution_count": null,
      "metadata": {
        "id": "D45k7PQeNFXf"
      },
      "outputs": [],
      "source": [
        "x_train[\"outcoming_affinity\"] = outcoming_local_affinity(x_train[\"source_node\"], x_train[\"destination_node\"])\n",
        "x_test[\"outcoming_affinity\"] = outcoming_local_affinity(x_test[\"source_node\"], x_test[\"destination_node\"])\n",
        "x_valid[\"outcoming_affinity\"] = outcoming_local_affinity(x_valid[\"source_node\"], x_valid[\"destination_node\"])"
      ]
    },
    {
      "cell_type": "code",
      "execution_count": null,
      "metadata": {
        "id": "AxOR3PnxNOby"
      },
      "outputs": [],
      "source": [
        "x_train[\"incoming_affinity\"] = incoming_local_affinity(x_train[\"source_node\"], x_train[\"destination_node\"])\n",
        "x_test[\"incoming_affinity\"] = incoming_local_affinity(x_test[\"source_node\"], x_test[\"destination_node\"])\n",
        "x_valid[\"incoming_affinity\"] = incoming_local_affinity(x_valid[\"source_node\"], x_valid[\"destination_node\"])"
      ]
    },
    {
      "cell_type": "markdown",
      "source": [
        "### Creating Car Based Index Features"
      ],
      "metadata": {
        "id": "RNo9tvsXX9ce"
      }
    },
    {
      "cell_type": "code",
      "execution_count": null,
      "metadata": {
        "colab": {
          "background_save": true
        },
        "id": "5eX_vb7mSksw"
      },
      "outputs": [],
      "source": [
        "x_train[\"car_index\"] = car_based_index(x_train[\"source_node\"], x_train[\"destination_node\"])\n",
        "x_test[\"car_index\"] = car_based_index(x_test[\"source_node\"], x_test[\"destination_node\"])\n",
        "x_valid[\"car_index\"] = car_based_index(x_valid[\"source_node\"], x_valid[\"destination_node\"])"
      ]
    },
    {
      "cell_type": "markdown",
      "source": [
        "### Creating Individual Attraction Features"
      ],
      "metadata": {
        "id": "AXazBQBWYAUD"
      }
    },
    {
      "cell_type": "code",
      "source": [
        "x_train[\"individual_attraction\"] = individual_attraction(x_train[\"source_node\"], x_train[\"destination_node\"])\n",
        "x_test[\"individual_attraction\"] = individual_attraction(x_test[\"source_node\"], x_test[\"destination_node\"])\n",
        "x_valid[\"individual_attraction\"] = individual_attraction(x_valid[\"source_node\"], x_valid[\"destination_node\"])"
      ],
      "metadata": {
        "id": "fAXiLI5peSPM"
      },
      "execution_count": null,
      "outputs": []
    },
    {
      "cell_type": "markdown",
      "source": [
        "### Creating Functional Similarity Weight Features"
      ],
      "metadata": {
        "id": "AZXZt9MQYDex"
      }
    },
    {
      "cell_type": "code",
      "source": [
        "x_train[\"out_func_sim_weight\"] = out_func_sim_weight(x_train[\"source_node\"], x_train[\"destination_node\"], out_degree)\n",
        "x_test[\"out_func_sim_weight\"] = out_func_sim_weight(x_test[\"source_node\"], x_test[\"destination_node\"], out_degree)\n",
        "x_valid[\"out_func_sim_weight\"] = out_func_sim_weight(x_valid[\"source_node\"], x_valid[\"destination_node\"], out_degree)"
      ],
      "metadata": {
        "id": "p-fjg396iqD3"
      },
      "execution_count": null,
      "outputs": []
    },
    {
      "cell_type": "code",
      "source": [
        "x_train[\"in_func_sim_weight\"] = in_func_sim_weight(x_train[\"source_node\"], x_train[\"destination_node\"], in_degree)\n",
        "x_test[\"in_func_sim_weight\"] = in_func_sim_weight(x_test[\"source_node\"], x_test[\"destination_node\"], in_degree)\n",
        "x_valid[\"in_func_sim_weight\"] = in_func_sim_weight(x_valid[\"source_node\"], x_valid[\"destination_node\"], in_degree)"
      ],
      "metadata": {
        "id": "yTELpbCWoNWc"
      },
      "execution_count": null,
      "outputs": []
    },
    {
      "cell_type": "code",
      "source": [
        "# Projecting the first 10 observations of result dataframe\n",
        "x_train.head(10)"
      ],
      "metadata": {
        "colab": {
          "base_uri": "https://localhost:8080/",
          "height": 427
        },
        "id": "l7vT_5b6cS0M",
        "outputId": "b348f54f-d1a2-4fe5-dc59-8d7e528e1d84"
      },
      "execution_count": 5,
      "outputs": [
        {
          "output_type": "execute_result",
          "data": {
            "text/html": [
              "\n",
              "  <div id=\"df-581916d5-68a4-4896-bfb8-68df7d78e294\">\n",
              "    <div class=\"colab-df-container\">\n",
              "      <div>\n",
              "<style scoped>\n",
              "    .dataframe tbody tr th:only-of-type {\n",
              "        vertical-align: middle;\n",
              "    }\n",
              "\n",
              "    .dataframe tbody tr th {\n",
              "        vertical-align: top;\n",
              "    }\n",
              "\n",
              "    .dataframe thead th {\n",
              "        text-align: right;\n",
              "    }\n",
              "</style>\n",
              "<table border=\"1\" class=\"dataframe\">\n",
              "  <thead>\n",
              "    <tr style=\"text-align: right;\">\n",
              "      <th></th>\n",
              "      <th>source_node</th>\n",
              "      <th>destination_node</th>\n",
              "      <th>label</th>\n",
              "      <th>salton_for_outcoming</th>\n",
              "      <th>salton_for_incoming</th>\n",
              "      <th>source_outdegree</th>\n",
              "      <th>source_indegree</th>\n",
              "      <th>destination_outdegree</th>\n",
              "      <th>destination_indegree</th>\n",
              "      <th>outcoming_intersection</th>\n",
              "      <th>incoming_intersection</th>\n",
              "      <th>jaccard_for_outcoming</th>\n",
              "      <th>jaccard_for_incoming</th>\n",
              "      <th>sorensen_for_outcoming</th>\n",
              "      <th>sorensen_for_incoming</th>\n",
              "      <th>outcoming_preferential_attachment</th>\n",
              "      <th>incoming_preferential_attachment</th>\n",
              "      <th>adamic_adar</th>\n",
              "      <th>outcoming_hup_promoted</th>\n",
              "      <th>incoming_hup_promoted</th>\n",
              "      <th>outcoming_hup_depressed</th>\n",
              "      <th>incoming_hup_depressed</th>\n",
              "      <th>outcoming_leicht</th>\n",
              "      <th>incoming_leicht</th>\n",
              "      <th>car_index</th>\n",
              "      <th>individual_attraction</th>\n",
              "      <th>out_func_sim_weight</th>\n",
              "      <th>in_func_sim_weight</th>\n",
              "    </tr>\n",
              "  </thead>\n",
              "  <tbody>\n",
              "    <tr>\n",
              "      <th>0</th>\n",
              "      <td>712635</td>\n",
              "      <td>150377</td>\n",
              "      <td>1</td>\n",
              "      <td>0.000000</td>\n",
              "      <td>0.000000</td>\n",
              "      <td>3</td>\n",
              "      <td>4</td>\n",
              "      <td>1</td>\n",
              "      <td>1</td>\n",
              "      <td>0</td>\n",
              "      <td>0</td>\n",
              "      <td>0.000000</td>\n",
              "      <td>0.000000</td>\n",
              "      <td>0.000000</td>\n",
              "      <td>0.000000</td>\n",
              "      <td>3</td>\n",
              "      <td>4</td>\n",
              "      <td>0.000000</td>\n",
              "      <td>0.000000</td>\n",
              "      <td>0.00</td>\n",
              "      <td>0.000000</td>\n",
              "      <td>0.000000</td>\n",
              "      <td>0.000000</td>\n",
              "      <td>0.000000</td>\n",
              "      <td>0.0</td>\n",
              "      <td>0.000000</td>\n",
              "      <td>0.000000</td>\n",
              "      <td>0.000000</td>\n",
              "    </tr>\n",
              "    <tr>\n",
              "      <th>1</th>\n",
              "      <td>1627794</td>\n",
              "      <td>174448</td>\n",
              "      <td>0</td>\n",
              "      <td>0.000000</td>\n",
              "      <td>0.000000</td>\n",
              "      <td>1</td>\n",
              "      <td>1</td>\n",
              "      <td>12</td>\n",
              "      <td>6</td>\n",
              "      <td>0</td>\n",
              "      <td>0</td>\n",
              "      <td>0.000000</td>\n",
              "      <td>0.000000</td>\n",
              "      <td>0.000000</td>\n",
              "      <td>0.000000</td>\n",
              "      <td>12</td>\n",
              "      <td>6</td>\n",
              "      <td>0.000000</td>\n",
              "      <td>0.000000</td>\n",
              "      <td>0.00</td>\n",
              "      <td>0.000000</td>\n",
              "      <td>0.000000</td>\n",
              "      <td>0.000000</td>\n",
              "      <td>0.000000</td>\n",
              "      <td>0.0</td>\n",
              "      <td>0.000000</td>\n",
              "      <td>0.000000</td>\n",
              "      <td>0.000000</td>\n",
              "    </tr>\n",
              "    <tr>\n",
              "      <th>2</th>\n",
              "      <td>1304062</td>\n",
              "      <td>391971</td>\n",
              "      <td>0</td>\n",
              "      <td>0.000000</td>\n",
              "      <td>0.000000</td>\n",
              "      <td>1</td>\n",
              "      <td>0</td>\n",
              "      <td>10</td>\n",
              "      <td>9</td>\n",
              "      <td>0</td>\n",
              "      <td>0</td>\n",
              "      <td>0.000000</td>\n",
              "      <td>0.000000</td>\n",
              "      <td>0.000000</td>\n",
              "      <td>0.000000</td>\n",
              "      <td>10</td>\n",
              "      <td>0</td>\n",
              "      <td>0.000000</td>\n",
              "      <td>0.000000</td>\n",
              "      <td>0.00</td>\n",
              "      <td>0.000000</td>\n",
              "      <td>0.000000</td>\n",
              "      <td>0.000000</td>\n",
              "      <td>0.000000</td>\n",
              "      <td>0.0</td>\n",
              "      <td>0.000000</td>\n",
              "      <td>0.000000</td>\n",
              "      <td>0.000000</td>\n",
              "    </tr>\n",
              "    <tr>\n",
              "      <th>3</th>\n",
              "      <td>485532</td>\n",
              "      <td>637180</td>\n",
              "      <td>0</td>\n",
              "      <td>0.000000</td>\n",
              "      <td>0.000000</td>\n",
              "      <td>1</td>\n",
              "      <td>0</td>\n",
              "      <td>9</td>\n",
              "      <td>6</td>\n",
              "      <td>0</td>\n",
              "      <td>0</td>\n",
              "      <td>0.000000</td>\n",
              "      <td>0.000000</td>\n",
              "      <td>0.000000</td>\n",
              "      <td>0.000000</td>\n",
              "      <td>9</td>\n",
              "      <td>0</td>\n",
              "      <td>0.000000</td>\n",
              "      <td>0.000000</td>\n",
              "      <td>0.00</td>\n",
              "      <td>0.000000</td>\n",
              "      <td>0.000000</td>\n",
              "      <td>0.000000</td>\n",
              "      <td>0.000000</td>\n",
              "      <td>0.0</td>\n",
              "      <td>0.000000</td>\n",
              "      <td>0.000000</td>\n",
              "      <td>0.000000</td>\n",
              "    </tr>\n",
              "    <tr>\n",
              "      <th>4</th>\n",
              "      <td>583251</td>\n",
              "      <td>1021767</td>\n",
              "      <td>1</td>\n",
              "      <td>0.000000</td>\n",
              "      <td>0.000000</td>\n",
              "      <td>8</td>\n",
              "      <td>4</td>\n",
              "      <td>0</td>\n",
              "      <td>1</td>\n",
              "      <td>0</td>\n",
              "      <td>0</td>\n",
              "      <td>0.000000</td>\n",
              "      <td>0.000000</td>\n",
              "      <td>0.000000</td>\n",
              "      <td>0.000000</td>\n",
              "      <td>0</td>\n",
              "      <td>4</td>\n",
              "      <td>0.000000</td>\n",
              "      <td>0.000000</td>\n",
              "      <td>0.00</td>\n",
              "      <td>0.000000</td>\n",
              "      <td>0.000000</td>\n",
              "      <td>0.000000</td>\n",
              "      <td>0.000000</td>\n",
              "      <td>0.0</td>\n",
              "      <td>0.000000</td>\n",
              "      <td>0.000000</td>\n",
              "      <td>0.000000</td>\n",
              "    </tr>\n",
              "    <tr>\n",
              "      <th>5</th>\n",
              "      <td>481131</td>\n",
              "      <td>836938</td>\n",
              "      <td>1</td>\n",
              "      <td>0.111035</td>\n",
              "      <td>0.084515</td>\n",
              "      <td>73</td>\n",
              "      <td>70</td>\n",
              "      <td>10</td>\n",
              "      <td>8</td>\n",
              "      <td>3</td>\n",
              "      <td>2</td>\n",
              "      <td>0.037500</td>\n",
              "      <td>0.026316</td>\n",
              "      <td>0.036145</td>\n",
              "      <td>0.025641</td>\n",
              "      <td>730</td>\n",
              "      <td>560</td>\n",
              "      <td>2.431317</td>\n",
              "      <td>0.300000</td>\n",
              "      <td>0.25</td>\n",
              "      <td>0.041096</td>\n",
              "      <td>0.028571</td>\n",
              "      <td>0.004110</td>\n",
              "      <td>0.003571</td>\n",
              "      <td>111.0</td>\n",
              "      <td>0.311717</td>\n",
              "      <td>0.007347</td>\n",
              "      <td>0.003460</td>\n",
              "    </tr>\n",
              "    <tr>\n",
              "      <th>6</th>\n",
              "      <td>587779</td>\n",
              "      <td>334336</td>\n",
              "      <td>1</td>\n",
              "      <td>0.202548</td>\n",
              "      <td>0.455733</td>\n",
              "      <td>26</td>\n",
              "      <td>26</td>\n",
              "      <td>15</td>\n",
              "      <td>15</td>\n",
              "      <td>4</td>\n",
              "      <td>9</td>\n",
              "      <td>0.108108</td>\n",
              "      <td>0.281250</td>\n",
              "      <td>0.097561</td>\n",
              "      <td>0.219512</td>\n",
              "      <td>390</td>\n",
              "      <td>390</td>\n",
              "      <td>3.529007</td>\n",
              "      <td>0.266667</td>\n",
              "      <td>0.60</td>\n",
              "      <td>0.153846</td>\n",
              "      <td>0.346154</td>\n",
              "      <td>0.010256</td>\n",
              "      <td>0.023077</td>\n",
              "      <td>132.0</td>\n",
              "      <td>0.451417</td>\n",
              "      <td>0.132231</td>\n",
              "      <td>1.121107</td>\n",
              "    </tr>\n",
              "    <tr>\n",
              "      <th>7</th>\n",
              "      <td>1491051</td>\n",
              "      <td>773032</td>\n",
              "      <td>0</td>\n",
              "      <td>0.000000</td>\n",
              "      <td>0.000000</td>\n",
              "      <td>16</td>\n",
              "      <td>16</td>\n",
              "      <td>1</td>\n",
              "      <td>0</td>\n",
              "      <td>0</td>\n",
              "      <td>0</td>\n",
              "      <td>0.000000</td>\n",
              "      <td>0.000000</td>\n",
              "      <td>0.000000</td>\n",
              "      <td>0.000000</td>\n",
              "      <td>16</td>\n",
              "      <td>0</td>\n",
              "      <td>0.000000</td>\n",
              "      <td>0.000000</td>\n",
              "      <td>0.00</td>\n",
              "      <td>0.000000</td>\n",
              "      <td>0.000000</td>\n",
              "      <td>0.000000</td>\n",
              "      <td>0.000000</td>\n",
              "      <td>0.0</td>\n",
              "      <td>0.000000</td>\n",
              "      <td>0.000000</td>\n",
              "      <td>0.000000</td>\n",
              "    </tr>\n",
              "    <tr>\n",
              "      <th>8</th>\n",
              "      <td>189069</td>\n",
              "      <td>272812</td>\n",
              "      <td>1</td>\n",
              "      <td>0.000000</td>\n",
              "      <td>0.000000</td>\n",
              "      <td>2</td>\n",
              "      <td>0</td>\n",
              "      <td>5</td>\n",
              "      <td>6</td>\n",
              "      <td>0</td>\n",
              "      <td>0</td>\n",
              "      <td>0.000000</td>\n",
              "      <td>0.000000</td>\n",
              "      <td>0.000000</td>\n",
              "      <td>0.000000</td>\n",
              "      <td>10</td>\n",
              "      <td>0</td>\n",
              "      <td>0.000000</td>\n",
              "      <td>0.000000</td>\n",
              "      <td>0.00</td>\n",
              "      <td>0.000000</td>\n",
              "      <td>0.000000</td>\n",
              "      <td>0.000000</td>\n",
              "      <td>0.000000</td>\n",
              "      <td>0.0</td>\n",
              "      <td>0.000000</td>\n",
              "      <td>0.000000</td>\n",
              "      <td>0.000000</td>\n",
              "    </tr>\n",
              "    <tr>\n",
              "      <th>9</th>\n",
              "      <td>1416904</td>\n",
              "      <td>1007057</td>\n",
              "      <td>1</td>\n",
              "      <td>0.000000</td>\n",
              "      <td>0.000000</td>\n",
              "      <td>58</td>\n",
              "      <td>59</td>\n",
              "      <td>1</td>\n",
              "      <td>1</td>\n",
              "      <td>0</td>\n",
              "      <td>0</td>\n",
              "      <td>0.000000</td>\n",
              "      <td>0.000000</td>\n",
              "      <td>0.000000</td>\n",
              "      <td>0.000000</td>\n",
              "      <td>58</td>\n",
              "      <td>59</td>\n",
              "      <td>0.000000</td>\n",
              "      <td>0.000000</td>\n",
              "      <td>0.00</td>\n",
              "      <td>0.000000</td>\n",
              "      <td>0.000000</td>\n",
              "      <td>0.000000</td>\n",
              "      <td>0.000000</td>\n",
              "      <td>0.0</td>\n",
              "      <td>0.000000</td>\n",
              "      <td>0.000000</td>\n",
              "      <td>0.000000</td>\n",
              "    </tr>\n",
              "  </tbody>\n",
              "</table>\n",
              "</div>\n",
              "      <button class=\"colab-df-convert\" onclick=\"convertToInteractive('df-581916d5-68a4-4896-bfb8-68df7d78e294')\"\n",
              "              title=\"Convert this dataframe to an interactive table.\"\n",
              "              style=\"display:none;\">\n",
              "        \n",
              "  <svg xmlns=\"http://www.w3.org/2000/svg\" height=\"24px\"viewBox=\"0 0 24 24\"\n",
              "       width=\"24px\">\n",
              "    <path d=\"M0 0h24v24H0V0z\" fill=\"none\"/>\n",
              "    <path d=\"M18.56 5.44l.94 2.06.94-2.06 2.06-.94-2.06-.94-.94-2.06-.94 2.06-2.06.94zm-11 1L8.5 8.5l.94-2.06 2.06-.94-2.06-.94L8.5 2.5l-.94 2.06-2.06.94zm10 10l.94 2.06.94-2.06 2.06-.94-2.06-.94-.94-2.06-.94 2.06-2.06.94z\"/><path d=\"M17.41 7.96l-1.37-1.37c-.4-.4-.92-.59-1.43-.59-.52 0-1.04.2-1.43.59L10.3 9.45l-7.72 7.72c-.78.78-.78 2.05 0 2.83L4 21.41c.39.39.9.59 1.41.59.51 0 1.02-.2 1.41-.59l7.78-7.78 2.81-2.81c.8-.78.8-2.07 0-2.86zM5.41 20L4 18.59l7.72-7.72 1.47 1.35L5.41 20z\"/>\n",
              "  </svg>\n",
              "      </button>\n",
              "      \n",
              "  <style>\n",
              "    .colab-df-container {\n",
              "      display:flex;\n",
              "      flex-wrap:wrap;\n",
              "      gap: 12px;\n",
              "    }\n",
              "\n",
              "    .colab-df-convert {\n",
              "      background-color: #E8F0FE;\n",
              "      border: none;\n",
              "      border-radius: 50%;\n",
              "      cursor: pointer;\n",
              "      display: none;\n",
              "      fill: #1967D2;\n",
              "      height: 32px;\n",
              "      padding: 0 0 0 0;\n",
              "      width: 32px;\n",
              "    }\n",
              "\n",
              "    .colab-df-convert:hover {\n",
              "      background-color: #E2EBFA;\n",
              "      box-shadow: 0px 1px 2px rgba(60, 64, 67, 0.3), 0px 1px 3px 1px rgba(60, 64, 67, 0.15);\n",
              "      fill: #174EA6;\n",
              "    }\n",
              "\n",
              "    [theme=dark] .colab-df-convert {\n",
              "      background-color: #3B4455;\n",
              "      fill: #D2E3FC;\n",
              "    }\n",
              "\n",
              "    [theme=dark] .colab-df-convert:hover {\n",
              "      background-color: #434B5C;\n",
              "      box-shadow: 0px 1px 3px 1px rgba(0, 0, 0, 0.15);\n",
              "      filter: drop-shadow(0px 1px 2px rgba(0, 0, 0, 0.3));\n",
              "      fill: #FFFFFF;\n",
              "    }\n",
              "  </style>\n",
              "\n",
              "      <script>\n",
              "        const buttonEl =\n",
              "          document.querySelector('#df-581916d5-68a4-4896-bfb8-68df7d78e294 button.colab-df-convert');\n",
              "        buttonEl.style.display =\n",
              "          google.colab.kernel.accessAllowed ? 'block' : 'none';\n",
              "\n",
              "        async function convertToInteractive(key) {\n",
              "          const element = document.querySelector('#df-581916d5-68a4-4896-bfb8-68df7d78e294');\n",
              "          const dataTable =\n",
              "            await google.colab.kernel.invokeFunction('convertToInteractive',\n",
              "                                                     [key], {});\n",
              "          if (!dataTable) return;\n",
              "\n",
              "          const docLinkHtml = 'Like what you see? Visit the ' +\n",
              "            '<a target=\"_blank\" href=https://colab.research.google.com/notebooks/data_table.ipynb>data table notebook</a>'\n",
              "            + ' to learn more about interactive tables.';\n",
              "          element.innerHTML = '';\n",
              "          dataTable['output_type'] = 'display_data';\n",
              "          await google.colab.output.renderOutput(dataTable, element);\n",
              "          const docLink = document.createElement('div');\n",
              "          docLink.innerHTML = docLinkHtml;\n",
              "          element.appendChild(docLink);\n",
              "        }\n",
              "      </script>\n",
              "    </div>\n",
              "  </div>\n",
              "  "
            ],
            "text/plain": [
              "   source_node  destination_node  ...  out_func_sim_weight  in_func_sim_weight\n",
              "0       712635            150377  ...             0.000000            0.000000\n",
              "1      1627794            174448  ...             0.000000            0.000000\n",
              "2      1304062            391971  ...             0.000000            0.000000\n",
              "3       485532            637180  ...             0.000000            0.000000\n",
              "4       583251           1021767  ...             0.000000            0.000000\n",
              "5       481131            836938  ...             0.007347            0.003460\n",
              "6       587779            334336  ...             0.132231            1.121107\n",
              "7      1491051            773032  ...             0.000000            0.000000\n",
              "8       189069            272812  ...             0.000000            0.000000\n",
              "9      1416904           1007057  ...             0.000000            0.000000\n",
              "\n",
              "[10 rows x 28 columns]"
            ]
          },
          "metadata": {},
          "execution_count": 5
        }
      ]
    },
    {
      "cell_type": "code",
      "source": [
        "org_train.head()"
      ],
      "metadata": {
        "colab": {
          "base_uri": "https://localhost:8080/",
          "height": 206
        },
        "id": "06KjAdtbcqjt",
        "outputId": "da3f6476-21ec-4911-8500-0ee59d97902b"
      },
      "execution_count": 7,
      "outputs": [
        {
          "output_type": "execute_result",
          "data": {
            "text/html": [
              "\n",
              "  <div id=\"df-756f7763-e8d3-46d8-8aaf-1e648781c5c5\">\n",
              "    <div class=\"colab-df-container\">\n",
              "      <div>\n",
              "<style scoped>\n",
              "    .dataframe tbody tr th:only-of-type {\n",
              "        vertical-align: middle;\n",
              "    }\n",
              "\n",
              "    .dataframe tbody tr th {\n",
              "        vertical-align: top;\n",
              "    }\n",
              "\n",
              "    .dataframe thead th {\n",
              "        text-align: right;\n",
              "    }\n",
              "</style>\n",
              "<table border=\"1\" class=\"dataframe\">\n",
              "  <thead>\n",
              "    <tr style=\"text-align: right;\">\n",
              "      <th></th>\n",
              "      <th>source_node</th>\n",
              "      <th>destination_node</th>\n",
              "      <th>label</th>\n",
              "    </tr>\n",
              "  </thead>\n",
              "  <tbody>\n",
              "    <tr>\n",
              "      <th>0</th>\n",
              "      <td>712635</td>\n",
              "      <td>150377</td>\n",
              "      <td>1</td>\n",
              "    </tr>\n",
              "    <tr>\n",
              "      <th>1</th>\n",
              "      <td>1627794</td>\n",
              "      <td>174448</td>\n",
              "      <td>0</td>\n",
              "    </tr>\n",
              "    <tr>\n",
              "      <th>2</th>\n",
              "      <td>1304062</td>\n",
              "      <td>391971</td>\n",
              "      <td>0</td>\n",
              "    </tr>\n",
              "    <tr>\n",
              "      <th>3</th>\n",
              "      <td>485532</td>\n",
              "      <td>637180</td>\n",
              "      <td>0</td>\n",
              "    </tr>\n",
              "    <tr>\n",
              "      <th>4</th>\n",
              "      <td>583251</td>\n",
              "      <td>1021767</td>\n",
              "      <td>1</td>\n",
              "    </tr>\n",
              "  </tbody>\n",
              "</table>\n",
              "</div>\n",
              "      <button class=\"colab-df-convert\" onclick=\"convertToInteractive('df-756f7763-e8d3-46d8-8aaf-1e648781c5c5')\"\n",
              "              title=\"Convert this dataframe to an interactive table.\"\n",
              "              style=\"display:none;\">\n",
              "        \n",
              "  <svg xmlns=\"http://www.w3.org/2000/svg\" height=\"24px\"viewBox=\"0 0 24 24\"\n",
              "       width=\"24px\">\n",
              "    <path d=\"M0 0h24v24H0V0z\" fill=\"none\"/>\n",
              "    <path d=\"M18.56 5.44l.94 2.06.94-2.06 2.06-.94-2.06-.94-.94-2.06-.94 2.06-2.06.94zm-11 1L8.5 8.5l.94-2.06 2.06-.94-2.06-.94L8.5 2.5l-.94 2.06-2.06.94zm10 10l.94 2.06.94-2.06 2.06-.94-2.06-.94-.94-2.06-.94 2.06-2.06.94z\"/><path d=\"M17.41 7.96l-1.37-1.37c-.4-.4-.92-.59-1.43-.59-.52 0-1.04.2-1.43.59L10.3 9.45l-7.72 7.72c-.78.78-.78 2.05 0 2.83L4 21.41c.39.39.9.59 1.41.59.51 0 1.02-.2 1.41-.59l7.78-7.78 2.81-2.81c.8-.78.8-2.07 0-2.86zM5.41 20L4 18.59l7.72-7.72 1.47 1.35L5.41 20z\"/>\n",
              "  </svg>\n",
              "      </button>\n",
              "      \n",
              "  <style>\n",
              "    .colab-df-container {\n",
              "      display:flex;\n",
              "      flex-wrap:wrap;\n",
              "      gap: 12px;\n",
              "    }\n",
              "\n",
              "    .colab-df-convert {\n",
              "      background-color: #E8F0FE;\n",
              "      border: none;\n",
              "      border-radius: 50%;\n",
              "      cursor: pointer;\n",
              "      display: none;\n",
              "      fill: #1967D2;\n",
              "      height: 32px;\n",
              "      padding: 0 0 0 0;\n",
              "      width: 32px;\n",
              "    }\n",
              "\n",
              "    .colab-df-convert:hover {\n",
              "      background-color: #E2EBFA;\n",
              "      box-shadow: 0px 1px 2px rgba(60, 64, 67, 0.3), 0px 1px 3px 1px rgba(60, 64, 67, 0.15);\n",
              "      fill: #174EA6;\n",
              "    }\n",
              "\n",
              "    [theme=dark] .colab-df-convert {\n",
              "      background-color: #3B4455;\n",
              "      fill: #D2E3FC;\n",
              "    }\n",
              "\n",
              "    [theme=dark] .colab-df-convert:hover {\n",
              "      background-color: #434B5C;\n",
              "      box-shadow: 0px 1px 3px 1px rgba(0, 0, 0, 0.15);\n",
              "      filter: drop-shadow(0px 1px 2px rgba(0, 0, 0, 0.3));\n",
              "      fill: #FFFFFF;\n",
              "    }\n",
              "  </style>\n",
              "\n",
              "      <script>\n",
              "        const buttonEl =\n",
              "          document.querySelector('#df-756f7763-e8d3-46d8-8aaf-1e648781c5c5 button.colab-df-convert');\n",
              "        buttonEl.style.display =\n",
              "          google.colab.kernel.accessAllowed ? 'block' : 'none';\n",
              "\n",
              "        async function convertToInteractive(key) {\n",
              "          const element = document.querySelector('#df-756f7763-e8d3-46d8-8aaf-1e648781c5c5');\n",
              "          const dataTable =\n",
              "            await google.colab.kernel.invokeFunction('convertToInteractive',\n",
              "                                                     [key], {});\n",
              "          if (!dataTable) return;\n",
              "\n",
              "          const docLinkHtml = 'Like what you see? Visit the ' +\n",
              "            '<a target=\"_blank\" href=https://colab.research.google.com/notebooks/data_table.ipynb>data table notebook</a>'\n",
              "            + ' to learn more about interactive tables.';\n",
              "          element.innerHTML = '';\n",
              "          dataTable['output_type'] = 'display_data';\n",
              "          await google.colab.output.renderOutput(dataTable, element);\n",
              "          const docLink = document.createElement('div');\n",
              "          docLink.innerHTML = docLinkHtml;\n",
              "          element.appendChild(docLink);\n",
              "        }\n",
              "      </script>\n",
              "    </div>\n",
              "  </div>\n",
              "  "
            ],
            "text/plain": [
              "   source_node  destination_node  label\n",
              "0       712635            150377      1\n",
              "1      1627794            174448      0\n",
              "2      1304062            391971      0\n",
              "3       485532            637180      0\n",
              "4       583251           1021767      1"
            ]
          },
          "metadata": {},
          "execution_count": 7
        }
      ]
    },
    {
      "cell_type": "code",
      "source": [
        "org_train = x_train[[\"source_node\", \"destination_node\", \"label\"]].copy()\n",
        "org_test = x_test[[\"source_node\", \"destination_node\", \"label\"]].copy()\n",
        "org_valid = x_valid[[\"source_node\", \"destination_node\", \"label\"]].copy()\n",
        "\n",
        "x_train.drop([\"source_node\", \"destination_node\", \"label\"], axis = 1, inplace = True)\n",
        "x_test.drop([\"source_node\", \"destination_node\", \"label\"], axis = 1, inplace = True)\n",
        "x_valid.drop([\"source_node\", \"destination_node\", \"label\"], axis = 1, inplace = True)"
      ],
      "metadata": {
        "id": "U88qlb_J3dHU"
      },
      "execution_count": null,
      "outputs": []
    },
    {
      "cell_type": "code",
      "execution_count": null,
      "metadata": {
        "id": "E3Whu38IDjbB"
      },
      "outputs": [],
      "source": [
        "# Saving first features part to data folder\n",
        "x_train.to_csv(\"Data/x_train_1.csv\", index = False)\n",
        "x_test.to_csv(\"Data/x_test_1.csv\", index = False)\n",
        "x_valid.to_csv(\"Data/x_valid_1.csv\", index = False)"
      ]
    },
    {
      "cell_type": "code",
      "source": [
        "# Saving original columns to spearated data frame to use it to build more features\n",
        "org_train.to_csv(\"Data/org_train.csv\", index = False)\n",
        "org_test.to_csv(\"Data/org_test.csv\", index = False)\n",
        "org_valid.to_csv(\"Data/org_valid.csv\", index = False)"
      ],
      "metadata": {
        "id": "Po4j0imDZDL6"
      },
      "execution_count": null,
      "outputs": []
    }
  ],
  "metadata": {
    "colab": {
      "collapsed_sections": [
        "KGsPT3L4neqz",
        "aRvuf6DFp8QR",
        "Qv24ames3v2u",
        "KOabdXc9Wpax",
        "henNsTG0WuLn",
        "6hppY1euXQ7p",
        "bEZwuFHzXebT",
        "1NbCdxVWXg1h",
        "wjfdXYGjXnDX",
        "vun09JdRXuGz",
        "2Q37Y_V7Xwg8",
        "jszqg8OQX0W1",
        "DhVrOo2oX6pj",
        "RNo9tvsXX9ce",
        "AXazBQBWYAUD",
        "AZXZt9MQYDex"
      ],
      "name": "Generating Dataset.ipynb",
      "provenance": [],
      "mount_file_id": "1uPGnyQFKjBJ_hMQ4Q-L3opOwvhDqRPxh",
      "authorship_tag": "ABX9TyMFk0O1N6A1D+qVuRrofdfC"
    },
    "kernelspec": {
      "display_name": "Python 3",
      "name": "python3"
    },
    "language_info": {
      "name": "python"
    }
  },
  "nbformat": 4,
  "nbformat_minor": 0
}
