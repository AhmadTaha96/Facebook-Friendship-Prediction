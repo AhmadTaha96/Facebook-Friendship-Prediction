{
  "cells": [
    {
      "cell_type": "markdown",
      "metadata": {
        "id": "KGsPT3L4neqz"
      },
      "source": [
        "# Importing Libraries"
      ]
    },
    {
      "cell_type": "code",
      "execution_count": 1,
      "metadata": {
        "id": "kpDcGNG1H-Wb"
      },
      "outputs": [],
      "source": [
        "import pandas as pd\n",
        "import numpy as np\n",
        "import matplotlib.pyplot as plt\n",
        "import seaborn as sns\n",
        "import networkx as nx\n",
        "import shutil\n",
        "import os"
      ]
    },
    {
      "cell_type": "markdown",
      "metadata": {
        "id": "3WWY7TZPIqXh"
      },
      "source": [
        "# Reading Data"
      ]
    },
    {
      "cell_type": "code",
      "execution_count": null,
      "metadata": {
        "id": "8MWACWRMIrUE"
      },
      "outputs": [],
      "source": [
        "train_data = pd.read_csv(\"Data/train.csv\", index_col = False)"
      ]
    },
    {
      "cell_type": "code",
      "execution_count": null,
      "metadata": {
        "colab": {
          "base_uri": "https://localhost:8080/"
        },
        "id": "Jb9vFwu7I6Fp",
        "outputId": "3f8d01c0-ccd1-4dbc-d43d-4fc74de3150d"
      },
      "outputs": [
        {
          "name": "stdout",
          "output_type": "stream",
          "text": [
            "Number of rows in data = 9437519\n"
          ]
        }
      ],
      "source": [
        "print(\"Number of rows in data =\", len(train_data))"
      ]
    },
    {
      "cell_type": "code",
      "execution_count": null,
      "metadata": {
        "colab": {
          "base_uri": "https://localhost:8080/",
          "height": 206
        },
        "id": "_6qXmy-7Ixad",
        "outputId": "b7e06cbd-0a16-4b5b-d7e1-9de474971a9d"
      },
      "outputs": [
        {
          "data": {
            "text/html": [
              "\n",
              "  <div id=\"df-246a2816-91d0-4394-b29a-1ba3e0f2e407\">\n",
              "    <div class=\"colab-df-container\">\n",
              "      <div>\n",
              "<style scoped>\n",
              "    .dataframe tbody tr th:only-of-type {\n",
              "        vertical-align: middle;\n",
              "    }\n",
              "\n",
              "    .dataframe tbody tr th {\n",
              "        vertical-align: top;\n",
              "    }\n",
              "\n",
              "    .dataframe thead th {\n",
              "        text-align: right;\n",
              "    }\n",
              "</style>\n",
              "<table border=\"1\" class=\"dataframe\">\n",
              "  <thead>\n",
              "    <tr style=\"text-align: right;\">\n",
              "      <th></th>\n",
              "      <th>source_node</th>\n",
              "      <th>destination_node</th>\n",
              "    </tr>\n",
              "  </thead>\n",
              "  <tbody>\n",
              "    <tr>\n",
              "      <th>0</th>\n",
              "      <td>1</td>\n",
              "      <td>690569</td>\n",
              "    </tr>\n",
              "    <tr>\n",
              "      <th>1</th>\n",
              "      <td>1</td>\n",
              "      <td>315892</td>\n",
              "    </tr>\n",
              "    <tr>\n",
              "      <th>2</th>\n",
              "      <td>1</td>\n",
              "      <td>189226</td>\n",
              "    </tr>\n",
              "    <tr>\n",
              "      <th>3</th>\n",
              "      <td>2</td>\n",
              "      <td>834328</td>\n",
              "    </tr>\n",
              "    <tr>\n",
              "      <th>4</th>\n",
              "      <td>2</td>\n",
              "      <td>1615927</td>\n",
              "    </tr>\n",
              "  </tbody>\n",
              "</table>\n",
              "</div>\n",
              "      <button class=\"colab-df-convert\" onclick=\"convertToInteractive('df-246a2816-91d0-4394-b29a-1ba3e0f2e407')\"\n",
              "              title=\"Convert this dataframe to an interactive table.\"\n",
              "              style=\"display:none;\">\n",
              "        \n",
              "  <svg xmlns=\"http://www.w3.org/2000/svg\" height=\"24px\"viewBox=\"0 0 24 24\"\n",
              "       width=\"24px\">\n",
              "    <path d=\"M0 0h24v24H0V0z\" fill=\"none\"/>\n",
              "    <path d=\"M18.56 5.44l.94 2.06.94-2.06 2.06-.94-2.06-.94-.94-2.06-.94 2.06-2.06.94zm-11 1L8.5 8.5l.94-2.06 2.06-.94-2.06-.94L8.5 2.5l-.94 2.06-2.06.94zm10 10l.94 2.06.94-2.06 2.06-.94-2.06-.94-.94-2.06-.94 2.06-2.06.94z\"/><path d=\"M17.41 7.96l-1.37-1.37c-.4-.4-.92-.59-1.43-.59-.52 0-1.04.2-1.43.59L10.3 9.45l-7.72 7.72c-.78.78-.78 2.05 0 2.83L4 21.41c.39.39.9.59 1.41.59.51 0 1.02-.2 1.41-.59l7.78-7.78 2.81-2.81c.8-.78.8-2.07 0-2.86zM5.41 20L4 18.59l7.72-7.72 1.47 1.35L5.41 20z\"/>\n",
              "  </svg>\n",
              "      </button>\n",
              "      \n",
              "  <style>\n",
              "    .colab-df-container {\n",
              "      display:flex;\n",
              "      flex-wrap:wrap;\n",
              "      gap: 12px;\n",
              "    }\n",
              "\n",
              "    .colab-df-convert {\n",
              "      background-color: #E8F0FE;\n",
              "      border: none;\n",
              "      border-radius: 50%;\n",
              "      cursor: pointer;\n",
              "      display: none;\n",
              "      fill: #1967D2;\n",
              "      height: 32px;\n",
              "      padding: 0 0 0 0;\n",
              "      width: 32px;\n",
              "    }\n",
              "\n",
              "    .colab-df-convert:hover {\n",
              "      background-color: #E2EBFA;\n",
              "      box-shadow: 0px 1px 2px rgba(60, 64, 67, 0.3), 0px 1px 3px 1px rgba(60, 64, 67, 0.15);\n",
              "      fill: #174EA6;\n",
              "    }\n",
              "\n",
              "    [theme=dark] .colab-df-convert {\n",
              "      background-color: #3B4455;\n",
              "      fill: #D2E3FC;\n",
              "    }\n",
              "\n",
              "    [theme=dark] .colab-df-convert:hover {\n",
              "      background-color: #434B5C;\n",
              "      box-shadow: 0px 1px 3px 1px rgba(0, 0, 0, 0.15);\n",
              "      filter: drop-shadow(0px 1px 2px rgba(0, 0, 0, 0.3));\n",
              "      fill: #FFFFFF;\n",
              "    }\n",
              "  </style>\n",
              "\n",
              "      <script>\n",
              "        const buttonEl =\n",
              "          document.querySelector('#df-246a2816-91d0-4394-b29a-1ba3e0f2e407 button.colab-df-convert');\n",
              "        buttonEl.style.display =\n",
              "          google.colab.kernel.accessAllowed ? 'block' : 'none';\n",
              "\n",
              "        async function convertToInteractive(key) {\n",
              "          const element = document.querySelector('#df-246a2816-91d0-4394-b29a-1ba3e0f2e407');\n",
              "          const dataTable =\n",
              "            await google.colab.kernel.invokeFunction('convertToInteractive',\n",
              "                                                     [key], {});\n",
              "          if (!dataTable) return;\n",
              "\n",
              "          const docLinkHtml = 'Like what you see? Visit the ' +\n",
              "            '<a target=\"_blank\" href=https://colab.research.google.com/notebooks/data_table.ipynb>data table notebook</a>'\n",
              "            + ' to learn more about interactive tables.';\n",
              "          element.innerHTML = '';\n",
              "          dataTable['output_type'] = 'display_data';\n",
              "          await google.colab.output.renderOutput(dataTable, element);\n",
              "          const docLink = document.createElement('div');\n",
              "          docLink.innerHTML = docLinkHtml;\n",
              "          element.appendChild(docLink);\n",
              "        }\n",
              "      </script>\n",
              "    </div>\n",
              "  </div>\n",
              "  "
            ],
            "text/plain": [
              "   source_node  destination_node\n",
              "0            1            690569\n",
              "1            1            315892\n",
              "2            1            189226\n",
              "3            2            834328\n",
              "4            2           1615927"
            ]
          },
          "execution_count": 22,
          "metadata": {},
          "output_type": "execute_result"
        }
      ],
      "source": [
        "train_data.head()"
      ]
    },
    {
      "cell_type": "code",
      "execution_count": null,
      "metadata": {
        "colab": {
          "base_uri": "https://localhost:8080/"
        },
        "id": "4kgYjKU_JZ5x",
        "outputId": "dfcebbc4-18a5-42c4-80d3-24d84a1bdbcc"
      },
      "outputs": [
        {
          "name": "stdout",
          "output_type": "stream",
          "text": [
            "<class 'pandas.core.frame.DataFrame'>\n",
            "RangeIndex: 9437519 entries, 0 to 9437518\n",
            "Data columns (total 2 columns):\n",
            " #   Column            Dtype\n",
            "---  ------            -----\n",
            " 0   source_node       int64\n",
            " 1   destination_node  int64\n",
            "dtypes: int64(2)\n",
            "memory usage: 144.0 MB\n"
          ]
        }
      ],
      "source": [
        "train_data.info()"
      ]
    },
    {
      "cell_type": "code",
      "execution_count": null,
      "metadata": {
        "colab": {
          "base_uri": "https://localhost:8080/"
        },
        "id": "1BmeDY7cJhCp",
        "outputId": "c5a99e97-9ba9-4d6b-c997-733dbd273603"
      },
      "outputs": [
        {
          "data": {
            "text/plain": [
              "source_node         0\n",
              "destination_node    0\n",
              "dtype: int64"
            ]
          },
          "execution_count": 10,
          "metadata": {},
          "output_type": "execute_result"
        }
      ],
      "source": [
        "np.sum(train_data.isna())"
      ]
    },
    {
      "cell_type": "code",
      "execution_count": null,
      "metadata": {
        "colab": {
          "base_uri": "https://localhost:8080/"
        },
        "id": "GYkDEyZ_Ju1r",
        "outputId": "0bf40a85-1c2b-4787-cb62-59b612dbf440"
      },
      "outputs": [
        {
          "data": {
            "text/plain": [
              "0"
            ]
          },
          "execution_count": 31,
          "metadata": {},
          "output_type": "execute_result"
        }
      ],
      "source": [
        "np.sum(train_data.duplicated())"
      ]
    },
    {
      "cell_type": "markdown",
      "metadata": {
        "id": "btM1-Uh1Jdsx"
      },
      "source": [
        "based on the previous output, we can see that we don't have neither null values, missing values nor duplicate rows.\n",
        "Now we shall get small sample of our data and convert it into graph in order to be able to visualize this nodes and edges."
      ]
    },
    {
      "cell_type": "code",
      "execution_count": null,
      "metadata": {
        "colab": {
          "base_uri": "https://localhost:8080/",
          "height": 206
        },
        "id": "-iEo7YrDSpuI",
        "outputId": "b57fa667-9eb6-47c0-ad63-2353c6a12f7f"
      },
      "outputs": [
        {
          "data": {
            "text/html": [
              "\n",
              "  <div id=\"df-5f089dc9-b34b-46a5-909a-fff14f055d38\">\n",
              "    <div class=\"colab-df-container\">\n",
              "      <div>\n",
              "<style scoped>\n",
              "    .dataframe tbody tr th:only-of-type {\n",
              "        vertical-align: middle;\n",
              "    }\n",
              "\n",
              "    .dataframe tbody tr th {\n",
              "        vertical-align: top;\n",
              "    }\n",
              "\n",
              "    .dataframe thead th {\n",
              "        text-align: right;\n",
              "    }\n",
              "</style>\n",
              "<table border=\"1\" class=\"dataframe\">\n",
              "  <thead>\n",
              "    <tr style=\"text-align: right;\">\n",
              "      <th></th>\n",
              "      <th>source_node</th>\n",
              "      <th>destination_node</th>\n",
              "    </tr>\n",
              "  </thead>\n",
              "  <tbody>\n",
              "    <tr>\n",
              "      <th>0</th>\n",
              "      <td>1</td>\n",
              "      <td>690569</td>\n",
              "    </tr>\n",
              "    <tr>\n",
              "      <th>1</th>\n",
              "      <td>1</td>\n",
              "      <td>315892</td>\n",
              "    </tr>\n",
              "    <tr>\n",
              "      <th>2</th>\n",
              "      <td>1</td>\n",
              "      <td>189226</td>\n",
              "    </tr>\n",
              "    <tr>\n",
              "      <th>3</th>\n",
              "      <td>2</td>\n",
              "      <td>834328</td>\n",
              "    </tr>\n",
              "    <tr>\n",
              "      <th>4</th>\n",
              "      <td>2</td>\n",
              "      <td>1615927</td>\n",
              "    </tr>\n",
              "  </tbody>\n",
              "</table>\n",
              "</div>\n",
              "      <button class=\"colab-df-convert\" onclick=\"convertToInteractive('df-5f089dc9-b34b-46a5-909a-fff14f055d38')\"\n",
              "              title=\"Convert this dataframe to an interactive table.\"\n",
              "              style=\"display:none;\">\n",
              "        \n",
              "  <svg xmlns=\"http://www.w3.org/2000/svg\" height=\"24px\"viewBox=\"0 0 24 24\"\n",
              "       width=\"24px\">\n",
              "    <path d=\"M0 0h24v24H0V0z\" fill=\"none\"/>\n",
              "    <path d=\"M18.56 5.44l.94 2.06.94-2.06 2.06-.94-2.06-.94-.94-2.06-.94 2.06-2.06.94zm-11 1L8.5 8.5l.94-2.06 2.06-.94-2.06-.94L8.5 2.5l-.94 2.06-2.06.94zm10 10l.94 2.06.94-2.06 2.06-.94-2.06-.94-.94-2.06-.94 2.06-2.06.94z\"/><path d=\"M17.41 7.96l-1.37-1.37c-.4-.4-.92-.59-1.43-.59-.52 0-1.04.2-1.43.59L10.3 9.45l-7.72 7.72c-.78.78-.78 2.05 0 2.83L4 21.41c.39.39.9.59 1.41.59.51 0 1.02-.2 1.41-.59l7.78-7.78 2.81-2.81c.8-.78.8-2.07 0-2.86zM5.41 20L4 18.59l7.72-7.72 1.47 1.35L5.41 20z\"/>\n",
              "  </svg>\n",
              "      </button>\n",
              "      \n",
              "  <style>\n",
              "    .colab-df-container {\n",
              "      display:flex;\n",
              "      flex-wrap:wrap;\n",
              "      gap: 12px;\n",
              "    }\n",
              "\n",
              "    .colab-df-convert {\n",
              "      background-color: #E8F0FE;\n",
              "      border: none;\n",
              "      border-radius: 50%;\n",
              "      cursor: pointer;\n",
              "      display: none;\n",
              "      fill: #1967D2;\n",
              "      height: 32px;\n",
              "      padding: 0 0 0 0;\n",
              "      width: 32px;\n",
              "    }\n",
              "\n",
              "    .colab-df-convert:hover {\n",
              "      background-color: #E2EBFA;\n",
              "      box-shadow: 0px 1px 2px rgba(60, 64, 67, 0.3), 0px 1px 3px 1px rgba(60, 64, 67, 0.15);\n",
              "      fill: #174EA6;\n",
              "    }\n",
              "\n",
              "    [theme=dark] .colab-df-convert {\n",
              "      background-color: #3B4455;\n",
              "      fill: #D2E3FC;\n",
              "    }\n",
              "\n",
              "    [theme=dark] .colab-df-convert:hover {\n",
              "      background-color: #434B5C;\n",
              "      box-shadow: 0px 1px 3px 1px rgba(0, 0, 0, 0.15);\n",
              "      filter: drop-shadow(0px 1px 2px rgba(0, 0, 0, 0.3));\n",
              "      fill: #FFFFFF;\n",
              "    }\n",
              "  </style>\n",
              "\n",
              "      <script>\n",
              "        const buttonEl =\n",
              "          document.querySelector('#df-5f089dc9-b34b-46a5-909a-fff14f055d38 button.colab-df-convert');\n",
              "        buttonEl.style.display =\n",
              "          google.colab.kernel.accessAllowed ? 'block' : 'none';\n",
              "\n",
              "        async function convertToInteractive(key) {\n",
              "          const element = document.querySelector('#df-5f089dc9-b34b-46a5-909a-fff14f055d38');\n",
              "          const dataTable =\n",
              "            await google.colab.kernel.invokeFunction('convertToInteractive',\n",
              "                                                     [key], {});\n",
              "          if (!dataTable) return;\n",
              "\n",
              "          const docLinkHtml = 'Like what you see? Visit the ' +\n",
              "            '<a target=\"_blank\" href=https://colab.research.google.com/notebooks/data_table.ipynb>data table notebook</a>'\n",
              "            + ' to learn more about interactive tables.';\n",
              "          element.innerHTML = '';\n",
              "          dataTable['output_type'] = 'display_data';\n",
              "          await google.colab.output.renderOutput(dataTable, element);\n",
              "          const docLink = document.createElement('div');\n",
              "          docLink.innerHTML = docLinkHtml;\n",
              "          element.appendChild(docLink);\n",
              "        }\n",
              "      </script>\n",
              "    </div>\n",
              "  </div>\n",
              "  "
            ],
            "text/plain": [
              "   source_node  destination_node\n",
              "0            1            690569\n",
              "1            1            315892\n",
              "2            1            189226\n",
              "3            2            834328\n",
              "4            2           1615927"
            ]
          },
          "execution_count": 11,
          "metadata": {},
          "output_type": "execute_result"
        }
      ],
      "source": [
        "sample_data = pd.read_csv(\"Data/train.csv\", nrows = 30)\n",
        "sample_data.to_csv(\"Data/sample_data.csv\", sep = ',', index = False) \n",
        "sample_data.head()"
      ]
    },
    {
      "cell_type": "code",
      "execution_count": null,
      "metadata": {
        "id": "mdHiUFXNStDx"
      },
      "outputs": [],
      "source": [
        "# Reading subgraph from sample_data file using read_edgelist ====> conver it into Directed Graph\n",
        "subgraph = nx.read_edgelist(\"Data/sample_data.csv\", comments = 's', create_using = nx.DiGraph(), nodetype = int, delimiter = \",\")"
      ]
    },
    {
      "cell_type": "code",
      "execution_count": null,
      "metadata": {
        "colab": {
          "base_uri": "https://localhost:8080/",
          "height": 35
        },
        "id": "WGE-mzemUpmJ",
        "outputId": "760f4ab4-bfb5-4b6d-a6aa-610bbe085552"
      },
      "outputs": [
        {
          "data": {
            "application/vnd.google.colaboratory.intrinsic+json": {
              "type": "string"
            },
            "text/plain": [
              "'DiGraph with 42 nodes and 30 edges'"
            ]
          },
          "execution_count": 13,
          "metadata": {},
          "output_type": "execute_result"
        }
      ],
      "source": [
        "nx.info(subgraph)"
      ]
    },
    {
      "cell_type": "code",
      "execution_count": null,
      "metadata": {
        "colab": {
          "base_uri": "https://localhost:8080/",
          "height": 319
        },
        "id": "alMa7UwrXjOY",
        "outputId": "490251d5-88ce-4407-b088-1f8de8d536fa"
      },
      "outputs": [
        {
          "data": {
            "image/png": "[encoded data removed]",
            "text/plain": [
              "<Figure size 432x288 with 1 Axes>"
            ]
          },
          "metadata": {},
          "output_type": "display_data"
        }
      ],
      "source": [
        "nx.draw(subgraph, with_labels = True, node_size = 300)"
      ]
    },
    {
      "cell_type": "markdown",
      "metadata": {
        "id": "v4zn77dVYTL7"
      },
      "source": [
        "This sample data was not taken randomly so we can see why for example 1, 2, 3, 4 has a lot of outcoming edges and not incoming edges as our original dataframe was sorted in ascending order on source node column."
      ]
    },
    {
      "cell_type": "code",
      "execution_count": null,
      "metadata": {
        "id": "mMqIwt1IYmGr"
      },
      "outputs": [],
      "source": [
        "# Reading the whole data using networkx\n",
        "train_graph = nx.read_edgelist(\"Data/train.csv\", delimiter = ',', nodetype = int, comments = 's', create_using = nx.DiGraph())"
      ]
    },
    {
      "cell_type": "code",
      "execution_count": null,
      "metadata": {
        "colab": {
          "base_uri": "https://localhost:8080/"
        },
        "id": "3SvZUS3QY1v3",
        "outputId": "c83306ca-e25b-426d-80a3-fa708642c5a4"
      },
      "outputs": [
        {
          "name": "stdout",
          "output_type": "stream",
          "text": [
            "Number of unique person / nodes in our graph = 1862220\n"
          ]
        }
      ],
      "source": [
        "print(\"Number of unique person / nodes in our graph =\" , len(train_graph.nodes))"
      ]
    },
    {
      "cell_type": "markdown",
      "metadata": {
        "id": "Zw49JJc4VNPB"
      },
      "source": [
        "### Follower of Each User"
      ]
    },
    {
      "cell_type": "code",
      "execution_count": null,
      "metadata": {
        "id": "eMh2wYS7yGun"
      },
      "outputs": [],
      "source": [
        "indegree_dist = list(dict(train_graph.in_degree()).values())\n",
        "indegree_dist.sort()"
      ]
    },
    {
      "cell_type": "code",
      "execution_count": null,
      "metadata": {
        "colab": {
          "base_uri": "https://localhost:8080/",
          "height": 388
        },
        "id": "HTjHfEreUL60",
        "outputId": "ef74aad3-ac51-4831-e4a4-dc9b2c77f3d9"
      },
      "outputs": [
        {
          "data": {
            "image/png": "[encoded data removed]",
            "text/plain": [
              "<Figure size 720x432 with 1 Axes>"
            ]
          },
          "metadata": {},
          "output_type": "display_data"
        }
      ],
      "source": [
        "plt.figure(figsize = (10, 6))\n",
        "# Put integer values on x-axis rather than float\n",
        "plt.ticklabel_format(style = \"plain\", axis = 'x', useOffset = False)\n",
        "plt.plot(indegree_dist)\n",
        "plt.xlabel(\"Node Number\")\n",
        "plt.ylabel(\"Number of Followers\")\n",
        "plt.show()"
      ]
    },
    {
      "cell_type": "markdown",
      "metadata": {
        "id": "doGbt5CZYyyO"
      },
      "source": [
        "This plot tells us number of followers of each node out of total nodes sorted based on values not index so the index there is not sorted and it's not aggregated meaning that node mapped to value of it's own number of followers so mostly all of them have < 100 followers except very few have a little bit more than 500 followers (we can't know the index of it through the plot.)"
      ]
    },
    {
      "cell_type": "code",
      "execution_count": null,
      "metadata": {
        "colab": {
          "base_uri": "https://localhost:8080/",
          "height": 388
        },
        "id": "EIVR6I3rVTle",
        "outputId": "b84c745e-7819-41b4-e4a6-31553632320f"
      },
      "outputs": [
        {
          "data": {
            "image/png": "[encoded data removed]",
            "text/plain": [
              "<Figure size 720x432 with 1 Axes>"
            ]
          },
          "metadata": {},
          "output_type": "display_data"
        }
      ],
      "source": [
        "# Focusing on the first 1,500,000 nodes and their number of followers\n",
        "plt.figure(figsize = (10, 6))\n",
        "plt.ticklabel_format(style = \"plain\", axis = 'x', useOffset = False)\n",
        "plt.plot(indegree_dist[:1500000])\n",
        "plt.xlabel(\"Node Number\")\n",
        "plt.ylabel(\"Number of Followers\")\n",
        "plt.show()"
      ]
    },
    {
      "cell_type": "markdown",
      "metadata": {
        "id": "B_s7eaSgaBHV"
      },
      "source": [
        "Obviously the change in number of followers is not large so we have a large number of nodes that have relatively small diffrence in term of number of followers so we can say that majority of nodes tend to group togeather in term of number of followers and only few number of them have a large followers number (Maybe famous people or influencers)."
      ]
    },
    {
      "cell_type": "markdown",
      "metadata": {
        "id": "VfqSWgniFgQ1"
      },
      "source": [
        "This plot focus on the first 1,500,000 index of our list it show actually the number of follower of our first 1,500,000 each one of them mapped to it's number of followers , the plot turn into stairs shape now and this shall prove that there is too small number of nodes which have big number of followers mode maybe than 250 they all located in the leftmost of out list."
      ]
    },
    {
      "cell_type": "code",
      "execution_count": null,
      "metadata": {
        "colab": {
          "base_uri": "https://localhost:8080/"
        },
        "id": "lhVNYeQ2yJuX",
        "outputId": "47441df0-c01c-4426-926a-fc6b361faf92"
      },
      "outputs": [
        {
          "name": "stdout",
          "output_type": "stream",
          "text": [
            "Min number of followers for a node = 0\n",
            "Max number of followers for a node = 552\n"
          ]
        }
      ],
      "source": [
        "print(\"Min number of followers for a node =\", np.min(indegree_dist))\n",
        "print(\"Max number of followers for a node =\", np.max(indegree_dist))"
      ]
    },
    {
      "cell_type": "code",
      "execution_count": null,
      "metadata": {
        "colab": {
          "base_uri": "https://localhost:8080/"
        },
        "id": "TUndsfSEyzAP",
        "outputId": "655b0874-4ee9-42b9-ffa1-c59668337a30"
      },
      "outputs": [
        {
          "name": "stdout",
          "output_type": "stream",
          "text": [
            "Number of nodes with no followers ==> Zero followers = 188043\n"
          ]
        }
      ],
      "source": [
        "cnt = 0\n",
        "for i in indegree_dist:\n",
        "  if i == 0:\n",
        "    cnt += 1\n",
        "\n",
        "print(\"Number of nodes with no followers ==> Zero followers =\", cnt)"
      ]
    },
    {
      "cell_type": "code",
      "execution_count": null,
      "metadata": {
        "colab": {
          "base_uri": "https://localhost:8080/"
        },
        "id": "P8CBnVnBzP7l",
        "outputId": "4dc952fe-278a-4681-f763-331cfdeeaea6"
      },
      "outputs": [
        {
          "name": "stdout",
          "output_type": "stream",
          "text": [
            "Number of nodes with max followers ==> Max number of followers = 1\n"
          ]
        }
      ],
      "source": [
        "cnt = 0\n",
        "mx = np.max(indegree_dist)\n",
        "for i in indegree_dist:\n",
        "  if i == mx:\n",
        "    cnt += 1\n",
        "\n",
        "print(\"Number of nodes with max followers ==> Max number of followers =\", cnt)"
      ]
    },
    {
      "cell_type": "markdown",
      "metadata": {
        "id": "U9DnFw_dzhMh"
      },
      "source": [
        "So we have a lot of nodes (Users) about 188K with no fllowers at all but we have only one user with max number of followers which is 552, Now we shall calculate Mean, Median and Percentaile of indegree distribuiton to get more insight of how this values spread."
      ]
    },
    {
      "cell_type": "code",
      "execution_count": null,
      "metadata": {
        "colab": {
          "base_uri": "https://localhost:8080/"
        },
        "id": "Yq8JBWWkzx1a",
        "outputId": "07d0f069-7422-402b-e74d-52326b39eeed"
      },
      "outputs": [
        {
          "name": "stdout",
          "output_type": "stream",
          "text": [
            "The average of indegree of users = 5.067886178861789\n",
            "The median of indegree of users = 2.0\n"
          ]
        }
      ],
      "source": [
        "print(\"The average of indegree of users =\", np.mean(indegree_dist))\n",
        "print(\"The median of indegree of users =\", np.median(indegree_dist))"
      ]
    },
    {
      "cell_type": "markdown",
      "metadata": {
        "id": "Xmwa7J2t0k2e"
      },
      "source": [
        "With thoses value we can obviously say that mean is skewed to right due to some nodes with large number of followers but median was not affected by those extreme values, We can see the slow change in values closeley better using percentiles values."
      ]
    },
    {
      "cell_type": "code",
      "execution_count": null,
      "metadata": {
        "colab": {
          "base_uri": "https://localhost:8080/"
        },
        "id": "jBXFYleqFhf2",
        "outputId": "436fae70-8d03-4fa0-c0f7-d85a541ec62d"
      },
      "outputs": [
        {
          "name": "stdout",
          "output_type": "stream",
          "text": [
            "The 10th percentile = 0.0\n",
            "The 20th percentile = 1.0\n",
            "The 30th percentile = 1.0\n",
            "The 40th percentile = 2.0\n",
            "The 50th percentile = 2.0\n",
            "The 60th percentile = 3.0\n",
            "The 70th percentile = 5.0\n",
            "The 80th percentile = 7.0\n",
            "The 90th percentile = 12.0\n"
          ]
        }
      ],
      "source": [
        "for i in range(10, 100, 10):\n",
        "  print(f\"The {i}th percentile =\", np.percentile(indegree_dist, i))"
      ]
    },
    {
      "cell_type": "markdown",
      "metadata": {
        "id": "_tMfSlIcFtts"
      },
      "source": [
        "Most of the values tend to have small to resonable number of followers which is normal and that is obvious to from the previous numbers as it stated that the diffrebce betweeb 90th percentile and 20th percentile is only 11 follower yet the gap is large, For that if we focus on the right part of the followers starting from 90th and larger to get more insight how the number of followers of those values growth."
      ]
    },
    {
      "cell_type": "code",
      "execution_count": null,
      "metadata": {
        "colab": {
          "base_uri": "https://localhost:8080/"
        },
        "id": "2ePG4VtBEupB",
        "outputId": "f7841048-de1b-42be-adcd-9e31f249a544"
      },
      "outputs": [
        {
          "name": "stdout",
          "output_type": "stream",
          "text": [
            "The 90th percentile = 12.0\n",
            "The 91th percentile = 13.0\n",
            "The 92th percentile = 14.0\n",
            "The 93th percentile = 15.0\n",
            "The 94th percentile = 17.0\n",
            "The 95th percentile = 19.0\n",
            "The 96th percentile = 21.0\n",
            "The 97th percentile = 24.0\n",
            "The 98th percentile = 29.0\n",
            "The 99th percentile = 40.0\n",
            "The 100th percentile = 552.0\n"
          ]
        }
      ],
      "source": [
        "for i in range(90, 101, 1):\n",
        "  print(f\"The {i}th percentile =\", np.percentile(indegree_dist, i))"
      ]
    },
    {
      "cell_type": "code",
      "execution_count": null,
      "metadata": {
        "colab": {
          "base_uri": "https://localhost:8080/"
        },
        "id": "ZwquDPN_GsYu",
        "outputId": "79887f56-3f55-4bf8-a1e2-805f3f3a97ba"
      },
      "outputs": [
        {
          "name": "stdout",
          "output_type": "stream",
          "text": [
            "The 99.0th percentile = 40.0\n",
            "The 99.1th percentile = 42.0\n",
            "The 99.2th percentile = 44.0\n",
            "The 99.3th percentile = 47.0\n",
            "The 99.4th percentile = 50.0\n",
            "The 99.5th percentile = 55.0\n",
            "The 99.6th percentile = 61.0\n",
            "The 99.7th percentile = 70.0\n",
            "The 99.8th percentile = 84.0\n",
            "The 99.9th percentile = 112.0\n",
            "The 100.0th percentile = 552.0\n"
          ]
        }
      ],
      "source": [
        "for i in range(0, 110, 10):\n",
        "  j = 99 + (i / 100)\n",
        "  print(f\"The {j}th percentile =\", np.percentile(indegree_dist, j))"
      ]
    },
    {
      "cell_type": "markdown",
      "metadata": {
        "id": "UAn2rLGNICG0"
      },
      "source": [
        "The growth in the number of followers at the last 10th percentile happened faster than lower part of the range, those values have to be celebrites whos have a lot of followers, one can consider each one of this extrem values as outlier / not outlier, we could measure this using Whishkers Box-Plot or using IQR rule as follow."
      ]
    },
    {
      "cell_type": "code",
      "source": [
        "Q1, Q3 = np.percentile(indegree_dist, 25), np.percentile(indegree_dist, 75)\n",
        "IQR = Q3 - Q1\n",
        "print(\"Inter Quantile Range =\", IQR)"
      ],
      "metadata": {
        "id": "QPsygYHmL5PJ"
      },
      "execution_count": null,
      "outputs": []
    },
    {
      "cell_type": "code",
      "source": [
        "low_limit, high_limit = -1.5 * Q1, +1.5 * Q3\n",
        "print(\"The low limit of the data to be consider as outliers =\", low_limit)\n",
        "print(\"The high limit of the data to be consider as outliers =\", high_limit)"
      ],
      "metadata": {
        "colab": {
          "base_uri": "https://localhost:8080/"
        },
        "id": "wF5d-f-ENOxd",
        "outputId": "7b6b14bf-f3c8-4c5c-d645-ffbf56032679"
      },
      "execution_count": null,
      "outputs": [
        {
          "output_type": "stream",
          "name": "stdout",
          "text": [
            "The low limit of the data to be consider as outliers = -1.5\n",
            "The high limit of the data to be consider as outliers = 9.0\n"
          ]
        }
      ]
    },
    {
      "cell_type": "markdown",
      "source": [
        "So each value below our low limit would be considered as outlier but here this is not possible due to the fact that the low limit is negative hence no user has negative number of followers and that's obvious because the data is clearley skewed to the right, and each value grater than our high limit in this case 9 would be considered as outliers."
      ],
      "metadata": {
        "id": "vcVMtjzLOL8D"
      }
    },
    {
      "cell_type": "code",
      "source": [
        "cnt = 0\n",
        "for i in indegree_dist:\n",
        "  if i > high_limit:\n",
        "    cnt += 1\n",
        "\n",
        "print(\"Number of values over the upper limit =\", cnt)\n",
        "print(\"Percentage of values over the upper limit =\", (cnt / 1862220) * 100, '%')"
      ],
      "metadata": {
        "colab": {
          "base_uri": "https://localhost:8080/"
        },
        "id": "lPQNlt6yPEG2",
        "outputId": "cf40e6e5-a120-410d-c6a8-8af53fc2df69"
      },
      "execution_count": null,
      "outputs": [
        {
          "output_type": "stream",
          "name": "stdout",
          "text": [
            "Number of values over the upper limit = 261240\n",
            "Percentage of values over the upper limit = 14.028417695009182 %\n"
          ]
        }
      ]
    },
    {
      "cell_type": "code",
      "execution_count": null,
      "metadata": {
        "colab": {
          "base_uri": "https://localhost:8080/",
          "height": 469
        },
        "id": "mk9yXTCeIen6",
        "outputId": "ca89e635-3192-44d4-d8de-bf23a4a355e6"
      },
      "outputs": [
        {
          "output_type": "display_data",
          "data": {
            "image/png": "[encoded data removed]",
            "text/plain": [
              "<Figure size 864x576 with 1 Axes>"
            ]
          },
          "metadata": {
            "needs_background": "light"
          }
        }
      ],
      "source": [
        "plt.figure(figsize = (12, 8))\n",
        "sns.boxplot(y = indegree_dist)\n",
        "plt.show()"
      ]
    },
    {
      "cell_type": "markdown",
      "source": [
        "But this might be extream to consider about 14% of data as outliers just because some of them have more than 9 followers, this would not be resonable, for that i will try to change the threshold for 1.5 to 3 repeat the previous steps once again."
      ],
      "metadata": {
        "id": "QhJZ_jgLSudP"
      }
    },
    {
      "cell_type": "code",
      "source": [
        "# I will discard low limit as it will be negative anyway\n",
        "high_limit = +3 * Q3\n",
        "print(\"The high limit of the data to be consider as outliers =\", high_limit)"
      ],
      "metadata": {
        "colab": {
          "base_uri": "https://localhost:8080/"
        },
        "id": "kYw-4lMsTKpf",
        "outputId": "1591a34b-ff4d-4b0c-ce92-b93639a89d03"
      },
      "execution_count": null,
      "outputs": [
        {
          "output_type": "stream",
          "name": "stdout",
          "text": [
            "The high limit of the data to be consider as outliers = 18.0\n"
          ]
        }
      ]
    },
    {
      "cell_type": "code",
      "source": [
        "cnt = 0\n",
        "for i in indegree_dist:\n",
        "  if i > high_limit:\n",
        "    cnt += 1\n",
        "\n",
        "print(\"Number of values over the upper limit =\", cnt)\n",
        "print(\"Percentage of values over the upper limit =\", (cnt / 1862220) * 100, '%')"
      ],
      "metadata": {
        "colab": {
          "base_uri": "https://localhost:8080/"
        },
        "id": "Zznx03s0TV5u",
        "outputId": "912cf3e5-c676-4f1a-b0ac-2afa0e0c3181"
      },
      "execution_count": null,
      "outputs": [
        {
          "output_type": "stream",
          "name": "stdout",
          "text": [
            "Number of values over the upper limit = 93679\n",
            "Percentage of values over the upper limit = 5.030501229715071 %\n"
          ]
        }
      ]
    },
    {
      "cell_type": "markdown",
      "source": [
        "This is more resonable and acceptable results as only 5% of the data could be outliers (not neccessary) rather than having 14% as outliers which is really large percentage."
      ],
      "metadata": {
        "id": "P9-8BcNNTrlg"
      }
    },
    {
      "cell_type": "code",
      "execution_count": null,
      "metadata": {
        "colab": {
          "base_uri": "https://localhost:8080/",
          "height": 400
        },
        "id": "qy9BRfYu00Gk",
        "outputId": "0db58e85-28bb-440c-95e3-5fa095526051"
      },
      "outputs": [
        {
          "data": {
            "text/plain": [
              "<Figure size 1080x864 with 0 Axes>"
            ]
          },
          "metadata": {},
          "output_type": "display_data"
        },
        {
          "data": {
            "image/png": "[encoded data removed]",
            "text/plain": [
              "<Figure size 360x360 with 1 Axes>"
            ]
          },
          "metadata": {},
          "output_type": "display_data"
        }
      ],
      "source": [
        "plt.figure(figsize = (15, 12))\n",
        "sns.displot(data = indegree_dist, kind = \"kde\")\n",
        "plt.xlabel(\"Number of Followers\")\n",
        "plt.show()"
      ]
    },
    {
      "cell_type": "markdown",
      "metadata": {
        "id": "Xm9zIlaN2azt"
      },
      "source": [
        "This distribuiton look like some kind of Power Law distribution or log normal distribution where majority of values centered in the left side of the plot and only few number of values tend to have a large response, those values may be outliers."
      ]
    }
  ],
  "metadata": {
    "colab": {
      "collapsed_sections": [
        "KGsPT3L4neqz"
      ],
      "name": "Exploratory Data Analysis.ipynb",
      "provenance": [],
      "mount_file_id": "1uPGnyQFKjBJ_hMQ4Q-L3opOwvhDqRPxh",
      "authorship_tag": "ABX9TyMeG/qiDJhbVqj0+bDvdULq"
    },
    "kernelspec": {
      "display_name": "Python 3",
      "name": "python3"
    },
    "language_info": {
      "name": "python"
    }
  },
  "nbformat": 4,
  "nbformat_minor": 0
}