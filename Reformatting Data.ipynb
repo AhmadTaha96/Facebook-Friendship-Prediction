{
  "cells": [
    {
      "cell_type": "markdown",
      "metadata": {
        "id": "AmHL1NGtF80d"
      },
      "source": [
        "# Importing Libraries"
      ]
    },
    {
      "cell_type": "code",
      "execution_count": 4,
      "metadata": {
        "id": "pl9CYgOe64Yx"
      },
      "outputs": [],
      "source": [
        "import shutil\n",
        "import os\n",
        "import pandas as pd\n",
        "import numpy as np\n",
        "import tqdm\n",
        "import gc"
      ]
    },
    {
      "cell_type": "markdown",
      "metadata": {
        "id": "72w0-PxNGEmq"
      },
      "source": [
        "# Reformatting Data"
      ]
    },
    {
      "cell_type": "markdown",
      "metadata": {
        "id": "savq12QhGH32"
      },
      "source": [
        "We are going to reformate the data we have in order to reduce memory consumed by those 3 chunks of dataframes, we are going to change the data type of each column in our dataframes whenever possible."
      ]
    },
    {
      "cell_type": "code",
      "execution_count": 5,
      "metadata": {
        "id": "-S-_bYA73VAk"
      },
      "outputs": [],
      "source": [
        "def reduce_mem_usage(df, int_cast = False, obj_to_category = False, subset = None):\n",
        "    \"\"\"\n",
        "    Iterate through all the columns of a dataframe and modify the data type to reduce memory usage.\n",
        "    :param df: dataframe to reduce (pd.DataFrame)\n",
        "    :param int_cast: indicate if columns should be tried to be casted to int (bool)\n",
        "    :param obj_to_category: convert non-datetime related objects to category dtype (bool)\n",
        "    :param subset: subset of columns to analyse (list)\n",
        "    :return: dataset with the column dtypes adjusted (pd.DataFrame)\n",
        "    \"\"\"\n",
        "    \n",
        "    start_mem = df.memory_usage().sum() / 1024 ** 2;\n",
        "    gc.collect()\n",
        "    print('Memory usage of dataframe is {:.2f} MB'.format(start_mem))\n",
        "\n",
        "    cols = df.columns\n",
        "    for col in tqdm.tqdm(cols):\n",
        "        col_type = df[col].dtype\n",
        "\n",
        "        if col_type != object and col_type.name != 'category' and 'datetime' not in col_type.name:\n",
        "            c_min = df[col].min()\n",
        "            c_max = df[col].max()\n",
        "\n",
        "            # test if column can be converted to an integer\n",
        "            treat_as_int = str(col_type)[:3] == 'int'\n",
        "\n",
        "            if treat_as_int:\n",
        "                if c_min > np.iinfo(np.int8).min and c_max < np.iinfo(np.int8).max:\n",
        "                    df[col] = df[col].astype(np.int8)\n",
        "                elif c_min > np.iinfo(np.uint8).min and c_max < np.iinfo(np.uint8).max:\n",
        "                    df[col] = df[col].astype(np.uint8)\n",
        "                elif c_min > np.iinfo(np.int16).min and c_max < np.iinfo(np.int16).max:\n",
        "                    df[col] = df[col].astype(np.int16)\n",
        "                elif c_min > np.iinfo(np.uint16).min and c_max < np.iinfo(np.uint16).max:\n",
        "                    df[col] = df[col].astype(np.uint16)\n",
        "                elif c_min > np.iinfo(np.int32).min and c_max < np.iinfo(np.int32).max:\n",
        "                    df[col] = df[col].astype(np.int32)\n",
        "                elif c_min > np.iinfo(np.uint32).min and c_max < np.iinfo(np.uint32).max:\n",
        "                    df[col] = df[col].astype(np.uint32)\n",
        "                elif c_min > np.iinfo(np.int64).min and c_max < np.iinfo(np.int64).max:\n",
        "                    df[col] = df[col].astype(np.int64)\n",
        "                elif c_min > np.iinfo(np.uint64).min and c_max < np.iinfo(np.uint64).max:\n",
        "                    df[col] = df[col].astype(np.uint64)\n",
        "            else:\n",
        "                if c_min > np.finfo(np.float16).min and c_max < np.finfo(np.float16).max:\n",
        "                    df[col] = df[col].astype(np.float32)\n",
        "                elif c_min > np.finfo(np.float32).min and c_max < np.finfo(np.float32).max:\n",
        "                    df[col] = df[col].astype(np.float32)\n",
        "                else:\n",
        "                    df[col] = df[col].astype(np.float64)\n",
        "        elif 'datetime' not in col_type.name and obj_to_category:\n",
        "            df[col] = df[col].astype('category')\n",
        "        \n",
        "        # int to uint\n",
        "        if subset:\n",
        "          for col in subset:\n",
        "            df[col] = df[col].astype(np.uint16)\n",
        "\n",
        "    gc.collect()\n",
        "    end_mem = df.memory_usage().sum() / 1024 ** 2\n",
        "    print('\\nMemory usage after optimization is: {:.3f} MB'.format(end_mem))\n",
        "    print('Decreased by {:.1f}%'.format(100 * (start_mem - end_mem) / start_mem))\n",
        "\n",
        "    return df"
      ]
    },
    {
      "cell_type": "markdown",
      "metadata": {
        "id": "_5ZqYZ_3GrED"
      },
      "source": [
        "### Reformate Training Data"
      ]
    },
    {
      "cell_type": "code",
      "execution_count": 6,
      "metadata": {
        "id": "GlkyJw-DZv7z"
      },
      "outputs": [],
      "source": [
        "x_train_1 = pd.read_csv(\"Data/x_train_1.csv\")"
      ]
    },
    {
      "cell_type": "code",
      "source": [
        "print(x_train_1.info())"
      ],
      "metadata": {
        "colab": {
          "base_uri": "https://localhost:8080/"
        },
        "id": "g22nU_03L7US",
        "outputId": "463c7cd7-5cac-44d6-a85a-0bb0a8dd33c1"
      },
      "execution_count": 7,
      "outputs": [
        {
          "output_type": "stream",
          "name": "stdout",
          "text": [
            "<class 'pandas.core.frame.DataFrame'>\n",
            "RangeIndex: 16798783 entries, 0 to 16798782\n",
            "Data columns (total 25 columns):\n",
            " #   Column                             Dtype  \n",
            "---  ------                             -----  \n",
            " 0   salton_for_outcoming               float64\n",
            " 1   salton_for_incoming                float64\n",
            " 2   source_outdegree                   int64  \n",
            " 3   source_indegree                    int64  \n",
            " 4   destination_outdegree              int64  \n",
            " 5   destination_indegree               int64  \n",
            " 6   outcoming_intersection             int64  \n",
            " 7   incoming_intersection              int64  \n",
            " 8   jaccard_for_outcoming              float64\n",
            " 9   jaccard_for_incoming               float64\n",
            " 10  sorensen_for_outcoming             float64\n",
            " 11  sorensen_for_incoming              float64\n",
            " 12  outcoming_preferential_attachment  int64  \n",
            " 13  incoming_preferential_attachment   int64  \n",
            " 14  adamic_adar                        float64\n",
            " 15  outcoming_hup_promoted             float64\n",
            " 16  incoming_hup_promoted              float64\n",
            " 17  outcoming_hup_depressed            float64\n",
            " 18  incoming_hup_depressed             float64\n",
            " 19  outcoming_leicht                   float64\n",
            " 20  incoming_leicht                    float64\n",
            " 21  car_index                          float64\n",
            " 22  individual_attraction              float64\n",
            " 23  out_func_sim_weight                float64\n",
            " 24  in_func_sim_weight                 float64\n",
            "dtypes: float64(17), int64(8)\n",
            "memory usage: 3.1 GB\n",
            "None\n"
          ]
        }
      ]
    },
    {
      "cell_type": "code",
      "source": [
        "x_train_1.drop([\"source_outdegree\", \"destination_indegree\"], axis = 1, inplace = True)"
      ],
      "metadata": {
        "id": "2ypzJNQBUIhr"
      },
      "execution_count": null,
      "outputs": []
    },
    {
      "cell_type": "code",
      "execution_count": 9,
      "metadata": {
        "id": "toVCKrA75ZCR"
      },
      "outputs": [],
      "source": [
        "x_train_1_new = x_train_1.copy()"
      ]
    },
    {
      "cell_type": "code",
      "source": [
        "cols = [\"source_indegree\", \"destination_outdegree\", \\\n",
        "        \"outcoming_intersection\", \"incoming_intersection\"]\n",
        "x_train_1_new = reduce_mem_usage(x_train_1_new, subset = cols)"
      ],
      "metadata": {
        "colab": {
          "base_uri": "https://localhost:8080/"
        },
        "id": "QhbPxKToMi2J",
        "outputId": "2d6cef5f-264a-4ab0-fc4c-77ef36aa3c6a"
      },
      "execution_count": 12,
      "outputs": [
        {
          "output_type": "stream",
          "name": "stdout",
          "text": [
            "Memory usage of dataframe is 2883.70 MB\n"
          ]
        },
        {
          "output_type": "stream",
          "name": "stderr",
          "text": [
            "100%|██████████| 23/23 [00:16<00:00,  1.39it/s]"
          ]
        },
        {
          "output_type": "stream",
          "name": "stdout",
          "text": [
            "\n",
            "Memory usage after optimization is: 1345.728 MB\n",
            "Decreased by 53.3%\n"
          ]
        },
        {
          "output_type": "stream",
          "name": "stderr",
          "text": [
            "\n"
          ]
        }
      ]
    },
    {
      "cell_type": "code",
      "execution_count": 14,
      "metadata": {
        "colab": {
          "base_uri": "https://localhost:8080/"
        },
        "id": "VovzEQ2h6M4q",
        "outputId": "780f2989-7979-4de2-bdb7-a774f414274a"
      },
      "outputs": [
        {
          "output_type": "stream",
          "name": "stdout",
          "text": [
            "diffrence in term of salton_for_outcoming = 0.025889267112001332\n",
            "diffrence in term of salton_for_incoming = 0.027719576455859415\n",
            "diffrence in term of source_indegree = 0\n",
            "diffrence in term of destination_outdegree = 0\n",
            "diffrence in term of outcoming_intersection = 0\n",
            "diffrence in term of incoming_intersection = 0\n",
            "diffrence in term of jaccard_for_outcoming = 0.016680912073899365\n",
            "diffrence in term of jaccard_for_incoming = 0.017774064990973185\n",
            "diffrence in term of sorensen_for_outcoming = 0.012763284822498014\n",
            "diffrence in term of sorensen_for_incoming = 0.013660582292324603\n",
            "diffrence in term of outcoming_preferential_attachment = 0\n",
            "diffrence in term of incoming_preferential_attachment = 0\n",
            "diffrence in term of adamic_adar = 0.5354153128034917\n",
            "diffrence in term of outcoming_hup_promoted = 0.029443154973710573\n",
            "diffrence in term of incoming_hup_promoted = 0.03136107297636336\n",
            "diffrence in term of outcoming_hup_depressed = 0.02011266525556596\n",
            "diffrence in term of incoming_hup_depressed = 0.02119195168365026\n",
            "diffrence in term of outcoming_leicht = 0.002794128549560826\n",
            "diffrence in term of incoming_leicht = 0.0030727915125813555\n",
            "diffrence in term of car_index = 0.0\n",
            "diffrence in term of individual_attraction = 0.04195817649720504\n",
            "diffrence in term of out_func_sim_weight = 0.059330308457541975\n",
            "diffrence in term of in_func_sim_weight = 0.06745403878786019\n"
          ]
        }
      ],
      "source": [
        "for i in x_train_1.columns:\n",
        "  print(\"diffrence in term of\", i, \"=\", np.sum(np.abs(x_train_1[i] - x_train_1_new[i])))"
      ]
    },
    {
      "cell_type": "code",
      "source": [
        "print(x_train_1_new.info())"
      ],
      "metadata": {
        "colab": {
          "base_uri": "https://localhost:8080/"
        },
        "id": "kQE9lmlYL__v",
        "outputId": "34aeb228-d5e1-48c7-a4a4-6c84c6dd8012"
      },
      "execution_count": 15,
      "outputs": [
        {
          "output_type": "stream",
          "name": "stdout",
          "text": [
            "<class 'pandas.core.frame.DataFrame'>\n",
            "RangeIndex: 16798783 entries, 0 to 16798782\n",
            "Data columns (total 23 columns):\n",
            " #   Column                             Dtype  \n",
            "---  ------                             -----  \n",
            " 0   salton_for_outcoming               float32\n",
            " 1   salton_for_incoming                float32\n",
            " 2   source_indegree                    uint16 \n",
            " 3   destination_outdegree              uint16 \n",
            " 4   outcoming_intersection             uint16 \n",
            " 5   incoming_intersection              uint16 \n",
            " 6   jaccard_for_outcoming              float32\n",
            " 7   jaccard_for_incoming               float32\n",
            " 8   sorensen_for_outcoming             float32\n",
            " 9   sorensen_for_incoming              float32\n",
            " 10  outcoming_preferential_attachment  int32  \n",
            " 11  incoming_preferential_attachment   int32  \n",
            " 12  adamic_adar                        float32\n",
            " 13  outcoming_hup_promoted             float32\n",
            " 14  incoming_hup_promoted              float32\n",
            " 15  outcoming_hup_depressed            float32\n",
            " 16  incoming_hup_depressed             float32\n",
            " 17  outcoming_leicht                   float32\n",
            " 18  incoming_leicht                    float32\n",
            " 19  car_index                          float32\n",
            " 20  individual_attraction              float32\n",
            " 21  out_func_sim_weight                float32\n",
            " 22  in_func_sim_weight                 float32\n",
            "dtypes: float32(17), int32(2), uint16(4)\n",
            "memory usage: 1.3 GB\n",
            "None\n"
          ]
        }
      ]
    },
    {
      "cell_type": "code",
      "source": [
        "print(\"The Shape of x_train_1 before reformattring =\", x_train_1.shape)\n",
        "print(\"The Shape of x_train_1 after reformattring = \", x_train_1_new.shape)"
      ],
      "metadata": {
        "id": "-nAqKSDgQZ5Y",
        "colab": {
          "base_uri": "https://localhost:8080/"
        },
        "outputId": "ef7c886f-0ec9-450e-ff99-b2d5b05d85b3"
      },
      "execution_count": 16,
      "outputs": [
        {
          "output_type": "stream",
          "name": "stdout",
          "text": [
            "The Shape of x_train_1 before reformattring = (16798783, 23)\n",
            "The Shape of x_train_1 after reformattring =  (16798783, 23)\n"
          ]
        }
      ]
    },
    {
      "cell_type": "code",
      "execution_count": 17,
      "metadata": {
        "id": "qKxvxSlxpUpH"
      },
      "outputs": [],
      "source": [
        "x_train_1_new.to_csv(\"Data/x_train_1.csv\", index = False)"
      ]
    },
    {
      "cell_type": "code",
      "execution_count": 14,
      "metadata": {
        "id": "yTu5mPUpo4N_"
      },
      "outputs": [],
      "source": [
        "x_train_2 = pd.read_csv(\"Data/x_train_2.csv\")"
      ]
    },
    {
      "cell_type": "code",
      "source": [
        "print(x_train_2.info())"
      ],
      "metadata": {
        "colab": {
          "base_uri": "https://localhost:8080/"
        },
        "id": "8EwDq_zqQddy",
        "outputId": "febb3cff-b06e-4dc6-82ed-afbb8e4851fb"
      },
      "execution_count": 15,
      "outputs": [
        {
          "output_type": "stream",
          "name": "stdout",
          "text": [
            "<class 'pandas.core.frame.DataFrame'>\n",
            "RangeIndex: 16798783 entries, 0 to 16798782\n",
            "Data columns (total 7 columns):\n",
            " #   Column                   Dtype  \n",
            "---  ------                   -----  \n",
            " 0   source_katz              float64\n",
            " 1   source_rank              float64\n",
            " 2   destination_rank         float64\n",
            " 3   source_random_walk       float64\n",
            " 4   destination_random_walk  float64\n",
            " 5   racn                     float64\n",
            " 6   destination_katz         float64\n",
            "dtypes: float64(7)\n",
            "memory usage: 897.2 MB\n",
            "None\n"
          ]
        }
      ]
    },
    {
      "cell_type": "code",
      "source": [
        "x_train_2_new = x_train_2.copy()"
      ],
      "metadata": {
        "id": "OlGV6PIoOsly"
      },
      "execution_count": 16,
      "outputs": []
    },
    {
      "cell_type": "code",
      "source": [
        "x_train_2_new = reduce_mem_usage(x_train_2_new)"
      ],
      "metadata": {
        "colab": {
          "base_uri": "https://localhost:8080/"
        },
        "id": "Ns_kNaoQuAvT",
        "outputId": "b2223a1e-2b23-454a-dc37-376994ba1569"
      },
      "execution_count": 17,
      "outputs": [
        {
          "output_type": "stream",
          "name": "stdout",
          "text": [
            "Memory usage of dataframe is 897.15 MB\n"
          ]
        },
        {
          "output_type": "stream",
          "name": "stderr",
          "text": [
            "100%|██████████| 7/7 [00:03<00:00,  2.09it/s]"
          ]
        },
        {
          "output_type": "stream",
          "name": "stdout",
          "text": [
            "\n",
            "Memory usage after optimization is: 448.576 MB\n",
            "Decreased by 50.0%\n"
          ]
        },
        {
          "output_type": "stream",
          "name": "stderr",
          "text": [
            "\n"
          ]
        }
      ]
    },
    {
      "cell_type": "code",
      "execution_count": 18,
      "metadata": {
        "id": "Bqy7Eexap-iD",
        "colab": {
          "base_uri": "https://localhost:8080/"
        },
        "outputId": "a4282502-3fea-4036-d8b4-821e2269fcc4"
      },
      "outputs": [
        {
          "output_type": "stream",
          "name": "stdout",
          "text": [
            "diffrence in term of source_katz = 8.573564936348028e-06\n",
            "diffrence in term of source_rank = 0.00046970723161023943\n",
            "diffrence in term of destination_rank = 0.00047594485565226677\n",
            "diffrence in term of source_random_walk = 0.0028127744998771437\n",
            "diffrence in term of destination_random_walk = 0.002511604875506432\n",
            "diffrence in term of racn = 0.0005509681197164446\n",
            "diffrence in term of destination_katz = 6.894042813918554e-06\n"
          ]
        }
      ],
      "source": [
        "for i in x_train_2.columns:\n",
        "  print(\"diffrence in term of\", i, \"=\", np.abs(np.sum(x_train_2[i] - x_train_2_new[i])))"
      ]
    },
    {
      "cell_type": "code",
      "source": [
        "print(x_train_2_new.info())"
      ],
      "metadata": {
        "colab": {
          "base_uri": "https://localhost:8080/"
        },
        "id": "ofaDUNOPQja9",
        "outputId": "e597d6fa-94dc-4c18-c8dd-304ce0c67b98"
      },
      "execution_count": 19,
      "outputs": [
        {
          "output_type": "stream",
          "name": "stdout",
          "text": [
            "<class 'pandas.core.frame.DataFrame'>\n",
            "RangeIndex: 16798783 entries, 0 to 16798782\n",
            "Data columns (total 7 columns):\n",
            " #   Column                   Dtype  \n",
            "---  ------                   -----  \n",
            " 0   source_katz              float32\n",
            " 1   source_rank              float32\n",
            " 2   destination_rank         float32\n",
            " 3   source_random_walk       float32\n",
            " 4   destination_random_walk  float32\n",
            " 5   racn                     float32\n",
            " 6   destination_katz         float32\n",
            "dtypes: float32(7)\n",
            "memory usage: 448.6 MB\n",
            "None\n"
          ]
        }
      ]
    },
    {
      "cell_type": "code",
      "source": [
        "print(\"The Shape of x_train_2 before reformattring =\", x_train_2.shape)\n",
        "print(\"The Shape of x_train_2 after reformattring = \", x_train_2_new.shape)"
      ],
      "metadata": {
        "colab": {
          "base_uri": "https://localhost:8080/"
        },
        "id": "beP3XUpYvOEe",
        "outputId": "98cc8ba4-cfc7-4742-819e-ba5f3aa6414d"
      },
      "execution_count": 20,
      "outputs": [
        {
          "output_type": "stream",
          "name": "stdout",
          "text": [
            "The Shape of x_train_2 before reformattring = (16798783, 7)\n",
            "The Shape of x_train_2 after reformattring =  (16798783, 7)\n"
          ]
        }
      ]
    },
    {
      "cell_type": "code",
      "execution_count": 21,
      "metadata": {
        "id": "2F9whALbqA3A"
      },
      "outputs": [],
      "source": [
        "x_train_2_new.to_csv(\"Data/x_train_2.csv\", index = False)"
      ]
    },
    {
      "cell_type": "code",
      "execution_count": 22,
      "metadata": {
        "id": "5RfJVcqSoqjs"
      },
      "outputs": [],
      "source": [
        "x_train_3 = pd.read_csv(\"Data/x_train_3.csv\")"
      ]
    },
    {
      "cell_type": "code",
      "source": [
        "print(x_train_3.info())"
      ],
      "metadata": {
        "colab": {
          "base_uri": "https://localhost:8080/"
        },
        "id": "g4_OBD2xQrBh",
        "outputId": "a47fb2aa-dbe6-4cc1-ea09-ce8b4beae20e"
      },
      "execution_count": 23,
      "outputs": [
        {
          "output_type": "stream",
          "name": "stdout",
          "text": [
            "<class 'pandas.core.frame.DataFrame'>\n",
            "RangeIndex: 16798783 entries, 0 to 16798782\n",
            "Data columns (total 7 columns):\n",
            " #   Column                 Dtype  \n",
            "---  ------                 -----  \n",
            " 0   shortest_path_length   int64  \n",
            " 1   same_community         int64  \n",
            " 2   mutual_following       int64  \n",
            " 3   source_weight_out      float64\n",
            " 4   destination_weight_in  float64\n",
            " 5   weight_multiplication  float64\n",
            " 6   weight_addition        float64\n",
            "dtypes: float64(4), int64(3)\n",
            "memory usage: 897.2 MB\n",
            "None\n"
          ]
        }
      ]
    },
    {
      "cell_type": "code",
      "source": [
        "x_train_3_new = x_train_3.copy()"
      ],
      "metadata": {
        "id": "An_s1yOVQVgH"
      },
      "execution_count": 24,
      "outputs": []
    },
    {
      "cell_type": "code",
      "execution_count": 25,
      "metadata": {
        "id": "5cM9f0RJor6b",
        "colab": {
          "base_uri": "https://localhost:8080/"
        },
        "outputId": "e1d643cc-0d37-4186-bdf7-6d58aaf37787"
      },
      "outputs": [
        {
          "output_type": "stream",
          "name": "stdout",
          "text": [
            "Memory usage of dataframe is 897.15 MB\n"
          ]
        },
        {
          "output_type": "stream",
          "name": "stderr",
          "text": [
            "100%|██████████| 7/7 [00:01<00:00,  5.71it/s]\n"
          ]
        },
        {
          "output_type": "stream",
          "name": "stdout",
          "text": [
            "\n",
            "Memory usage after optimization is: 304.391 MB\n",
            "Decreased by 66.1%\n"
          ]
        }
      ],
      "source": [
        "x_train_3_new = reduce_mem_usage(x_train_3_new)"
      ]
    },
    {
      "cell_type": "code",
      "execution_count": 26,
      "metadata": {
        "id": "I-ueRQq2qHvY",
        "colab": {
          "base_uri": "https://localhost:8080/"
        },
        "outputId": "76f86aa0-9761-4fc7-eec5-a6c1fe479c11"
      },
      "outputs": [
        {
          "output_type": "stream",
          "name": "stdout",
          "text": [
            "diffrence in term of shortest_path_length = 0\n",
            "diffrence in term of same_community = 0\n",
            "diffrence in term of mutual_following = 0\n",
            "diffrence in term of source_weight_out = 0.04939325598161893\n",
            "diffrence in term of destination_weight_in = 0.057083435447945134\n",
            "diffrence in term of weight_multiplication = 0.0019168762941958058\n",
            "diffrence in term of weight_addition = 0.05208996932512128\n"
          ]
        }
      ],
      "source": [
        "for i in x_train_3.columns:\n",
        "  print(\"diffrence in term of\", i, \"=\", np.abs(np.sum(x_train_3[i] - x_train_3_new[i])))"
      ]
    },
    {
      "cell_type": "code",
      "source": [
        "print(x_train_3_new.info())"
      ],
      "metadata": {
        "colab": {
          "base_uri": "https://localhost:8080/"
        },
        "id": "m17sfa9rQx0F",
        "outputId": "d2510ab3-e2dd-4121-8fbc-75b185e66b1b"
      },
      "execution_count": 27,
      "outputs": [
        {
          "output_type": "stream",
          "name": "stdout",
          "text": [
            "<class 'pandas.core.frame.DataFrame'>\n",
            "RangeIndex: 16798783 entries, 0 to 16798782\n",
            "Data columns (total 7 columns):\n",
            " #   Column                 Dtype  \n",
            "---  ------                 -----  \n",
            " 0   shortest_path_length   int8   \n",
            " 1   same_community         int8   \n",
            " 2   mutual_following       int8   \n",
            " 3   source_weight_out      float32\n",
            " 4   destination_weight_in  float32\n",
            " 5   weight_multiplication  float32\n",
            " 6   weight_addition        float32\n",
            "dtypes: float32(4), int8(3)\n",
            "memory usage: 304.4 MB\n",
            "None\n"
          ]
        }
      ]
    },
    {
      "cell_type": "code",
      "source": [
        "print(\"The Shape of x_train_2 before reformattring =\", x_train_3.shape)\n",
        "print(\"The Shape of x_train_2 after reformattring = \", x_train_3_new.shape)"
      ],
      "metadata": {
        "colab": {
          "base_uri": "https://localhost:8080/"
        },
        "id": "5aIPP9osu1eC",
        "outputId": "f760662f-32e9-4f26-c0e4-e389f14a087e"
      },
      "execution_count": 28,
      "outputs": [
        {
          "output_type": "stream",
          "name": "stdout",
          "text": [
            "The Shape of x_train_2 before reformattring = (16798783, 7)\n",
            "The Shape of x_train_2 after reformattring =  (16798783, 7)\n"
          ]
        }
      ]
    },
    {
      "cell_type": "code",
      "execution_count": 29,
      "metadata": {
        "id": "b4Pey7cgqIHM"
      },
      "outputs": [],
      "source": [
        "x_train_3_new.to_csv(\"Data/x_train_3.csv\", index = False)"
      ]
    },
    {
      "cell_type": "markdown",
      "metadata": {
        "id": "1cO3zCszBov7"
      },
      "source": [
        "### Reformate Test Data"
      ]
    },
    {
      "cell_type": "code",
      "execution_count": 18,
      "metadata": {
        "id": "RrcgLj8HBowQ"
      },
      "outputs": [],
      "source": [
        "x_test_1 = pd.read_csv(\"Data/x_test_1.csv\")"
      ]
    },
    {
      "cell_type": "code",
      "source": [
        "x_test_1.drop([\"source_node\", \"destination_node\", \"label\"], axis = 1, inplace = True)\n",
        "x_test_1.drop([\"source_outdegree\", \"destination_indegree\"], axis = 1, inplace = True)"
      ],
      "metadata": {
        "id": "T3Oi52UyCUXv"
      },
      "execution_count": 19,
      "outputs": []
    },
    {
      "cell_type": "code",
      "source": [
        "x_test_1.info()"
      ],
      "metadata": {
        "colab": {
          "base_uri": "https://localhost:8080/"
        },
        "outputId": "5e398e4c-f23a-4651-8fb9-201155dc39b5",
        "id": "H48wukCqBowR"
      },
      "execution_count": 20,
      "outputs": [
        {
          "output_type": "stream",
          "name": "stdout",
          "text": [
            "<class 'pandas.core.frame.DataFrame'>\n",
            "RangeIndex: 1567572 entries, 0 to 1567571\n",
            "Data columns (total 23 columns):\n",
            " #   Column                             Non-Null Count    Dtype  \n",
            "---  ------                             --------------    -----  \n",
            " 0   salton_for_outcoming               1567572 non-null  float64\n",
            " 1   salton_for_incoming                1567572 non-null  float64\n",
            " 2   source_indegree                    1567572 non-null  int64  \n",
            " 3   destination_outdegree              1567572 non-null  int64  \n",
            " 4   outcoming_intersection             1567572 non-null  int64  \n",
            " 5   incoming_intersection              1567572 non-null  int64  \n",
            " 6   jaccard_for_outcoming              1567572 non-null  float64\n",
            " 7   jaccard_for_incoming               1567572 non-null  float64\n",
            " 8   sorensen_for_outcoming             1567572 non-null  float64\n",
            " 9   sorensen_for_incoming              1567572 non-null  float64\n",
            " 10  outcoming_preferential_attachment  1567572 non-null  int64  \n",
            " 11  incoming_preferential_attachment   1567572 non-null  int64  \n",
            " 12  adamic_adar                        1567572 non-null  float64\n",
            " 13  outcoming_hup_promoted             1567572 non-null  float64\n",
            " 14  incoming_hup_promoted              1567572 non-null  float64\n",
            " 15  outcoming_hup_depressed            1567572 non-null  float64\n",
            " 16  incoming_hup_depressed             1567572 non-null  float64\n",
            " 17  outcoming_leicht                   1567572 non-null  float64\n",
            " 18  incoming_leicht                    1567572 non-null  float64\n",
            " 19  car_index                          1567572 non-null  float64\n",
            " 20  individual_attraction              1567572 non-null  float64\n",
            " 21  out_func_sim_weight                1567572 non-null  float64\n",
            " 22  in_func_sim_weight                 1567572 non-null  float64\n",
            "dtypes: float64(17), int64(6)\n",
            "memory usage: 275.1 MB\n"
          ]
        }
      ]
    },
    {
      "cell_type": "code",
      "execution_count": 21,
      "metadata": {
        "id": "V_eQ1ciGBowT"
      },
      "outputs": [],
      "source": [
        "x_test_1_new = x_test_1.copy()"
      ]
    },
    {
      "cell_type": "code",
      "source": [
        "cols = [\"source_indegree\", \"destination_outdegree\", \\\n",
        "        \"outcoming_intersection\", \"incoming_intersection\"]\n",
        "x_test_1_new = reduce_mem_usage(x_test_1_new, subset = cols)"
      ],
      "metadata": {
        "colab": {
          "base_uri": "https://localhost:8080/"
        },
        "outputId": "40b44e50-e933-4f81-e032-acb355a27e00",
        "id": "vq2_foO5BowT"
      },
      "execution_count": 22,
      "outputs": [
        {
          "output_type": "stream",
          "name": "stdout",
          "text": [
            "Memory usage of dataframe is 275.07 MB\n"
          ]
        },
        {
          "output_type": "stream",
          "name": "stderr",
          "text": [
            "100%|██████████| 23/23 [00:01<00:00, 11.79it/s]\n"
          ]
        },
        {
          "output_type": "stream",
          "name": "stdout",
          "text": [
            "\n",
            "Memory usage after optimization is: 125.576 MB\n",
            "Decreased by 54.3%\n"
          ]
        }
      ]
    },
    {
      "cell_type": "code",
      "execution_count": 23,
      "metadata": {
        "colab": {
          "base_uri": "https://localhost:8080/"
        },
        "outputId": "f5c97b0f-0f62-4366-ac31-d73e79ea0a0d",
        "id": "XVGmoIYDBowU"
      },
      "outputs": [
        {
          "output_type": "stream",
          "name": "stdout",
          "text": [
            "diffrence in term of salton_for_outcoming = 0.0025163076529407455\n",
            "diffrence in term of salton_for_incoming = 0.0026998399453208284\n",
            "diffrence in term of source_indegree = 0\n",
            "diffrence in term of destination_outdegree = 0\n",
            "diffrence in term of outcoming_intersection = 0\n",
            "diffrence in term of incoming_intersection = 0\n",
            "diffrence in term of jaccard_for_outcoming = 0.0016133665586850604\n",
            "diffrence in term of jaccard_for_incoming = 0.0017152857774151205\n",
            "diffrence in term of sorensen_for_outcoming = 0.0012320133053812527\n",
            "diffrence in term of sorensen_for_incoming = 0.0013169595609730067\n",
            "diffrence in term of outcoming_preferential_attachment = 0\n",
            "diffrence in term of incoming_preferential_attachment = 0\n",
            "diffrence in term of adamic_adar = 0.04985121611439958\n",
            "diffrence in term of outcoming_hup_promoted = 0.002623304883788916\n",
            "diffrence in term of incoming_hup_promoted = 0.0027849719021239734\n",
            "diffrence in term of outcoming_hup_depressed = 0.0019115864635968246\n",
            "diffrence in term of incoming_hup_depressed = 0.0020140749494565124\n",
            "diffrence in term of outcoming_leicht = 0.0003043049187991818\n",
            "diffrence in term of incoming_leicht = 0.00033568207295763333\n",
            "diffrence in term of car_index = 0.0\n",
            "diffrence in term of individual_attraction = 0.0039138014429130315\n",
            "diffrence in term of out_func_sim_weight = 0.005692586739519095\n",
            "diffrence in term of in_func_sim_weight = 0.006298125719079797\n"
          ]
        }
      ],
      "source": [
        "for i in x_test_1_new.columns:\n",
        "  print(\"diffrence in term of\", i, \"=\", np.sum(np.abs(x_test_1[i] - x_test_1_new[i])))"
      ]
    },
    {
      "cell_type": "code",
      "source": [
        "print(x_test_1_new.info())"
      ],
      "metadata": {
        "colab": {
          "base_uri": "https://localhost:8080/"
        },
        "outputId": "afe569f9-8bff-4e73-f8e8-f7a7edf861ab",
        "id": "KiolmQKrBowV"
      },
      "execution_count": 24,
      "outputs": [
        {
          "output_type": "stream",
          "name": "stdout",
          "text": [
            "<class 'pandas.core.frame.DataFrame'>\n",
            "RangeIndex: 1567572 entries, 0 to 1567571\n",
            "Data columns (total 23 columns):\n",
            " #   Column                             Non-Null Count    Dtype  \n",
            "---  ------                             --------------    -----  \n",
            " 0   salton_for_outcoming               1567572 non-null  float32\n",
            " 1   salton_for_incoming                1567572 non-null  float32\n",
            " 2   source_indegree                    1567572 non-null  uint16 \n",
            " 3   destination_outdegree              1567572 non-null  uint16 \n",
            " 4   outcoming_intersection             1567572 non-null  uint16 \n",
            " 5   incoming_intersection              1567572 non-null  uint16 \n",
            " 6   jaccard_for_outcoming              1567572 non-null  float32\n",
            " 7   jaccard_for_incoming               1567572 non-null  float32\n",
            " 8   sorensen_for_outcoming             1567572 non-null  float32\n",
            " 9   sorensen_for_incoming              1567572 non-null  float32\n",
            " 10  outcoming_preferential_attachment  1567572 non-null  int32  \n",
            " 11  incoming_preferential_attachment   1567572 non-null  int32  \n",
            " 12  adamic_adar                        1567572 non-null  float32\n",
            " 13  outcoming_hup_promoted             1567572 non-null  float32\n",
            " 14  incoming_hup_promoted              1567572 non-null  float32\n",
            " 15  outcoming_hup_depressed            1567572 non-null  float32\n",
            " 16  incoming_hup_depressed             1567572 non-null  float32\n",
            " 17  outcoming_leicht                   1567572 non-null  float32\n",
            " 18  incoming_leicht                    1567572 non-null  float32\n",
            " 19  car_index                          1567572 non-null  float32\n",
            " 20  individual_attraction              1567572 non-null  float32\n",
            " 21  out_func_sim_weight                1567572 non-null  float32\n",
            " 22  in_func_sim_weight                 1567572 non-null  float32\n",
            "dtypes: float32(17), int32(2), uint16(4)\n",
            "memory usage: 125.6 MB\n",
            "None\n"
          ]
        }
      ]
    },
    {
      "cell_type": "code",
      "execution_count": 25,
      "metadata": {
        "id": "ZuGE1jD3BowW"
      },
      "outputs": [],
      "source": [
        "x_test_1_new.to_csv(\"Data/x_test_1.csv\", index = False)"
      ]
    },
    {
      "cell_type": "code",
      "source": [
        "print(\"The Shape of x_test_1 before before reformattring =\", x_test_1.shape)\n",
        "print(\"The Shape of x_test_1 after reformattring = \", x_test_1_new.shape)"
      ],
      "metadata": {
        "colab": {
          "base_uri": "https://localhost:8080/"
        },
        "id": "68SDar6oEVpA",
        "outputId": "4f512d38-5470-499e-cded-a45495df04f8"
      },
      "execution_count": 26,
      "outputs": [
        {
          "output_type": "stream",
          "name": "stdout",
          "text": [
            "The Shape of x_test_1 before before reformattring = (1567572, 23)\n",
            "The Shape of x_test_1 after reformattring =  (1567572, 23)\n"
          ]
        }
      ]
    },
    {
      "cell_type": "code",
      "execution_count": 27,
      "metadata": {
        "id": "xw5GWuCZBowW"
      },
      "outputs": [],
      "source": [
        "x_test_2 = pd.read_csv(\"Data/x_test_2.csv\")"
      ]
    },
    {
      "cell_type": "code",
      "source": [
        "print(x_test_2.info())"
      ],
      "metadata": {
        "colab": {
          "base_uri": "https://localhost:8080/"
        },
        "outputId": "81787d31-797d-473b-febe-913f242ddf58",
        "id": "Jlhlh5M2BowX"
      },
      "execution_count": 28,
      "outputs": [
        {
          "output_type": "stream",
          "name": "stdout",
          "text": [
            "<class 'pandas.core.frame.DataFrame'>\n",
            "RangeIndex: 1567572 entries, 0 to 1567571\n",
            "Data columns (total 7 columns):\n",
            " #   Column                   Non-Null Count    Dtype  \n",
            "---  ------                   --------------    -----  \n",
            " 0   source_katz              1567572 non-null  float64\n",
            " 1   source_rank              1567572 non-null  float64\n",
            " 2   destination_rank         1567572 non-null  float64\n",
            " 3   source_random_walk       1567572 non-null  float64\n",
            " 4   destination_random_walk  1567572 non-null  float64\n",
            " 5   racn                     1567572 non-null  float64\n",
            " 6   destination_katz         1567572 non-null  float64\n",
            "dtypes: float64(7)\n",
            "memory usage: 83.7 MB\n",
            "None\n"
          ]
        }
      ]
    },
    {
      "cell_type": "code",
      "source": [
        "x_test_2_new = x_test_2.copy()"
      ],
      "metadata": {
        "id": "4zO5Ec9WBowj"
      },
      "execution_count": 29,
      "outputs": []
    },
    {
      "cell_type": "code",
      "source": [
        "x_test_2_new = reduce_mem_usage(x_test_2_new)"
      ],
      "metadata": {
        "colab": {
          "base_uri": "https://localhost:8080/"
        },
        "outputId": "f23fddb9-c640-48cc-da96-b4c324b7b12d",
        "id": "4146QssfBowk"
      },
      "execution_count": 30,
      "outputs": [
        {
          "output_type": "stream",
          "name": "stdout",
          "text": [
            "Memory usage of dataframe is 83.72 MB\n"
          ]
        },
        {
          "output_type": "stream",
          "name": "stderr",
          "text": [
            "100%|██████████| 7/7 [00:00<00:00, 26.36it/s]\n"
          ]
        },
        {
          "output_type": "stream",
          "name": "stdout",
          "text": [
            "\n",
            "Memory usage after optimization is: 41.859 MB\n",
            "Decreased by 50.0%\n"
          ]
        }
      ]
    },
    {
      "cell_type": "code",
      "execution_count": 31,
      "metadata": {
        "colab": {
          "base_uri": "https://localhost:8080/"
        },
        "outputId": "4d37a671-ff16-41ae-8b08-36a970e25fc8",
        "id": "ZV_xwP9yBowl"
      },
      "outputs": [
        {
          "output_type": "stream",
          "name": "stdout",
          "text": [
            "diffrence in term of source_katz = 5.486643307455342e-07\n",
            "diffrence in term of source_rank = 4.683450395564538e-05\n",
            "diffrence in term of destination_rank = 4.95783926662708e-05\n",
            "diffrence in term of source_random_walk = 0.00022982041179776813\n",
            "diffrence in term of destination_random_walk = 0.00023456575222811915\n",
            "diffrence in term of racn = 8.688801447223228e-05\n",
            "diffrence in term of destination_katz = 6.311242697911411e-07\n"
          ]
        }
      ],
      "source": [
        "for i in x_test_2.columns:\n",
        "  print(\"diffrence in term of\", i, \"=\", np.abs(np.sum(x_test_2[i] - x_test_2_new[i])))"
      ]
    },
    {
      "cell_type": "code",
      "source": [
        "print(x_test_2_new.info())"
      ],
      "metadata": {
        "colab": {
          "base_uri": "https://localhost:8080/"
        },
        "outputId": "58f2733d-e83e-4e41-a753-baf4d15a9885",
        "id": "iuN6OscOBowm"
      },
      "execution_count": 32,
      "outputs": [
        {
          "output_type": "stream",
          "name": "stdout",
          "text": [
            "<class 'pandas.core.frame.DataFrame'>\n",
            "RangeIndex: 1567572 entries, 0 to 1567571\n",
            "Data columns (total 7 columns):\n",
            " #   Column                   Non-Null Count    Dtype  \n",
            "---  ------                   --------------    -----  \n",
            " 0   source_katz              1567572 non-null  float32\n",
            " 1   source_rank              1567572 non-null  float32\n",
            " 2   destination_rank         1567572 non-null  float32\n",
            " 3   source_random_walk       1567572 non-null  float32\n",
            " 4   destination_random_walk  1567572 non-null  float32\n",
            " 5   racn                     1567572 non-null  float32\n",
            " 6   destination_katz         1567572 non-null  float32\n",
            "dtypes: float32(7)\n",
            "memory usage: 41.9 MB\n",
            "None\n"
          ]
        }
      ]
    },
    {
      "cell_type": "code",
      "execution_count": 33,
      "metadata": {
        "id": "jabtjWnkBowm"
      },
      "outputs": [],
      "source": [
        "x_test_2_new.to_csv(\"Data/x_test_2.csv\", index = False)"
      ]
    },
    {
      "cell_type": "code",
      "source": [
        "print(\"The Shape of x_test_2 before reformattring =\", x_test_2.shape)\n",
        "print(\"The Shape of x_test_2 after reformattring = \", x_test_2_new.shape)"
      ],
      "metadata": {
        "colab": {
          "base_uri": "https://localhost:8080/"
        },
        "outputId": "55bd7127-1b5c-4603-8d06-1678d7d57bd8",
        "id": "7x_Plu_BBown"
      },
      "execution_count": 34,
      "outputs": [
        {
          "output_type": "stream",
          "name": "stdout",
          "text": [
            "The Shape of x_test_2 before reformattring = (1567572, 7)\n",
            "The Shape of x_test_2 after reformattring =  (1567572, 7)\n"
          ]
        }
      ]
    },
    {
      "cell_type": "code",
      "execution_count": 35,
      "metadata": {
        "id": "Z4yTOeYZBowo"
      },
      "outputs": [],
      "source": [
        "x_test_3 = pd.read_csv(\"Data/x_test_3.csv\")"
      ]
    },
    {
      "cell_type": "code",
      "source": [
        "x_test_3.drop([\"source_node\", \"destination_node\", \"label\"], axis = 1, inplace = True)"
      ],
      "metadata": {
        "id": "ghBIloGDE5wo"
      },
      "execution_count": 36,
      "outputs": []
    },
    {
      "cell_type": "code",
      "source": [
        "print(x_test_3.info())"
      ],
      "metadata": {
        "colab": {
          "base_uri": "https://localhost:8080/"
        },
        "outputId": "7d39bfe7-5fe8-4bc5-9bf4-8d6af4291d29",
        "id": "8qifrTm8Bowp"
      },
      "execution_count": 37,
      "outputs": [
        {
          "output_type": "stream",
          "name": "stdout",
          "text": [
            "<class 'pandas.core.frame.DataFrame'>\n",
            "RangeIndex: 1567572 entries, 0 to 1567571\n",
            "Data columns (total 7 columns):\n",
            " #   Column                 Non-Null Count    Dtype  \n",
            "---  ------                 --------------    -----  \n",
            " 0   shortest_path_length   1567572 non-null  int64  \n",
            " 1   same_community         1567572 non-null  int64  \n",
            " 2   mutual_following       1567572 non-null  int64  \n",
            " 3   source_weight_out      1567572 non-null  float64\n",
            " 4   destination_weight_in  1567572 non-null  float64\n",
            " 5   weight_multiplication  1567572 non-null  float64\n",
            " 6   weight_addition        1567572 non-null  float64\n",
            "dtypes: float64(4), int64(3)\n",
            "memory usage: 83.7 MB\n",
            "None\n"
          ]
        }
      ]
    },
    {
      "cell_type": "code",
      "source": [
        "x_test_3_new = x_test_3.copy()"
      ],
      "metadata": {
        "id": "epvLOso3Bowt"
      },
      "execution_count": 38,
      "outputs": []
    },
    {
      "cell_type": "code",
      "execution_count": 39,
      "metadata": {
        "colab": {
          "base_uri": "https://localhost:8080/"
        },
        "outputId": "bbce5809-aa04-4d99-f5f9-b658b603a530",
        "id": "Jp-jPAutBowu"
      },
      "outputs": [
        {
          "output_type": "stream",
          "name": "stdout",
          "text": [
            "Memory usage of dataframe is 83.72 MB\n"
          ]
        },
        {
          "output_type": "stream",
          "name": "stderr",
          "text": [
            "100%|██████████| 7/7 [00:00<00:00, 53.64it/s]\n"
          ]
        },
        {
          "output_type": "stream",
          "name": "stdout",
          "text": [
            "\n",
            "Memory usage after optimization is: 28.404 MB\n",
            "Decreased by 66.1%\n"
          ]
        }
      ],
      "source": [
        "x_test_3_new = reduce_mem_usage(x_test_3_new)"
      ]
    },
    {
      "cell_type": "code",
      "execution_count": 40,
      "metadata": {
        "colab": {
          "base_uri": "https://localhost:8080/"
        },
        "outputId": "c93847c4-0b24-4803-89b9-fcc011384481",
        "id": "At_haVUfBowv"
      },
      "outputs": [
        {
          "output_type": "stream",
          "name": "stdout",
          "text": [
            "diffrence in term of shortest_path_length = 0\n",
            "diffrence in term of same_community = 0\n",
            "diffrence in term of mutual_following = 0\n",
            "diffrence in term of source_weight_out = 0.004449374613625184\n",
            "diffrence in term of destination_weight_in = 0.005392772407080665\n",
            "diffrence in term of weight_multiplication = 0.000370295045064194\n",
            "diffrence in term of weight_addition = 0.005515399447819785\n"
          ]
        }
      ],
      "source": [
        "for i in x_test_3.columns:\n",
        "  print(\"diffrence in term of\", i, \"=\", np.abs(np.sum(x_test_3[i] - x_test_3_new[i])))"
      ]
    },
    {
      "cell_type": "code",
      "source": [
        "print(x_test_3_new.info())"
      ],
      "metadata": {
        "colab": {
          "base_uri": "https://localhost:8080/"
        },
        "outputId": "7728fb0d-10c8-41ef-9b94-9b40cb913024",
        "id": "re8aamyyBowv"
      },
      "execution_count": 41,
      "outputs": [
        {
          "output_type": "stream",
          "name": "stdout",
          "text": [
            "<class 'pandas.core.frame.DataFrame'>\n",
            "RangeIndex: 1567572 entries, 0 to 1567571\n",
            "Data columns (total 7 columns):\n",
            " #   Column                 Non-Null Count    Dtype  \n",
            "---  ------                 --------------    -----  \n",
            " 0   shortest_path_length   1567572 non-null  int8   \n",
            " 1   same_community         1567572 non-null  int8   \n",
            " 2   mutual_following       1567572 non-null  int8   \n",
            " 3   source_weight_out      1567572 non-null  float32\n",
            " 4   destination_weight_in  1567572 non-null  float32\n",
            " 5   weight_multiplication  1567572 non-null  float32\n",
            " 6   weight_addition        1567572 non-null  float32\n",
            "dtypes: float32(4), int8(3)\n",
            "memory usage: 28.4 MB\n",
            "None\n"
          ]
        }
      ]
    },
    {
      "cell_type": "code",
      "source": [
        "print(\"The Shape of x_test_3 before reformattring =\", x_test_3_new.shape)\n",
        "print(\"The Shape of x_test_3 after reformattring = \", x_test_3_new.shape)"
      ],
      "metadata": {
        "colab": {
          "base_uri": "https://localhost:8080/"
        },
        "outputId": "50d49687-4f7a-45f0-a0ef-b9067cd9da0d",
        "id": "AzZo6F-KBoww"
      },
      "execution_count": 42,
      "outputs": [
        {
          "output_type": "stream",
          "name": "stdout",
          "text": [
            "The Shape of x_test_3 before reformattring = (1567572, 7)\n",
            "The Shape of x_test_3 after reformattring =  (1567572, 7)\n"
          ]
        }
      ]
    },
    {
      "cell_type": "code",
      "execution_count": 43,
      "metadata": {
        "id": "lkrpc6KKBoww"
      },
      "outputs": [],
      "source": [
        "x_test_3_new.to_csv(\"Data/x_test_3.csv\", index = False)"
      ]
    },
    {
      "cell_type": "markdown",
      "metadata": {
        "id": "Qs4dgukDBqwE"
      },
      "source": [
        "### Reformate Validation Data"
      ]
    },
    {
      "cell_type": "code",
      "execution_count": 44,
      "metadata": {
        "id": "GAoFbH9pBqwF"
      },
      "outputs": [],
      "source": [
        "x_valid_1 = pd.read_csv(\"Data/x_valid_1.csv\")"
      ]
    },
    {
      "cell_type": "code",
      "source": [
        "x_valid_1.drop([\"source_node\", \"destination_node\", \"label\"], axis = 1, inplace = True)\n",
        "x_valid_1.drop([\"source_outdegree\", \"destination_indegree\"], axis = 1, inplace = True)"
      ],
      "metadata": {
        "id": "Kzd12PDTKPUN"
      },
      "execution_count": 45,
      "outputs": []
    },
    {
      "cell_type": "code",
      "source": [
        "print(x_valid_1.info())"
      ],
      "metadata": {
        "colab": {
          "base_uri": "https://localhost:8080/"
        },
        "outputId": "b85c5bee-7ef7-44aa-b73a-b4bb12f415f0",
        "id": "jA1DR9HRBqwF"
      },
      "execution_count": 46,
      "outputs": [
        {
          "output_type": "stream",
          "name": "stdout",
          "text": [
            "<class 'pandas.core.frame.DataFrame'>\n",
            "RangeIndex: 508683 entries, 0 to 508682\n",
            "Data columns (total 23 columns):\n",
            " #   Column                             Non-Null Count   Dtype  \n",
            "---  ------                             --------------   -----  \n",
            " 0   salton_for_outcoming               508683 non-null  float64\n",
            " 1   salton_for_incoming                508683 non-null  float64\n",
            " 2   source_indegree                    508683 non-null  int64  \n",
            " 3   destination_outdegree              508683 non-null  int64  \n",
            " 4   outcoming_intersection             508683 non-null  int64  \n",
            " 5   incoming_intersection              508683 non-null  int64  \n",
            " 6   jaccard_for_outcoming              508683 non-null  float64\n",
            " 7   jaccard_for_incoming               508683 non-null  float64\n",
            " 8   sorensen_for_outcoming             508683 non-null  float64\n",
            " 9   sorensen_for_incoming              508683 non-null  float64\n",
            " 10  outcoming_preferential_attachment  508683 non-null  int64  \n",
            " 11  incoming_preferential_attachment   508683 non-null  int64  \n",
            " 12  adamic_adar                        508683 non-null  float64\n",
            " 13  outcoming_hup_promoted             508683 non-null  float64\n",
            " 14  incoming_hup_promoted              508683 non-null  float64\n",
            " 15  outcoming_hup_depressed            508683 non-null  float64\n",
            " 16  incoming_hup_depressed             508683 non-null  float64\n",
            " 17  outcoming_leicht                   508683 non-null  float64\n",
            " 18  incoming_leicht                    508683 non-null  float64\n",
            " 19  car_index                          508683 non-null  float64\n",
            " 20  individual_attraction              508683 non-null  float64\n",
            " 21  out_func_sim_weight                508683 non-null  float64\n",
            " 22  in_func_sim_weight                 508683 non-null  float64\n",
            "dtypes: float64(17), int64(6)\n",
            "memory usage: 89.3 MB\n",
            "None\n"
          ]
        }
      ]
    },
    {
      "cell_type": "code",
      "execution_count": 47,
      "metadata": {
        "id": "NQd_mlMCBqwG"
      },
      "outputs": [],
      "source": [
        "x_valid_1_new = x_valid_1.copy()"
      ]
    },
    {
      "cell_type": "code",
      "source": [
        "cols = [\"source_indegree\", \"destination_outdegree\", \\\n",
        "        \"outcoming_intersection\", \"incoming_intersection\"]\n",
        "x_valid_1_new = reduce_mem_usage(x_valid_1_new, subset = cols)"
      ],
      "metadata": {
        "colab": {
          "base_uri": "https://localhost:8080/"
        },
        "outputId": "ed2534ec-2d50-4861-9d12-dab236a9756a",
        "id": "NRBqHn3vBqwG"
      },
      "execution_count": 49,
      "outputs": [
        {
          "output_type": "stream",
          "name": "stdout",
          "text": [
            "Memory usage of dataframe is 87.32 MB\n"
          ]
        },
        {
          "output_type": "stream",
          "name": "stderr",
          "text": [
            "100%|██████████| 23/23 [00:00<00:00, 28.77it/s]\n"
          ]
        },
        {
          "output_type": "stream",
          "name": "stdout",
          "text": [
            "\n",
            "Memory usage after optimization is: 40.750 MB\n",
            "Decreased by 53.3%\n"
          ]
        }
      ]
    },
    {
      "cell_type": "code",
      "execution_count": 50,
      "metadata": {
        "colab": {
          "base_uri": "https://localhost:8080/"
        },
        "outputId": "d002a744-2c84-4310-866c-4baa7a36dd96",
        "id": "Ij9VwGbXBqwH"
      },
      "outputs": [
        {
          "output_type": "stream",
          "name": "stdout",
          "text": [
            "diffrence in term of salton_for_outcoming = 0.000816529218713234\n",
            "diffrence in term of salton_for_incoming = 0.0008727327938192805\n",
            "diffrence in term of source_indegree = 0\n",
            "diffrence in term of destination_outdegree = 0\n",
            "diffrence in term of outcoming_intersection = 0\n",
            "diffrence in term of incoming_intersection = 0\n",
            "diffrence in term of jaccard_for_outcoming = 0.0005214801049962576\n",
            "diffrence in term of jaccard_for_incoming = 0.0005549221308467998\n",
            "diffrence in term of sorensen_for_outcoming = 0.00040160069298310276\n",
            "diffrence in term of sorensen_for_incoming = 0.0004261367912969569\n",
            "diffrence in term of outcoming_preferential_attachment = 0\n",
            "diffrence in term of incoming_preferential_attachment = 0\n",
            "diffrence in term of adamic_adar = 0.016215055728711292\n",
            "diffrence in term of outcoming_hup_promoted = 0.0008504966525199392\n",
            "diffrence in term of incoming_hup_promoted = 0.0009042828090734777\n",
            "diffrence in term of outcoming_hup_depressed = 0.0006187486923129541\n",
            "diffrence in term of incoming_hup_depressed = 0.000648077104459775\n",
            "diffrence in term of outcoming_leicht = 9.901659588835258e-05\n",
            "diffrence in term of incoming_leicht = 0.00010912672856491853\n",
            "diffrence in term of car_index = 0.0\n",
            "diffrence in term of individual_attraction = 0.0012693864367411146\n",
            "diffrence in term of out_func_sim_weight = 0.0018545860921849243\n",
            "diffrence in term of in_func_sim_weight = 0.0020453425409248226\n"
          ]
        }
      ],
      "source": [
        "for i in x_valid_1.columns:\n",
        "  print(\"diffrence in term of\", i, \"=\", np.sum(np.abs(x_valid_1[i] - x_valid_1_new[i])))"
      ]
    },
    {
      "cell_type": "code",
      "source": [
        "print(x_valid_1_new.info())"
      ],
      "metadata": {
        "colab": {
          "base_uri": "https://localhost:8080/"
        },
        "outputId": "210d81d0-4ebd-4560-8ee5-e0ff1e7d8274",
        "id": "6B-AERdGBqwI"
      },
      "execution_count": 51,
      "outputs": [
        {
          "output_type": "stream",
          "name": "stdout",
          "text": [
            "<class 'pandas.core.frame.DataFrame'>\n",
            "RangeIndex: 508683 entries, 0 to 508682\n",
            "Data columns (total 23 columns):\n",
            " #   Column                             Non-Null Count   Dtype  \n",
            "---  ------                             --------------   -----  \n",
            " 0   salton_for_outcoming               508683 non-null  float32\n",
            " 1   salton_for_incoming                508683 non-null  float32\n",
            " 2   source_indegree                    508683 non-null  uint16 \n",
            " 3   destination_outdegree              508683 non-null  uint16 \n",
            " 4   outcoming_intersection             508683 non-null  uint16 \n",
            " 5   incoming_intersection              508683 non-null  uint16 \n",
            " 6   jaccard_for_outcoming              508683 non-null  float32\n",
            " 7   jaccard_for_incoming               508683 non-null  float32\n",
            " 8   sorensen_for_outcoming             508683 non-null  float32\n",
            " 9   sorensen_for_incoming              508683 non-null  float32\n",
            " 10  outcoming_preferential_attachment  508683 non-null  int32  \n",
            " 11  incoming_preferential_attachment   508683 non-null  int32  \n",
            " 12  adamic_adar                        508683 non-null  float32\n",
            " 13  outcoming_hup_promoted             508683 non-null  float32\n",
            " 14  incoming_hup_promoted              508683 non-null  float32\n",
            " 15  outcoming_hup_depressed            508683 non-null  float32\n",
            " 16  incoming_hup_depressed             508683 non-null  float32\n",
            " 17  outcoming_leicht                   508683 non-null  float32\n",
            " 18  incoming_leicht                    508683 non-null  float32\n",
            " 19  car_index                          508683 non-null  float32\n",
            " 20  individual_attraction              508683 non-null  float32\n",
            " 21  out_func_sim_weight                508683 non-null  float32\n",
            " 22  in_func_sim_weight                 508683 non-null  float32\n",
            "dtypes: float32(17), int32(2), uint16(4)\n",
            "memory usage: 40.8 MB\n",
            "None\n"
          ]
        }
      ]
    },
    {
      "cell_type": "code",
      "source": [
        "print(\"The Shape of x_valid_1 before reformattring =\", x_valid_1.shape)\n",
        "print(\"The Shape of x_valid_1 after reformattring = \", x_valid_1_new.shape)"
      ],
      "metadata": {
        "colab": {
          "base_uri": "https://localhost:8080/"
        },
        "id": "RC4GirpHK3Jt",
        "outputId": "8170838f-0dd9-4584-f476-de08c8c13fe5"
      },
      "execution_count": 52,
      "outputs": [
        {
          "output_type": "stream",
          "name": "stdout",
          "text": [
            "The Shape of x_valid_1 before reformattring = (508683, 23)\n",
            "The Shape of x_valid_1 after reformattring =  (508683, 23)\n"
          ]
        }
      ]
    },
    {
      "cell_type": "code",
      "execution_count": 53,
      "metadata": {
        "id": "zQlHJXwTBqwI"
      },
      "outputs": [],
      "source": [
        "x_valid_1_new.to_csv(\"Data/x_valid_1.csv\", index = False)"
      ]
    },
    {
      "cell_type": "code",
      "execution_count": 54,
      "metadata": {
        "id": "s7x1s8CgBqwJ"
      },
      "outputs": [],
      "source": [
        "x_valid_2 = pd.read_csv(\"Data/x_valid_2.csv\")"
      ]
    },
    {
      "cell_type": "code",
      "source": [
        "print(x_valid_2.info())"
      ],
      "metadata": {
        "colab": {
          "base_uri": "https://localhost:8080/"
        },
        "outputId": "3641394a-a576-47fe-88c0-dfcbbb26f235",
        "id": "poxLrraiBqwJ"
      },
      "execution_count": 55,
      "outputs": [
        {
          "output_type": "stream",
          "name": "stdout",
          "text": [
            "<class 'pandas.core.frame.DataFrame'>\n",
            "RangeIndex: 508683 entries, 0 to 508682\n",
            "Data columns (total 7 columns):\n",
            " #   Column                   Non-Null Count   Dtype  \n",
            "---  ------                   --------------   -----  \n",
            " 0   source_katz              508683 non-null  float64\n",
            " 1   source_rank              508683 non-null  float64\n",
            " 2   destination_rank         508683 non-null  float64\n",
            " 3   source_random_walk       508683 non-null  float64\n",
            " 4   destination_random_walk  508683 non-null  float64\n",
            " 5   racn                     508683 non-null  float64\n",
            " 6   destination_katz         508683 non-null  float64\n",
            "dtypes: float64(7)\n",
            "memory usage: 27.2 MB\n",
            "None\n"
          ]
        }
      ]
    },
    {
      "cell_type": "code",
      "source": [
        "x_valid_2_new = x_valid_2.copy()"
      ],
      "metadata": {
        "id": "y89gcW1WBqwK"
      },
      "execution_count": 56,
      "outputs": []
    },
    {
      "cell_type": "code",
      "source": [
        "x_valid_2_new = reduce_mem_usage(x_valid_2_new)"
      ],
      "metadata": {
        "colab": {
          "base_uri": "https://localhost:8080/"
        },
        "outputId": "b21141b1-c9d0-4fd7-adfe-33a760aa54fa",
        "id": "am-cd8D-BqwK"
      },
      "execution_count": 57,
      "outputs": [
        {
          "output_type": "stream",
          "name": "stdout",
          "text": [
            "Memory usage of dataframe is 27.17 MB\n"
          ]
        },
        {
          "output_type": "stream",
          "name": "stderr",
          "text": [
            "100%|██████████| 7/7 [00:00<00:00, 100.75it/s]"
          ]
        },
        {
          "output_type": "stream",
          "name": "stdout",
          "text": [
            "\n",
            "Memory usage after optimization is: 13.583 MB\n",
            "Decreased by 50.0%\n"
          ]
        },
        {
          "output_type": "stream",
          "name": "stderr",
          "text": [
            "\n"
          ]
        }
      ]
    },
    {
      "cell_type": "code",
      "execution_count": 58,
      "metadata": {
        "colab": {
          "base_uri": "https://localhost:8080/"
        },
        "outputId": "6e8a244a-a0f3-4432-c88f-bbc0cde281de",
        "id": "IM0op3gABqwL"
      },
      "outputs": [
        {
          "output_type": "stream",
          "name": "stdout",
          "text": [
            "diffrence in term of source_katz = 1.8245570875831917e-07\n",
            "diffrence in term of source_rank = 1.4568408979905023e-05\n",
            "diffrence in term of destination_rank = 1.407679558804685e-05\n",
            "diffrence in term of source_random_walk = 9.280834028227436e-05\n",
            "diffrence in term of destination_random_walk = 8.49410066154771e-05\n",
            "diffrence in term of racn = 3.316205588670978e-05\n",
            "diffrence in term of destination_katz = 1.8609508967864542e-07\n"
          ]
        }
      ],
      "source": [
        "for i in x_valid_2.columns:\n",
        "  print(\"diffrence in term of\", i, \"=\", np.abs(np.sum(x_valid_2[i] - x_valid_2_new[i])))"
      ]
    },
    {
      "cell_type": "code",
      "source": [
        "print(x_valid_2_new.info())"
      ],
      "metadata": {
        "colab": {
          "base_uri": "https://localhost:8080/"
        },
        "outputId": "ccfed42a-7599-4317-e6ce-9e029694ba83",
        "id": "-4pL1aLOBqwL"
      },
      "execution_count": 59,
      "outputs": [
        {
          "output_type": "stream",
          "name": "stdout",
          "text": [
            "<class 'pandas.core.frame.DataFrame'>\n",
            "RangeIndex: 508683 entries, 0 to 508682\n",
            "Data columns (total 7 columns):\n",
            " #   Column                   Non-Null Count   Dtype  \n",
            "---  ------                   --------------   -----  \n",
            " 0   source_katz              508683 non-null  float32\n",
            " 1   source_rank              508683 non-null  float32\n",
            " 2   destination_rank         508683 non-null  float32\n",
            " 3   source_random_walk       508683 non-null  float32\n",
            " 4   destination_random_walk  508683 non-null  float32\n",
            " 5   racn                     508683 non-null  float32\n",
            " 6   destination_katz         508683 non-null  float32\n",
            "dtypes: float32(7)\n",
            "memory usage: 13.6 MB\n",
            "None\n"
          ]
        }
      ]
    },
    {
      "cell_type": "code",
      "source": [
        "print(\"The Shape of x_valid_2 before reformattring =\", x_valid_2.shape)\n",
        "print(\"The Shape of x_valid_2 after reformattring = \", x_valid_2_new.shape)"
      ],
      "metadata": {
        "colab": {
          "base_uri": "https://localhost:8080/"
        },
        "id": "mok8MRRSLQ0X",
        "outputId": "9f841e3a-5f1a-4fbb-ab6d-b3682a67e632"
      },
      "execution_count": 60,
      "outputs": [
        {
          "output_type": "stream",
          "name": "stdout",
          "text": [
            "The Shape of x_valid_2 before reformattring = (508683, 7)\n",
            "The Shape of x_valid_2 after reformattring =  (508683, 7)\n"
          ]
        }
      ]
    },
    {
      "cell_type": "code",
      "execution_count": 61,
      "metadata": {
        "id": "RN06tEy3BqwM"
      },
      "outputs": [],
      "source": [
        "x_valid_2_new.to_csv(\"Data/x_valid_2.csv\", index = False)"
      ]
    },
    {
      "cell_type": "code",
      "execution_count": 62,
      "metadata": {
        "id": "sB861-dVBqwN"
      },
      "outputs": [],
      "source": [
        "x_valid_3 = pd.read_csv(\"Data/x_valid_3.csv\")"
      ]
    },
    {
      "cell_type": "code",
      "source": [
        "x_valid_3.drop([\"source_node\", \"destination_node\", \"label\"], axis = 1, inplace = True)"
      ],
      "metadata": {
        "id": "M9OxeUfwLkps"
      },
      "execution_count": 63,
      "outputs": []
    },
    {
      "cell_type": "code",
      "source": [
        "print(x_valid_3.info())"
      ],
      "metadata": {
        "colab": {
          "base_uri": "https://localhost:8080/"
        },
        "outputId": "25fffa30-d8be-4152-c274-ebca64b358f2",
        "id": "nDvEJ6LRBqwN"
      },
      "execution_count": 64,
      "outputs": [
        {
          "output_type": "stream",
          "name": "stdout",
          "text": [
            "<class 'pandas.core.frame.DataFrame'>\n",
            "RangeIndex: 508683 entries, 0 to 508682\n",
            "Data columns (total 7 columns):\n",
            " #   Column                 Non-Null Count   Dtype  \n",
            "---  ------                 --------------   -----  \n",
            " 0   shortest_path_length   508683 non-null  int64  \n",
            " 1   same_community         508683 non-null  int64  \n",
            " 2   mutual_following       508683 non-null  int64  \n",
            " 3   source_weight_out      508683 non-null  float64\n",
            " 4   destination_weight_in  508683 non-null  float64\n",
            " 5   weight_multiplication  508683 non-null  float64\n",
            " 6   weight_addition        508683 non-null  float64\n",
            "dtypes: float64(4), int64(3)\n",
            "memory usage: 27.2 MB\n",
            "None\n"
          ]
        }
      ]
    },
    {
      "cell_type": "code",
      "source": [
        "x_valid_3_new = x_valid_3.copy()"
      ],
      "metadata": {
        "id": "nnkFbjWDBqwO"
      },
      "execution_count": 65,
      "outputs": []
    },
    {
      "cell_type": "code",
      "execution_count": 66,
      "metadata": {
        "colab": {
          "base_uri": "https://localhost:8080/"
        },
        "outputId": "5bd4549c-75ef-426a-8cd8-83f8198e3832",
        "id": "A1a1kJSJBqwO"
      },
      "outputs": [
        {
          "output_type": "stream",
          "name": "stdout",
          "text": [
            "Memory usage of dataframe is 27.17 MB\n"
          ]
        },
        {
          "output_type": "stream",
          "name": "stderr",
          "text": [
            "100%|██████████| 7/7 [00:00<00:00, 165.90it/s]"
          ]
        },
        {
          "output_type": "stream",
          "name": "stdout",
          "text": [
            "\n",
            "Memory usage after optimization is: 9.217 MB\n",
            "Decreased by 66.1%\n"
          ]
        },
        {
          "output_type": "stream",
          "name": "stderr",
          "text": [
            "\n"
          ]
        }
      ],
      "source": [
        "x_valid_3_new = reduce_mem_usage(x_valid_3_new)"
      ]
    },
    {
      "cell_type": "code",
      "execution_count": 67,
      "metadata": {
        "colab": {
          "base_uri": "https://localhost:8080/"
        },
        "outputId": "cde2be0e-0b5c-43db-b910-9f4882753062",
        "id": "WK8Phw4lBqwP"
      },
      "outputs": [
        {
          "output_type": "stream",
          "name": "stdout",
          "text": [
            "diffrence in term of shortest_path_length = 0\n",
            "diffrence in term of same_community = 0\n",
            "diffrence in term of mutual_following = 0\n",
            "diffrence in term of source_weight_out = 0.001441808280225533\n",
            "diffrence in term of destination_weight_in = 0.0017491394747898847\n",
            "diffrence in term of weight_multiplication = 0.00011405158321948659\n",
            "diffrence in term of weight_addition = 0.0017951595814931776\n"
          ]
        }
      ],
      "source": [
        "for i in x_valid_3.columns:\n",
        "  print(\"diffrence in term of\", i, \"=\", np.abs(np.sum(x_valid_3[i] - x_valid_3_new[i])))"
      ]
    },
    {
      "cell_type": "code",
      "source": [
        "print(x_valid_3_new.info())"
      ],
      "metadata": {
        "colab": {
          "base_uri": "https://localhost:8080/"
        },
        "outputId": "6170e849-bd6b-42a4-b2e4-1cda82c73cba",
        "id": "XxC10za_BqwQ"
      },
      "execution_count": 68,
      "outputs": [
        {
          "output_type": "stream",
          "name": "stdout",
          "text": [
            "<class 'pandas.core.frame.DataFrame'>\n",
            "RangeIndex: 508683 entries, 0 to 508682\n",
            "Data columns (total 7 columns):\n",
            " #   Column                 Non-Null Count   Dtype  \n",
            "---  ------                 --------------   -----  \n",
            " 0   shortest_path_length   508683 non-null  int8   \n",
            " 1   same_community         508683 non-null  int8   \n",
            " 2   mutual_following       508683 non-null  int8   \n",
            " 3   source_weight_out      508683 non-null  float32\n",
            " 4   destination_weight_in  508683 non-null  float32\n",
            " 5   weight_multiplication  508683 non-null  float32\n",
            " 6   weight_addition        508683 non-null  float32\n",
            "dtypes: float32(4), int8(3)\n",
            "memory usage: 9.2 MB\n",
            "None\n"
          ]
        }
      ]
    },
    {
      "cell_type": "code",
      "source": [
        "print(\"The Shape of x_valid_3 before  reformattring =\", x_valid_3.shape)\n",
        "print(\"The Shape of x_valid_3 after reformattring = \", x_valid_3_new.shape)"
      ],
      "metadata": {
        "colab": {
          "base_uri": "https://localhost:8080/"
        },
        "outputId": "271fa407-ff20-416d-b64f-b3e0b90f1e78",
        "id": "yvbEmr33BqwQ"
      },
      "execution_count": 69,
      "outputs": [
        {
          "output_type": "stream",
          "name": "stdout",
          "text": [
            "The Shape of x_valid_3 before  reformattring = (508683, 7)\n",
            "The Shape of x_valid_3 after reformattring =  (508683, 7)\n"
          ]
        }
      ]
    },
    {
      "cell_type": "code",
      "execution_count": 70,
      "metadata": {
        "id": "vuHCCGg9BqwU"
      },
      "outputs": [],
      "source": [
        "x_valid_3_new.to_csv(\"Data/x_valid_3.csv\", index = False)"
      ]
    }
  ],
  "metadata": {
    "colab": {
      "collapsed_sections": [
        "AmHL1NGtF80d",
        "72w0-PxNGEmq",
        "_5ZqYZ_3GrED",
        "1cO3zCszBov7"
      ],
      "name": "s4.ipynb",
      "provenance": [],
      "mount_file_id": "1xVTybFeNPr5-H4DWbFtdmehe-t9W87cp",
      "authorship_tag": "ABX9TyOU2/DdPklRu9liEE/DJQ29"
    },
    "kernelspec": {
      "display_name": "Python 3",
      "name": "python3"
    },
    "language_info": {
      "name": "python"
    }
  },
  "nbformat": 4,
  "nbformat_minor": 0
}