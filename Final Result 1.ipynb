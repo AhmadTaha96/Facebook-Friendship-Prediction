{
  "nbformat": 4,
  "nbformat_minor": 0,
  "metadata": {
    "colab": {
      "name": "Final Result 1.ipynb",
      "provenance": [],
      "collapsed_sections": [
        "6ZsoPGoqefyk",
        "mUMGx75y1hJF",
        "Zfmvwcq61km6"
      ],
      "mount_file_id": "1mGA-WRcy9wKE-38INueC0b87q2TadbNM",
      "authorship_tag": "ABX9TyO007gp9dn08rq/LdjAseVf"
    },
    "kernelspec": {
      "name": "python3",
      "display_name": "Python 3"
    },
    "language_info": {
      "name": "python"
    }
  },
  "cells": [
    {
      "cell_type": "markdown",
      "metadata": {
        "id": "6ZsoPGoqefyk"
      },
      "source": [
        "# Importing Libraries"
      ]
    },
    {
      "cell_type": "code",
      "execution_count": null,
      "metadata": {
        "id": "ywTMopcd6EMi"
      },
      "outputs": [],
      "source": [
        "import shutil\n",
        "import pandas as pd\n",
        "import numpy as np\n",
        "import matplotlib.pyplot as plt\n",
        "import seaborn as sns\n",
        "from tqdm import tqdm_notebook\n",
        "import joblib\n",
        "from sklearn.metrics import confusion_matrix, recall_score, precision_score, f1_score, accuracy_score"
      ]
    },
    {
      "cell_type": "code",
      "execution_count": null,
      "metadata": {
        "id": "5T8Tapzc3ahP"
      },
      "outputs": [],
      "source": [
        "import warnings \n",
        "warnings.filterwarnings(\"ignore\")"
      ]
    },
    {
      "cell_type": "markdown",
      "source": [
        "# Read Data"
      ],
      "metadata": {
        "id": "mUMGx75y1hJF"
      }
    },
    {
      "cell_type": "code",
      "source": [
        "x_test_1 = pd.read_csv(\"Data/x_test_1.csv\")\n",
        "x_test_2 = pd.read_csv(\"Data/x_test_2.csv\")\n",
        "x_test_3 = pd.read_csv(\"Data/x_test_3.csv\")\n",
        "\n",
        "rem = np.load(\"Data/test_removed.npy\")\n",
        "x_test_1.drop(index = rem, axis = 0, inplace = True)\n",
        "x_test_2.drop(index = rem, axis = 0, inplace = True)\n",
        "x_test_3.drop(index = rem, axis = 0, inplace = True)\n",
        "\n",
        "x_test_1 = np.array(x_test_1)\n",
        "x_test_2 = np.array(x_test_2)\n",
        "x_test_3 = np.array(x_test_3)\n",
        "\n",
        "test_embedding = np.load(\"Data/test_embedding.npy\")\n",
        "y_test = pd.read_csv(\"Data/org_test.csv\", usecols = [\"label\"])\n",
        "y_test.drop(index = rem, axis = 0, inplace = True)\n",
        "\n",
        "x_test = np.hstack((x_test_1, x_test_2, x_test_3, test_embedding))"
      ],
      "metadata": {
        "id": "ss3wuFesyYYj"
      },
      "execution_count": null,
      "outputs": []
    },
    {
      "cell_type": "code",
      "source": [
        "print(\"Number of Rows in X_Test =\", x_test.shape[0])\n",
        "print(\"Number of Columns in X_Test =\", x_test.shape[1])"
      ],
      "metadata": {
        "colab": {
          "base_uri": "https://localhost:8080/"
        },
        "id": "ejGHC4Juy9fw",
        "outputId": "a1fbe761-c01a-44e1-8206-555a13dcf48c"
      },
      "execution_count": null,
      "outputs": [
        {
          "output_type": "stream",
          "name": "stdout",
          "text": [
            "Number of Rows in X_Test = 1501383\n",
            "Number of Columns in X_Test = 101\n"
          ]
        }
      ]
    },
    {
      "cell_type": "code",
      "source": [
        "# Loading the ML Model\n",
        "model = joblib.load('model/model.joblib')"
      ],
      "metadata": {
        "id": "0sXYVgLMzagH"
      },
      "execution_count": null,
      "outputs": []
    },
    {
      "cell_type": "code",
      "source": [
        "y_pred = model.predict(x_test)"
      ],
      "metadata": {
        "id": "oik5mVPz0Nac"
      },
      "execution_count": null,
      "outputs": []
    },
    {
      "cell_type": "markdown",
      "source": [
        "# Model Result"
      ],
      "metadata": {
        "id": "Zfmvwcq61km6"
      }
    },
    {
      "cell_type": "code",
      "source": [
        "print(\"Accuracy on Test Data =\", accuracy_score(y_test, y_pred) * 100, \"%\")\n",
        "print(\"Precision  on Test Data =\", precision_score(y_test, y_pred) * 100, \"%\")\n",
        "print(\"Recall on Test Data =\", recall_score(y_test, y_pred) * 100, \"%\")\n",
        "print(\"F1 Score on Test Data =\", f1_score(y_test, y_pred))"
      ],
      "metadata": {
        "colab": {
          "base_uri": "https://localhost:8080/"
        },
        "id": "SWki6uN40UXu",
        "outputId": "a1ddfe0c-6b47-4749-ae02-f74674a55d92"
      },
      "execution_count": null,
      "outputs": [
        {
          "output_type": "stream",
          "name": "stdout",
          "text": [
            "Accuracy on Test Data = 93.88690294215401 %\n",
            "Precision  on Test Data = 96.10737560918342 %\n",
            "Recall on Test Data = 91.4940977987823 %\n",
            "F1 Score on Test Data = 0.9374401451580032\n"
          ]
        }
      ]
    },
    {
      "cell_type": "code",
      "source": [
        "# Getting Confusion matrix for Test Data\n",
        "plt.figure(figsize = (10, 8))\n",
        "sns.heatmap(confusion_matrix(y_test, y_pred), annot = True, fmt = \"d\", cmap = \"Blues\")\n",
        "plt.title(\"Confusion Matrix For Test Data\")\n",
        "plt.show()"
      ],
      "metadata": {
        "colab": {
          "base_uri": "https://localhost:8080/",
          "height": 499
        },
        "id": "jbQbyvyC0mdc",
        "outputId": "1b8014c8-9acf-4730-f7a3-2e416a879042"
      },
      "execution_count": null,
      "outputs": [
        {
          "output_type": "display_data",
          "data": {
            "text/plain": [
              "<Figure size 720x576 with 2 Axes>"
            ],
            "image/png": "[encoded data removed]"
          },
          "metadata": {
            "needs_background": "light"
          }
        }
      ]
    },
    {
      "cell_type": "code",
      "source": [
        "# precision percentage confusion matrix for Test data for class 1 and class 0\n",
        "CM = confusion_matrix(y_test, y_pred)\n",
        "CM = CM / CM.sum(axis = 0)\n",
        "plt.figure(figsize = (10, 8))\n",
        "sns.heatmap(CM, annot = True, cmap = \"Blues\")\n",
        "plt.title(\"Precsion Percentage Confusion Matrix For Test Data\")\n",
        "plt.show()"
      ],
      "metadata": {
        "colab": {
          "base_uri": "https://localhost:8080/",
          "height": 499
        },
        "id": "kb1Ri7yJ0pSn",
        "outputId": "4cb0d891-3316-4696-92a2-bb803aed827d"
      },
      "execution_count": null,
      "outputs": [
        {
          "output_type": "display_data",
          "data": {
            "text/plain": [
              "<Figure size 720x576 with 2 Axes>"
            ],
            "image/png": "[encoded data removed]"
          },
          "metadata": {
            "needs_background": "light"
          }
        }
      ]
    },
    {
      "cell_type": "code",
      "source": [
        "# recall percentage confusion matrix for Test data for class 1 and class 0\n",
        "CM = confusion_matrix(y_test, y_pred)\n",
        "CM = ((CM.T) / CM.sum(axis = 1)).T\n",
        "plt.figure(figsize = (10, 8))\n",
        "sns.heatmap(CM, annot = True, cmap = \"Blues\")\n",
        "plt.title(\"Recall Percentage Confusion Matrix For Test Data\")\n",
        "plt.show()"
      ],
      "metadata": {
        "colab": {
          "base_uri": "https://localhost:8080/",
          "height": 499
        },
        "id": "915fTJdL1AAc",
        "outputId": "dacfe106-1983-4883-ede6-48a05dc1d228"
      },
      "execution_count": null,
      "outputs": [
        {
          "output_type": "display_data",
          "data": {
            "text/plain": [
              "<Figure size 720x576 with 2 Axes>"
            ],
            "image/png": "[encoded data removed]"
          },
          "metadata": {
            "needs_background": "light"
          }
        }
      ]
    }
  ]
}