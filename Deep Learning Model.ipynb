{
  "cells": [
    {
      "cell_type": "markdown",
      "metadata": {
        "id": "6ZsoPGoqefyk"
      },
      "source": [
        "# Importing Libraries"
      ]
    },
    {
      "cell_type": "code",
      "execution_count": null,
      "metadata": {
        "id": "ywTMopcd6EMi"
      },
      "outputs": [],
      "source": [
        "import shutil\n",
        "import pandas as pd\n",
        "import os\n",
        "import numpy as np\n",
        "import matplotlib.pyplot as plt\n",
        "import seaborn as sns\n",
        "import tensorflow as tf\n",
        "from tensorflow.keras.layers import Dense, Dropout, InputLayer\n",
        "from tensorflow.keras.models import Sequential\n",
        "from sklearn.preprocessing import MinMaxScaler\n",
        "import tensorflow.keras.backend as K\n",
        "from tqdm import tqdm_notebook\n",
        "from sklearn.metrics import confusion_matrix, recall_score, precision_score, f1_score"
      ]
    },
    {
      "cell_type": "code",
      "execution_count": null,
      "metadata": {
        "id": "5T8Tapzc3ahP"
      },
      "outputs": [],
      "source": [
        "import warnings \n",
        "warnings.filterwarnings(\"ignore\")"
      ]
    },
    {
      "cell_type": "markdown",
      "source": [
        "# Merging & Preparing Data"
      ],
      "metadata": {
        "id": "aYT8vbgFZRrs"
      }
    },
    {
      "cell_type": "code",
      "execution_count": null,
      "metadata": {
        "id": "3EpOJO_GkWxO"
      },
      "outputs": [],
      "source": [
        "x_valid_1 = pd.read_csv(\"Data/x_valid_1.csv\")\n",
        "x_valid_2 = pd.read_csv(\"Data/x_valid_2.csv\")\n",
        "x_valid_3 = pd.read_csv(\"Data/x_valid_3.csv\")\n",
        "\n",
        "rem = np.load(\"valid_removed.npy\")\n",
        "x_valid_1.drop(index = rem, axis = 0, inplace = True)\n",
        "x_valid_2.drop(index = rem, axis = 0, inplace = True)\n",
        "x_valid_3.drop(index = rem, axis = 0, inplace = True)\n",
        "\n",
        "x_valid_1 = np.array(x_valid_1)\n",
        "x_valid_2 = np.array(x_valid_2)\n",
        "x_valid_3 = np.array(x_valid_3)\n",
        "\n",
        "valid_embedding = np.load(\"valid_embedding.npy\")\n",
        "y_val = pd.read_csv(\"org_valid.csv\", usecols = [\"label\"])\n",
        "y_val.drop(index = rem, axis = 0, inplace = True)"
      ]
    },
    {
      "cell_type": "code",
      "execution_count": null,
      "metadata": {
        "id": "4WlI7UfbkeT2"
      },
      "outputs": [],
      "source": [
        "x_valid = np.hstack((x_valid_1, x_valid_2, x_valid_3, valid_embedding))"
      ]
    },
    {
      "cell_type": "code",
      "execution_count": null,
      "metadata": {
        "id": "wTXsHMgWajEb"
      },
      "outputs": [],
      "source": [
        "rem = np.load(\"train_removed.npy\")"
      ]
    },
    {
      "cell_type": "code",
      "execution_count": null,
      "metadata": {
        "id": "BI03GYMhamNy"
      },
      "outputs": [],
      "source": [
        "y = pd.read_csv(\"org_train.csv\", usecols = [\"label\"])\n",
        "y.drop(index = rem, axis = 0, inplace = True)"
      ]
    },
    {
      "cell_type": "code",
      "execution_count": null,
      "metadata": {
        "id": "kveKcdfNapP5"
      },
      "outputs": [],
      "source": [
        "x1 = pd.read_csv(\"Data/x_train_1.csv\")\n",
        "x2 = pd.read_csv(\"Data/x_train_2.csv\")\n",
        "x3 = pd.read_csv(\"Data/x_train_3.csv\")\n",
        "\n",
        "x1.drop(index = rem, axis = 0, inplace = True)\n",
        "x2.drop(index = rem, axis = 0, inplace = True)\n",
        "x3.drop(index = rem, axis = 0, inplace = True)\n",
        "\n",
        "x1 = np.array(x1)\n",
        "x2 = np.array(x2)\n",
        "x3 = np.array(x3)\n",
        "\n",
        "np.save(\"Data/x1.npy\", x1)\n",
        "np.save(\"Data/x2.npy\", x2)\n",
        "np.save(\"Data/x3.npy\", x3)"
      ]
    },
    {
      "cell_type": "code",
      "execution_count": null,
      "metadata": {
        "id": "lt981GWFaqUe"
      },
      "outputs": [],
      "source": [
        "x = np.load(\"Data/train_embedding.npy\", mmap_mode = 'r')\n",
        "x1 = np.load(\"Data/x1.npy\", mmap_mode = 'r')\n",
        "x2 = np.load(\"Data/x2.npy\", mmap_mode = 'r')\n",
        "x3 = np.load(\"Data/x3.npy\", mmap_mode = 'r')"
      ]
    },
    {
      "cell_type": "code",
      "execution_count": null,
      "metadata": {
        "id": "H99cMOkIasTJ"
      },
      "outputs": [],
      "source": [
        "a = np.memmap(\"Data/test\", dtype = np.float32, mode = 'w+', shape = (len(x1), 101), order = 'F')"
      ]
    },
    {
      "cell_type": "code",
      "execution_count": null,
      "metadata": {
        "id": "fh0dB8p3atrV"
      },
      "outputs": [],
      "source": [
        "a[:, :23] = x1\n",
        "a[:, 23:30] = x2\n",
        "a[:, 30:37] = x3\n",
        "a[:, 37:] = x"
      ]
    },
    {
      "cell_type": "markdown",
      "source": [
        "# Train The Model"
      ],
      "metadata": {
        "id": "tGFu_8QDZVnp"
      }
    },
    {
      "cell_type": "code",
      "execution_count": null,
      "metadata": {
        "id": "1o-dNuEIfXQ4"
      },
      "outputs": [],
      "source": [
        "model = Sequential([\n",
        "        InputLayer(input_shape = (101)),\n",
        "        Dense(100, activation = \"relu\", kernel_initializer = \"he_normal\"),\n",
        "        Dropout(0.5),\n",
        "        Dense(200, activation = \"relu\", kernel_initializer = \"he_normal\"),\n",
        "        Dropout(0.5),\n",
        "        Dense(500, activation = \"relu\", kernel_initializer = \"he_normal\"),\n",
        "        Dropout(0.5),\n",
        "        Dense(1, activation = \"sigmoid\")\n",
        "])"
      ]
    },
    {
      "cell_type": "code",
      "execution_count": null,
      "metadata": {
        "id": "2uR5UPJ_XN3t"
      },
      "outputs": [],
      "source": [
        "# taken from old keras source code\n",
        "def get_f1(y_true, y_pred):\n",
        "    true_positives = K.sum(K.round(K.clip(y_true * y_pred, 0, 1)))\n",
        "    possible_positives = K.sum(K.round(K.clip(y_true, 0, 1)))\n",
        "    predicted_positives = K.sum(K.round(K.clip(y_pred, 0, 1)))\n",
        "    precision = true_positives / (predicted_positives + K.epsilon())\n",
        "    recall = true_positives / (possible_positives + K.epsilon())\n",
        "    f1_val = 2 * (precision * recall) / (precision + recall + K.epsilon())\n",
        "    return f1_val"
      ]
    },
    {
      "cell_type": "code",
      "execution_count": null,
      "metadata": {
        "id": "815URBdCfdLD"
      },
      "outputs": [],
      "source": [
        "opt = tf.keras.optimizers.Nadam(learning_rate = 0.001)\n",
        "model.compile(loss = \"BinaryCrossentropy\", optimizer = opt, metrics = [\"accuracy\", tf.keras.metrics.Precision(), tf.keras.metrics.Recall(), get_f1])"
      ]
    },
    {
      "cell_type": "code",
      "execution_count": null,
      "metadata": {
        "id": "4U_zZxd4ffMC"
      },
      "outputs": [],
      "source": [
        "def batch_generator(Train_df, batch_size, scaler):\n",
        "    idx = -1\n",
        "    while True: \n",
        "        yield load_data(Train_df, idx + 1, batch_size, scaler) ## Yields data\n",
        "        idx += 1\n",
        "        if idx > steps_per_epoch:\n",
        "          idx = 0"
      ]
    },
    {
      "cell_type": "code",
      "execution_count": null,
      "metadata": {
        "id": "qHipxSdDhUXD"
      },
      "outputs": [],
      "source": [
        "def load_data(Train_df, idx, batch_size, scaler):\n",
        "    \n",
        "    x = a[idx * batch_size : (idx + 1) * batch_size, :]\n",
        "    y_t = y[idx * batch_size : (idx + 1) * batch_size]\n",
        "    x = scaler.transform(x)\n",
        "    return (x, y_t)"
      ]
    },
    {
      "cell_type": "code",
      "execution_count": null,
      "metadata": {
        "id": "IxKoa3F4pIFo"
      },
      "outputs": [],
      "source": [
        "# def valid_generator(data, scaler):\n",
        "#       yield load_valid(data, scaler)## Yields data\n",
        "\n",
        "# def load_valid(data, scaler):\n",
        "#     x = data\n",
        "#     y = y_val\n",
        "#     return (x, y)\n",
        "\n",
        "# generator_valid = valid_generator(x_valid, scaler)"
      ]
    },
    {
      "cell_type": "code",
      "execution_count": null,
      "metadata": {
        "id": "ngCPQuY7nrTP"
      },
      "outputs": [],
      "source": [
        "scaler = MinMaxScaler()"
      ]
    },
    {
      "cell_type": "code",
      "execution_count": null,
      "metadata": {
        "id": "tNgfaDNOWaO7"
      },
      "outputs": [],
      "source": [
        "# c = 0\n",
        "# for i in range(10):\n",
        "#   for i in range(4):\n",
        "#     x = a[c : (c + 5000000), :]\n",
        "#     if x.shape[0] == 0:\n",
        "#       c = 0\n",
        "#       break\n",
        "#     scaler.fit(x)\n",
        "#     c += 5000000"
      ]
    },
    {
      "cell_type": "code",
      "execution_count": null,
      "metadata": {
        "id": "MeNP-_r9kNkM",
        "colab": {
          "base_uri": "https://localhost:8080/"
        },
        "outputId": "9eb3ce6b-9ae5-4381-ed44-68a93428caff"
      },
      "outputs": [
        {
          "output_type": "execute_result",
          "data": {
            "text/plain": [
              "MinMaxScaler()"
            ]
          },
          "metadata": {},
          "execution_count": 17
        }
      ],
      "source": [
        "# Fitting the scaler on the train data\n",
        "temp = a\n",
        "scaler.fit(temp)"
      ]
    },
    {
      "cell_type": "code",
      "execution_count": null,
      "metadata": {
        "id": "W9My9PPxXqZ3"
      },
      "outputs": [],
      "source": [
        "x_valid = scaler.transform(x_valid)"
      ]
    },
    {
      "cell_type": "code",
      "execution_count": null,
      "metadata": {
        "id": "U5xNUrjciiXx"
      },
      "outputs": [],
      "source": [
        "batch_size = 4096\n",
        "generator = batch_generator(a, batch_size, scaler)"
      ]
    },
    {
      "cell_type": "code",
      "execution_count": null,
      "metadata": {
        "colab": {
          "base_uri": "https://localhost:8080/"
        },
        "id": "L_FCJfWSiRTa",
        "outputId": "13bb40e9-4b73-4867-928b-1afcaafa7dfb"
      },
      "outputs": [
        {
          "name": "stdout",
          "output_type": "stream",
          "text": [
            "Steps per epoch = 4013.0\n"
          ]
        }
      ],
      "source": [
        "steps_per_epoch = np.ceil(len(a) / batch_size)\n",
        "print(\"Steps per epoch =\", steps_per_epoch)"
      ]
    },
    {
      "cell_type": "code",
      "execution_count": null,
      "metadata": {
        "id": "ay7IAmecHUll"
      },
      "outputs": [],
      "source": [
        "# Initiating checkpoint callback\n",
        "cb = tf.keras.callbacks.ModelCheckpoint(filepath = \"model.h5\", save_best_only = True, mode = \"max\", monitor = \"val_get_f1\")"
      ]
    },
    {
      "cell_type": "code",
      "execution_count": null,
      "metadata": {
        "colab": {
          "base_uri": "https://localhost:8080/"
        },
        "id": "BSFM0j7wiaSs",
        "outputId": "f7f1fd40-bc13-4c9f-942e-60a93a39feff"
      },
      "outputs": [
        {
          "name": "stdout",
          "output_type": "stream",
          "text": [
            "Epoch 1/10\n",
            "4013/4013 [==============================] - 110s 26ms/step - loss: 0.1145 - accuracy: 0.9501 - precision: 0.9680 - recall: 0.9333 - get_f1: 0.9502 - val_loss: 0.3434 - val_accuracy: 0.9593 - val_precision: 0.9882 - val_recall: 0.9297 - val_get_f1: 0.9566\n",
            "Epoch 2/10\n",
            "4013/4013 [==============================] - 98s 24ms/step - loss: 0.0997 - accuracy: 0.9579 - precision: 0.9722 - recall: 0.9444 - get_f1: 0.9581 - val_loss: 0.3058 - val_accuracy: 0.9625 - val_precision: 0.9872 - val_recall: 0.9372 - val_get_f1: 0.9602\n",
            "Epoch 3/10\n",
            "4013/4013 [==============================] - 102s 25ms/step - loss: 0.0969 - accuracy: 0.9585 - precision: 0.9712 - recall: 0.9471 - get_f1: 0.9590 - val_loss: 0.3941 - val_accuracy: 0.9618 - val_precision: 0.9852 - val_recall: 0.9378 - val_get_f1: 0.9596\n",
            "Epoch 4/10\n",
            "4013/4013 [==============================] - 103s 26ms/step - loss: 0.0955 - accuracy: 0.9594 - precision: 0.9721 - recall: 0.9477 - get_f1: 0.9597 - val_loss: 0.3955 - val_accuracy: 0.9564 - val_precision: 0.9698 - val_recall: 0.9422 - val_get_f1: 0.9543\n",
            "Epoch 5/10\n",
            "4013/4013 [==============================] - 102s 25ms/step - loss: 0.0937 - accuracy: 0.9603 - precision: 0.9726 - recall: 0.9492 - get_f1: 0.9607 - val_loss: 0.5448 - val_accuracy: 0.9613 - val_precision: 0.9824 - val_recall: 0.9395 - val_get_f1: 0.9591\n",
            "Epoch 6/10\n",
            "4013/4013 [==============================] - 95s 24ms/step - loss: 0.0935 - accuracy: 0.9601 - precision: 0.9727 - recall: 0.9485 - get_f1: 0.9604 - val_loss: 0.4411 - val_accuracy: 0.9615 - val_precision: 0.9824 - val_recall: 0.9398 - val_get_f1: 0.9593\n",
            "Epoch 7/10\n",
            "4013/4013 [==============================] - 102s 25ms/step - loss: 0.0932 - accuracy: 0.9604 - precision: 0.9723 - recall: 0.9496 - get_f1: 0.9608 - val_loss: 0.4621 - val_accuracy: 0.9591 - val_precision: 0.9735 - val_recall: 0.9440 - val_get_f1: 0.9571\n",
            "Epoch 8/10\n",
            "4013/4013 [==============================] - 101s 25ms/step - loss: 0.0923 - accuracy: 0.9607 - precision: 0.9728 - recall: 0.9495 - get_f1: 0.9610 - val_loss: 0.4764 - val_accuracy: 0.9625 - val_precision: 0.9887 - val_recall: 0.9357 - val_get_f1: 0.9601\n",
            "Epoch 9/10\n",
            "4013/4013 [==============================] - 100s 25ms/step - loss: 0.0914 - accuracy: 0.9614 - precision: 0.9730 - recall: 0.9507 - get_f1: 0.9617 - val_loss: 0.4444 - val_accuracy: 0.9613 - val_precision: 0.9847 - val_recall: 0.9371 - val_get_f1: 0.9590\n",
            "Epoch 10/10\n",
            "4013/4013 [==============================] - 100s 25ms/step - loss: 0.0922 - accuracy: 0.9610 - precision: 0.9728 - recall: 0.9502 - get_f1: 0.9614 - val_loss: 0.4162 - val_accuracy: 0.9615 - val_precision: 0.9855 - val_recall: 0.9368 - val_get_f1: 0.9591\n"
          ]
        },
        {
          "data": {
            "text/plain": [
              "<keras.callbacks.History at 0x7f3c90672590>"
            ]
          },
          "execution_count": 24,
          "metadata": {},
          "output_type": "execute_result"
        }
      ],
      "source": [
        "model.fit(generator, epochs = 10, use_multiprocessing = True, workers = 32, steps_per_epoch = steps_per_epoch, validation_data = (x_valid, y_val), callbacks = cb)"
      ]
    },
    {
      "cell_type": "code",
      "execution_count": null,
      "metadata": {
        "id": "UG2D-O4Kvx6J"
      },
      "outputs": [],
      "source": [
        "# To save the model\n",
        "# tf.keras.models.save_model(model, \"model.h5\")\n",
        "# To load the model\n",
        "# model = tf.keras.models.load_model(\"model.h5\", custom_objects = {\"get_f1\": get_f1})"
      ]
    },
    {
      "cell_type": "markdown",
      "metadata": {
        "id": "onyGBkxY4Aw1"
      },
      "source": [
        "# Testing Model Performance"
      ]
    },
    {
      "cell_type": "code",
      "execution_count": null,
      "metadata": {
        "colab": {
          "base_uri": "https://localhost:8080/"
        },
        "id": "fyx-c0FI3YiB",
        "outputId": "11d08134-af1c-4be8-fd52-808e04ae3f18"
      },
      "outputs": [
        {
          "name": "stdout",
          "output_type": "stream",
          "text": [
            "***********************************\n",
            "Validation Loss = 0.30577710270881653\n",
            "Validation Accuracy = 96.2495505809784\n",
            "Validation Precision = 98.72417449951172\n",
            "Validation Recall = 93.71526837348938\n",
            "Validation F1 = 0.9602054357528687\n"
          ]
        }
      ],
      "source": [
        "# evaluation = model.evaluate(x_valid, y_val)\n",
        "print(\"***********************************\")\n",
        "print(\"Validation Loss =\", evaluation[0])\n",
        "print(\"Validation Accuracy =\", evaluation[1] * 100)\n",
        "print(\"Validation Precision =\", evaluation[2] * 100)\n",
        "print(\"Validation Recall =\", evaluation[3] * 100)\n",
        "print(\"Validation F1 =\", evaluation[4])"
      ]
    },
    {
      "cell_type": "code",
      "execution_count": null,
      "metadata": {
        "colab": {
          "base_uri": "https://localhost:8080/",
          "height": 49,
          "referenced_widgets": [
            "e9bf660f9c5d4180aa3e576defbda867",
            "e7c7beabc0a04fd28a1fc81ef3f8b307",
            "9252367bfc99460da254c539bc5ee448",
            "9e7ae6fef6ae49c9a6f53e037bbcfd27",
            "d6676181ae434df1b66de43f10b6bffe",
            "f40ea8c7efd6416ab69fa86a4a9629e4",
            "d111a5751e454dea8152e85514181809",
            "53efc281fc874d718cfeaeacc3ed4d5e",
            "a94efd5e44de477f8bbdd9e33c8e79a8",
            "786008550b7849ab837dc43a24e681f3",
            "9a8160329fe44693843066072cec0bda"
          ]
        },
        "id": "aIhEFmwo3tr4",
        "outputId": "fc179162-7c46-4097-df26-3b574161c471"
      },
      "outputs": [
        {
          "output_type": "display_data",
          "data": {
            "text/plain": [
              "  0%|          | 0/500 [00:00<?, ?it/s]"
            ],
            "application/vnd.jupyter.widget-view+json": {
              "version_major": 2,
              "version_minor": 0,
              "model_id": "e9bf660f9c5d4180aa3e576defbda867"
            }
          },
          "metadata": {}
        }
      ],
      "source": [
        "# To hold the prediction of batches of size 50000\n",
        "temp = []\n",
        "c = 0\n",
        "for i in tqdm_notebook(range(500)):\n",
        "    x = a[c : (c + 50000), :]\n",
        "    if x.shape[0] == 0:\n",
        "      c = 0\n",
        "      break\n",
        "    c += 50000\n",
        "    # append the prediction to temp list, we are gonna extend this list later\n",
        "    temp.append(model.predict(scaler.transform(x)))"
      ]
    },
    {
      "cell_type": "code",
      "execution_count": null,
      "metadata": {
        "colab": {
          "base_uri": "https://localhost:8080/",
          "height": 49,
          "referenced_widgets": [
            "035dea562ec542ee9449687713884fad",
            "f1f0687ec3e4422588ba73cee68f3307",
            "de9c9a70473d4a2ea7fcc72371166982",
            "3de9800f27d34cfda48738fb4c0b2fe9",
            "06c18a3807ad464f80347a41e0d7102e",
            "3584e27c893848f5ad58daeaff7d2f66",
            "698319fdd33948d1b869128635218c6d",
            "018883d60dd44dc3848367df09dd6737",
            "810f7ee4210e48d1af06e21fce7926d9",
            "c857e1a134224ba6b4e0e4bebc78748e",
            "42e38a3505e94726a39eb7c2318cd001"
          ]
        },
        "id": "CRRwdcM_5E0F",
        "outputId": "c82408c5-8556-4642-c29b-26ea8a85ea3a"
      },
      "outputs": [
        {
          "output_type": "display_data",
          "data": {
            "text/plain": [
              "  0%|          | 0/329 [00:00<?, ?it/s]"
            ],
            "application/vnd.jupyter.widget-view+json": {
              "version_major": 2,
              "version_minor": 0,
              "model_id": "035dea562ec542ee9449687713884fad"
            }
          },
          "metadata": {}
        }
      ],
      "source": [
        "# extend temp list (list of list) to make it as one list\n",
        "y_pred = []\n",
        "for lst in tqdm_notebook(temp):\n",
        "  y_pred.extend(lst)"
      ]
    },
    {
      "cell_type": "code",
      "execution_count": null,
      "metadata": {
        "id": "Yo9ZyzlWAuCU"
      },
      "outputs": [],
      "source": [
        "thresh = [0.38, 0.39, 0.40, 0.41, 0.42, 0.43, 0.44, 0.45, 0.46]"
      ]
    },
    {
      "cell_type": "code",
      "execution_count": null,
      "metadata": {
        "colab": {
          "base_uri": "https://localhost:8080/",
          "height": 830,
          "referenced_widgets": [
            "952a8cfd4f9149b0826497ad58570266",
            "05186c55ac2c44ccab82f194528a2d9c",
            "ca5742b09ec44fb68c4822629b1a94a3",
            "b26f898de46345d796e6f8524385dd50",
            "200fdb95578647b5a90045e9ab409a80",
            "fa273b70470d4f03aee63bc49f3cdca5",
            "42d47d3e6d0a47bda572491885834db1",
            "fa1e087dc9f8432bb4656cc759fb9490",
            "1f28a5db210b4537869c462a164ce40b",
            "66601114ae054f24833b45e359077674",
            "c33502310d3b4228b23efa1b2f35d9a0"
          ]
        },
        "id": "uKam8UrV-bQq",
        "outputId": "5e0c1bb8-eda6-4bfd-b4d4-8c67ab0adf8d"
      },
      "outputs": [
        {
          "output_type": "display_data",
          "data": {
            "text/plain": [
              "  0%|          | 0/9 [00:00<?, ?it/s]"
            ],
            "application/vnd.jupyter.widget-view+json": {
              "version_major": 2,
              "version_minor": 0,
              "model_id": "952a8cfd4f9149b0826497ad58570266"
            }
          },
          "metadata": {}
        },
        {
          "output_type": "stream",
          "name": "stdout",
          "text": [
            "Threshold = 0.38\n",
            "Precsion with 0.38 Threshold = 97.78408272658072\n",
            "Recall with 0.38 Threshold = 93.36909068764628\n",
            "F1 Score with 0.38 Threshold = 95.52560101235443\n",
            "***************************************************************************\n",
            "Threshold = 0.39\n",
            "Precsion with 0.39 Threshold = 97.91847995726137\n",
            "Recall with 0.39 Threshold = 93.22179429437205\n",
            "F1 Score with 0.39 Threshold = 95.51243380739689\n",
            "***************************************************************************\n",
            "Threshold = 0.4\n",
            "Precsion with 0.4 Threshold = 98.03094887655803\n",
            "Recall with 0.4 Threshold = 93.09390406994983\n",
            "F1 Score with 0.4 Threshold = 95.49866079587947\n",
            "***************************************************************************\n",
            "Threshold = 0.41\n",
            "Precsion with 0.41 Threshold = 98.13281832614706\n",
            "Recall with 0.41 Threshold = 92.98133638498315\n",
            "F1 Score with 0.41 Threshold = 95.48764825903835\n",
            "***************************************************************************\n",
            "Threshold = 0.42\n",
            "Precsion with 0.42 Threshold = 98.22444550908156\n",
            "Recall with 0.42 Threshold = 92.8778884088144\n",
            "F1 Score with 0.42 Threshold = 95.4763754264733\n",
            "***************************************************************************\n",
            "Threshold = 0.43\n",
            "Precsion with 0.43 Threshold = 98.30872307115888\n",
            "Recall with 0.43 Threshold = 92.77867883516792\n",
            "F1 Score with 0.43 Threshold = 95.46368157735179\n",
            "***************************************************************************\n",
            "Threshold = 0.44\n",
            "Precsion with 0.44 Threshold = 98.3859565225853\n",
            "Recall with 0.44 Threshold = 92.6862673734322\n",
            "F1 Score with 0.44 Threshold = 95.45110101409442\n",
            "***************************************************************************\n",
            "Threshold = 0.45\n",
            "Precsion with 0.45 Threshold = 98.45823964942925\n",
            "Recall with 0.45 Threshold = 92.59668945046134\n",
            "F1 Score with 0.45 Threshold = 95.43754860038857\n",
            "***************************************************************************\n",
            "Threshold = 0.46\n",
            "Precsion with 0.46 Threshold = 98.52276061408405\n",
            "Recall with 0.46 Threshold = 92.5094688412529\n",
            "F1 Score with 0.46 Threshold = 95.42147185497548\n",
            "***************************************************************************\n"
          ]
        }
      ],
      "source": [
        "# Choosing the best threshold\n",
        "# Test on Train Data\n",
        "for t in tqdm_notebook(thresh):\n",
        "  y_predict = []\n",
        "  for prediction in y_pred:\n",
        "    y_predict.append(prediction > t)\n",
        "  \n",
        "  print(\"Threshold =\", t)\n",
        "  prec = precision_score(y, y_predict)\n",
        "  rec = recall_score(y, y_predict)\n",
        "  f1 = f1_score(y, y_predict)\n",
        "  print(\"Precsion with {} Threshold = {}\".format(t, prec * 100))\n",
        "  print(\"Recall with {} Threshold = {}\".format(t, rec * 100))\n",
        "  print(\"F1 Score with {} Threshold = {}\".format(t, f1 * 100))\n",
        "  print(\"*\" * 75)"
      ]
    },
    {
      "cell_type": "code",
      "source": [
        "# Test on Validation Data\n",
        "for t in tqdm_notebook(thresh):\n",
        "    y_valid_pred = model.predict(x_valid)\n",
        "    y_valid_pred = (y_valid_pred > t)\n",
        "  \n",
        "    print(\"Threshold =\", t)\n",
        "    prec = precision_score(y_val, y_valid_pred)\n",
        "    rec = recall_score(y_val, y_valid_pred)\n",
        "    f1 = f1_score(y_val, y_valid_pred)\n",
        "    print(\"Precsion with {} Threshold = {}\".format(t, prec * 100))\n",
        "    print(\"Recall with {} Threshold = {}\".format(t, rec * 100))\n",
        "    print(\"F1 Score with {} Threshold = {}\".format(t, f1 * 100))\n",
        "    print(\"*\" * 75)"
      ],
      "metadata": {
        "id": "ROa441VEHMtI",
        "colab": {
          "base_uri": "https://localhost:8080/",
          "height": 830,
          "referenced_widgets": [
            "eab52fcfa67e47cdb427168e93590f1f",
            "fc3ab541a7134b0baeb8b3ef2d1239fa",
            "50c39b45d79d46ea82a7336443aff18e",
            "dbf370460f52421a81b94cacff904877",
            "972d4765b3c046b1860dcfce162c69f6",
            "bd7870873cc54445beb31a2f95f08be8",
            "e9b4383d88b146b6b3259b823670c23d",
            "85c64c8f8f8543ab82e32b49224245ab",
            "91808cce61374296a0b0aa3484665b43",
            "6974c70171654ce5bc357aa4fa3f5689",
            "6abda79e78b24f618f33ba7fa4baace5"
          ]
        },
        "outputId": "64ab0cb5-bf46-4728-b7a7-4e207d1e68a1"
      },
      "execution_count": null,
      "outputs": [
        {
          "output_type": "display_data",
          "data": {
            "text/plain": [
              "  0%|          | 0/9 [00:00<?, ?it/s]"
            ],
            "application/vnd.jupyter.widget-view+json": {
              "version_major": 2,
              "version_minor": 0,
              "model_id": "eab52fcfa67e47cdb427168e93590f1f"
            }
          },
          "metadata": {}
        },
        {
          "output_type": "stream",
          "name": "stdout",
          "text": [
            "Threshold = 0.38\n",
            "Precsion with 0.38 Threshold = 97.76075878774463\n",
            "Recall with 0.38 Threshold = 94.18116794966964\n",
            "F1 Score with 0.38 Threshold = 95.93758485994192\n",
            "***************************************************************************\n",
            "Threshold = 0.39\n",
            "Precsion with 0.39 Threshold = 97.89361003424642\n",
            "Recall with 0.39 Threshold = 94.13892523038687\n",
            "F1 Score with 0.39 Threshold = 95.97956120140663\n",
            "***************************************************************************\n",
            "Threshold = 0.4\n",
            "Precsion with 0.4 Threshold = 98.0075443325658\n",
            "Recall with 0.4 Threshold = 94.09012053529318\n",
            "F1 Score with 0.4 Threshold = 96.00888866569578\n",
            "***************************************************************************\n",
            "Threshold = 0.41\n",
            "Precsion with 0.41 Threshold = 98.107629381161\n",
            "Recall with 0.41 Threshold = 94.0433664576404\n",
            "F1 Score with 0.41 Threshold = 96.03251549029748\n",
            "***************************************************************************\n",
            "Threshold = 0.42\n",
            "Precsion with 0.42 Threshold = 98.2043778732739\n",
            "Recall with 0.42 Threshold = 94.00440472626308\n",
            "F1 Score with 0.42 Threshold = 96.05850428514553\n",
            "***************************************************************************\n",
            "Threshold = 0.43\n",
            "Precsion with 0.43 Threshold = 98.29340700827127\n",
            "Recall with 0.43 Threshold = 93.9666733653503\n",
            "F1 Score with 0.43 Threshold = 96.08135451066728\n",
            "***************************************************************************\n",
            "Threshold = 0.44\n",
            "Precsion with 0.44 Threshold = 98.36654224955868\n",
            "Recall with 0.44 Threshold = 93.92484076955571\n",
            "F1 Score with 0.44 Threshold = 96.09439250767863\n",
            "***************************************************************************\n",
            "Threshold = 0.45\n",
            "Precsion with 0.45 Threshold = 98.44077883656128\n",
            "Recall with 0.45 Threshold = 93.8879296556193\n",
            "F1 Score with 0.45 Threshold = 96.1104662024724\n",
            "***************************************************************************\n",
            "Threshold = 0.46\n",
            "Precsion with 0.46 Threshold = 98.51599598754935\n",
            "Recall with 0.46 Threshold = 93.84855780075381\n",
            "F1 Score with 0.46 Threshold = 96.12565269078735\n",
            "***************************************************************************\n"
          ]
        }
      ]
    },
    {
      "cell_type": "code",
      "source": [
        "temp = []\n",
        "c = 0\n",
        "for i in tqdm_notebook(range(500)):\n",
        "    x = a[c : (c + 50000), :]\n",
        "    if x.shape[0] == 0:\n",
        "      c = 0\n",
        "      break\n",
        "    c += 50000\n",
        "    temp.append(model.predict(scaler.transform(x)))"
      ],
      "metadata": {
        "id": "TM6xlTboHA2t",
        "colab": {
          "base_uri": "https://localhost:8080/",
          "height": 49,
          "referenced_widgets": [
            "d4c316e3816e457c9df06009a6cf3e26",
            "1999b7df8f5644998a2412d7603a1e80",
            "5c8100650797438fb8c508e391844653",
            "89b97a7dd8b346e3b81998059c6b22d2",
            "e4bfe406f13d4430830410ef5c8d0c78",
            "1a22f5181bbc48aaa956c18c7674f244",
            "29e655c54dd2497696a49efd653f9900",
            "85ff33a844384042a16b071a75d6f10d",
            "586b20922bdc47f18dd0d368413f0cc7",
            "53f3176b374f44978989c648b00ec6b1",
            "73d7e4dc235248cf968a22330723e620"
          ]
        },
        "outputId": "09a5529d-b72e-4c16-b7d1-c47439ae8133"
      },
      "execution_count": null,
      "outputs": [
        {
          "data": {
            "application/vnd.jupyter.widget-view+json": {
              "model_id": "d4c316e3816e457c9df06009a6cf3e26",
              "version_major": 2,
              "version_minor": 0
            },
            "text/plain": [
              "  0%|          | 0/500 [00:00<?, ?it/s]"
            ]
          },
          "metadata": {},
          "output_type": "display_data"
        }
      ]
    },
    {
      "cell_type": "code",
      "source": [
        "# extend temp list (list of list) to make it as one list\n",
        "y_pred = []\n",
        "for lst in tqdm_notebook(temp):\n",
        "  y_pred.extend(lst)"
      ],
      "metadata": {
        "id": "EaqTqWiSZCFI",
        "colab": {
          "base_uri": "https://localhost:8080/",
          "height": 49,
          "referenced_widgets": [
            "29052edc672b4d5f8e7e4d5934a46e2f",
            "eb3c407b0ab2422698f6b9c591abfc60",
            "09c0015eb740489cba1387a192d1756b",
            "b0c23e6d74c94af1ac02fcddc014ef62",
            "c202c61d967d4273a12377d7fa3b6d1f",
            "9c985fd228c4478bb8444506219281a7",
            "50f1132f5e394a1dadab78968acdd65a",
            "1166a60cb617426dbc97293b9bc1626d",
            "2eb0d490f0f646f3a7ae77fa623143d6",
            "3cbb2af2eabc464d893da8289abaccf9",
            "65671353041e4965bb01fa46751646cd"
          ]
        },
        "outputId": "677cf291-4fee-4e94-9c9a-05e4279f37a9"
      },
      "execution_count": null,
      "outputs": [
        {
          "output_type": "display_data",
          "data": {
            "text/plain": [
              "  0%|          | 0/329 [00:00<?, ?it/s]"
            ],
            "application/vnd.jupyter.widget-view+json": {
              "version_major": 2,
              "version_minor": 0,
              "model_id": "29052edc672b4d5f8e7e4d5934a46e2f"
            }
          },
          "metadata": {}
        }
      ]
    },
    {
      "cell_type": "code",
      "source": [
        "# We will stick with 0.42 as threshold to balance between precision and recall\n",
        "y_predict = []\n",
        "for prediction in tqdm_notebook(y_pred):\n",
        "  y_predict.append(prediction > 0.42)"
      ],
      "metadata": {
        "id": "6TLcnZeiZEfu",
        "colab": {
          "base_uri": "https://localhost:8080/",
          "height": 49,
          "referenced_widgets": [
            "6a7315ab84f44911b07ba0337e5cf56f",
            "5159d6fc5669434e8eb1e9ca3dbd0e60",
            "aeff40cbeb664496817954a14fb293e2",
            "98f71313f5dd4c37a9d696a8279b0bc8",
            "0015907a057c44dd921b4736e1624972",
            "bf28611c4f9143029a617a84b98cd589",
            "ea85be915077412bb61e321c6e95f86c",
            "f79f2b94159c4aaba0a26bed6e00a963",
            "30ce7052d60a4ac4ad70a96b8379064b",
            "b8e409b5b9984d7e82b3c386ac9cd0ae",
            "6c5b693403f543d48ab177e232e27620"
          ]
        },
        "outputId": "9ba232d9-d76a-44ca-91ad-f5101bf8f00b"
      },
      "execution_count": null,
      "outputs": [
        {
          "output_type": "display_data",
          "data": {
            "text/plain": [
              "  0%|          | 0/16434117 [00:00<?, ?it/s]"
            ],
            "application/vnd.jupyter.widget-view+json": {
              "version_major": 2,
              "version_minor": 0,
              "model_id": "6a7315ab84f44911b07ba0337e5cf56f"
            }
          },
          "metadata": {}
        }
      ]
    },
    {
      "cell_type": "code",
      "execution_count": null,
      "metadata": {
        "id": "R4VYORDBwBwp",
        "colab": {
          "base_uri": "https://localhost:8080/",
          "height": 499
        },
        "outputId": "525911bd-49db-405e-cb9b-781e7abaef5c"
      },
      "outputs": [
        {
          "output_type": "display_data",
          "data": {
            "text/plain": [
              "<Figure size 720x576 with 2 Axes>"
            ],
            "image/png": "[encoded data removed]"
          },
          "metadata": {
            "needs_background": "light"
          }
        }
      ],
      "source": [
        "# Plotting confusion matrix of the model for train data\n",
        "plt.figure(figsize = (10, 8))\n",
        "sns.heatmap(confusion_matrix(y, y_predict), annot = True, fmt = 'd', cmap = \"Blues\")\n",
        "plt.title(\"Confusion Matrix For Train Data\")\n",
        "plt.show()"
      ]
    },
    {
      "cell_type": "code",
      "source": [
        "y_val_predict = model.predict(x_valid)\n",
        "y_val_predict = (y_val_predict > 0.42)\n",
        "\n",
        "# Plotting confusion matrix of the model for validataion data\n",
        "plt.figure(figsize = (10, 8))\n",
        "sns.heatmap(confusion_matrix(y_val, y_val_predict), annot = True, fmt = 'd', cmap = \"Blues\")\n",
        "plt.title(\"Confusion Matrix For Validations Data With Threshold = 0.42\")\n",
        "plt.show()"
      ],
      "metadata": {
        "colab": {
          "base_uri": "https://localhost:8080/",
          "height": 499
        },
        "id": "_bVU12058mnb",
        "outputId": "188f8348-8843-41b7-a53b-7ecdda672569"
      },
      "execution_count": null,
      "outputs": [
        {
          "output_type": "display_data",
          "data": {
            "text/plain": [
              "<Figure size 720x576 with 2 Axes>"
            ],
            "image/png": "[encoded data removed]"
          },
          "metadata": {
            "needs_background": "light"
          }
        }
      ]
    },
    {
      "cell_type": "code",
      "source": [
        "y_val_predict = model.predict(x_valid)\n",
        "y_val_predict = (y_val_predict > 0.50)\n",
        "\n",
        "# Plotting confusion matrix of the model for validataion data\n",
        "plt.figure(figsize = (10, 8))\n",
        "sns.heatmap(confusion_matrix(y_val, y_val_predict), annot = True, fmt = 'd', cmap = \"Blues\")\n",
        "plt.title(\"Confusion Matrix For Validations Data With Threshold = 0.50\")\n",
        "plt.show()"
      ],
      "metadata": {
        "colab": {
          "base_uri": "https://localhost:8080/",
          "height": 499
        },
        "id": "J-Ju6KZy-x0s",
        "outputId": "7db9071f-90fd-4707-fddb-1b5303948c78"
      },
      "execution_count": null,
      "outputs": [
        {
          "output_type": "display_data",
          "data": {
            "text/plain": [
              "<Figure size 720x576 with 2 Axes>"
            ],
            "image/png": "[encoded data removed]"
          },
          "metadata": {
            "needs_background": "light"
          }
        }
      ]
    },
    {
      "cell_type": "code",
      "source": [
        "y_val_predict = model.predict(x_valid)\n",
        "y_val_predict = (y_val_predict > 0.60)\n",
        "\n",
        "# Plotting confusion matrix of the model for validataion data\n",
        "plt.figure(figsize = (10, 8))\n",
        "sns.heatmap(confusion_matrix(y_val, y_val_predict), annot = True, fmt = 'd', cmap = \"Blues\")\n",
        "plt.title(\"Confusion Matrix For Validations Data With Threshold = 0.60\")\n",
        "plt.show()"
      ],
      "metadata": {
        "colab": {
          "base_uri": "https://localhost:8080/",
          "height": 499
        },
        "id": "8d5d1TWg-yAP",
        "outputId": "a1ce02e3-b069-4acd-e4ca-c53994e9ccd0"
      },
      "execution_count": null,
      "outputs": [
        {
          "output_type": "display_data",
          "data": {
            "text/plain": [
              "<Figure size 720x576 with 2 Axes>"
            ],
            "image/png": "[encoded data removed]"
          },
          "metadata": {
            "needs_background": "light"
          }
        }
      ]
    },
    {
      "cell_type": "code",
      "source": [
        "y_val_predict = model.predict(x_valid)\n",
        "y_val_predict = (y_val_predict > 0.35)\n",
        "\n",
        "# Plotting confusion matrix of the model for validataion data\n",
        "plt.figure(figsize = (10, 8))\n",
        "sns.heatmap(confusion_matrix(y_val, y_val_predict), annot = True, fmt = 'd', cmap = \"Blues\")\n",
        "plt.title(\"Confusion Matrix For Validations Data With Threshold = 0.35\")\n",
        "plt.show()"
      ],
      "metadata": {
        "colab": {
          "base_uri": "https://localhost:8080/",
          "height": 499
        },
        "id": "_ZC0A9DQ-yW1",
        "outputId": "8588a94a-f05e-4615-c9e1-bca875b1c4d0"
      },
      "execution_count": null,
      "outputs": [
        {
          "output_type": "display_data",
          "data": {
            "text/plain": [
              "<Figure size 720x576 with 2 Axes>"
            ],
            "image/png": "[encoded data removed]"
          },
          "metadata": {
            "needs_background": "light"
          }
        }
      ]
    },
    {
      "cell_type": "markdown",
      "source": [
        "By changing the threshold we can change how we give recommendatiaons, so if we increase the threshold we tend to give more trust freindship recommendations but less ofcourse, on contrast if we decrease our threshold we tend to give more friendship recommendations but some of them will be false or irrelevant."
      ],
      "metadata": {
        "id": "9qoLXQKi-SPB"
      }
    }
  ],
  "metadata": {
    "accelerator": "GPU",
    "colab": {
      "collapsed_sections": [
        "6ZsoPGoqefyk",
        "aYT8vbgFZRrs",
        "tGFu_8QDZVnp",
        "onyGBkxY4Aw1"
      ],
      "name": "Graph Embedding.ipynb",
      "provenance": [],
      "mount_file_id": "1bFtlE8ZtgCAlPXRIeMfIHZ3Vne_t5LjD",
      "authorship_tag": "ABX9TyOf1yxnJs/FiaNZat6i2Ukv"
    },
    "kernelspec": {
      "display_name": "Python 3",
      "name": "python3"
    },
    "language_info": {
      "name": "python"
    },
    "widgets": {
      "application/vnd.jupyter.widget-state+json": {
        "e9bf660f9c5d4180aa3e576defbda867": {
          "model_module": "@jupyter-widgets/controls",
          "model_name": "HBoxModel",
          "model_module_version": "1.5.0",
          "state": {
            "_dom_classes": [],
            "_model_module": "@jupyter-widgets/controls",
            "_model_module_version": "1.5.0",
            "_model_name": "HBoxModel",
            "_view_count": null,
            "_view_module": "@jupyter-widgets/controls",
            "_view_module_version": "1.5.0",
            "_view_name": "HBoxView",
            "box_style": "",
            "children": [
              "IPY_MODEL_e7c7beabc0a04fd28a1fc81ef3f8b307",
              "IPY_MODEL_9252367bfc99460da254c539bc5ee448",
              "IPY_MODEL_9e7ae6fef6ae49c9a6f53e037bbcfd27"
            ],
            "layout": "IPY_MODEL_d6676181ae434df1b66de43f10b6bffe"
          }
        },
        "e7c7beabc0a04fd28a1fc81ef3f8b307": {
          "model_module": "@jupyter-widgets/controls",
          "model_name": "HTMLModel",
          "model_module_version": "1.5.0",
          "state": {
            "_dom_classes": [],
            "_model_module": "@jupyter-widgets/controls",
            "_model_module_version": "1.5.0",
            "_model_name": "HTMLModel",
            "_view_count": null,
            "_view_module": "@jupyter-widgets/controls",
            "_view_module_version": "1.5.0",
            "_view_name": "HTMLView",
            "description": "",
            "description_tooltip": null,
            "layout": "IPY_MODEL_f40ea8c7efd6416ab69fa86a4a9629e4",
            "placeholder": "​",
            "style": "IPY_MODEL_d111a5751e454dea8152e85514181809",
            "value": " 66%"
          }
        },
        "9252367bfc99460da254c539bc5ee448": {
          "model_module": "@jupyter-widgets/controls",
          "model_name": "FloatProgressModel",
          "model_module_version": "1.5.0",
          "state": {
            "_dom_classes": [],
            "_model_module": "@jupyter-widgets/controls",
            "_model_module_version": "1.5.0",
            "_model_name": "FloatProgressModel",
            "_view_count": null,
            "_view_module": "@jupyter-widgets/controls",
            "_view_module_version": "1.5.0",
            "_view_name": "ProgressView",
            "bar_style": "danger",
            "description": "",
            "description_tooltip": null,
            "layout": "IPY_MODEL_53efc281fc874d718cfeaeacc3ed4d5e",
            "max": 500,
            "min": 0,
            "orientation": "horizontal",
            "style": "IPY_MODEL_a94efd5e44de477f8bbdd9e33c8e79a8",
            "value": 329
          }
        },
        "9e7ae6fef6ae49c9a6f53e037bbcfd27": {
          "model_module": "@jupyter-widgets/controls",
          "model_name": "HTMLModel",
          "model_module_version": "1.5.0",
          "state": {
            "_dom_classes": [],
            "_model_module": "@jupyter-widgets/controls",
            "_model_module_version": "1.5.0",
            "_model_name": "HTMLModel",
            "_view_count": null,
            "_view_module": "@jupyter-widgets/controls",
            "_view_module_version": "1.5.0",
            "_view_name": "HTMLView",
            "description": "",
            "description_tooltip": null,
            "layout": "IPY_MODEL_786008550b7849ab837dc43a24e681f3",
            "placeholder": "​",
            "style": "IPY_MODEL_9a8160329fe44693843066072cec0bda",
            "value": " 329/500 [13:07&lt;06:01,  2.11s/it]"
          }
        },
        "d6676181ae434df1b66de43f10b6bffe": {
          "model_module": "@jupyter-widgets/base",
          "model_name": "LayoutModel",
          "model_module_version": "1.2.0",
          "state": {
            "_model_module": "@jupyter-widgets/base",
            "_model_module_version": "1.2.0",
            "_model_name": "LayoutModel",
            "_view_count": null,
            "_view_module": "@jupyter-widgets/base",
            "_view_module_version": "1.2.0",
            "_view_name": "LayoutView",
            "align_content": null,
            "align_items": null,
            "align_self": null,
            "border": null,
            "bottom": null,
            "display": null,
            "flex": null,
            "flex_flow": null,
            "grid_area": null,
            "grid_auto_columns": null,
            "grid_auto_flow": null,
            "grid_auto_rows": null,
            "grid_column": null,
            "grid_gap": null,
            "grid_row": null,
            "grid_template_areas": null,
            "grid_template_columns": null,
            "grid_template_rows": null,
            "height": null,
            "justify_content": null,
            "justify_items": null,
            "left": null,
            "margin": null,
            "max_height": null,
            "max_width": null,
            "min_height": null,
            "min_width": null,
            "object_fit": null,
            "object_position": null,
            "order": null,
            "overflow": null,
            "overflow_x": null,
            "overflow_y": null,
            "padding": null,
            "right": null,
            "top": null,
            "visibility": null,
            "width": null
          }
        },
        "f40ea8c7efd6416ab69fa86a4a9629e4": {
          "model_module": "@jupyter-widgets/base",
          "model_name": "LayoutModel",
          "model_module_version": "1.2.0",
          "state": {
            "_model_module": "@jupyter-widgets/base",
            "_model_module_version": "1.2.0",
            "_model_name": "LayoutModel",
            "_view_count": null,
            "_view_module": "@jupyter-widgets/base",
            "_view_module_version": "1.2.0",
            "_view_name": "LayoutView",
            "align_content": null,
            "align_items": null,
            "align_self": null,
            "border": null,
            "bottom": null,
            "display": null,
            "flex": null,
            "flex_flow": null,
            "grid_area": null,
            "grid_auto_columns": null,
            "grid_auto_flow": null,
            "grid_auto_rows": null,
            "grid_column": null,
            "grid_gap": null,
            "grid_row": null,
            "grid_template_areas": null,
            "grid_template_columns": null,
            "grid_template_rows": null,
            "height": null,
            "justify_content": null,
            "justify_items": null,
            "left": null,
            "margin": null,
            "max_height": null,
            "max_width": null,
            "min_height": null,
            "min_width": null,
            "object_fit": null,
            "object_position": null,
            "order": null,
            "overflow": null,
            "overflow_x": null,
            "overflow_y": null,
            "padding": null,
            "right": null,
            "top": null,
            "visibility": null,
            "width": null
          }
        },
        "d111a5751e454dea8152e85514181809": {
          "model_module": "@jupyter-widgets/controls",
          "model_name": "DescriptionStyleModel",
          "model_module_version": "1.5.0",
          "state": {
            "_model_module": "@jupyter-widgets/controls",
            "_model_module_version": "1.5.0",
            "_model_name": "DescriptionStyleModel",
            "_view_count": null,
            "_view_module": "@jupyter-widgets/base",
            "_view_module_version": "1.2.0",
            "_view_name": "StyleView",
            "description_width": ""
          }
        },
        "53efc281fc874d718cfeaeacc3ed4d5e": {
          "model_module": "@jupyter-widgets/base",
          "model_name": "LayoutModel",
          "model_module_version": "1.2.0",
          "state": {
            "_model_module": "@jupyter-widgets/base",
            "_model_module_version": "1.2.0",
            "_model_name": "LayoutModel",
            "_view_count": null,
            "_view_module": "@jupyter-widgets/base",
            "_view_module_version": "1.2.0",
            "_view_name": "LayoutView",
            "align_content": null,
            "align_items": null,
            "align_self": null,
            "border": null,
            "bottom": null,
            "display": null,
            "flex": null,
            "flex_flow": null,
            "grid_area": null,
            "grid_auto_columns": null,
            "grid_auto_flow": null,
            "grid_auto_rows": null,
            "grid_column": null,
            "grid_gap": null,
            "grid_row": null,
            "grid_template_areas": null,
            "grid_template_columns": null,
            "grid_template_rows": null,
            "height": null,
            "justify_content": null,
            "justify_items": null,
            "left": null,
            "margin": null,
            "max_height": null,
            "max_width": null,
            "min_height": null,
            "min_width": null,
            "object_fit": null,
            "object_position": null,
            "order": null,
            "overflow": null,
            "overflow_x": null,
            "overflow_y": null,
            "padding": null,
            "right": null,
            "top": null,
            "visibility": null,
            "width": null
          }
        },
        "a94efd5e44de477f8bbdd9e33c8e79a8": {
          "model_module": "@jupyter-widgets/controls",
          "model_name": "ProgressStyleModel",
          "model_module_version": "1.5.0",
          "state": {
            "_model_module": "@jupyter-widgets/controls",
            "_model_module_version": "1.5.0",
            "_model_name": "ProgressStyleModel",
            "_view_count": null,
            "_view_module": "@jupyter-widgets/base",
            "_view_module_version": "1.2.0",
            "_view_name": "StyleView",
            "bar_color": null,
            "description_width": ""
          }
        },
        "786008550b7849ab837dc43a24e681f3": {
          "model_module": "@jupyter-widgets/base",
          "model_name": "LayoutModel",
          "model_module_version": "1.2.0",
          "state": {
            "_model_module": "@jupyter-widgets/base",
            "_model_module_version": "1.2.0",
            "_model_name": "LayoutModel",
            "_view_count": null,
            "_view_module": "@jupyter-widgets/base",
            "_view_module_version": "1.2.0",
            "_view_name": "LayoutView",
            "align_content": null,
            "align_items": null,
            "align_self": null,
            "border": null,
            "bottom": null,
            "display": null,
            "flex": null,
            "flex_flow": null,
            "grid_area": null,
            "grid_auto_columns": null,
            "grid_auto_flow": null,
            "grid_auto_rows": null,
            "grid_column": null,
            "grid_gap": null,
            "grid_row": null,
            "grid_template_areas": null,
            "grid_template_columns": null,
            "grid_template_rows": null,
            "height": null,
            "justify_content": null,
            "justify_items": null,
            "left": null,
            "margin": null,
            "max_height": null,
            "max_width": null,
            "min_height": null,
            "min_width": null,
            "object_fit": null,
            "object_position": null,
            "order": null,
            "overflow": null,
            "overflow_x": null,
            "overflow_y": null,
            "padding": null,
            "right": null,
            "top": null,
            "visibility": null,
            "width": null
          }
        },
        "9a8160329fe44693843066072cec0bda": {
          "model_module": "@jupyter-widgets/controls",
          "model_name": "DescriptionStyleModel",
          "model_module_version": "1.5.0",
          "state": {
            "_model_module": "@jupyter-widgets/controls",
            "_model_module_version": "1.5.0",
            "_model_name": "DescriptionStyleModel",
            "_view_count": null,
            "_view_module": "@jupyter-widgets/base",
            "_view_module_version": "1.2.0",
            "_view_name": "StyleView",
            "description_width": ""
          }
        },
        "035dea562ec542ee9449687713884fad": {
          "model_module": "@jupyter-widgets/controls",
          "model_name": "HBoxModel",
          "model_module_version": "1.5.0",
          "state": {
            "_dom_classes": [],
            "_model_module": "@jupyter-widgets/controls",
            "_model_module_version": "1.5.0",
            "_model_name": "HBoxModel",
            "_view_count": null,
            "_view_module": "@jupyter-widgets/controls",
            "_view_module_version": "1.5.0",
            "_view_name": "HBoxView",
            "box_style": "",
            "children": [
              "IPY_MODEL_f1f0687ec3e4422588ba73cee68f3307",
              "IPY_MODEL_de9c9a70473d4a2ea7fcc72371166982",
              "IPY_MODEL_3de9800f27d34cfda48738fb4c0b2fe9"
            ],
            "layout": "IPY_MODEL_06c18a3807ad464f80347a41e0d7102e"
          }
        },
        "f1f0687ec3e4422588ba73cee68f3307": {
          "model_module": "@jupyter-widgets/controls",
          "model_name": "HTMLModel",
          "model_module_version": "1.5.0",
          "state": {
            "_dom_classes": [],
            "_model_module": "@jupyter-widgets/controls",
            "_model_module_version": "1.5.0",
            "_model_name": "HTMLModel",
            "_view_count": null,
            "_view_module": "@jupyter-widgets/controls",
            "_view_module_version": "1.5.0",
            "_view_name": "HTMLView",
            "description": "",
            "description_tooltip": null,
            "layout": "IPY_MODEL_3584e27c893848f5ad58daeaff7d2f66",
            "placeholder": "​",
            "style": "IPY_MODEL_698319fdd33948d1b869128635218c6d",
            "value": "100%"
          }
        },
        "de9c9a70473d4a2ea7fcc72371166982": {
          "model_module": "@jupyter-widgets/controls",
          "model_name": "FloatProgressModel",
          "model_module_version": "1.5.0",
          "state": {
            "_dom_classes": [],
            "_model_module": "@jupyter-widgets/controls",
            "_model_module_version": "1.5.0",
            "_model_name": "FloatProgressModel",
            "_view_count": null,
            "_view_module": "@jupyter-widgets/controls",
            "_view_module_version": "1.5.0",
            "_view_name": "ProgressView",
            "bar_style": "success",
            "description": "",
            "description_tooltip": null,
            "layout": "IPY_MODEL_018883d60dd44dc3848367df09dd6737",
            "max": 329,
            "min": 0,
            "orientation": "horizontal",
            "style": "IPY_MODEL_810f7ee4210e48d1af06e21fce7926d9",
            "value": 329
          }
        },
        "3de9800f27d34cfda48738fb4c0b2fe9": {
          "model_module": "@jupyter-widgets/controls",
          "model_name": "HTMLModel",
          "model_module_version": "1.5.0",
          "state": {
            "_dom_classes": [],
            "_model_module": "@jupyter-widgets/controls",
            "_model_module_version": "1.5.0",
            "_model_name": "HTMLModel",
            "_view_count": null,
            "_view_module": "@jupyter-widgets/controls",
            "_view_module_version": "1.5.0",
            "_view_name": "HTMLView",
            "description": "",
            "description_tooltip": null,
            "layout": "IPY_MODEL_c857e1a134224ba6b4e0e4bebc78748e",
            "placeholder": "​",
            "style": "IPY_MODEL_42e38a3505e94726a39eb7c2318cd001",
            "value": " 329/329 [00:02&lt;00:00, 113.65it/s]"
          }
        },
        "06c18a3807ad464f80347a41e0d7102e": {
          "model_module": "@jupyter-widgets/base",
          "model_name": "LayoutModel",
          "model_module_version": "1.2.0",
          "state": {
            "_model_module": "@jupyter-widgets/base",
            "_model_module_version": "1.2.0",
            "_model_name": "LayoutModel",
            "_view_count": null,
            "_view_module": "@jupyter-widgets/base",
            "_view_module_version": "1.2.0",
            "_view_name": "LayoutView",
            "align_content": null,
            "align_items": null,
            "align_self": null,
            "border": null,
            "bottom": null,
            "display": null,
            "flex": null,
            "flex_flow": null,
            "grid_area": null,
            "grid_auto_columns": null,
            "grid_auto_flow": null,
            "grid_auto_rows": null,
            "grid_column": null,
            "grid_gap": null,
            "grid_row": null,
            "grid_template_areas": null,
            "grid_template_columns": null,
            "grid_template_rows": null,
            "height": null,
            "justify_content": null,
            "justify_items": null,
            "left": null,
            "margin": null,
            "max_height": null,
            "max_width": null,
            "min_height": null,
            "min_width": null,
            "object_fit": null,
            "object_position": null,
            "order": null,
            "overflow": null,
            "overflow_x": null,
            "overflow_y": null,
            "padding": null,
            "right": null,
            "top": null,
            "visibility": null,
            "width": null
          }
        },
        "3584e27c893848f5ad58daeaff7d2f66": {
          "model_module": "@jupyter-widgets/base",
          "model_name": "LayoutModel",
          "model_module_version": "1.2.0",
          "state": {
            "_model_module": "@jupyter-widgets/base",
            "_model_module_version": "1.2.0",
            "_model_name": "LayoutModel",
            "_view_count": null,
            "_view_module": "@jupyter-widgets/base",
            "_view_module_version": "1.2.0",
            "_view_name": "LayoutView",
            "align_content": null,
            "align_items": null,
            "align_self": null,
            "border": null,
            "bottom": null,
            "display": null,
            "flex": null,
            "flex_flow": null,
            "grid_area": null,
            "grid_auto_columns": null,
            "grid_auto_flow": null,
            "grid_auto_rows": null,
            "grid_column": null,
            "grid_gap": null,
            "grid_row": null,
            "grid_template_areas": null,
            "grid_template_columns": null,
            "grid_template_rows": null,
            "height": null,
            "justify_content": null,
            "justify_items": null,
            "left": null,
            "margin": null,
            "max_height": null,
            "max_width": null,
            "min_height": null,
            "min_width": null,
            "object_fit": null,
            "object_position": null,
            "order": null,
            "overflow": null,
            "overflow_x": null,
            "overflow_y": null,
            "padding": null,
            "right": null,
            "top": null,
            "visibility": null,
            "width": null
          }
        },
        "698319fdd33948d1b869128635218c6d": {
          "model_module": "@jupyter-widgets/controls",
          "model_name": "DescriptionStyleModel",
          "model_module_version": "1.5.0",
          "state": {
            "_model_module": "@jupyter-widgets/controls",
            "_model_module_version": "1.5.0",
            "_model_name": "DescriptionStyleModel",
            "_view_count": null,
            "_view_module": "@jupyter-widgets/base",
            "_view_module_version": "1.2.0",
            "_view_name": "StyleView",
            "description_width": ""
          }
        },
        "018883d60dd44dc3848367df09dd6737": {
          "model_module": "@jupyter-widgets/base",
          "model_name": "LayoutModel",
          "model_module_version": "1.2.0",
          "state": {
            "_model_module": "@jupyter-widgets/base",
            "_model_module_version": "1.2.0",
            "_model_name": "LayoutModel",
            "_view_count": null,
            "_view_module": "@jupyter-widgets/base",
            "_view_module_version": "1.2.0",
            "_view_name": "LayoutView",
            "align_content": null,
            "align_items": null,
            "align_self": null,
            "border": null,
            "bottom": null,
            "display": null,
            "flex": null,
            "flex_flow": null,
            "grid_area": null,
            "grid_auto_columns": null,
            "grid_auto_flow": null,
            "grid_auto_rows": null,
            "grid_column": null,
            "grid_gap": null,
            "grid_row": null,
            "grid_template_areas": null,
            "grid_template_columns": null,
            "grid_template_rows": null,
            "height": null,
            "justify_content": null,
            "justify_items": null,
            "left": null,
            "margin": null,
            "max_height": null,
            "max_width": null,
            "min_height": null,
            "min_width": null,
            "object_fit": null,
            "object_position": null,
            "order": null,
            "overflow": null,
            "overflow_x": null,
            "overflow_y": null,
            "padding": null,
            "right": null,
            "top": null,
            "visibility": null,
            "width": null
          }
        },
        "810f7ee4210e48d1af06e21fce7926d9": {
          "model_module": "@jupyter-widgets/controls",
          "model_name": "ProgressStyleModel",
          "model_module_version": "1.5.0",
          "state": {
            "_model_module": "@jupyter-widgets/controls",
            "_model_module_version": "1.5.0",
            "_model_name": "ProgressStyleModel",
            "_view_count": null,
            "_view_module": "@jupyter-widgets/base",
            "_view_module_version": "1.2.0",
            "_view_name": "StyleView",
            "bar_color": null,
            "description_width": ""
          }
        },
        "c857e1a134224ba6b4e0e4bebc78748e": {
          "model_module": "@jupyter-widgets/base",
          "model_name": "LayoutModel",
          "model_module_version": "1.2.0",
          "state": {
            "_model_module": "@jupyter-widgets/base",
            "_model_module_version": "1.2.0",
            "_model_name": "LayoutModel",
            "_view_count": null,
            "_view_module": "@jupyter-widgets/base",
            "_view_module_version": "1.2.0",
            "_view_name": "LayoutView",
            "align_content": null,
            "align_items": null,
            "align_self": null,
            "border": null,
            "bottom": null,
            "display": null,
            "flex": null,
            "flex_flow": null,
            "grid_area": null,
            "grid_auto_columns": null,
            "grid_auto_flow": null,
            "grid_auto_rows": null,
            "grid_column": null,
            "grid_gap": null,
            "grid_row": null,
            "grid_template_areas": null,
            "grid_template_columns": null,
            "grid_template_rows": null,
            "height": null,
            "justify_content": null,
            "justify_items": null,
            "left": null,
            "margin": null,
            "max_height": null,
            "max_width": null,
            "min_height": null,
            "min_width": null,
            "object_fit": null,
            "object_position": null,
            "order": null,
            "overflow": null,
            "overflow_x": null,
            "overflow_y": null,
            "padding": null,
            "right": null,
            "top": null,
            "visibility": null,
            "width": null
          }
        },
        "42e38a3505e94726a39eb7c2318cd001": {
          "model_module": "@jupyter-widgets/controls",
          "model_name": "DescriptionStyleModel",
          "model_module_version": "1.5.0",
          "state": {
            "_model_module": "@jupyter-widgets/controls",
            "_model_module_version": "1.5.0",
            "_model_name": "DescriptionStyleModel",
            "_view_count": null,
            "_view_module": "@jupyter-widgets/base",
            "_view_module_version": "1.2.0",
            "_view_name": "StyleView",
            "description_width": ""
          }
        },
        "952a8cfd4f9149b0826497ad58570266": {
          "model_module": "@jupyter-widgets/controls",
          "model_name": "HBoxModel",
          "model_module_version": "1.5.0",
          "state": {
            "_dom_classes": [],
            "_model_module": "@jupyter-widgets/controls",
            "_model_module_version": "1.5.0",
            "_model_name": "HBoxModel",
            "_view_count": null,
            "_view_module": "@jupyter-widgets/controls",
            "_view_module_version": "1.5.0",
            "_view_name": "HBoxView",
            "box_style": "",
            "children": [
              "IPY_MODEL_05186c55ac2c44ccab82f194528a2d9c",
              "IPY_MODEL_ca5742b09ec44fb68c4822629b1a94a3",
              "IPY_MODEL_b26f898de46345d796e6f8524385dd50"
            ],
            "layout": "IPY_MODEL_200fdb95578647b5a90045e9ab409a80"
          }
        },
        "05186c55ac2c44ccab82f194528a2d9c": {
          "model_module": "@jupyter-widgets/controls",
          "model_name": "HTMLModel",
          "model_module_version": "1.5.0",
          "state": {
            "_dom_classes": [],
            "_model_module": "@jupyter-widgets/controls",
            "_model_module_version": "1.5.0",
            "_model_name": "HTMLModel",
            "_view_count": null,
            "_view_module": "@jupyter-widgets/controls",
            "_view_module_version": "1.5.0",
            "_view_name": "HTMLView",
            "description": "",
            "description_tooltip": null,
            "layout": "IPY_MODEL_fa273b70470d4f03aee63bc49f3cdca5",
            "placeholder": "​",
            "style": "IPY_MODEL_42d47d3e6d0a47bda572491885834db1",
            "value": "100%"
          }
        },
        "ca5742b09ec44fb68c4822629b1a94a3": {
          "model_module": "@jupyter-widgets/controls",
          "model_name": "FloatProgressModel",
          "model_module_version": "1.5.0",
          "state": {
            "_dom_classes": [],
            "_model_module": "@jupyter-widgets/controls",
            "_model_module_version": "1.5.0",
            "_model_name": "FloatProgressModel",
            "_view_count": null,
            "_view_module": "@jupyter-widgets/controls",
            "_view_module_version": "1.5.0",
            "_view_name": "ProgressView",
            "bar_style": "success",
            "description": "",
            "description_tooltip": null,
            "layout": "IPY_MODEL_fa1e087dc9f8432bb4656cc759fb9490",
            "max": 9,
            "min": 0,
            "orientation": "horizontal",
            "style": "IPY_MODEL_1f28a5db210b4537869c462a164ce40b",
            "value": 9
          }
        },
        "b26f898de46345d796e6f8524385dd50": {
          "model_module": "@jupyter-widgets/controls",
          "model_name": "HTMLModel",
          "model_module_version": "1.5.0",
          "state": {
            "_dom_classes": [],
            "_model_module": "@jupyter-widgets/controls",
            "_model_module_version": "1.5.0",
            "_model_name": "HTMLModel",
            "_view_count": null,
            "_view_module": "@jupyter-widgets/controls",
            "_view_module_version": "1.5.0",
            "_view_name": "HTMLView",
            "description": "",
            "description_tooltip": null,
            "layout": "IPY_MODEL_66601114ae054f24833b45e359077674",
            "placeholder": "​",
            "style": "IPY_MODEL_c33502310d3b4228b23efa1b2f35d9a0",
            "value": " 9/9 [19:46&lt;00:00, 129.78s/it]"
          }
        },
        "200fdb95578647b5a90045e9ab409a80": {
          "model_module": "@jupyter-widgets/base",
          "model_name": "LayoutModel",
          "model_module_version": "1.2.0",
          "state": {
            "_model_module": "@jupyter-widgets/base",
            "_model_module_version": "1.2.0",
            "_model_name": "LayoutModel",
            "_view_count": null,
            "_view_module": "@jupyter-widgets/base",
            "_view_module_version": "1.2.0",
            "_view_name": "LayoutView",
            "align_content": null,
            "align_items": null,
            "align_self": null,
            "border": null,
            "bottom": null,
            "display": null,
            "flex": null,
            "flex_flow": null,
            "grid_area": null,
            "grid_auto_columns": null,
            "grid_auto_flow": null,
            "grid_auto_rows": null,
            "grid_column": null,
            "grid_gap": null,
            "grid_row": null,
            "grid_template_areas": null,
            "grid_template_columns": null,
            "grid_template_rows": null,
            "height": null,
            "justify_content": null,
            "justify_items": null,
            "left": null,
            "margin": null,
            "max_height": null,
            "max_width": null,
            "min_height": null,
            "min_width": null,
            "object_fit": null,
            "object_position": null,
            "order": null,
            "overflow": null,
            "overflow_x": null,
            "overflow_y": null,
            "padding": null,
            "right": null,
            "top": null,
            "visibility": null,
            "width": null
          }
        },
        "fa273b70470d4f03aee63bc49f3cdca5": {
          "model_module": "@jupyter-widgets/base",
          "model_name": "LayoutModel",
          "model_module_version": "1.2.0",
          "state": {
            "_model_module": "@jupyter-widgets/base",
            "_model_module_version": "1.2.0",
            "_model_name": "LayoutModel",
            "_view_count": null,
            "_view_module": "@jupyter-widgets/base",
            "_view_module_version": "1.2.0",
            "_view_name": "LayoutView",
            "align_content": null,
            "align_items": null,
            "align_self": null,
            "border": null,
            "bottom": null,
            "display": null,
            "flex": null,
            "flex_flow": null,
            "grid_area": null,
            "grid_auto_columns": null,
            "grid_auto_flow": null,
            "grid_auto_rows": null,
            "grid_column": null,
            "grid_gap": null,
            "grid_row": null,
            "grid_template_areas": null,
            "grid_template_columns": null,
            "grid_template_rows": null,
            "height": null,
            "justify_content": null,
            "justify_items": null,
            "left": null,
            "margin": null,
            "max_height": null,
            "max_width": null,
            "min_height": null,
            "min_width": null,
            "object_fit": null,
            "object_position": null,
            "order": null,
            "overflow": null,
            "overflow_x": null,
            "overflow_y": null,
            "padding": null,
            "right": null,
            "top": null,
            "visibility": null,
            "width": null
          }
        },
        "42d47d3e6d0a47bda572491885834db1": {
          "model_module": "@jupyter-widgets/controls",
          "model_name": "DescriptionStyleModel",
          "model_module_version": "1.5.0",
          "state": {
            "_model_module": "@jupyter-widgets/controls",
            "_model_module_version": "1.5.0",
            "_model_name": "DescriptionStyleModel",
            "_view_count": null,
            "_view_module": "@jupyter-widgets/base",
            "_view_module_version": "1.2.0",
            "_view_name": "StyleView",
            "description_width": ""
          }
        },
        "fa1e087dc9f8432bb4656cc759fb9490": {
          "model_module": "@jupyter-widgets/base",
          "model_name": "LayoutModel",
          "model_module_version": "1.2.0",
          "state": {
            "_model_module": "@jupyter-widgets/base",
            "_model_module_version": "1.2.0",
            "_model_name": "LayoutModel",
            "_view_count": null,
            "_view_module": "@jupyter-widgets/base",
            "_view_module_version": "1.2.0",
            "_view_name": "LayoutView",
            "align_content": null,
            "align_items": null,
            "align_self": null,
            "border": null,
            "bottom": null,
            "display": null,
            "flex": null,
            "flex_flow": null,
            "grid_area": null,
            "grid_auto_columns": null,
            "grid_auto_flow": null,
            "grid_auto_rows": null,
            "grid_column": null,
            "grid_gap": null,
            "grid_row": null,
            "grid_template_areas": null,
            "grid_template_columns": null,
            "grid_template_rows": null,
            "height": null,
            "justify_content": null,
            "justify_items": null,
            "left": null,
            "margin": null,
            "max_height": null,
            "max_width": null,
            "min_height": null,
            "min_width": null,
            "object_fit": null,
            "object_position": null,
            "order": null,
            "overflow": null,
            "overflow_x": null,
            "overflow_y": null,
            "padding": null,
            "right": null,
            "top": null,
            "visibility": null,
            "width": null
          }
        },
        "1f28a5db210b4537869c462a164ce40b": {
          "model_module": "@jupyter-widgets/controls",
          "model_name": "ProgressStyleModel",
          "model_module_version": "1.5.0",
          "state": {
            "_model_module": "@jupyter-widgets/controls",
            "_model_module_version": "1.5.0",
            "_model_name": "ProgressStyleModel",
            "_view_count": null,
            "_view_module": "@jupyter-widgets/base",
            "_view_module_version": "1.2.0",
            "_view_name": "StyleView",
            "bar_color": null,
            "description_width": ""
          }
        },
        "66601114ae054f24833b45e359077674": {
          "model_module": "@jupyter-widgets/base",
          "model_name": "LayoutModel",
          "model_module_version": "1.2.0",
          "state": {
            "_model_module": "@jupyter-widgets/base",
            "_model_module_version": "1.2.0",
            "_model_name": "LayoutModel",
            "_view_count": null,
            "_view_module": "@jupyter-widgets/base",
            "_view_module_version": "1.2.0",
            "_view_name": "LayoutView",
            "align_content": null,
            "align_items": null,
            "align_self": null,
            "border": null,
            "bottom": null,
            "display": null,
            "flex": null,
            "flex_flow": null,
            "grid_area": null,
            "grid_auto_columns": null,
            "grid_auto_flow": null,
            "grid_auto_rows": null,
            "grid_column": null,
            "grid_gap": null,
            "grid_row": null,
            "grid_template_areas": null,
            "grid_template_columns": null,
            "grid_template_rows": null,
            "height": null,
            "justify_content": null,
            "justify_items": null,
            "left": null,
            "margin": null,
            "max_height": null,
            "max_width": null,
            "min_height": null,
            "min_width": null,
            "object_fit": null,
            "object_position": null,
            "order": null,
            "overflow": null,
            "overflow_x": null,
            "overflow_y": null,
            "padding": null,
            "right": null,
            "top": null,
            "visibility": null,
            "width": null
          }
        },
        "c33502310d3b4228b23efa1b2f35d9a0": {
          "model_module": "@jupyter-widgets/controls",
          "model_name": "DescriptionStyleModel",
          "model_module_version": "1.5.0",
          "state": {
            "_model_module": "@jupyter-widgets/controls",
            "_model_module_version": "1.5.0",
            "_model_name": "DescriptionStyleModel",
            "_view_count": null,
            "_view_module": "@jupyter-widgets/base",
            "_view_module_version": "1.2.0",
            "_view_name": "StyleView",
            "description_width": ""
          }
        },
        "eab52fcfa67e47cdb427168e93590f1f": {
          "model_module": "@jupyter-widgets/controls",
          "model_name": "HBoxModel",
          "model_module_version": "1.5.0",
          "state": {
            "_dom_classes": [],
            "_model_module": "@jupyter-widgets/controls",
            "_model_module_version": "1.5.0",
            "_model_name": "HBoxModel",
            "_view_count": null,
            "_view_module": "@jupyter-widgets/controls",
            "_view_module_version": "1.5.0",
            "_view_name": "HBoxView",
            "box_style": "",
            "children": [
              "IPY_MODEL_fc3ab541a7134b0baeb8b3ef2d1239fa",
              "IPY_MODEL_50c39b45d79d46ea82a7336443aff18e",
              "IPY_MODEL_dbf370460f52421a81b94cacff904877"
            ],
            "layout": "IPY_MODEL_972d4765b3c046b1860dcfce162c69f6"
          }
        },
        "fc3ab541a7134b0baeb8b3ef2d1239fa": {
          "model_module": "@jupyter-widgets/controls",
          "model_name": "HTMLModel",
          "model_module_version": "1.5.0",
          "state": {
            "_dom_classes": [],
            "_model_module": "@jupyter-widgets/controls",
            "_model_module_version": "1.5.0",
            "_model_name": "HTMLModel",
            "_view_count": null,
            "_view_module": "@jupyter-widgets/controls",
            "_view_module_version": "1.5.0",
            "_view_name": "HTMLView",
            "description": "",
            "description_tooltip": null,
            "layout": "IPY_MODEL_bd7870873cc54445beb31a2f95f08be8",
            "placeholder": "​",
            "style": "IPY_MODEL_e9b4383d88b146b6b3259b823670c23d",
            "value": "100%"
          }
        },
        "50c39b45d79d46ea82a7336443aff18e": {
          "model_module": "@jupyter-widgets/controls",
          "model_name": "FloatProgressModel",
          "model_module_version": "1.5.0",
          "state": {
            "_dom_classes": [],
            "_model_module": "@jupyter-widgets/controls",
            "_model_module_version": "1.5.0",
            "_model_name": "FloatProgressModel",
            "_view_count": null,
            "_view_module": "@jupyter-widgets/controls",
            "_view_module_version": "1.5.0",
            "_view_name": "ProgressView",
            "bar_style": "success",
            "description": "",
            "description_tooltip": null,
            "layout": "IPY_MODEL_85c64c8f8f8543ab82e32b49224245ab",
            "max": 9,
            "min": 0,
            "orientation": "horizontal",
            "style": "IPY_MODEL_91808cce61374296a0b0aa3484665b43",
            "value": 9
          }
        },
        "dbf370460f52421a81b94cacff904877": {
          "model_module": "@jupyter-widgets/controls",
          "model_name": "HTMLModel",
          "model_module_version": "1.5.0",
          "state": {
            "_dom_classes": [],
            "_model_module": "@jupyter-widgets/controls",
            "_model_module_version": "1.5.0",
            "_model_name": "HTMLModel",
            "_view_count": null,
            "_view_module": "@jupyter-widgets/controls",
            "_view_module_version": "1.5.0",
            "_view_name": "HTMLView",
            "description": "",
            "description_tooltip": null,
            "layout": "IPY_MODEL_6974c70171654ce5bc357aa4fa3f5689",
            "placeholder": "​",
            "style": "IPY_MODEL_6abda79e78b24f618f33ba7fa4baace5",
            "value": " 9/9 [05:11&lt;00:00, 36.90s/it]"
          }
        },
        "972d4765b3c046b1860dcfce162c69f6": {
          "model_module": "@jupyter-widgets/base",
          "model_name": "LayoutModel",
          "model_module_version": "1.2.0",
          "state": {
            "_model_module": "@jupyter-widgets/base",
            "_model_module_version": "1.2.0",
            "_model_name": "LayoutModel",
            "_view_count": null,
            "_view_module": "@jupyter-widgets/base",
            "_view_module_version": "1.2.0",
            "_view_name": "LayoutView",
            "align_content": null,
            "align_items": null,
            "align_self": null,
            "border": null,
            "bottom": null,
            "display": null,
            "flex": null,
            "flex_flow": null,
            "grid_area": null,
            "grid_auto_columns": null,
            "grid_auto_flow": null,
            "grid_auto_rows": null,
            "grid_column": null,
            "grid_gap": null,
            "grid_row": null,
            "grid_template_areas": null,
            "grid_template_columns": null,
            "grid_template_rows": null,
            "height": null,
            "justify_content": null,
            "justify_items": null,
            "left": null,
            "margin": null,
            "max_height": null,
            "max_width": null,
            "min_height": null,
            "min_width": null,
            "object_fit": null,
            "object_position": null,
            "order": null,
            "overflow": null,
            "overflow_x": null,
            "overflow_y": null,
            "padding": null,
            "right": null,
            "top": null,
            "visibility": null,
            "width": null
          }
        },
        "bd7870873cc54445beb31a2f95f08be8": {
          "model_module": "@jupyter-widgets/base",
          "model_name": "LayoutModel",
          "model_module_version": "1.2.0",
          "state": {
            "_model_module": "@jupyter-widgets/base",
            "_model_module_version": "1.2.0",
            "_model_name": "LayoutModel",
            "_view_count": null,
            "_view_module": "@jupyter-widgets/base",
            "_view_module_version": "1.2.0",
            "_view_name": "LayoutView",
            "align_content": null,
            "align_items": null,
            "align_self": null,
            "border": null,
            "bottom": null,
            "display": null,
            "flex": null,
            "flex_flow": null,
            "grid_area": null,
            "grid_auto_columns": null,
            "grid_auto_flow": null,
            "grid_auto_rows": null,
            "grid_column": null,
            "grid_gap": null,
            "grid_row": null,
            "grid_template_areas": null,
            "grid_template_columns": null,
            "grid_template_rows": null,
            "height": null,
            "justify_content": null,
            "justify_items": null,
            "left": null,
            "margin": null,
            "max_height": null,
            "max_width": null,
            "min_height": null,
            "min_width": null,
            "object_fit": null,
            "object_position": null,
            "order": null,
            "overflow": null,
            "overflow_x": null,
            "overflow_y": null,
            "padding": null,
            "right": null,
            "top": null,
            "visibility": null,
            "width": null
          }
        },
        "e9b4383d88b146b6b3259b823670c23d": {
          "model_module": "@jupyter-widgets/controls",
          "model_name": "DescriptionStyleModel",
          "model_module_version": "1.5.0",
          "state": {
            "_model_module": "@jupyter-widgets/controls",
            "_model_module_version": "1.5.0",
            "_model_name": "DescriptionStyleModel",
            "_view_count": null,
            "_view_module": "@jupyter-widgets/base",
            "_view_module_version": "1.2.0",
            "_view_name": "StyleView",
            "description_width": ""
          }
        },
        "85c64c8f8f8543ab82e32b49224245ab": {
          "model_module": "@jupyter-widgets/base",
          "model_name": "LayoutModel",
          "model_module_version": "1.2.0",
          "state": {
            "_model_module": "@jupyter-widgets/base",
            "_model_module_version": "1.2.0",
            "_model_name": "LayoutModel",
            "_view_count": null,
            "_view_module": "@jupyter-widgets/base",
            "_view_module_version": "1.2.0",
            "_view_name": "LayoutView",
            "align_content": null,
            "align_items": null,
            "align_self": null,
            "border": null,
            "bottom": null,
            "display": null,
            "flex": null,
            "flex_flow": null,
            "grid_area": null,
            "grid_auto_columns": null,
            "grid_auto_flow": null,
            "grid_auto_rows": null,
            "grid_column": null,
            "grid_gap": null,
            "grid_row": null,
            "grid_template_areas": null,
            "grid_template_columns": null,
            "grid_template_rows": null,
            "height": null,
            "justify_content": null,
            "justify_items": null,
            "left": null,
            "margin": null,
            "max_height": null,
            "max_width": null,
            "min_height": null,
            "min_width": null,
            "object_fit": null,
            "object_position": null,
            "order": null,
            "overflow": null,
            "overflow_x": null,
            "overflow_y": null,
            "padding": null,
            "right": null,
            "top": null,
            "visibility": null,
            "width": null
          }
        },
        "91808cce61374296a0b0aa3484665b43": {
          "model_module": "@jupyter-widgets/controls",
          "model_name": "ProgressStyleModel",
          "model_module_version": "1.5.0",
          "state": {
            "_model_module": "@jupyter-widgets/controls",
            "_model_module_version": "1.5.0",
            "_model_name": "ProgressStyleModel",
            "_view_count": null,
            "_view_module": "@jupyter-widgets/base",
            "_view_module_version": "1.2.0",
            "_view_name": "StyleView",
            "bar_color": null,
            "description_width": ""
          }
        },
        "6974c70171654ce5bc357aa4fa3f5689": {
          "model_module": "@jupyter-widgets/base",
          "model_name": "LayoutModel",
          "model_module_version": "1.2.0",
          "state": {
            "_model_module": "@jupyter-widgets/base",
            "_model_module_version": "1.2.0",
            "_model_name": "LayoutModel",
            "_view_count": null,
            "_view_module": "@jupyter-widgets/base",
            "_view_module_version": "1.2.0",
            "_view_name": "LayoutView",
            "align_content": null,
            "align_items": null,
            "align_self": null,
            "border": null,
            "bottom": null,
            "display": null,
            "flex": null,
            "flex_flow": null,
            "grid_area": null,
            "grid_auto_columns": null,
            "grid_auto_flow": null,
            "grid_auto_rows": null,
            "grid_column": null,
            "grid_gap": null,
            "grid_row": null,
            "grid_template_areas": null,
            "grid_template_columns": null,
            "grid_template_rows": null,
            "height": null,
            "justify_content": null,
            "justify_items": null,
            "left": null,
            "margin": null,
            "max_height": null,
            "max_width": null,
            "min_height": null,
            "min_width": null,
            "object_fit": null,
            "object_position": null,
            "order": null,
            "overflow": null,
            "overflow_x": null,
            "overflow_y": null,
            "padding": null,
            "right": null,
            "top": null,
            "visibility": null,
            "width": null
          }
        },
        "6abda79e78b24f618f33ba7fa4baace5": {
          "model_module": "@jupyter-widgets/controls",
          "model_name": "DescriptionStyleModel",
          "model_module_version": "1.5.0",
          "state": {
            "_model_module": "@jupyter-widgets/controls",
            "_model_module_version": "1.5.0",
            "_model_name": "DescriptionStyleModel",
            "_view_count": null,
            "_view_module": "@jupyter-widgets/base",
            "_view_module_version": "1.2.0",
            "_view_name": "StyleView",
            "description_width": ""
          }
        },
        "d4c316e3816e457c9df06009a6cf3e26": {
          "model_module": "@jupyter-widgets/controls",
          "model_name": "HBoxModel",
          "model_module_version": "1.5.0",
          "state": {
            "_dom_classes": [],
            "_model_module": "@jupyter-widgets/controls",
            "_model_module_version": "1.5.0",
            "_model_name": "HBoxModel",
            "_view_count": null,
            "_view_module": "@jupyter-widgets/controls",
            "_view_module_version": "1.5.0",
            "_view_name": "HBoxView",
            "box_style": "",
            "children": [
              "IPY_MODEL_1999b7df8f5644998a2412d7603a1e80",
              "IPY_MODEL_5c8100650797438fb8c508e391844653",
              "IPY_MODEL_89b97a7dd8b346e3b81998059c6b22d2"
            ],
            "layout": "IPY_MODEL_e4bfe406f13d4430830410ef5c8d0c78"
          }
        },
        "1999b7df8f5644998a2412d7603a1e80": {
          "model_module": "@jupyter-widgets/controls",
          "model_name": "HTMLModel",
          "model_module_version": "1.5.0",
          "state": {
            "_dom_classes": [],
            "_model_module": "@jupyter-widgets/controls",
            "_model_module_version": "1.5.0",
            "_model_name": "HTMLModel",
            "_view_count": null,
            "_view_module": "@jupyter-widgets/controls",
            "_view_module_version": "1.5.0",
            "_view_name": "HTMLView",
            "description": "",
            "description_tooltip": null,
            "layout": "IPY_MODEL_1a22f5181bbc48aaa956c18c7674f244",
            "placeholder": "​",
            "style": "IPY_MODEL_29e655c54dd2497696a49efd653f9900",
            "value": " 66%"
          }
        },
        "5c8100650797438fb8c508e391844653": {
          "model_module": "@jupyter-widgets/controls",
          "model_name": "FloatProgressModel",
          "model_module_version": "1.5.0",
          "state": {
            "_dom_classes": [],
            "_model_module": "@jupyter-widgets/controls",
            "_model_module_version": "1.5.0",
            "_model_name": "FloatProgressModel",
            "_view_count": null,
            "_view_module": "@jupyter-widgets/controls",
            "_view_module_version": "1.5.0",
            "_view_name": "ProgressView",
            "bar_style": "danger",
            "description": "",
            "description_tooltip": null,
            "layout": "IPY_MODEL_85ff33a844384042a16b071a75d6f10d",
            "max": 500,
            "min": 0,
            "orientation": "horizontal",
            "style": "IPY_MODEL_586b20922bdc47f18dd0d368413f0cc7",
            "value": 329
          }
        },
        "89b97a7dd8b346e3b81998059c6b22d2": {
          "model_module": "@jupyter-widgets/controls",
          "model_name": "HTMLModel",
          "model_module_version": "1.5.0",
          "state": {
            "_dom_classes": [],
            "_model_module": "@jupyter-widgets/controls",
            "_model_module_version": "1.5.0",
            "_model_name": "HTMLModel",
            "_view_count": null,
            "_view_module": "@jupyter-widgets/controls",
            "_view_module_version": "1.5.0",
            "_view_name": "HTMLView",
            "description": "",
            "description_tooltip": null,
            "layout": "IPY_MODEL_53f3176b374f44978989c648b00ec6b1",
            "placeholder": "​",
            "style": "IPY_MODEL_73d7e4dc235248cf968a22330723e620",
            "value": " 329/500 [12:54&lt;05:50,  2.05s/it]"
          }
        },
        "e4bfe406f13d4430830410ef5c8d0c78": {
          "model_module": "@jupyter-widgets/base",
          "model_name": "LayoutModel",
          "model_module_version": "1.2.0",
          "state": {
            "_model_module": "@jupyter-widgets/base",
            "_model_module_version": "1.2.0",
            "_model_name": "LayoutModel",
            "_view_count": null,
            "_view_module": "@jupyter-widgets/base",
            "_view_module_version": "1.2.0",
            "_view_name": "LayoutView",
            "align_content": null,
            "align_items": null,
            "align_self": null,
            "border": null,
            "bottom": null,
            "display": null,
            "flex": null,
            "flex_flow": null,
            "grid_area": null,
            "grid_auto_columns": null,
            "grid_auto_flow": null,
            "grid_auto_rows": null,
            "grid_column": null,
            "grid_gap": null,
            "grid_row": null,
            "grid_template_areas": null,
            "grid_template_columns": null,
            "grid_template_rows": null,
            "height": null,
            "justify_content": null,
            "justify_items": null,
            "left": null,
            "margin": null,
            "max_height": null,
            "max_width": null,
            "min_height": null,
            "min_width": null,
            "object_fit": null,
            "object_position": null,
            "order": null,
            "overflow": null,
            "overflow_x": null,
            "overflow_y": null,
            "padding": null,
            "right": null,
            "top": null,
            "visibility": null,
            "width": null
          }
        },
        "1a22f5181bbc48aaa956c18c7674f244": {
          "model_module": "@jupyter-widgets/base",
          "model_name": "LayoutModel",
          "model_module_version": "1.2.0",
          "state": {
            "_model_module": "@jupyter-widgets/base",
            "_model_module_version": "1.2.0",
            "_model_name": "LayoutModel",
            "_view_count": null,
            "_view_module": "@jupyter-widgets/base",
            "_view_module_version": "1.2.0",
            "_view_name": "LayoutView",
            "align_content": null,
            "align_items": null,
            "align_self": null,
            "border": null,
            "bottom": null,
            "display": null,
            "flex": null,
            "flex_flow": null,
            "grid_area": null,
            "grid_auto_columns": null,
            "grid_auto_flow": null,
            "grid_auto_rows": null,
            "grid_column": null,
            "grid_gap": null,
            "grid_row": null,
            "grid_template_areas": null,
            "grid_template_columns": null,
            "grid_template_rows": null,
            "height": null,
            "justify_content": null,
            "justify_items": null,
            "left": null,
            "margin": null,
            "max_height": null,
            "max_width": null,
            "min_height": null,
            "min_width": null,
            "object_fit": null,
            "object_position": null,
            "order": null,
            "overflow": null,
            "overflow_x": null,
            "overflow_y": null,
            "padding": null,
            "right": null,
            "top": null,
            "visibility": null,
            "width": null
          }
        },
        "29e655c54dd2497696a49efd653f9900": {
          "model_module": "@jupyter-widgets/controls",
          "model_name": "DescriptionStyleModel",
          "model_module_version": "1.5.0",
          "state": {
            "_model_module": "@jupyter-widgets/controls",
            "_model_module_version": "1.5.0",
            "_model_name": "DescriptionStyleModel",
            "_view_count": null,
            "_view_module": "@jupyter-widgets/base",
            "_view_module_version": "1.2.0",
            "_view_name": "StyleView",
            "description_width": ""
          }
        },
        "85ff33a844384042a16b071a75d6f10d": {
          "model_module": "@jupyter-widgets/base",
          "model_name": "LayoutModel",
          "model_module_version": "1.2.0",
          "state": {
            "_model_module": "@jupyter-widgets/base",
            "_model_module_version": "1.2.0",
            "_model_name": "LayoutModel",
            "_view_count": null,
            "_view_module": "@jupyter-widgets/base",
            "_view_module_version": "1.2.0",
            "_view_name": "LayoutView",
            "align_content": null,
            "align_items": null,
            "align_self": null,
            "border": null,
            "bottom": null,
            "display": null,
            "flex": null,
            "flex_flow": null,
            "grid_area": null,
            "grid_auto_columns": null,
            "grid_auto_flow": null,
            "grid_auto_rows": null,
            "grid_column": null,
            "grid_gap": null,
            "grid_row": null,
            "grid_template_areas": null,
            "grid_template_columns": null,
            "grid_template_rows": null,
            "height": null,
            "justify_content": null,
            "justify_items": null,
            "left": null,
            "margin": null,
            "max_height": null,
            "max_width": null,
            "min_height": null,
            "min_width": null,
            "object_fit": null,
            "object_position": null,
            "order": null,
            "overflow": null,
            "overflow_x": null,
            "overflow_y": null,
            "padding": null,
            "right": null,
            "top": null,
            "visibility": null,
            "width": null
          }
        },
        "586b20922bdc47f18dd0d368413f0cc7": {
          "model_module": "@jupyter-widgets/controls",
          "model_name": "ProgressStyleModel",
          "model_module_version": "1.5.0",
          "state": {
            "_model_module": "@jupyter-widgets/controls",
            "_model_module_version": "1.5.0",
            "_model_name": "ProgressStyleModel",
            "_view_count": null,
            "_view_module": "@jupyter-widgets/base",
            "_view_module_version": "1.2.0",
            "_view_name": "StyleView",
            "bar_color": null,
            "description_width": ""
          }
        },
        "53f3176b374f44978989c648b00ec6b1": {
          "model_module": "@jupyter-widgets/base",
          "model_name": "LayoutModel",
          "model_module_version": "1.2.0",
          "state": {
            "_model_module": "@jupyter-widgets/base",
            "_model_module_version": "1.2.0",
            "_model_name": "LayoutModel",
            "_view_count": null,
            "_view_module": "@jupyter-widgets/base",
            "_view_module_version": "1.2.0",
            "_view_name": "LayoutView",
            "align_content": null,
            "align_items": null,
            "align_self": null,
            "border": null,
            "bottom": null,
            "display": null,
            "flex": null,
            "flex_flow": null,
            "grid_area": null,
            "grid_auto_columns": null,
            "grid_auto_flow": null,
            "grid_auto_rows": null,
            "grid_column": null,
            "grid_gap": null,
            "grid_row": null,
            "grid_template_areas": null,
            "grid_template_columns": null,
            "grid_template_rows": null,
            "height": null,
            "justify_content": null,
            "justify_items": null,
            "left": null,
            "margin": null,
            "max_height": null,
            "max_width": null,
            "min_height": null,
            "min_width": null,
            "object_fit": null,
            "object_position": null,
            "order": null,
            "overflow": null,
            "overflow_x": null,
            "overflow_y": null,
            "padding": null,
            "right": null,
            "top": null,
            "visibility": null,
            "width": null
          }
        },
        "73d7e4dc235248cf968a22330723e620": {
          "model_module": "@jupyter-widgets/controls",
          "model_name": "DescriptionStyleModel",
          "model_module_version": "1.5.0",
          "state": {
            "_model_module": "@jupyter-widgets/controls",
            "_model_module_version": "1.5.0",
            "_model_name": "DescriptionStyleModel",
            "_view_count": null,
            "_view_module": "@jupyter-widgets/base",
            "_view_module_version": "1.2.0",
            "_view_name": "StyleView",
            "description_width": ""
          }
        },
        "29052edc672b4d5f8e7e4d5934a46e2f": {
          "model_module": "@jupyter-widgets/controls",
          "model_name": "HBoxModel",
          "model_module_version": "1.5.0",
          "state": {
            "_dom_classes": [],
            "_model_module": "@jupyter-widgets/controls",
            "_model_module_version": "1.5.0",
            "_model_name": "HBoxModel",
            "_view_count": null,
            "_view_module": "@jupyter-widgets/controls",
            "_view_module_version": "1.5.0",
            "_view_name": "HBoxView",
            "box_style": "",
            "children": [
              "IPY_MODEL_eb3c407b0ab2422698f6b9c591abfc60",
              "IPY_MODEL_09c0015eb740489cba1387a192d1756b",
              "IPY_MODEL_b0c23e6d74c94af1ac02fcddc014ef62"
            ],
            "layout": "IPY_MODEL_c202c61d967d4273a12377d7fa3b6d1f"
          }
        },
        "eb3c407b0ab2422698f6b9c591abfc60": {
          "model_module": "@jupyter-widgets/controls",
          "model_name": "HTMLModel",
          "model_module_version": "1.5.0",
          "state": {
            "_dom_classes": [],
            "_model_module": "@jupyter-widgets/controls",
            "_model_module_version": "1.5.0",
            "_model_name": "HTMLModel",
            "_view_count": null,
            "_view_module": "@jupyter-widgets/controls",
            "_view_module_version": "1.5.0",
            "_view_name": "HTMLView",
            "description": "",
            "description_tooltip": null,
            "layout": "IPY_MODEL_9c985fd228c4478bb8444506219281a7",
            "placeholder": "​",
            "style": "IPY_MODEL_50f1132f5e394a1dadab78968acdd65a",
            "value": "100%"
          }
        },
        "09c0015eb740489cba1387a192d1756b": {
          "model_module": "@jupyter-widgets/controls",
          "model_name": "FloatProgressModel",
          "model_module_version": "1.5.0",
          "state": {
            "_dom_classes": [],
            "_model_module": "@jupyter-widgets/controls",
            "_model_module_version": "1.5.0",
            "_model_name": "FloatProgressModel",
            "_view_count": null,
            "_view_module": "@jupyter-widgets/controls",
            "_view_module_version": "1.5.0",
            "_view_name": "ProgressView",
            "bar_style": "success",
            "description": "",
            "description_tooltip": null,
            "layout": "IPY_MODEL_1166a60cb617426dbc97293b9bc1626d",
            "max": 329,
            "min": 0,
            "orientation": "horizontal",
            "style": "IPY_MODEL_2eb0d490f0f646f3a7ae77fa623143d6",
            "value": 329
          }
        },
        "b0c23e6d74c94af1ac02fcddc014ef62": {
          "model_module": "@jupyter-widgets/controls",
          "model_name": "HTMLModel",
          "model_module_version": "1.5.0",
          "state": {
            "_dom_classes": [],
            "_model_module": "@jupyter-widgets/controls",
            "_model_module_version": "1.5.0",
            "_model_name": "HTMLModel",
            "_view_count": null,
            "_view_module": "@jupyter-widgets/controls",
            "_view_module_version": "1.5.0",
            "_view_name": "HTMLView",
            "description": "",
            "description_tooltip": null,
            "layout": "IPY_MODEL_3cbb2af2eabc464d893da8289abaccf9",
            "placeholder": "​",
            "style": "IPY_MODEL_65671353041e4965bb01fa46751646cd",
            "value": " 329/329 [00:03&lt;00:00, 104.19it/s]"
          }
        },
        "c202c61d967d4273a12377d7fa3b6d1f": {
          "model_module": "@jupyter-widgets/base",
          "model_name": "LayoutModel",
          "model_module_version": "1.2.0",
          "state": {
            "_model_module": "@jupyter-widgets/base",
            "_model_module_version": "1.2.0",
            "_model_name": "LayoutModel",
            "_view_count": null,
            "_view_module": "@jupyter-widgets/base",
            "_view_module_version": "1.2.0",
            "_view_name": "LayoutView",
            "align_content": null,
            "align_items": null,
            "align_self": null,
            "border": null,
            "bottom": null,
            "display": null,
            "flex": null,
            "flex_flow": null,
            "grid_area": null,
            "grid_auto_columns": null,
            "grid_auto_flow": null,
            "grid_auto_rows": null,
            "grid_column": null,
            "grid_gap": null,
            "grid_row": null,
            "grid_template_areas": null,
            "grid_template_columns": null,
            "grid_template_rows": null,
            "height": null,
            "justify_content": null,
            "justify_items": null,
            "left": null,
            "margin": null,
            "max_height": null,
            "max_width": null,
            "min_height": null,
            "min_width": null,
            "object_fit": null,
            "object_position": null,
            "order": null,
            "overflow": null,
            "overflow_x": null,
            "overflow_y": null,
            "padding": null,
            "right": null,
            "top": null,
            "visibility": null,
            "width": null
          }
        },
        "9c985fd228c4478bb8444506219281a7": {
          "model_module": "@jupyter-widgets/base",
          "model_name": "LayoutModel",
          "model_module_version": "1.2.0",
          "state": {
            "_model_module": "@jupyter-widgets/base",
            "_model_module_version": "1.2.0",
            "_model_name": "LayoutModel",
            "_view_count": null,
            "_view_module": "@jupyter-widgets/base",
            "_view_module_version": "1.2.0",
            "_view_name": "LayoutView",
            "align_content": null,
            "align_items": null,
            "align_self": null,
            "border": null,
            "bottom": null,
            "display": null,
            "flex": null,
            "flex_flow": null,
            "grid_area": null,
            "grid_auto_columns": null,
            "grid_auto_flow": null,
            "grid_auto_rows": null,
            "grid_column": null,
            "grid_gap": null,
            "grid_row": null,
            "grid_template_areas": null,
            "grid_template_columns": null,
            "grid_template_rows": null,
            "height": null,
            "justify_content": null,
            "justify_items": null,
            "left": null,
            "margin": null,
            "max_height": null,
            "max_width": null,
            "min_height": null,
            "min_width": null,
            "object_fit": null,
            "object_position": null,
            "order": null,
            "overflow": null,
            "overflow_x": null,
            "overflow_y": null,
            "padding": null,
            "right": null,
            "top": null,
            "visibility": null,
            "width": null
          }
        },
        "50f1132f5e394a1dadab78968acdd65a": {
          "model_module": "@jupyter-widgets/controls",
          "model_name": "DescriptionStyleModel",
          "model_module_version": "1.5.0",
          "state": {
            "_model_module": "@jupyter-widgets/controls",
            "_model_module_version": "1.5.0",
            "_model_name": "DescriptionStyleModel",
            "_view_count": null,
            "_view_module": "@jupyter-widgets/base",
            "_view_module_version": "1.2.0",
            "_view_name": "StyleView",
            "description_width": ""
          }
        },
        "1166a60cb617426dbc97293b9bc1626d": {
          "model_module": "@jupyter-widgets/base",
          "model_name": "LayoutModel",
          "model_module_version": "1.2.0",
          "state": {
            "_model_module": "@jupyter-widgets/base",
            "_model_module_version": "1.2.0",
            "_model_name": "LayoutModel",
            "_view_count": null,
            "_view_module": "@jupyter-widgets/base",
            "_view_module_version": "1.2.0",
            "_view_name": "LayoutView",
            "align_content": null,
            "align_items": null,
            "align_self": null,
            "border": null,
            "bottom": null,
            "display": null,
            "flex": null,
            "flex_flow": null,
            "grid_area": null,
            "grid_auto_columns": null,
            "grid_auto_flow": null,
            "grid_auto_rows": null,
            "grid_column": null,
            "grid_gap": null,
            "grid_row": null,
            "grid_template_areas": null,
            "grid_template_columns": null,
            "grid_template_rows": null,
            "height": null,
            "justify_content": null,
            "justify_items": null,
            "left": null,
            "margin": null,
            "max_height": null,
            "max_width": null,
            "min_height": null,
            "min_width": null,
            "object_fit": null,
            "object_position": null,
            "order": null,
            "overflow": null,
            "overflow_x": null,
            "overflow_y": null,
            "padding": null,
            "right": null,
            "top": null,
            "visibility": null,
            "width": null
          }
        },
        "2eb0d490f0f646f3a7ae77fa623143d6": {
          "model_module": "@jupyter-widgets/controls",
          "model_name": "ProgressStyleModel",
          "model_module_version": "1.5.0",
          "state": {
            "_model_module": "@jupyter-widgets/controls",
            "_model_module_version": "1.5.0",
            "_model_name": "ProgressStyleModel",
            "_view_count": null,
            "_view_module": "@jupyter-widgets/base",
            "_view_module_version": "1.2.0",
            "_view_name": "StyleView",
            "bar_color": null,
            "description_width": ""
          }
        },
        "3cbb2af2eabc464d893da8289abaccf9": {
          "model_module": "@jupyter-widgets/base",
          "model_name": "LayoutModel",
          "model_module_version": "1.2.0",
          "state": {
            "_model_module": "@jupyter-widgets/base",
            "_model_module_version": "1.2.0",
            "_model_name": "LayoutModel",
            "_view_count": null,
            "_view_module": "@jupyter-widgets/base",
            "_view_module_version": "1.2.0",
            "_view_name": "LayoutView",
            "align_content": null,
            "align_items": null,
            "align_self": null,
            "border": null,
            "bottom": null,
            "display": null,
            "flex": null,
            "flex_flow": null,
            "grid_area": null,
            "grid_auto_columns": null,
            "grid_auto_flow": null,
            "grid_auto_rows": null,
            "grid_column": null,
            "grid_gap": null,
            "grid_row": null,
            "grid_template_areas": null,
            "grid_template_columns": null,
            "grid_template_rows": null,
            "height": null,
            "justify_content": null,
            "justify_items": null,
            "left": null,
            "margin": null,
            "max_height": null,
            "max_width": null,
            "min_height": null,
            "min_width": null,
            "object_fit": null,
            "object_position": null,
            "order": null,
            "overflow": null,
            "overflow_x": null,
            "overflow_y": null,
            "padding": null,
            "right": null,
            "top": null,
            "visibility": null,
            "width": null
          }
        },
        "65671353041e4965bb01fa46751646cd": {
          "model_module": "@jupyter-widgets/controls",
          "model_name": "DescriptionStyleModel",
          "model_module_version": "1.5.0",
          "state": {
            "_model_module": "@jupyter-widgets/controls",
            "_model_module_version": "1.5.0",
            "_model_name": "DescriptionStyleModel",
            "_view_count": null,
            "_view_module": "@jupyter-widgets/base",
            "_view_module_version": "1.2.0",
            "_view_name": "StyleView",
            "description_width": ""
          }
        },
        "6a7315ab84f44911b07ba0337e5cf56f": {
          "model_module": "@jupyter-widgets/controls",
          "model_name": "HBoxModel",
          "model_module_version": "1.5.0",
          "state": {
            "_dom_classes": [],
            "_model_module": "@jupyter-widgets/controls",
            "_model_module_version": "1.5.0",
            "_model_name": "HBoxModel",
            "_view_count": null,
            "_view_module": "@jupyter-widgets/controls",
            "_view_module_version": "1.5.0",
            "_view_name": "HBoxView",
            "box_style": "",
            "children": [
              "IPY_MODEL_5159d6fc5669434e8eb1e9ca3dbd0e60",
              "IPY_MODEL_aeff40cbeb664496817954a14fb293e2",
              "IPY_MODEL_98f71313f5dd4c37a9d696a8279b0bc8"
            ],
            "layout": "IPY_MODEL_0015907a057c44dd921b4736e1624972"
          }
        },
        "5159d6fc5669434e8eb1e9ca3dbd0e60": {
          "model_module": "@jupyter-widgets/controls",
          "model_name": "HTMLModel",
          "model_module_version": "1.5.0",
          "state": {
            "_dom_classes": [],
            "_model_module": "@jupyter-widgets/controls",
            "_model_module_version": "1.5.0",
            "_model_name": "HTMLModel",
            "_view_count": null,
            "_view_module": "@jupyter-widgets/controls",
            "_view_module_version": "1.5.0",
            "_view_name": "HTMLView",
            "description": "",
            "description_tooltip": null,
            "layout": "IPY_MODEL_bf28611c4f9143029a617a84b98cd589",
            "placeholder": "​",
            "style": "IPY_MODEL_ea85be915077412bb61e321c6e95f86c",
            "value": "100%"
          }
        },
        "aeff40cbeb664496817954a14fb293e2": {
          "model_module": "@jupyter-widgets/controls",
          "model_name": "FloatProgressModel",
          "model_module_version": "1.5.0",
          "state": {
            "_dom_classes": [],
            "_model_module": "@jupyter-widgets/controls",
            "_model_module_version": "1.5.0",
            "_model_name": "FloatProgressModel",
            "_view_count": null,
            "_view_module": "@jupyter-widgets/controls",
            "_view_module_version": "1.5.0",
            "_view_name": "ProgressView",
            "bar_style": "success",
            "description": "",
            "description_tooltip": null,
            "layout": "IPY_MODEL_f79f2b94159c4aaba0a26bed6e00a963",
            "max": 16434117,
            "min": 0,
            "orientation": "horizontal",
            "style": "IPY_MODEL_30ce7052d60a4ac4ad70a96b8379064b",
            "value": 16434117
          }
        },
        "98f71313f5dd4c37a9d696a8279b0bc8": {
          "model_module": "@jupyter-widgets/controls",
          "model_name": "HTMLModel",
          "model_module_version": "1.5.0",
          "state": {
            "_dom_classes": [],
            "_model_module": "@jupyter-widgets/controls",
            "_model_module_version": "1.5.0",
            "_model_name": "HTMLModel",
            "_view_count": null,
            "_view_module": "@jupyter-widgets/controls",
            "_view_module_version": "1.5.0",
            "_view_name": "HTMLView",
            "description": "",
            "description_tooltip": null,
            "layout": "IPY_MODEL_b8e409b5b9984d7e82b3c386ac9cd0ae",
            "placeholder": "​",
            "style": "IPY_MODEL_6c5b693403f543d48ab177e232e27620",
            "value": " 16434117/16434117 [00:30&lt;00:00, 452933.72it/s]"
          }
        },
        "0015907a057c44dd921b4736e1624972": {
          "model_module": "@jupyter-widgets/base",
          "model_name": "LayoutModel",
          "model_module_version": "1.2.0",
          "state": {
            "_model_module": "@jupyter-widgets/base",
            "_model_module_version": "1.2.0",
            "_model_name": "LayoutModel",
            "_view_count": null,
            "_view_module": "@jupyter-widgets/base",
            "_view_module_version": "1.2.0",
            "_view_name": "LayoutView",
            "align_content": null,
            "align_items": null,
            "align_self": null,
            "border": null,
            "bottom": null,
            "display": null,
            "flex": null,
            "flex_flow": null,
            "grid_area": null,
            "grid_auto_columns": null,
            "grid_auto_flow": null,
            "grid_auto_rows": null,
            "grid_column": null,
            "grid_gap": null,
            "grid_row": null,
            "grid_template_areas": null,
            "grid_template_columns": null,
            "grid_template_rows": null,
            "height": null,
            "justify_content": null,
            "justify_items": null,
            "left": null,
            "margin": null,
            "max_height": null,
            "max_width": null,
            "min_height": null,
            "min_width": null,
            "object_fit": null,
            "object_position": null,
            "order": null,
            "overflow": null,
            "overflow_x": null,
            "overflow_y": null,
            "padding": null,
            "right": null,
            "top": null,
            "visibility": null,
            "width": null
          }
        },
        "bf28611c4f9143029a617a84b98cd589": {
          "model_module": "@jupyter-widgets/base",
          "model_name": "LayoutModel",
          "model_module_version": "1.2.0",
          "state": {
            "_model_module": "@jupyter-widgets/base",
            "_model_module_version": "1.2.0",
            "_model_name": "LayoutModel",
            "_view_count": null,
            "_view_module": "@jupyter-widgets/base",
            "_view_module_version": "1.2.0",
            "_view_name": "LayoutView",
            "align_content": null,
            "align_items": null,
            "align_self": null,
            "border": null,
            "bottom": null,
            "display": null,
            "flex": null,
            "flex_flow": null,
            "grid_area": null,
            "grid_auto_columns": null,
            "grid_auto_flow": null,
            "grid_auto_rows": null,
            "grid_column": null,
            "grid_gap": null,
            "grid_row": null,
            "grid_template_areas": null,
            "grid_template_columns": null,
            "grid_template_rows": null,
            "height": null,
            "justify_content": null,
            "justify_items": null,
            "left": null,
            "margin": null,
            "max_height": null,
            "max_width": null,
            "min_height": null,
            "min_width": null,
            "object_fit": null,
            "object_position": null,
            "order": null,
            "overflow": null,
            "overflow_x": null,
            "overflow_y": null,
            "padding": null,
            "right": null,
            "top": null,
            "visibility": null,
            "width": null
          }
        },
        "ea85be915077412bb61e321c6e95f86c": {
          "model_module": "@jupyter-widgets/controls",
          "model_name": "DescriptionStyleModel",
          "model_module_version": "1.5.0",
          "state": {
            "_model_module": "@jupyter-widgets/controls",
            "_model_module_version": "1.5.0",
            "_model_name": "DescriptionStyleModel",
            "_view_count": null,
            "_view_module": "@jupyter-widgets/base",
            "_view_module_version": "1.2.0",
            "_view_name": "StyleView",
            "description_width": ""
          }
        },
        "f79f2b94159c4aaba0a26bed6e00a963": {
          "model_module": "@jupyter-widgets/base",
          "model_name": "LayoutModel",
          "model_module_version": "1.2.0",
          "state": {
            "_model_module": "@jupyter-widgets/base",
            "_model_module_version": "1.2.0",
            "_model_name": "LayoutModel",
            "_view_count": null,
            "_view_module": "@jupyter-widgets/base",
            "_view_module_version": "1.2.0",
            "_view_name": "LayoutView",
            "align_content": null,
            "align_items": null,
            "align_self": null,
            "border": null,
            "bottom": null,
            "display": null,
            "flex": null,
            "flex_flow": null,
            "grid_area": null,
            "grid_auto_columns": null,
            "grid_auto_flow": null,
            "grid_auto_rows": null,
            "grid_column": null,
            "grid_gap": null,
            "grid_row": null,
            "grid_template_areas": null,
            "grid_template_columns": null,
            "grid_template_rows": null,
            "height": null,
            "justify_content": null,
            "justify_items": null,
            "left": null,
            "margin": null,
            "max_height": null,
            "max_width": null,
            "min_height": null,
            "min_width": null,
            "object_fit": null,
            "object_position": null,
            "order": null,
            "overflow": null,
            "overflow_x": null,
            "overflow_y": null,
            "padding": null,
            "right": null,
            "top": null,
            "visibility": null,
            "width": null
          }
        },
        "30ce7052d60a4ac4ad70a96b8379064b": {
          "model_module": "@jupyter-widgets/controls",
          "model_name": "ProgressStyleModel",
          "model_module_version": "1.5.0",
          "state": {
            "_model_module": "@jupyter-widgets/controls",
            "_model_module_version": "1.5.0",
            "_model_name": "ProgressStyleModel",
            "_view_count": null,
            "_view_module": "@jupyter-widgets/base",
            "_view_module_version": "1.2.0",
            "_view_name": "StyleView",
            "bar_color": null,
            "description_width": ""
          }
        },
        "b8e409b5b9984d7e82b3c386ac9cd0ae": {
          "model_module": "@jupyter-widgets/base",
          "model_name": "LayoutModel",
          "model_module_version": "1.2.0",
          "state": {
            "_model_module": "@jupyter-widgets/base",
            "_model_module_version": "1.2.0",
            "_model_name": "LayoutModel",
            "_view_count": null,
            "_view_module": "@jupyter-widgets/base",
            "_view_module_version": "1.2.0",
            "_view_name": "LayoutView",
            "align_content": null,
            "align_items": null,
            "align_self": null,
            "border": null,
            "bottom": null,
            "display": null,
            "flex": null,
            "flex_flow": null,
            "grid_area": null,
            "grid_auto_columns": null,
            "grid_auto_flow": null,
            "grid_auto_rows": null,
            "grid_column": null,
            "grid_gap": null,
            "grid_row": null,
            "grid_template_areas": null,
            "grid_template_columns": null,
            "grid_template_rows": null,
            "height": null,
            "justify_content": null,
            "justify_items": null,
            "left": null,
            "margin": null,
            "max_height": null,
            "max_width": null,
            "min_height": null,
            "min_width": null,
            "object_fit": null,
            "object_position": null,
            "order": null,
            "overflow": null,
            "overflow_x": null,
            "overflow_y": null,
            "padding": null,
            "right": null,
            "top": null,
            "visibility": null,
            "width": null
          }
        },
        "6c5b693403f543d48ab177e232e27620": {
          "model_module": "@jupyter-widgets/controls",
          "model_name": "DescriptionStyleModel",
          "model_module_version": "1.5.0",
          "state": {
            "_model_module": "@jupyter-widgets/controls",
            "_model_module_version": "1.5.0",
            "_model_name": "DescriptionStyleModel",
            "_view_count": null,
            "_view_module": "@jupyter-widgets/base",
            "_view_module_version": "1.2.0",
            "_view_name": "StyleView",
            "description_width": ""
          }
        }
      }
    }
  },
  "nbformat": 4,
  "nbformat_minor": 0
}