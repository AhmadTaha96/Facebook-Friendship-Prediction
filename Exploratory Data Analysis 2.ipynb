{
  "cells": [
    {
      "cell_type": "markdown",
      "metadata": {
        "id": "KGsPT3L4neqz"
      },
      "source": [
        "# Importing Libraries"
      ]
    },
    {
      "cell_type": "code",
      "execution_count": null,
      "metadata": {
        "id": "kpDcGNG1H-Wb"
      },
      "outputs": [],
      "source": [
        "import pandas as pd\n",
        "import numpy as np\n",
        "import matplotlib.pyplot as plt\n",
        "import seaborn as sns\n",
        "import networkx as nx\n",
        "import shutil\n",
        "import os"
      ]
    },
    {
      "cell_type": "markdown",
      "metadata": {
        "id": "3WWY7TZPIqXh"
      },
      "source": [
        "# Reading Data"
      ]
    },
    {
      "cell_type": "code",
      "execution_count": null,
      "metadata": {
        "id": "8MWACWRMIrUE"
      },
      "outputs": [],
      "source": [
        "train_data = pd.read_csv(\"Data/train.csv\", index_col = False)"
      ]
    },
    {
      "cell_type": "code",
      "execution_count": null,
      "metadata": {
        "id": "mMqIwt1IYmGr"
      },
      "outputs": [],
      "source": [
        "# Reading the whole data using networkx\n",
        "train_graph = nx.read_edgelist(\"Data/train.csv\", delimiter = ',', nodetype = int, comments = 's', create_using = nx.DiGraph())"
      ]
    },
    {
      "cell_type": "markdown",
      "metadata": {
        "id": "Zw49JJc4VNPB"
      },
      "source": [
        "### Following of Each User"
      ]
    },
    {
      "cell_type": "markdown",
      "source": [
        "Now, After we have finished analysing each user **followers** aka incoming edges or the indegree of each node in (graph language) we shall now start analysing the nodes that user follow or the outdegree of each node, and i will apply the same method we have done in the first part."
      ],
      "metadata": {
        "id": "t03byNUMV2VR"
      }
    },
    {
      "cell_type": "code",
      "execution_count": null,
      "metadata": {
        "id": "eMh2wYS7yGun"
      },
      "outputs": [],
      "source": [
        "outdegree_dist = list(dict(train_graph.out_degree()).values())\n",
        "outdegree_dist.sort()"
      ]
    },
    {
      "cell_type": "code",
      "execution_count": null,
      "metadata": {
        "colab": {
          "base_uri": "https://localhost:8080/",
          "height": 388
        },
        "id": "HTjHfEreUL60",
        "outputId": "8e0a933a-9ef5-467b-e87b-b16571739666"
      },
      "outputs": [
        {
          "output_type": "display_data",
          "data": {
            "image/png": "[encoded data removed]",
            "text/plain": [
              "<Figure size 720x432 with 1 Axes>"
            ]
          },
          "metadata": {
            "needs_background": "light"
          }
        }
      ],
      "source": [
        "plt.figure(figsize = (10, 6))\n",
        "# Put integer values on x-axis rather than float\n",
        "plt.ticklabel_format(style = \"plain\", axis = 'x', useOffset = False)\n",
        "plt.plot(outdegree_dist)\n",
        "plt.xlabel(\"Node Number\")\n",
        "plt.ylabel(\"Number of Following Users\")\n",
        "plt.show()"
      ]
    },
    {
      "cell_type": "markdown",
      "source": [
        "The shape of this plot is excactly as the previous one, a very few number of users with a lot of following and the rest of users gather togeather in the left and that expectable because most of users follow only the people they know and some celebrites sometimes."
      ],
      "metadata": {
        "id": "bzQpU1pZOjoB"
      }
    },
    {
      "cell_type": "code",
      "execution_count": null,
      "metadata": {
        "colab": {
          "base_uri": "https://localhost:8080/",
          "height": 388
        },
        "id": "EIVR6I3rVTle",
        "outputId": "b7ac4acf-2f96-4238-da49-403b0e0d1e43"
      },
      "outputs": [
        {
          "output_type": "display_data",
          "data": {
            "image/png": "[encoded data removed]",
            "text/plain": [
              "<Figure size 720x432 with 1 Axes>"
            ]
          },
          "metadata": {
            "needs_background": "light"
          }
        }
      ],
      "source": [
        "plt.figure(figsize = (10, 6))\n",
        "# Taking the first 1,500,000 and focusing on it\n",
        "plt.plot(outdegree_dist[:1500000])\n",
        "plt.ticklabel_format(style = \"plain\", axis = 'x', useOffset = False)\n",
        "plt.xlabel(\"Node's Number\")\n",
        "plt.ylabel(\"Number of Following\")\n",
        "plt.show()"
      ]
    },
    {
      "cell_type": "markdown",
      "metadata": {
        "id": "B_s7eaSgaBHV"
      },
      "source": [
        "Obviously the change in number of following people is not large as well, so we have a large number of nodes that have relatively small diffrence in term of number of following, We can say that majority of nodes tend to group togeather in term of number of following also and only few number of them have a large following number (Really active people in term of follow other people)."
      ]
    },
    {
      "cell_type": "code",
      "execution_count": null,
      "metadata": {
        "colab": {
          "base_uri": "https://localhost:8080/"
        },
        "id": "lhVNYeQ2yJuX",
        "outputId": "faa0e0fd-60ba-417b-9efb-85640be21005"
      },
      "outputs": [
        {
          "output_type": "stream",
          "name": "stdout",
          "text": [
            "Min number of following for a node = 0\n",
            "Max number of following for a node = 1566\n"
          ]
        }
      ],
      "source": [
        "print(\"Min number of following for a node =\", np.min(outdegree_dist))\n",
        "print(\"Max number of following for a node =\", np.max(outdegree_dist))"
      ]
    },
    {
      "cell_type": "code",
      "execution_count": null,
      "metadata": {
        "colab": {
          "base_uri": "https://localhost:8080/"
        },
        "id": "TUndsfSEyzAP",
        "outputId": "52405bb3-f35f-445e-b348-1ed5d9f6c60d"
      },
      "outputs": [
        {
          "output_type": "stream",
          "name": "stdout",
          "text": [
            "Number of nodes with no following ==> Zero followers = 274512\n"
          ]
        }
      ],
      "source": [
        "cnt = 0\n",
        "for i in outdegree_dist:\n",
        "  if i == 0:\n",
        "    cnt += 1\n",
        "\n",
        "print(\"Number of nodes with no following ==> Zero followers =\", cnt)"
      ]
    },
    {
      "cell_type": "code",
      "execution_count": null,
      "metadata": {
        "colab": {
          "base_uri": "https://localhost:8080/"
        },
        "id": "P8CBnVnBzP7l",
        "outputId": "40f903e5-e0f4-4955-8cdd-34f02655f9d9"
      },
      "outputs": [
        {
          "output_type": "stream",
          "name": "stdout",
          "text": [
            "Number of nodes with max following ==> Max number of followers = 1\n"
          ]
        }
      ],
      "source": [
        "cnt = 0\n",
        "mx = np.max(outdegree_dist)\n",
        "for i in outdegree_dist:\n",
        "  if i == mx:\n",
        "    cnt += 1\n",
        "\n",
        "print(\"Number of nodes with max following ==> Max number of followers =\", cnt)"
      ]
    },
    {
      "cell_type": "markdown",
      "metadata": {
        "id": "U9DnFw_dzhMh"
      },
      "source": [
        "We have a lot of nodes (Users) about 274512K whos follow no other users at all but we have only one user with max number of following which is 1566 and this value is really high in compare with the distribution, Now we shall calculate Mean, Median and Percentaile of outdegree distribuiton to get more insight of how this values spread."
      ]
    },
    {
      "cell_type": "code",
      "execution_count": null,
      "metadata": {
        "colab": {
          "base_uri": "https://localhost:8080/"
        },
        "id": "Yq8JBWWkzx1a",
        "outputId": "0eb47006-8b2b-4572-aba7-4362776a7015"
      },
      "outputs": [
        {
          "output_type": "stream",
          "name": "stdout",
          "text": [
            "The average of out degree distribution = 5.067886178861789\n",
            "The median of out degree distribution = 2.0\n"
          ]
        }
      ],
      "source": [
        "print(\"The average of out degree distribution =\", np.mean(outdegree_dist))\n",
        "print(\"The median of out degree distribution =\", np.median(outdegree_dist))"
      ]
    },
    {
      "cell_type": "markdown",
      "metadata": {
        "id": "Xmwa7J2t0k2e"
      },
      "source": [
        "Thoses value are pretty close the the value in indegree distribution, Say that mean is skewed to right due to some nodes with large number of following but median was not affected by those extreme values, We can see the slow change in values closeley better using percentiles values."
      ]
    },
    {
      "cell_type": "code",
      "execution_count": null,
      "metadata": {
        "colab": {
          "base_uri": "https://localhost:8080/"
        },
        "id": "jBXFYleqFhf2",
        "outputId": "f220413f-08ac-4582-ff17-1fd897eac5a9"
      },
      "outputs": [
        {
          "output_type": "stream",
          "name": "stdout",
          "text": [
            "The 0th percentile value of outdegree distribution = 0.0\n",
            "The 10th percentile value of outdegree distribution = 0.0\n",
            "The 20th percentile value of outdegree distribution = 1.0\n",
            "The 30th percentile value of outdegree distribution = 1.0\n",
            "The 40th percentile value of outdegree distribution = 1.0\n",
            "The 50th percentile value of outdegree distribution = 2.0\n",
            "The 60th percentile value of outdegree distribution = 3.0\n",
            "The 70th percentile value of outdegree distribution = 5.0\n",
            "The 80th percentile value of outdegree distribution = 7.0\n",
            "The 90th percentile value of outdegree distribution = 12.0\n",
            "The 100th percentile value of outdegree distribution = 1566.0\n"
          ]
        }
      ],
      "source": [
        "for i in range(0, 110, 10):\n",
        "  print(f\"The {i}th percentile value of outdegree distribution =\", np.percentile(outdegree_dist, i))"
      ]
    },
    {
      "cell_type": "markdown",
      "metadata": {
        "id": "_tMfSlIcFtts"
      },
      "source": [
        "40% of the users follow on one user, 50% of them follow only 2 users or less, Most of the values tend to follow small number of users, which give us some thought of users in this graph tend not to follow others people easily and hence making new links may not be very probabe and For that if we focus on the right part of the followers starting from 90th and larger to get more insight how the number of followers of those values growth."
      ]
    },
    {
      "cell_type": "code",
      "execution_count": null,
      "metadata": {
        "colab": {
          "base_uri": "https://localhost:8080/"
        },
        "id": "2ePG4VtBEupB",
        "outputId": "ca1b74df-1544-413d-c9ef-9a4b2f4d45c5"
      },
      "outputs": [
        {
          "output_type": "stream",
          "name": "stdout",
          "text": [
            "The 90th percentile = 12.0\n",
            "The 91th percentile = 13.0\n",
            "The 92th percentile = 14.0\n",
            "The 93th percentile = 15.0\n",
            "The 94th percentile = 17.0\n",
            "The 95th percentile = 19.0\n",
            "The 96th percentile = 21.0\n",
            "The 97th percentile = 24.0\n",
            "The 98th percentile = 29.0\n",
            "The 99th percentile = 40.0\n",
            "The 100th percentile = 1566.0\n"
          ]
        }
      ],
      "source": [
        "for i in range(90, 101, 1):\n",
        "  print(f\"The {i}th percentile =\", np.percentile(outdegree_dist, i))"
      ]
    },
    {
      "cell_type": "code",
      "execution_count": null,
      "metadata": {
        "colab": {
          "base_uri": "https://localhost:8080/"
        },
        "id": "ZwquDPN_GsYu",
        "outputId": "30d5a3e9-eeb4-44a0-ad3d-d0a7ec8d3ef9"
      },
      "outputs": [
        {
          "output_type": "stream",
          "name": "stdout",
          "text": [
            "The 99.0th percentile = 40.0\n",
            "The 99.1th percentile = 42.0\n",
            "The 99.2th percentile = 45.0\n",
            "The 99.3th percentile = 48.0\n",
            "The 99.4th percentile = 52.0\n",
            "The 99.5th percentile = 56.0\n",
            "The 99.6th percentile = 63.0\n",
            "The 99.7th percentile = 73.0\n",
            "The 99.8th percentile = 90.0\n",
            "The 99.9th percentile = 123.0\n",
            "The 100.0th percentile = 1566.0\n"
          ]
        }
      ],
      "source": [
        "for i in range(0, 110, 10):\n",
        "  j = 99 + (i / 100)\n",
        "  print(f\"The {j}th percentile =\", np.percentile(outdegree_dist, j))"
      ]
    },
    {
      "cell_type": "markdown",
      "metadata": {
        "id": "UAn2rLGNICG0"
      },
      "source": [
        "The growth in the number of followers at the last 10th percentile happened faster than lower part of the range but slower than the indegree distribution, The chage is about 2 increse in number of followed users for each approximatiely 188K users, For the last 99 to 100 th the only really extrem value is the 100th percentile which has 1566 value which is really huge in compare to other users, this value has high probability to be classified as an outlier."
      ]
    },
    {
      "cell_type": "code",
      "source": [
        "Q1, Q3 = np.percentile(outdegree_dist, 25), np.percentile(outdegree_dist, 75)\n",
        "IQR = Q3 - Q1\n",
        "print(\"Inter Quantile Range =\", IQR)"
      ],
      "metadata": {
        "id": "QPsygYHmL5PJ",
        "colab": {
          "base_uri": "https://localhost:8080/"
        },
        "outputId": "9ca539ca-3b58-46bc-c29c-5cd7e36af7b6"
      },
      "execution_count": null,
      "outputs": [
        {
          "output_type": "stream",
          "name": "stdout",
          "text": [
            "Inter Quantile Range = 5.0\n"
          ]
        }
      ]
    },
    {
      "cell_type": "code",
      "source": [
        "low_limit, high_limit = -1.5 * Q1, +1.5 * Q3\n",
        "print(\"The low limit of the data to be consider as outliers =\", low_limit)\n",
        "print(\"The high limit of the data to be consider as outliers =\", high_limit)"
      ],
      "metadata": {
        "colab": {
          "base_uri": "https://localhost:8080/"
        },
        "id": "wF5d-f-ENOxd",
        "outputId": "c173377b-9206-4c4b-eeb1-5cd083ef2617"
      },
      "execution_count": null,
      "outputs": [
        {
          "output_type": "stream",
          "name": "stdout",
          "text": [
            "The low limit of the data to be consider as outliers = -1.5\n",
            "The high limit of the data to be consider as outliers = 9.0\n"
          ]
        }
      ]
    },
    {
      "cell_type": "markdown",
      "source": [
        "So each value below our low limit would be considered as outlier but here this is not possible due to the fact that the low limit is negative hence no user has negative number of followers and that's obvious because the data is clearley skewed to the right, and each value grater than our high limit in this case 9 would be considered as outliers."
      ],
      "metadata": {
        "id": "vcVMtjzLOL8D"
      }
    },
    {
      "cell_type": "code",
      "source": [
        "cnt = 0\n",
        "for i in outdegree_dist:\n",
        "  if i > high_limit:\n",
        "    cnt += 1\n",
        "\n",
        "print(\"Number of values over the upper limit =\", cnt)\n",
        "print(\"Percentage of values over the upper limit =\", (cnt / 1862220) * 100, '%')"
      ],
      "metadata": {
        "colab": {
          "base_uri": "https://localhost:8080/"
        },
        "id": "lPQNlt6yPEG2",
        "outputId": "6712957c-cb92-469e-e3e7-d564dbf82c60"
      },
      "execution_count": null,
      "outputs": [
        {
          "output_type": "stream",
          "name": "stdout",
          "text": [
            "Number of values over the upper limit = 266158\n",
            "Percentage of values over the upper limit = 14.29251108891538 %\n"
          ]
        }
      ]
    },
    {
      "cell_type": "code",
      "execution_count": null,
      "metadata": {
        "colab": {
          "base_uri": "https://localhost:8080/",
          "height": 469
        },
        "id": "mk9yXTCeIen6",
        "outputId": "eea7839a-856a-430e-eff4-38e77e3f82db"
      },
      "outputs": [
        {
          "output_type": "display_data",
          "data": {
            "image/png": "[encoded data removed]",
            "text/plain": [
              "<Figure size 864x576 with 1 Axes>"
            ]
          },
          "metadata": {
            "needs_background": "light"
          }
        }
      ],
      "source": [
        "plt.figure(figsize = (12, 8))\n",
        "sns.boxplot(y = outdegree_dist)\n",
        "plt.show()"
      ]
    },
    {
      "cell_type": "code",
      "source": [
        "# increasing the threshold from 1.5 to 3\n",
        "# I will discard low limit as it will be negative anyway\n",
        "high_limit = +3 * Q3\n",
        "print(\"The high limit of the data to be consider as outliers =\", high_limit)"
      ],
      "metadata": {
        "colab": {
          "base_uri": "https://localhost:8080/"
        },
        "id": "kYw-4lMsTKpf",
        "outputId": "571347d8-ca47-4426-c676-2e94bd483199"
      },
      "execution_count": null,
      "outputs": [
        {
          "output_type": "stream",
          "name": "stdout",
          "text": [
            "The high limit of the data to be consider as outliers = 18.0\n"
          ]
        }
      ]
    },
    {
      "cell_type": "code",
      "source": [
        "cnt = 0\n",
        "for i in outdegree_dist:\n",
        "  if i > high_limit:\n",
        "    cnt += 1\n",
        "\n",
        "print(\"Number of values over the upper limit =\", cnt)\n",
        "print(\"Percentage of values over the upper limit =\", (cnt / 1862220) * 100, '%')"
      ],
      "metadata": {
        "colab": {
          "base_uri": "https://localhost:8080/"
        },
        "id": "Zznx03s0TV5u",
        "outputId": "769724e2-11f8-48ac-ae79-614f76d6882f"
      },
      "execution_count": null,
      "outputs": [
        {
          "output_type": "stream",
          "name": "stdout",
          "text": [
            "Number of values over the upper limit = 94345\n",
            "Percentage of values over the upper limit = 5.066264995542954 %\n"
          ]
        }
      ]
    },
    {
      "cell_type": "markdown",
      "source": [
        "This is more resonable and acceptable results as only 5% of the data could be outliers (not neccessary) rather than having 14% as outliers which is really large percentage."
      ],
      "metadata": {
        "id": "P9-8BcNNTrlg"
      }
    },
    {
      "cell_type": "code",
      "execution_count": null,
      "metadata": {
        "colab": {
          "base_uri": "https://localhost:8080/",
          "height": 400
        },
        "id": "qy9BRfYu00Gk",
        "outputId": "1b68e2b2-277e-4228-dd71-736ec1a0041d"
      },
      "outputs": [
        {
          "output_type": "display_data",
          "data": {
            "text/plain": [
              "<Figure size 864x576 with 0 Axes>"
            ]
          },
          "metadata": {}
        },
        {
          "output_type": "display_data",
          "data": {
            "image/png": "[encoded data removed]",
            "text/plain": [
              "<Figure size 360x360 with 1 Axes>"
            ]
          },
          "metadata": {
            "needs_background": "light"
          }
        }
      ],
      "source": [
        "plt.figure(figsize = (12, 8))\n",
        "sns.displot(data = outdegree_dist, kind = \"kde\")\n",
        "plt.xlabel(\"Number of Followed Users\")\n",
        "plt.show()"
      ]
    },
    {
      "cell_type": "markdown",
      "metadata": {
        "id": "Xm9zIlaN2azt"
      },
      "source": [
        "This distribuiton look more peaker in comparison to indegree distribuiton,and this average of outdegree is less that average of indegree, Still majority of values centered in the left side of the plot and only few number of values tend to have a large response, those values may be outliers espically the 100th percentile value."
      ]
    }
  ],
  "metadata": {
    "colab": {
      "collapsed_sections": [
        "KGsPT3L4neqz"
      ],
      "name": "Exploratory Data Analysis.ipynb",
      "provenance": [],
      "mount_file_id": "1uPGnyQFKjBJ_hMQ4Q-L3opOwvhDqRPxh",
      "authorship_tag": "ABX9TyMttWHhd8PK4G9ttgcMhvCf"
    },
    "kernelspec": {
      "display_name": "Python 3",
      "name": "python3"
    },
    "language_info": {
      "name": "python"
    }
  },
  "nbformat": 4,
  "nbformat_minor": 0
}