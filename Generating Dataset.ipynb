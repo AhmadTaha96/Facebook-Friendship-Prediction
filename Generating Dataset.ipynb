{
  "cells": [
    {
      "cell_type": "markdown",
      "metadata": {
        "id": "KGsPT3L4neqz"
      },
      "source": [
        "# Importing Libraries"
      ]
    },
    {
      "cell_type": "code",
      "execution_count": null,
      "metadata": {
        "id": "kpDcGNG1H-Wb"
      },
      "outputs": [],
      "source": [
        "import pandas as pd\n",
        "import numpy as np\n",
        "import networkx as nx\n",
        "import shutil\n",
        "import os\n",
        "import random\n",
        "from sklearn.model_selection import train_test_split"
      ]
    },
    {
      "cell_type": "markdown",
      "metadata": {
        "id": "3WWY7TZPIqXh"
      },
      "source": [
        "# Reading Data"
      ]
    },
    {
      "cell_type": "code",
      "execution_count": null,
      "metadata": {
        "id": "8MWACWRMIrUE"
      },
      "outputs": [],
      "source": [
        "train_data = pd.read_csv(\"Data/train.csv\", index_col = False)"
      ]
    },
    {
      "cell_type": "code",
      "execution_count": null,
      "metadata": {
        "id": "mMqIwt1IYmGr"
      },
      "outputs": [],
      "source": [
        "# Reading the whole data using networkx\n",
        "train_graph = nx.read_edgelist(\"Data/train.csv\", delimiter = ',', nodetype = int, comments = 's', create_using = nx.DiGraph())"
      ]
    },
    {
      "cell_type": "markdown",
      "metadata": {
        "id": "Zw49JJc4VNPB"
      },
      "source": [
        "# Generating Negative Pairs [Missing Links]"
      ]
    },
    {
      "cell_type": "markdown",
      "metadata": {
        "id": "Cs_FdTophti7"
      },
      "source": [
        "What we originaly have in our dataset is just pair or edges between nodes so it's all 1 label data, we have about 1.8 million nodes so the whole graph could reach 1.7 trillion edge given n * (n - 1) / 2 where n is the number of nodes, we don't need them all, we have about 9 million edge labeld as 1 we need the construct same as them labeld as 0 so we genereate two numbers as out nodes check for them if they have edge, if not add them and label them as 0.\n",
        "\n",
        "This would go in two parts:\n",
        "\n",
        "1. Generating Positive Dataset by giving 1 label to exisiting edges.\n",
        "\n",
        "2. Generating Negative Dataset by giving 0 label to each row in negative or missing dataset. "
      ]
    },
    {
      "cell_type": "markdown",
      "metadata": {
        "id": "bFY6uUZomkTB"
      },
      "source": [
        "### Generating Positive Dataset"
      ]
    },
    {
      "cell_type": "code",
      "execution_count": null,
      "metadata": {
        "id": "J8GWCseMhbq3"
      },
      "outputs": [],
      "source": [
        "# Define dictionary of all directed edges in graph\n",
        "edges = train_graph.edges()"
      ]
    },
    {
      "cell_type": "code",
      "execution_count": null,
      "metadata": {
        "id": "3Asr4JSc4eDP"
      },
      "outputs": [],
      "source": [
        "def generate_positive_labels(edges):\n",
        "  \"\"\"\n",
        "  Generate Positive Labels Given Exisitng Edges in Train Graph\n",
        "  \"\"\"\n",
        "  positive_edges = dict()\n",
        "  for edge in edges:\n",
        "    positive_edges[(edge[0], edge[1])] = 1\n",
        "  return positive_edges\n",
        "\n",
        "positive_edges = generate_positive_labels(edges)"
      ]
    },
    {
      "cell_type": "markdown",
      "metadata": {
        "id": "vJY1Qdm2mulC"
      },
      "source": [
        "## Generating (Negative / Missing) (Links / Edges)"
      ]
    },
    {
      "cell_type": "markdown",
      "source": [
        "### Parallel Generator"
      ],
      "metadata": {
        "id": "-C4kTGNGAqGC"
      }
    },
    {
      "cell_type": "markdown",
      "source": [
        "This is the parallel version of the code to generate negative links, the more cpu cores you have the faster the program would run, it require more memory because it use 2 queue to store and extract and there is also an overhead of passing mesages between processes."
      ],
      "metadata": {
        "id": "73W8uhc0shPf"
      }
    },
    {
      "cell_type": "code",
      "source": [
        "# number_of_edges, number_of_nodes = train_graph.number_of_edges(), train_graph.number_of_nodes()\n",
        "\n",
        "# q = mp.Queue()\n",
        "# while q.qsize() < number_of_edges:\n",
        "#   a, b = random.randint(1, number_of_nodes), random.randint(1, number_of_nodes)\n",
        "#   is_exist = positive_edges.get((a, b), -1)\n",
        "  \n",
        "#   if a == b or is_exist != -1:\n",
        "#     continue\n",
        "#   else:\n",
        "#     q.put((a, b))\n",
        "\n",
        "# def process(q, missing_edges, missing_count):\n",
        "  \n",
        "#   while missing_count.value < number_of_edges:\n",
        "#     a, b = q.get()\n",
        "\n",
        "#     try:\n",
        "#       if nx.shortest_path_length(train_graph, source = a, target = b) > 2:\n",
        "#         missing_edges.put((a, b))\n",
        "#         missing_count.value += 1\n",
        "#       else:\n",
        "#         continue\n",
        "#     except:\n",
        "#       missing_edges.put((a, b))\n",
        "#       missing_count.value += 1\n",
        "\n",
        "#     To check progress in code [use tqdm instead if you like]\n",
        "#     if missing_count.value % 10000 == 0 and missing_count.value != 0:\n",
        "#       print(missing_count.value)\n",
        "  \n",
        "# if __name__ == '__main__':\n",
        "#   missing_edges = mp.Queue(maxsize = number_of_edges + 1)\n",
        "#   missing_count = mp.Value('i', 0, lock = True)\n",
        "#   # q = mp.Queue()\n",
        "#   p1 = mp.Process(target = process, args = (q, missing_edges, missing_count))\n",
        "#   p2 = mp.Process(target = process, args = (q, missing_edges, missing_count))\n",
        "#   p3 = mp.Process(target = process, args = (q, missing_edges, missing_count))\n",
        "#   p4 = mp.Process(target = process, args = (q, missing_edges, missing_count))\n",
        "#   .\n",
        "#   .\n",
        "#   .\n",
        "#   .\n",
        "#   p1.start(); p2.start(); p3.start(); p4.start().....\n",
        "#   p1.join(); p2.join(); p3.join() p4.join()....."
      ],
      "metadata": {
        "id": "cP7jack5hPU8"
      },
      "execution_count": null,
      "outputs": []
    },
    {
      "cell_type": "markdown",
      "source": [
        "### Sequential Generator"
      ],
      "metadata": {
        "id": "AG6aqpquAt9K"
      }
    },
    {
      "cell_type": "code",
      "execution_count": null,
      "metadata": {
        "id": "cDT9EmXgmx9T"
      },
      "outputs": [],
      "source": [
        "# put missing edge into set so we don't have any duplicate edges\n",
        "missing_edges = set()\n",
        "positive_eges_len = len(positive_edges)\n",
        "nodes_num = train_graph.number_of_nodes()\n",
        "\n",
        "while len(missing_edges) < positive_eges_len:\n",
        "\n",
        "  # Generate two random number to be source and destination node\n",
        "  a, b = random.randint(1, nodes_num), random.randint(1, nodes_num)\n",
        "  # check if this exist as already presence link\n",
        "  is_exist = positive_edges.get((a, b), -1)\n",
        "  \n",
        "  if a == b or is_exist != -1:\n",
        "    continue\n",
        "  \n",
        "  try: # in case no path at all this would generate error\n",
        "    # check if the shortest path between a and b is more than 2 then add it as negative edge [no edge here]\n",
        "    # if shortest path is less than 3 then there is high probability to have edge between those nodes hence not suitable to be consider it as negative links\n",
        "    if nx.shortest_path_length(train_graph, source = a, target = b) > 2:\n",
        "      missing_edges.add((a, b))\n",
        "    else:\n",
        "      continue\n",
        "  except: # in case no path at all add those as negative links\n",
        "    missing_edges.add((a, b))"
      ]
    },
    {
      "cell_type": "code",
      "execution_count": null,
      "metadata": {
        "id": "rMwBJhfbmQwn"
      },
      "outputs": [],
      "source": [
        "# take the keys only to get rid of value which is basically ones\n",
        "positive = pd.DataFrame(positive_edges.keys() , columns = ['source_node' , 'destination_node'])\n",
        "negative = pd.DataFrame(missing_edges , columns = ['source_node' , 'destination_node'])\n",
        "\n",
        "# Add ones label to positive data frame\n",
        "positive[\"label\"] = np.ones(len(positive), dtype = int)\n",
        "\n",
        "# Add zeros label to negative data frame\n",
        "negative[\"label\"] = np.zeros(len(positive), dtype = int)\n",
        "\n",
        "positive.to_csv(\"Data/positive.csv\", index = False)\n",
        "negative.to_csv(\"Data/negative.csv\", index = False)\n",
        "\n",
        "# positive = pd.read_csv(\"Data/positive.csv\")\n",
        "# negative = pd.read_csv(\"Data/negative.csv\")"
      ]
    },
    {
      "cell_type": "code",
      "source": [
        "positive.head()"
      ],
      "metadata": {
        "colab": {
          "base_uri": "https://localhost:8080/",
          "height": 206
        },
        "id": "ZD5ju0eGE-Yt",
        "outputId": "66266cd5-7b11-4469-e98c-64632f59180c"
      },
      "execution_count": null,
      "outputs": [
        {
          "output_type": "execute_result",
          "data": {
            "text/html": [
              "\n",
              "  <div id=\"df-725bd544-ce4e-46a5-b753-ad34ee7e866e\">\n",
              "    <div class=\"colab-df-container\">\n",
              "      <div>\n",
              "<style scoped>\n",
              "    .dataframe tbody tr th:only-of-type {\n",
              "        vertical-align: middle;\n",
              "    }\n",
              "\n",
              "    .dataframe tbody tr th {\n",
              "        vertical-align: top;\n",
              "    }\n",
              "\n",
              "    .dataframe thead th {\n",
              "        text-align: right;\n",
              "    }\n",
              "</style>\n",
              "<table border=\"1\" class=\"dataframe\">\n",
              "  <thead>\n",
              "    <tr style=\"text-align: right;\">\n",
              "      <th></th>\n",
              "      <th>source_node</th>\n",
              "      <th>destination_node</th>\n",
              "      <th>label</th>\n",
              "    </tr>\n",
              "  </thead>\n",
              "  <tbody>\n",
              "    <tr>\n",
              "      <th>0</th>\n",
              "      <td>1</td>\n",
              "      <td>690569</td>\n",
              "      <td>1</td>\n",
              "    </tr>\n",
              "    <tr>\n",
              "      <th>1</th>\n",
              "      <td>1</td>\n",
              "      <td>315892</td>\n",
              "      <td>1</td>\n",
              "    </tr>\n",
              "    <tr>\n",
              "      <th>2</th>\n",
              "      <td>1</td>\n",
              "      <td>189226</td>\n",
              "      <td>1</td>\n",
              "    </tr>\n",
              "    <tr>\n",
              "      <th>3</th>\n",
              "      <td>690569</td>\n",
              "      <td>663369</td>\n",
              "      <td>1</td>\n",
              "    </tr>\n",
              "    <tr>\n",
              "      <th>4</th>\n",
              "      <td>690569</td>\n",
              "      <td>603627</td>\n",
              "      <td>1</td>\n",
              "    </tr>\n",
              "  </tbody>\n",
              "</table>\n",
              "</div>\n",
              "      <button class=\"colab-df-convert\" onclick=\"convertToInteractive('df-725bd544-ce4e-46a5-b753-ad34ee7e866e')\"\n",
              "              title=\"Convert this dataframe to an interactive table.\"\n",
              "              style=\"display:none;\">\n",
              "        \n",
              "  <svg xmlns=\"http://www.w3.org/2000/svg\" height=\"24px\"viewBox=\"0 0 24 24\"\n",
              "       width=\"24px\">\n",
              "    <path d=\"M0 0h24v24H0V0z\" fill=\"none\"/>\n",
              "    <path d=\"M18.56 5.44l.94 2.06.94-2.06 2.06-.94-2.06-.94-.94-2.06-.94 2.06-2.06.94zm-11 1L8.5 8.5l.94-2.06 2.06-.94-2.06-.94L8.5 2.5l-.94 2.06-2.06.94zm10 10l.94 2.06.94-2.06 2.06-.94-2.06-.94-.94-2.06-.94 2.06-2.06.94z\"/><path d=\"M17.41 7.96l-1.37-1.37c-.4-.4-.92-.59-1.43-.59-.52 0-1.04.2-1.43.59L10.3 9.45l-7.72 7.72c-.78.78-.78 2.05 0 2.83L4 21.41c.39.39.9.59 1.41.59.51 0 1.02-.2 1.41-.59l7.78-7.78 2.81-2.81c.8-.78.8-2.07 0-2.86zM5.41 20L4 18.59l7.72-7.72 1.47 1.35L5.41 20z\"/>\n",
              "  </svg>\n",
              "      </button>\n",
              "      \n",
              "  <style>\n",
              "    .colab-df-container {\n",
              "      display:flex;\n",
              "      flex-wrap:wrap;\n",
              "      gap: 12px;\n",
              "    }\n",
              "\n",
              "    .colab-df-convert {\n",
              "      background-color: #E8F0FE;\n",
              "      border: none;\n",
              "      border-radius: 50%;\n",
              "      cursor: pointer;\n",
              "      display: none;\n",
              "      fill: #1967D2;\n",
              "      height: 32px;\n",
              "      padding: 0 0 0 0;\n",
              "      width: 32px;\n",
              "    }\n",
              "\n",
              "    .colab-df-convert:hover {\n",
              "      background-color: #E2EBFA;\n",
              "      box-shadow: 0px 1px 2px rgba(60, 64, 67, 0.3), 0px 1px 3px 1px rgba(60, 64, 67, 0.15);\n",
              "      fill: #174EA6;\n",
              "    }\n",
              "\n",
              "    [theme=dark] .colab-df-convert {\n",
              "      background-color: #3B4455;\n",
              "      fill: #D2E3FC;\n",
              "    }\n",
              "\n",
              "    [theme=dark] .colab-df-convert:hover {\n",
              "      background-color: #434B5C;\n",
              "      box-shadow: 0px 1px 3px 1px rgba(0, 0, 0, 0.15);\n",
              "      filter: drop-shadow(0px 1px 2px rgba(0, 0, 0, 0.3));\n",
              "      fill: #FFFFFF;\n",
              "    }\n",
              "  </style>\n",
              "\n",
              "      <script>\n",
              "        const buttonEl =\n",
              "          document.querySelector('#df-725bd544-ce4e-46a5-b753-ad34ee7e866e button.colab-df-convert');\n",
              "        buttonEl.style.display =\n",
              "          google.colab.kernel.accessAllowed ? 'block' : 'none';\n",
              "\n",
              "        async function convertToInteractive(key) {\n",
              "          const element = document.querySelector('#df-725bd544-ce4e-46a5-b753-ad34ee7e866e');\n",
              "          const dataTable =\n",
              "            await google.colab.kernel.invokeFunction('convertToInteractive',\n",
              "                                                     [key], {});\n",
              "          if (!dataTable) return;\n",
              "\n",
              "          const docLinkHtml = 'Like what you see? Visit the ' +\n",
              "            '<a target=\"_blank\" href=https://colab.research.google.com/notebooks/data_table.ipynb>data table notebook</a>'\n",
              "            + ' to learn more about interactive tables.';\n",
              "          element.innerHTML = '';\n",
              "          dataTable['output_type'] = 'display_data';\n",
              "          await google.colab.output.renderOutput(dataTable, element);\n",
              "          const docLink = document.createElement('div');\n",
              "          docLink.innerHTML = docLinkHtml;\n",
              "          element.appendChild(docLink);\n",
              "        }\n",
              "      </script>\n",
              "    </div>\n",
              "  </div>\n",
              "  "
            ],
            "text/plain": [
              "   source_node  destination_node  label\n",
              "0            1            690569      1\n",
              "1            1            315892      1\n",
              "2            1            189226      1\n",
              "3       690569            663369      1\n",
              "4       690569            603627      1"
            ]
          },
          "metadata": {},
          "execution_count": 21
        }
      ]
    },
    {
      "cell_type": "code",
      "source": [
        "negative.head()"
      ],
      "metadata": {
        "colab": {
          "base_uri": "https://localhost:8080/",
          "height": 206
        },
        "id": "gJSQupWhFAZ9",
        "outputId": "1485e161-03eb-4e9d-aa9c-060bb9e5d208"
      },
      "execution_count": null,
      "outputs": [
        {
          "output_type": "execute_result",
          "data": {
            "text/html": [
              "\n",
              "  <div id=\"df-68039172-c8db-4dd1-8dce-e1e2e2d2b2b8\">\n",
              "    <div class=\"colab-df-container\">\n",
              "      <div>\n",
              "<style scoped>\n",
              "    .dataframe tbody tr th:only-of-type {\n",
              "        vertical-align: middle;\n",
              "    }\n",
              "\n",
              "    .dataframe tbody tr th {\n",
              "        vertical-align: top;\n",
              "    }\n",
              "\n",
              "    .dataframe thead th {\n",
              "        text-align: right;\n",
              "    }\n",
              "</style>\n",
              "<table border=\"1\" class=\"dataframe\">\n",
              "  <thead>\n",
              "    <tr style=\"text-align: right;\">\n",
              "      <th></th>\n",
              "      <th>source_node</th>\n",
              "      <th>destination_node</th>\n",
              "      <th>label</th>\n",
              "    </tr>\n",
              "  </thead>\n",
              "  <tbody>\n",
              "    <tr>\n",
              "      <th>0</th>\n",
              "      <td>551833</td>\n",
              "      <td>106315</td>\n",
              "      <td>0</td>\n",
              "    </tr>\n",
              "    <tr>\n",
              "      <th>1</th>\n",
              "      <td>1829481</td>\n",
              "      <td>1485071</td>\n",
              "      <td>0</td>\n",
              "    </tr>\n",
              "    <tr>\n",
              "      <th>2</th>\n",
              "      <td>890210</td>\n",
              "      <td>351061</td>\n",
              "      <td>0</td>\n",
              "    </tr>\n",
              "    <tr>\n",
              "      <th>3</th>\n",
              "      <td>568593</td>\n",
              "      <td>1311358</td>\n",
              "      <td>0</td>\n",
              "    </tr>\n",
              "    <tr>\n",
              "      <th>4</th>\n",
              "      <td>1653933</td>\n",
              "      <td>1115066</td>\n",
              "      <td>0</td>\n",
              "    </tr>\n",
              "  </tbody>\n",
              "</table>\n",
              "</div>\n",
              "      <button class=\"colab-df-convert\" onclick=\"convertToInteractive('df-68039172-c8db-4dd1-8dce-e1e2e2d2b2b8')\"\n",
              "              title=\"Convert this dataframe to an interactive table.\"\n",
              "              style=\"display:none;\">\n",
              "        \n",
              "  <svg xmlns=\"http://www.w3.org/2000/svg\" height=\"24px\"viewBox=\"0 0 24 24\"\n",
              "       width=\"24px\">\n",
              "    <path d=\"M0 0h24v24H0V0z\" fill=\"none\"/>\n",
              "    <path d=\"M18.56 5.44l.94 2.06.94-2.06 2.06-.94-2.06-.94-.94-2.06-.94 2.06-2.06.94zm-11 1L8.5 8.5l.94-2.06 2.06-.94-2.06-.94L8.5 2.5l-.94 2.06-2.06.94zm10 10l.94 2.06.94-2.06 2.06-.94-2.06-.94-.94-2.06-.94 2.06-2.06.94z\"/><path d=\"M17.41 7.96l-1.37-1.37c-.4-.4-.92-.59-1.43-.59-.52 0-1.04.2-1.43.59L10.3 9.45l-7.72 7.72c-.78.78-.78 2.05 0 2.83L4 21.41c.39.39.9.59 1.41.59.51 0 1.02-.2 1.41-.59l7.78-7.78 2.81-2.81c.8-.78.8-2.07 0-2.86zM5.41 20L4 18.59l7.72-7.72 1.47 1.35L5.41 20z\"/>\n",
              "  </svg>\n",
              "      </button>\n",
              "      \n",
              "  <style>\n",
              "    .colab-df-container {\n",
              "      display:flex;\n",
              "      flex-wrap:wrap;\n",
              "      gap: 12px;\n",
              "    }\n",
              "\n",
              "    .colab-df-convert {\n",
              "      background-color: #E8F0FE;\n",
              "      border: none;\n",
              "      border-radius: 50%;\n",
              "      cursor: pointer;\n",
              "      display: none;\n",
              "      fill: #1967D2;\n",
              "      height: 32px;\n",
              "      padding: 0 0 0 0;\n",
              "      width: 32px;\n",
              "    }\n",
              "\n",
              "    .colab-df-convert:hover {\n",
              "      background-color: #E2EBFA;\n",
              "      box-shadow: 0px 1px 2px rgba(60, 64, 67, 0.3), 0px 1px 3px 1px rgba(60, 64, 67, 0.15);\n",
              "      fill: #174EA6;\n",
              "    }\n",
              "\n",
              "    [theme=dark] .colab-df-convert {\n",
              "      background-color: #3B4455;\n",
              "      fill: #D2E3FC;\n",
              "    }\n",
              "\n",
              "    [theme=dark] .colab-df-convert:hover {\n",
              "      background-color: #434B5C;\n",
              "      box-shadow: 0px 1px 3px 1px rgba(0, 0, 0, 0.15);\n",
              "      filter: drop-shadow(0px 1px 2px rgba(0, 0, 0, 0.3));\n",
              "      fill: #FFFFFF;\n",
              "    }\n",
              "  </style>\n",
              "\n",
              "      <script>\n",
              "        const buttonEl =\n",
              "          document.querySelector('#df-68039172-c8db-4dd1-8dce-e1e2e2d2b2b8 button.colab-df-convert');\n",
              "        buttonEl.style.display =\n",
              "          google.colab.kernel.accessAllowed ? 'block' : 'none';\n",
              "\n",
              "        async function convertToInteractive(key) {\n",
              "          const element = document.querySelector('#df-68039172-c8db-4dd1-8dce-e1e2e2d2b2b8');\n",
              "          const dataTable =\n",
              "            await google.colab.kernel.invokeFunction('convertToInteractive',\n",
              "                                                     [key], {});\n",
              "          if (!dataTable) return;\n",
              "\n",
              "          const docLinkHtml = 'Like what you see? Visit the ' +\n",
              "            '<a target=\"_blank\" href=https://colab.research.google.com/notebooks/data_table.ipynb>data table notebook</a>'\n",
              "            + ' to learn more about interactive tables.';\n",
              "          element.innerHTML = '';\n",
              "          dataTable['output_type'] = 'display_data';\n",
              "          await google.colab.output.renderOutput(dataTable, element);\n",
              "          const docLink = document.createElement('div');\n",
              "          docLink.innerHTML = docLinkHtml;\n",
              "          element.appendChild(docLink);\n",
              "        }\n",
              "      </script>\n",
              "    </div>\n",
              "  </div>\n",
              "  "
            ],
            "text/plain": [
              "   source_node  destination_node  label\n",
              "0       551833            106315      0\n",
              "1      1829481           1485071      0\n",
              "2       890210            351061      0\n",
              "3       568593           1311358      0\n",
              "4      1653933           1115066      0"
            ]
          },
          "metadata": {},
          "execution_count": 22
        }
      ]
    },
    {
      "cell_type": "code",
      "source": [
        "# Checking shape compatibility\n",
        "print(\"Number of rows in positive data frame\", positive.shape[0])\n",
        "print(\"Number of rows in negative data frame\", negative.shape[0])\n",
        "\n",
        "print(\"=============================================\")\n",
        "\n",
        "print(\"Number of columns in positive data frame\", positive.shape[1])\n",
        "print(\"Number of columns in negative data frame\", positive.shape[1])"
      ],
      "metadata": {
        "colab": {
          "base_uri": "https://localhost:8080/"
        },
        "id": "mam6CChiFBdc",
        "outputId": "6af50317-2d21-4715-e4fe-9b3446f8c067"
      },
      "execution_count": null,
      "outputs": [
        {
          "output_type": "stream",
          "name": "stdout",
          "text": [
            "Number of rows in positive data frame 9437519\n",
            "Number of rows in negative data frame 9437519\n",
            "=============================================\n",
            "Number of columns in positive data frame 3\n",
            "Number of columns in negative data frame 3\n"
          ]
        }
      ]
    },
    {
      "cell_type": "markdown",
      "source": [
        "# Train & Test Split"
      ],
      "metadata": {
        "id": "ebn7qBbwEUoW"
      }
    },
    {
      "cell_type": "code",
      "source": [
        "positive = pd.read_csv(\"Data/positive.csv\")\n",
        "negative = pd.read_csv(\"Data/negative.csv\")"
      ],
      "metadata": {
        "id": "1T3T0bTDD-v0"
      },
      "execution_count": null,
      "outputs": []
    },
    {
      "cell_type": "code",
      "source": [
        "# mergin positive and negative data frame togeather\n",
        "data = positive.append(negative, ignore_index = True)"
      ],
      "metadata": {
        "id": "Mzep-g91E15h"
      },
      "execution_count": null,
      "outputs": []
    },
    {
      "cell_type": "code",
      "source": [
        "# to be used in stratify splitting\n",
        "label = data[\"label\"]"
      ],
      "metadata": {
        "id": "kHCdm483LMT0"
      },
      "execution_count": null,
      "outputs": []
    },
    {
      "cell_type": "code",
      "source": [
        "# Not shuffled dataset\n",
        "data.head()"
      ],
      "metadata": {
        "colab": {
          "base_uri": "https://localhost:8080/",
          "height": 206
        },
        "id": "BVW_RWZP4aeu",
        "outputId": "ee923214-1dd1-40e5-a78a-da24a465347c"
      },
      "execution_count": null,
      "outputs": [
        {
          "output_type": "execute_result",
          "data": {
            "text/html": [
              "\n",
              "  <div id=\"df-b75ebf6e-6be6-4230-9574-f6b710355805\">\n",
              "    <div class=\"colab-df-container\">\n",
              "      <div>\n",
              "<style scoped>\n",
              "    .dataframe tbody tr th:only-of-type {\n",
              "        vertical-align: middle;\n",
              "    }\n",
              "\n",
              "    .dataframe tbody tr th {\n",
              "        vertical-align: top;\n",
              "    }\n",
              "\n",
              "    .dataframe thead th {\n",
              "        text-align: right;\n",
              "    }\n",
              "</style>\n",
              "<table border=\"1\" class=\"dataframe\">\n",
              "  <thead>\n",
              "    <tr style=\"text-align: right;\">\n",
              "      <th></th>\n",
              "      <th>source_node</th>\n",
              "      <th>destination_node</th>\n",
              "      <th>label</th>\n",
              "    </tr>\n",
              "  </thead>\n",
              "  <tbody>\n",
              "    <tr>\n",
              "      <th>0</th>\n",
              "      <td>1</td>\n",
              "      <td>690569</td>\n",
              "      <td>1</td>\n",
              "    </tr>\n",
              "    <tr>\n",
              "      <th>1</th>\n",
              "      <td>1</td>\n",
              "      <td>315892</td>\n",
              "      <td>1</td>\n",
              "    </tr>\n",
              "    <tr>\n",
              "      <th>2</th>\n",
              "      <td>1</td>\n",
              "      <td>189226</td>\n",
              "      <td>1</td>\n",
              "    </tr>\n",
              "    <tr>\n",
              "      <th>3</th>\n",
              "      <td>690569</td>\n",
              "      <td>663369</td>\n",
              "      <td>1</td>\n",
              "    </tr>\n",
              "    <tr>\n",
              "      <th>4</th>\n",
              "      <td>690569</td>\n",
              "      <td>603627</td>\n",
              "      <td>1</td>\n",
              "    </tr>\n",
              "  </tbody>\n",
              "</table>\n",
              "</div>\n",
              "      <button class=\"colab-df-convert\" onclick=\"convertToInteractive('df-b75ebf6e-6be6-4230-9574-f6b710355805')\"\n",
              "              title=\"Convert this dataframe to an interactive table.\"\n",
              "              style=\"display:none;\">\n",
              "        \n",
              "  <svg xmlns=\"http://www.w3.org/2000/svg\" height=\"24px\"viewBox=\"0 0 24 24\"\n",
              "       width=\"24px\">\n",
              "    <path d=\"M0 0h24v24H0V0z\" fill=\"none\"/>\n",
              "    <path d=\"M18.56 5.44l.94 2.06.94-2.06 2.06-.94-2.06-.94-.94-2.06-.94 2.06-2.06.94zm-11 1L8.5 8.5l.94-2.06 2.06-.94-2.06-.94L8.5 2.5l-.94 2.06-2.06.94zm10 10l.94 2.06.94-2.06 2.06-.94-2.06-.94-.94-2.06-.94 2.06-2.06.94z\"/><path d=\"M17.41 7.96l-1.37-1.37c-.4-.4-.92-.59-1.43-.59-.52 0-1.04.2-1.43.59L10.3 9.45l-7.72 7.72c-.78.78-.78 2.05 0 2.83L4 21.41c.39.39.9.59 1.41.59.51 0 1.02-.2 1.41-.59l7.78-7.78 2.81-2.81c.8-.78.8-2.07 0-2.86zM5.41 20L4 18.59l7.72-7.72 1.47 1.35L5.41 20z\"/>\n",
              "  </svg>\n",
              "      </button>\n",
              "      \n",
              "  <style>\n",
              "    .colab-df-container {\n",
              "      display:flex;\n",
              "      flex-wrap:wrap;\n",
              "      gap: 12px;\n",
              "    }\n",
              "\n",
              "    .colab-df-convert {\n",
              "      background-color: #E8F0FE;\n",
              "      border: none;\n",
              "      border-radius: 50%;\n",
              "      cursor: pointer;\n",
              "      display: none;\n",
              "      fill: #1967D2;\n",
              "      height: 32px;\n",
              "      padding: 0 0 0 0;\n",
              "      width: 32px;\n",
              "    }\n",
              "\n",
              "    .colab-df-convert:hover {\n",
              "      background-color: #E2EBFA;\n",
              "      box-shadow: 0px 1px 2px rgba(60, 64, 67, 0.3), 0px 1px 3px 1px rgba(60, 64, 67, 0.15);\n",
              "      fill: #174EA6;\n",
              "    }\n",
              "\n",
              "    [theme=dark] .colab-df-convert {\n",
              "      background-color: #3B4455;\n",
              "      fill: #D2E3FC;\n",
              "    }\n",
              "\n",
              "    [theme=dark] .colab-df-convert:hover {\n",
              "      background-color: #434B5C;\n",
              "      box-shadow: 0px 1px 3px 1px rgba(0, 0, 0, 0.15);\n",
              "      filter: drop-shadow(0px 1px 2px rgba(0, 0, 0, 0.3));\n",
              "      fill: #FFFFFF;\n",
              "    }\n",
              "  </style>\n",
              "\n",
              "      <script>\n",
              "        const buttonEl =\n",
              "          document.querySelector('#df-b75ebf6e-6be6-4230-9574-f6b710355805 button.colab-df-convert');\n",
              "        buttonEl.style.display =\n",
              "          google.colab.kernel.accessAllowed ? 'block' : 'none';\n",
              "\n",
              "        async function convertToInteractive(key) {\n",
              "          const element = document.querySelector('#df-b75ebf6e-6be6-4230-9574-f6b710355805');\n",
              "          const dataTable =\n",
              "            await google.colab.kernel.invokeFunction('convertToInteractive',\n",
              "                                                     [key], {});\n",
              "          if (!dataTable) return;\n",
              "\n",
              "          const docLinkHtml = 'Like what you see? Visit the ' +\n",
              "            '<a target=\"_blank\" href=https://colab.research.google.com/notebooks/data_table.ipynb>data table notebook</a>'\n",
              "            + ' to learn more about interactive tables.';\n",
              "          element.innerHTML = '';\n",
              "          dataTable['output_type'] = 'display_data';\n",
              "          await google.colab.output.renderOutput(dataTable, element);\n",
              "          const docLink = document.createElement('div');\n",
              "          docLink.innerHTML = docLinkHtml;\n",
              "          element.appendChild(docLink);\n",
              "        }\n",
              "      </script>\n",
              "    </div>\n",
              "  </div>\n",
              "  "
            ],
            "text/plain": [
              "   source_node  destination_node  label\n",
              "0            1            690569      1\n",
              "1            1            315892      1\n",
              "2            1            189226      1\n",
              "3       690569            663369      1\n",
              "4       690569            603627      1"
            ]
          },
          "metadata": {},
          "execution_count": 7
        }
      ]
    },
    {
      "cell_type": "code",
      "source": [
        "# stratify using label to get balanced datasets, use 0.11 test_size to get 2 million rows in testset\n",
        "x_train, x_test = train_test_split(data, shuffle = True, stratify = label, test_size = 0.11)"
      ],
      "metadata": {
        "id": "GuvtaTI4FmiH"
      },
      "execution_count": null,
      "outputs": []
    },
    {
      "cell_type": "code",
      "source": [
        "print(\"Number of nodes in graph =\", train_graph.number_of_nodes())"
      ],
      "metadata": {
        "colab": {
          "base_uri": "https://localhost:8080/"
        },
        "id": "7spGhvCpiBER",
        "outputId": "18701062-84cb-4f14-cbbf-cdb6e87c5fda"
      },
      "execution_count": null,
      "outputs": [
        {
          "output_type": "stream",
          "name": "stdout",
          "text": [
            "Number of nodes in graph = 1862220\n"
          ]
        }
      ]
    },
    {
      "cell_type": "code",
      "source": [
        "train_source_nodes = set(x_train.source_node.values)\n",
        "train_destination_nodes = set(x_train.destination_node.values)\n",
        "train_nodes = train_source_nodes.union(train_destination_nodes)\n",
        "\n",
        "print(\"Number of unique nodes in train data =\", len(train_nodes))"
      ],
      "metadata": {
        "colab": {
          "base_uri": "https://localhost:8080/"
        },
        "id": "Uy8BbKLFLXBz",
        "outputId": "572ab7f9-1649-4f9f-cc7f-84748ddb719e"
      },
      "execution_count": null,
      "outputs": [
        {
          "output_type": "stream",
          "name": "stdout",
          "text": [
            "Number of unique nodes in train data = 1862212\n"
          ]
        }
      ]
    },
    {
      "cell_type": "code",
      "source": [
        "test_source_nodes = set(x_test.source_node.values)\n",
        "test_destination_nodes = set(x_test.destination_node.values)\n",
        "test_nodes = test_source_nodes.union(test_destination_nodes)\n",
        "\n",
        "print(\"Number of unique nodes in train data =\", len(test_nodes))"
      ],
      "metadata": {
        "id": "0_7KBoFv6fdi",
        "colab": {
          "base_uri": "https://localhost:8080/"
        },
        "outputId": "6820b65d-afca-4294-8189-a7d71a2d24ac"
      },
      "execution_count": null,
      "outputs": [
        {
          "output_type": "stream",
          "name": "stdout",
          "text": [
            "Number of unique nodes in train data = 1536243\n"
          ]
        }
      ]
    },
    {
      "cell_type": "code",
      "source": [
        "print(\"Number of nodes present in train data and test data =\", len(train_nodes.union(test_nodes)))"
      ],
      "metadata": {
        "colab": {
          "base_uri": "https://localhost:8080/"
        },
        "id": "4mibnlqDiJad",
        "outputId": "a0591ed7-54e4-4c83-d392-d8ac5747f4d8"
      },
      "execution_count": null,
      "outputs": [
        {
          "output_type": "stream",
          "name": "stdout",
          "text": [
            "Number of nodes present in train data and test data = 1862220\n"
          ]
        }
      ]
    },
    {
      "cell_type": "code",
      "source": [
        "print(\"Number of nodes present in train data and not in test data =\", len(train_nodes - test_nodes))\n",
        "print(\"Percentage of nodes present in train data and not in test data =\", (len(train_nodes - test_nodes) / 1862220) * 100 , '%')\n",
        "print(\"=====================================================================================\")\n",
        "print(\"Number of nodes present in test data and not in train data =\", len(test_nodes - train_nodes))\n",
        "print(\"Percentage of nodes present in test data and not in test data =\", (len(test_nodes - train_nodes) / 1862220) * 100 , '%')"
      ],
      "metadata": {
        "colab": {
          "base_uri": "https://localhost:8080/"
        },
        "id": "8WB0yEJOiWQG",
        "outputId": "fcc51c93-6961-40c8-8473-49a814ca8cda"
      },
      "execution_count": null,
      "outputs": [
        {
          "output_type": "stream",
          "name": "stdout",
          "text": [
            "Number of nodes present in train data and not in test data = 325977\n",
            "Percentage of nodes present in train data and not in test data = 17.50475239230596 %\n",
            "=====================================================================================\n",
            "Number of nodes present in test data and not in train data = 8\n",
            "Percentage of nodes present in test data and not in test data = 0.0004295947847193135 %\n"
          ]
        }
      ]
    },
    {
      "cell_type": "markdown",
      "source": [
        "Almost all nodes are present in train data and majority of them are present in test data, this test data will be spliited later into test and validation data as well, we have 17% of train nodes not present in test data but this is ok, and only 8 nodes in test data and not in train data and this is really good so we shall not confront could start problem later."
      ],
      "metadata": {
        "id": "DvLtelTbtVeD"
      }
    },
    {
      "cell_type": "code",
      "source": [
        "label = x_test[\"label\"]\n",
        "# test size to keep only 500K to use in validation data and 1.5 million to be used as test data\n",
        "x_t, x_valid = train_test_split(x_test, shuffle = True, stratify = label, test_size = 0.245)\n",
        "x_test = x_t"
      ],
      "metadata": {
        "id": "KZOuYiLypZGL"
      },
      "execution_count": null,
      "outputs": []
    },
    {
      "cell_type": "code",
      "source": [
        "print(\"Number of rows in train data =\", x_train.shape[0])\n",
        "print(\"Number of rows in test data =\", x_test.shape[0])\n",
        "print(\"Number of rows in validation data =\", x_valid.shape[0])\n",
        "print(\"===========================================\")\n",
        "print(\"Number of columns in train data =\", x_train.shape[1])\n",
        "print(\"Number of columns in test data =\", x_test.shape[1])\n",
        "print(\"Number of columns in validation data =\", x_valid.shape[1])"
      ],
      "metadata": {
        "colab": {
          "base_uri": "https://localhost:8080/"
        },
        "id": "fKMVfEFvuCbI",
        "outputId": "b4f29add-ee73-4a24-b993-e69c5001aae8"
      },
      "execution_count": null,
      "outputs": [
        {
          "output_type": "stream",
          "name": "stdout",
          "text": [
            "Number of rows in train data = 16798783\n",
            "Number of rows in test data = 1567572\n",
            "Number of rows in validation data = 508683\n",
            "===========================================\n",
            "Number of columns in train data = 3\n",
            "Number of columns in test data = 3\n",
            "Number of columns in validation data = 3\n"
          ]
        }
      ]
    },
    {
      "cell_type": "code",
      "source": [
        "print(\"Number of rows in test data =\", x_test.shape[0])\n",
        "print(\"Number of rows in validation data =\", x_valid.shape[0])"
      ],
      "metadata": {
        "colab": {
          "base_uri": "https://localhost:8080/"
        },
        "id": "DGkwizAvrYlB",
        "outputId": "bdc0166a-2866-4abc-b154-75a1a3e8d6cc"
      },
      "execution_count": null,
      "outputs": [
        {
          "output_type": "stream",
          "name": "stdout",
          "text": [
            "Number of rows in test data = 1567572\n",
            "Number of rows in validation data = 508683\n"
          ]
        }
      ]
    },
    {
      "cell_type": "code",
      "source": [
        "# check if we got a balanced train dataset\n",
        "x_train[\"label\"].value_counts()"
      ],
      "metadata": {
        "colab": {
          "base_uri": "https://localhost:8080/"
        },
        "id": "jaByz08tusZa",
        "outputId": "755ab571-545b-42e5-f247-2ce1ecce67e9"
      },
      "execution_count": null,
      "outputs": [
        {
          "output_type": "execute_result",
          "data": {
            "text/plain": [
              "0    8399392\n",
              "1    8399391\n",
              "Name: label, dtype: int64"
            ]
          },
          "metadata": {},
          "execution_count": 75
        }
      ]
    },
    {
      "cell_type": "code",
      "source": [
        "# check if we got a balanced test dataset\n",
        "x_test[\"label\"].value_counts()"
      ],
      "metadata": {
        "colab": {
          "base_uri": "https://localhost:8080/"
        },
        "id": "KPCR_OB9pq0p",
        "outputId": "f74382a1-8d23-44e9-800d-ebf25b5bceac"
      },
      "execution_count": null,
      "outputs": [
        {
          "output_type": "execute_result",
          "data": {
            "text/plain": [
              "1    783786\n",
              "0    783786\n",
              "Name: label, dtype: int64"
            ]
          },
          "metadata": {},
          "execution_count": 59
        }
      ]
    },
    {
      "cell_type": "code",
      "source": [
        "# check if we got a balanced validation dataset\n",
        "x_valid[\"label\"].value_counts()"
      ],
      "metadata": {
        "colab": {
          "base_uri": "https://localhost:8080/"
        },
        "id": "ITKYJwzlqT8L",
        "outputId": "f5542a79-92f9-481f-c264-9b21be69399d"
      },
      "execution_count": null,
      "outputs": [
        {
          "output_type": "execute_result",
          "data": {
            "text/plain": [
              "1    254342\n",
              "0    254341\n",
              "Name: label, dtype: int64"
            ]
          },
          "metadata": {},
          "execution_count": 60
        }
      ]
    },
    {
      "cell_type": "code",
      "source": [
        "x_train.to_csv(\"Data/x_train.csv\", index = False)\n",
        "x_test.to_csv(\"Data/x_test.csv\", index = False)\n",
        "x_valid.to_csv(\"Data/x_valid.csv\", index = False)"
      ],
      "metadata": {
        "id": "B5kml_BJqbKc"
      },
      "execution_count": null,
      "outputs": []
    }
  ],
  "metadata": {
    "colab": {
      "collapsed_sections": [
        "KGsPT3L4neqz",
        "3WWY7TZPIqXh",
        "Zw49JJc4VNPB",
        "bFY6uUZomkTB",
        "vJY1Qdm2mulC",
        "-C4kTGNGAqGC",
        "AG6aqpquAt9K",
        "ebn7qBbwEUoW"
      ],
      "name": "Generating Dataset.ipynb",
      "provenance": [],
      "mount_file_id": "1uPGnyQFKjBJ_hMQ4Q-L3opOwvhDqRPxh",
      "authorship_tag": "ABX9TyOymD9wzOV7UqmN3LGZzUBy"
    },
    "kernelspec": {
      "display_name": "Python 3",
      "name": "python3"
    },
    "language_info": {
      "name": "python"
    }
  },
  "nbformat": 4,
  "nbformat_minor": 0
}