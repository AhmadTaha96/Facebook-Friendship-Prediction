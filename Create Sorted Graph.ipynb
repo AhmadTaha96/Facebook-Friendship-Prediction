{
  "cells": [
    {
      "cell_type": "markdown",
      "source": [
        "# Importing Libraries"
      ],
      "metadata": {
        "id": "pLuRWHBg8G2V"
      }
    },
    {
      "cell_type": "code",
      "source": [
        "import pandas as pd\n",
        "import numpy as np\n",
        "import shutil\n",
        "import os\n",
        "import networkx as nx"
      ],
      "metadata": {
        "id": "po_LDX2q8HSu"
      },
      "execution_count": null,
      "outputs": []
    },
    {
      "cell_type": "markdown",
      "source": [
        "# Create Sorted Graph"
      ],
      "metadata": {
        "id": "Uy8mVqsF8ehv"
      }
    },
    {
      "cell_type": "markdown",
      "source": [
        "We are gonna now design features based on geometric information in the graph we have, what we call embedding for each node in the graph give it's neighborhood nodes to get it's place inside the graph."
      ],
      "metadata": {
        "id": "yln-5B6e8l7v"
      }
    },
    {
      "cell_type": "code",
      "source": [
        "train_graph = nx.read_edgelist(\"Data/train graph.csv\", comments = 's', create_using = nx.DiGraph(), nodetype = int, delimiter = \",\")"
      ],
      "metadata": {
        "id": "Tnw-G67f89Io"
      },
      "execution_count": null,
      "outputs": []
    },
    {
      "cell_type": "markdown",
      "source": [
        "Now as we are gonint to use KarateClub library to import the algorithm specifically (NetMF Embedding ALgortihm), for thatwe have to modify our graph as KarateClub does not accept scattered graph(unsorted graph based on index) so we have to design new graph given our train graph"
      ],
      "metadata": {
        "id": "3GiB7Ztj9RgH"
      }
    },
    {
      "cell_type": "code",
      "source": [
        "# to get back from sorted graph to train graph\n",
        "base_nodes = dict()\n",
        "# to move from train graph to sorted graph\n",
        "reflection = dict()\n",
        "in_edges = dict()\n",
        "out_edges = dict()\n",
        "\n",
        "sorted_graph = nx.DiGraph()\n",
        "\n",
        "i = 0\n",
        "for node in train_graph.nodes():\n",
        "  base_nodes[i] = node\n",
        "  reflection[node] = i\n",
        "  in_edges[i] = train_graph.predecessors(node)\n",
        "  out_edges[i] = train_graph.successors(node)\n",
        "  i += 1\n",
        "\n",
        "# adding nodes to new sorted graph\n",
        "for i in range(1821369):\n",
        "  sorted_graph.add_node(i)\n",
        "\n",
        "# adding incoming / outgoing edges for each node in the new graph\n",
        "for i in range(1821369): # number of nodes in the train graph\n",
        "  \n",
        "  for incoming in in_edges[i]:\n",
        "    sorted_graph.add_edge(reflection[incoming], i)\n",
        "  \n",
        "  for outcoming in out_edges[i]:\n",
        "    sorted_graph.add_edge(i, reflection[outcoming])\n",
        "\n",
        "# saving graph in picke format\n",
        "nx.write_gpickle(sorted_graph,\"Data/sorted_graph.gpickle\")\n",
        "\n",
        "# to read leater\n",
        "# sorted_graph = nx.read_gpickle('sorted_graph.gpickle')"
      ],
      "metadata": {
        "id": "xMF9Z1Wb9dA3"
      },
      "execution_count": null,
      "outputs": []
    }
  ],
  "metadata": {
    "colab": {
      "collapsed_sections": [],
      "name": "s4.ipynb",
      "provenance": [],
      "mount_file_id": "1xVTybFeNPr5-H4DWbFtdmehe-t9W87cp",
      "authorship_tag": "ABX9TyP7GEAWXzMw+nAat1+X2w6X"
    },
    "kernelspec": {
      "display_name": "Python 3",
      "name": "python3"
    },
    "language_info": {
      "name": "python"
    }
  },
  "nbformat": 4,
  "nbformat_minor": 0
}