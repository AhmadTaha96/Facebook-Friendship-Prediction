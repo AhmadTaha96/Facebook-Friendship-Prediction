{
  "nbformat": 4,
  "nbformat_minor": 0,
  "metadata": {
    "colab": {
      "name": "Final Result 2.ipynb",
      "provenance": [],
      "collapsed_sections": [
        "6ZsoPGoqefyk",
        "mUMGx75y1hJF",
        "Zfmvwcq61km6"
      ],
      "mount_file_id": "1ZnDnMLt-Cy_9k4s31NYxlyLbt0G4OoMM",
      "authorship_tag": "ABX9TyOiQ+elti9zW7EyEQ88JdoX"
    },
    "kernelspec": {
      "name": "python3",
      "display_name": "Python 3"
    },
    "language_info": {
      "name": "python"
    },
    "accelerator": "GPU"
  },
  "cells": [
    {
      "cell_type": "markdown",
      "metadata": {
        "id": "6ZsoPGoqefyk"
      },
      "source": [
        "# Importing Libraries"
      ]
    },
    {
      "cell_type": "code",
      "execution_count": 1,
      "metadata": {
        "id": "ywTMopcd6EMi"
      },
      "outputs": [],
      "source": [
        "import shutil\n",
        "import pandas as pd\n",
        "import numpy as np\n",
        "import matplotlib.pyplot as plt\n",
        "import seaborn as sns\n",
        "from tqdm import tqdm_notebook\n",
        "import tensorflow as tf\n",
        "from sklearn.metrics import confusion_matrix, recall_score, precision_score, f1_score, accuracy_score\n",
        "from sklearn.preprocessing import MinMaxScaler"
      ]
    },
    {
      "cell_type": "code",
      "execution_count": 2,
      "metadata": {
        "id": "5T8Tapzc3ahP"
      },
      "outputs": [],
      "source": [
        "import warnings \n",
        "warnings.filterwarnings(\"ignore\")"
      ]
    },
    {
      "cell_type": "markdown",
      "source": [
        "# Read Data"
      ],
      "metadata": {
        "id": "mUMGx75y1hJF"
      }
    },
    {
      "cell_type": "code",
      "source": [
        "y = pd.read_csv(\"Data/org_train.csv\", usecols = [\"label\"])\n",
        "rem = np.load(\"Data/train_removed.npy\")\n",
        "y.drop(index = rem, axis = 0, inplace = True)"
      ],
      "metadata": {
        "id": "65LnwIcjJQ_1"
      },
      "execution_count": 7,
      "outputs": []
    },
    {
      "cell_type": "code",
      "source": [
        "x1 = pd.read_csv(\"Data/x_train_1.csv\")\n",
        "x2 = pd.read_csv(\"Data/x_train_2.csv\")\n",
        "x3 = pd.read_csv(\"Data/x_train_3.csv\")\n",
        "\n",
        "x1.drop(index = rem, axis = 0, inplace = True)\n",
        "x2.drop(index = rem, axis = 0, inplace = True)\n",
        "x3.drop(index = rem, axis = 0, inplace = True)\n",
        "\n",
        "x1 = np.array(x1)\n",
        "x2 = np.array(x2)\n",
        "x3 = np.array(x3)\n",
        "\n",
        "np.save(\"Data/x1.npy\", x1)\n",
        "np.save(\"Data/x2.npy\", x2)\n",
        "np.save(\"Data/x3.npy\", x3)"
      ],
      "metadata": {
        "id": "0Y-mCLgfJskG"
      },
      "execution_count": 10,
      "outputs": []
    },
    {
      "cell_type": "code",
      "source": [
        "x = np.load(\"Data/train_embedding.npy\", mmap_mode = 'r')\n",
        "x1 = np.load(\"Data/x1.npy\", mmap_mode = 'r')\n",
        "x2 = np.load(\"Data/x2.npy\", mmap_mode = 'r')\n",
        "x3 = np.load(\"Data/x3.npy\", mmap_mode = 'r')"
      ],
      "metadata": {
        "id": "lE3EBVkrJt96"
      },
      "execution_count": 3,
      "outputs": []
    },
    {
      "cell_type": "code",
      "source": [
        "a = np.memmap(\"Data/test\", dtype = np.float32, mode = 'w+', shape = (len(x1), 101), order = 'F')"
      ],
      "metadata": {
        "id": "ITe3Ql5QJv33"
      },
      "execution_count": 4,
      "outputs": []
    },
    {
      "cell_type": "code",
      "source": [
        "a[:, :23] = x1\n",
        "a[:, 23:30] = x2\n",
        "a[:, 30:37] = x3\n",
        "a[:, 37:] = x"
      ],
      "metadata": {
        "id": "zJxm04EDJxSZ"
      },
      "execution_count": 5,
      "outputs": []
    },
    {
      "cell_type": "code",
      "source": [
        "Scaler = MinMaxScaler()\n",
        "temp = a\n",
        "Scaler.fit(temp)"
      ],
      "metadata": {
        "id": "WfOlBbAbJy5d",
        "colab": {
          "base_uri": "https://localhost:8080/"
        },
        "outputId": "061d935b-6181-4f39-bdd8-8b7196548152"
      },
      "execution_count": 7,
      "outputs": [
        {
          "output_type": "execute_result",
          "data": {
            "text/plain": [
              "MinMaxScaler()"
            ]
          },
          "metadata": {},
          "execution_count": 7
        }
      ]
    },
    {
      "cell_type": "code",
      "source": [
        "x_test_1 = pd.read_csv(\"Data/x_test_1.csv\")\n",
        "x_test_2 = pd.read_csv(\"Data/x_test_2.csv\")\n",
        "x_test_3 = pd.read_csv(\"Data/x_test_3.csv\")\n",
        "\n",
        "rem = np.load(\"Data/test_removed.npy\")\n",
        "x_test_1.drop(index = rem, axis = 0, inplace = True)\n",
        "x_test_2.drop(index = rem, axis = 0, inplace = True)\n",
        "x_test_3.drop(index = rem, axis = 0, inplace = True)\n",
        "\n",
        "x_test_1 = np.array(x_test_1)\n",
        "x_test_2 = np.array(x_test_2)\n",
        "x_test_3 = np.array(x_test_3)\n",
        "\n",
        "test_embedding = np.load(\"Data/test_embedding.npy\")\n",
        "y_test = pd.read_csv(\"Data/org_test.csv\", usecols = [\"label\"])\n",
        "y_test.drop(index = rem, axis = 0, inplace = True)\n",
        "\n",
        "x_test = np.hstack((x_test_1, x_test_2, x_test_3, test_embedding))"
      ],
      "metadata": {
        "id": "ss3wuFesyYYj"
      },
      "execution_count": 8,
      "outputs": []
    },
    {
      "cell_type": "code",
      "source": [
        "print(\"Number of Rows in Test Data =\", x_test.shape[0])\n",
        "print(\"Number of Columns in Test Data =\", x_test.shape[1])"
      ],
      "metadata": {
        "colab": {
          "base_uri": "https://localhost:8080/"
        },
        "id": "ejGHC4Juy9fw",
        "outputId": "371e5000-1c6d-49a0-d9d4-f4be5c458d94"
      },
      "execution_count": 9,
      "outputs": [
        {
          "output_type": "stream",
          "name": "stdout",
          "text": [
            "Number of Rows in Test Data = 1501383\n",
            "Number of Columns in Test Data = 101\n"
          ]
        }
      ]
    },
    {
      "cell_type": "code",
      "source": [
        "# taken from old keras source code\n",
        "def get_f1(y_true, y_pred):\n",
        "    true_positives = K.sum(K.round(K.clip(y_true * y_pred, 0, 1)))\n",
        "    possible_positives = K.sum(K.round(K.clip(y_true, 0, 1)))\n",
        "    predicted_positives = K.sum(K.round(K.clip(y_pred, 0, 1)))\n",
        "    precision = true_positives / (predicted_positives + K.epsilon())\n",
        "    recall = true_positives / (possible_positives + K.epsilon())\n",
        "    f1_val = 2 * (precision * recall) / (precision + recall + K.epsilon())\n",
        "    return f1_val"
      ],
      "metadata": {
        "id": "hkIRhSbyIowC"
      },
      "execution_count": 10,
      "outputs": []
    },
    {
      "cell_type": "code",
      "source": [
        "# Loading the ML Model\n",
        "model = tf.keras.models.load_model(\"model/model.h5\", custom_objects = {\"get_f1\": get_f1})"
      ],
      "metadata": {
        "id": "0sXYVgLMzagH"
      },
      "execution_count": 12,
      "outputs": []
    },
    {
      "cell_type": "code",
      "source": [
        "y_pred = model.predict(Scaler.transform(x_test))"
      ],
      "metadata": {
        "id": "oik5mVPz0Nac"
      },
      "execution_count": 13,
      "outputs": []
    },
    {
      "cell_type": "code",
      "source": [
        "# Trying 0.42 as Threshold\n",
        "y_pred = (y_pred > 0.42)"
      ],
      "metadata": {
        "id": "seik8VKgxlIY"
      },
      "execution_count": 16,
      "outputs": []
    },
    {
      "cell_type": "markdown",
      "source": [
        "# Model Result"
      ],
      "metadata": {
        "id": "Zfmvwcq61km6"
      }
    },
    {
      "cell_type": "code",
      "source": [
        "print(\"Accuracy on Test Data =\", accuracy_score(y_test, y_pred) * 100, \"%\")\n",
        "print(\"Precision  on Test Data =\", precision_score(y_test, y_pred) * 100, \"%\")\n",
        "print(\"Recall on Test Data =\", recall_score(y_test, y_pred) * 100, \"%\")\n",
        "print(\"F1 Score on Test Data =\", f1_score(y_test, y_pred))"
      ],
      "metadata": {
        "colab": {
          "base_uri": "https://localhost:8080/"
        },
        "id": "SWki6uN40UXu",
        "outputId": "2dcbaaa2-21ce-4e7d-9469-91811689fe10"
      },
      "execution_count": 17,
      "outputs": [
        {
          "output_type": "stream",
          "name": "stdout",
          "text": [
            "Accuracy on Test Data = 96.30414091540933 %\n",
            "Precision  on Test Data = 98.1344898786153 %\n",
            "Recall on Test Data = 94.41180227359816 %\n",
            "F1 Score on Test Data = 0.9623715887830186\n"
          ]
        }
      ]
    },
    {
      "cell_type": "code",
      "source": [
        "# Getting Confusion matrix for Test Data\n",
        "plt.figure(figsize = (10, 8))\n",
        "sns.heatmap(confusion_matrix(y_test, y_pred), annot = True, fmt = \"d\", cmap = \"Blues\")\n",
        "plt.title(\"Confusion Matrix For Test Data\")\n",
        "plt.show()"
      ],
      "metadata": {
        "colab": {
          "base_uri": "https://localhost:8080/",
          "height": 499
        },
        "id": "jbQbyvyC0mdc",
        "outputId": "5805cc3b-1aa4-44e6-d89d-f8fa430c0eef"
      },
      "execution_count": 18,
      "outputs": [
        {
          "output_type": "display_data",
          "data": {
            "text/plain": [
              "<Figure size 720x576 with 2 Axes>"
            ],
            "image/png": "[encoded data removed]"
          },
          "metadata": {
            "needs_background": "light"
          }
        }
      ]
    },
    {
      "cell_type": "code",
      "source": [
        "# precision percentage confusion matrix for training data for class 1 and class 0\n",
        "CM = confusion_matrix(y_test, y_pred)\n",
        "CM = CM / CM.sum(axis = 0)\n",
        "plt.figure(figsize = (10, 8))\n",
        "sns.heatmap(CM, annot = True, cmap = \"Blues\")\n",
        "plt.title(\"Precsion Percentage Confusion Matrix For Test Data\")\n",
        "plt.show()"
      ],
      "metadata": {
        "colab": {
          "base_uri": "https://localhost:8080/",
          "height": 499
        },
        "id": "kb1Ri7yJ0pSn",
        "outputId": "070330d5-1320-49dd-e1e5-f12be07b198e"
      },
      "execution_count": 19,
      "outputs": [
        {
          "output_type": "display_data",
          "data": {
            "text/plain": [
              "<Figure size 720x576 with 2 Axes>"
            ],
            "image/png": "[encoded data removed]"
          },
          "metadata": {
            "needs_background": "light"
          }
        }
      ]
    },
    {
      "cell_type": "code",
      "source": [
        "# recall percentage confusion matrix for Test data for class 1 and class 0\n",
        "CM = confusion_matrix(y_test, y_pred)\n",
        "CM = ((CM.T) / CM.sum(axis = 1)).T\n",
        "plt.figure(figsize = (10, 8))\n",
        "sns.heatmap(CM, annot = True, cmap = \"Blues\")\n",
        "plt.title(\"Recall Percentage Confusion Matrix For Test Data\")\n",
        "plt.show()"
      ],
      "metadata": {
        "colab": {
          "base_uri": "https://localhost:8080/",
          "height": 499
        },
        "id": "915fTJdL1AAc",
        "outputId": "b4b481f0-6888-49e8-a722-929f17106689"
      },
      "execution_count": 20,
      "outputs": [
        {
          "output_type": "display_data",
          "data": {
            "text/plain": [
              "<Figure size 720x576 with 2 Axes>"
            ],
            "image/png": "[encoded data removed]"
          },
          "metadata": {
            "needs_background": "light"
          }
        }
      ]
    }
  ]
}