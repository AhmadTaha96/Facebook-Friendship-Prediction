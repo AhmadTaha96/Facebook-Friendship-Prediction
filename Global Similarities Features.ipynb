{
  "cells": [
    {
      "cell_type": "markdown",
      "metadata": {
        "id": "KGsPT3L4neqz"
      },
      "source": [
        "# Importing Libraries"
      ]
    },
    {
      "cell_type": "code",
      "execution_count": null,
      "metadata": {
        "id": "kpDcGNG1H-Wb"
      },
      "outputs": [],
      "source": [
        "import pandas as pd\n",
        "import numpy as np\n",
        "import networkx as nx\n",
        "import shutil\n",
        "import os\n",
        "import scipy"
      ]
    },
    {
      "cell_type": "markdown",
      "metadata": {
        "id": "ame1WjHtluKX"
      },
      "source": [
        "# Global Based Similarity Features"
      ]
    },
    {
      "cell_type": "markdown",
      "metadata": {
        "id": "0Esfn3_RxBaE"
      },
      "source": [
        "This is the second part of designing graph features, at this stage we shall design Global Similarity-Based features.\n",
        "\n",
        "For Global Similarity-Based Approaches we will implement the following indices:\n",
        "\n",
        "1. Katz Centrality Index\n",
        "\n",
        "3. Page Rank\n",
        "\n",
        "4. Random Walk With Restart\n",
        "\n",
        "For Quasi-Local Similarity-Based Approaches:\n",
        "\n",
        "1. Third-Order Resource Allocation Based on Common Neighbor Interactions(RACN)"
      ]
    },
    {
      "cell_type": "code",
      "execution_count": null,
      "metadata": {
        "id": "vzNCbPkVp95G"
      },
      "outputs": [],
      "source": [
        "x_train = pd.read_csv(\"Data/org_train.csv\")\n",
        "x_test = pd.read_csv(\"Data/org_test.csv\")\n",
        "x_valid = pd.read_csv(\"Data/org_valid.csv\")"
      ]
    },
    {
      "cell_type": "code",
      "execution_count": null,
      "metadata": {
        "id": "8zdfSsZPWVR9"
      },
      "outputs": [],
      "source": [
        "# Reading Traing Graph From Existing Links only\n",
        "train_graph = nx.read_edgelist(\"Data/train graph.csv\", comments = 's', create_using = nx.DiGraph(), nodetype = int, delimiter = \",\")"
      ]
    },
    {
      "cell_type": "markdown",
      "metadata": {
        "id": "DjyG0sDZ8l5G"
      },
      "source": [
        "### Katz Centrality"
      ]
    },
    {
      "cell_type": "markdown",
      "metadata": {
        "id": "ufCUXZDBDwzO"
      },
      "source": [
        "Katz centrality computes the centrality for a node \n",
        "    based on the centrality of its neighbors. It is a \n",
        "    generalization of the eigenvector centrality. The\n",
        "    Katz centrality for node `i` is\n",
        " \n",
        "$$x_i = \\alpha \\sum_{j} A_{ij} x_j + \\beta,$$\n",
        "where `A` is the adjacency matrix of the graph G \n",
        "with eigenvalues $$\\lambda$$.\n",
        "\n",
        "The parameter $$\\beta$$ controls the initial centrality and \n",
        "\n",
        "$$\\alpha < \\frac{1}{\\lambda_{max}}.$$\n",
        "\n",
        "\n",
        "it works something like PageRank where the rank of node depend of the rank of it's neighbors."
      ]
    },
    {
      "cell_type": "code",
      "execution_count": null,
      "metadata": {
        "colab": {
          "background_save": true
        },
        "id": "gkvmpm8On-bg"
      },
      "outputs": [],
      "source": [
        "# Getting Katz Score for each node in the graph using networkx library\n",
        "# Using beta parameter give init socre of 1 for each node\n",
        "katz = nx.katz.katz_centrality(train_graph , max_iter = 3000 , alpha = 0.005 , beta = 1 , tol = 1e-08, normalized = True)\n",
        "# Get average katz values for all nodes in order to impute missing katz values\n",
        "katz_average = sum(katz.values()) / len(katz)"
      ]
    },
    {
      "cell_type": "code",
      "execution_count": null,
      "metadata": {
        "colab": {
          "base_uri": "https://localhost:8080/"
        },
        "id": "lw9ym1onALUg",
        "outputId": "fa2a7049-5ff9-4519-d716-6ae423a3b33c"
      },
      "outputs": [
        {
          "output_type": "stream",
          "name": "stdout",
          "text": [
            "The Average Katz Value Of All Nodes = 0.0007395898700549085\n"
          ]
        }
      ],
      "source": [
        "print(\"The Average Katz Value Of All Nodes =\", katz_average)"
      ]
    },
    {
      "cell_type": "code",
      "execution_count": null,
      "metadata": {
        "id": "E8KQPzCc-uDv"
      },
      "outputs": [],
      "source": [
        "# Getting katz score for source node and for destination node seperately\n",
        "# If the score is missing for some reasons like some nodes are not in train graph impute the result with average of katz values of all nodes\n",
        "\n",
        "# Getting Katz values for train data\n",
        "x_train[\"source_katz\"] = x_train.source_node.apply(lambda x : katz.get(x, katz_average))\n",
        "x_train[\"destination_katz\"] = x_train.destination_node.apply(lambda x : katz.get(x, katz_average))\n",
        "\n",
        "# Getting Katz values for test data\n",
        "x_test[\"source_katz\"] = x_test.source_node.apply(lambda x : katz.get(x, katz_average))\n",
        "x_test[\"destination_katz\"] = x_test.destination_node.apply(lambda x : katz.get(x, katz_average))\n",
        "\n",
        "# Getting Katz values for validation data\n",
        "x_valid[\"source_katz\"] = x_valid.source_node.apply(lambda x : katz.get(x, katz_average))\n",
        "x_valid[\"destination_katz\"] = x_valid.destination_node.apply(lambda x : katz.get(x, katz_average))"
      ]
    },
    {
      "cell_type": "markdown",
      "metadata": {
        "id": "klSoOVWSDDjd"
      },
      "source": [
        "### Page Rank"
      ]
    },
    {
      "cell_type": "markdown",
      "metadata": {
        "id": "X7RPBWl71c71"
      },
      "source": [
        "PageRank computes a ranking of the nodes in the graph G based on the structure of the incoming links. It was originally designed as an algorithm to rank web pages.\n",
        "\n",
        "if the node has a lot of incoming edge it's rank increase and if it has edge coming from high ranking node it's rank increase more."
      ]
    },
    {
      "cell_type": "code",
      "execution_count": null,
      "metadata": {
        "id": "xhXK3Rrc1bui"
      },
      "outputs": [],
      "source": [
        "# Computing the Page Rank with 500 max iteration, this may not converage [no weighting]\n",
        "PageRank = nx.pagerank(train_graph, max_iter = 500, tol = 1e-8)\n",
        "# Compute Averange of Page Rank so to impute missing nodes\n",
        "PageRank_Average = sum(PageRank.values()) / len(PageRank)"
      ]
    },
    {
      "cell_type": "code",
      "execution_count": null,
      "metadata": {
        "colab": {
          "base_uri": "https://localhost:8080/"
        },
        "id": "-Hax8lqU2Eq7",
        "outputId": "346dca75-45c9-4d8a-c277-5bd1931ecf6d"
      },
      "outputs": [
        {
          "output_type": "stream",
          "name": "stdout",
          "text": [
            "The average value of all page rank = 5.490375646031004e-07\n"
          ]
        }
      ],
      "source": [
        "print(\"The average value of all page rank =\", PageRank_Average)"
      ]
    },
    {
      "cell_type": "code",
      "execution_count": null,
      "metadata": {
        "id": "FFvxMxbs25vs"
      },
      "outputs": [],
      "source": [
        "x_train[\"source_rank\"] = x_train.source_node.apply(lambda x : PageRank.get(x, PageRank_Average))\n",
        "x_train[\"destination_rank\"] = x_train.destination_node.apply(lambda x : PageRank.get(x, PageRank_Average))\n",
        "\n",
        "x_test[\"source_rank\"] = x_test.source_node.apply(lambda x : PageRank.get(x, PageRank_Average))\n",
        "x_test[\"destination_rank\"] = x_test.destination_node.apply(lambda x : PageRank.get(x, PageRank_Average))\n",
        "\n",
        "x_valid[\"source_rank\"] = x_valid.source_node.apply(lambda x : PageRank.get(x, PageRank_Average))\n",
        "x_valid[\"destination_rank\"] = x_valid.destination_node.apply(lambda x : PageRank.get(x, PageRank_Average))"
      ]
    },
    {
      "cell_type": "code",
      "execution_count": null,
      "metadata": {
        "id": "GgPh31dC4Te_"
      },
      "outputs": [],
      "source": [
        "# Multiplying each values by 1e5 so we don't have very small values\n",
        "# This will not affect because we multiply all values in all of our dataframes by the same values\n",
        "x_train.source_rank *= 1e5\n",
        "x_train.destination_rank *= 1e5\n",
        "\n",
        "x_test.source_rank *= 1e5\n",
        "x_test.destination_rank *= 1e5\n",
        "\n",
        "x_valid.source_rank *= 1e5\n",
        "x_valid.destination_rank *= 1e5"
      ]
    },
    {
      "cell_type": "markdown",
      "metadata": {
        "id": "26pZhS-XR2h6"
      },
      "source": [
        "### Random Walk With Restart"
      ]
    },
    {
      "cell_type": "markdown",
      "source": [
        "A random walk is a type of stochastic process. The simplest explanation of a random walk would be through walking. that each step you take is determined probabilistically. This implies that at each index of time, you have moved in a certain direction based on a probabilistic outcome. This algorithm explores the relationship to each step that you would take and its distance from the initial starting point.\n",
        "\n",
        "Random walk with restart is exactly as a random walk but with one extra component to it. This component can be denoted as the restart probability. Essentially indicating that for every step taken in any direction there is a probability associated to going back to the initial starting position, the origin. In our example above of randomly moving in any direction, there is a chance that you would instantly teleport back to the origin after every step based on this restart probability."
      ],
      "metadata": {
        "id": "xFZLkvLNq38W"
      }
    },
    {
      "cell_type": "code",
      "execution_count": null,
      "metadata": {
        "id": "ykHMcEPFR3FA"
      },
      "outputs": [],
      "source": [
        "def random_with_restart(g, alpha = 0.85, max_iter = 300, tol = 1e-8):\n",
        "\n",
        "  N = g.number_of_nodes()\n",
        "  # Getting adjacency matrix of the graph\n",
        "  A = nx.to_scipy_sparse_matrix(g, dtype = float)\n",
        "  # create vectors with N values, value for each node in the train graph \n",
        "  x = np.repeat(1 / N, N)\n",
        "  # probability reachable vector for each node initiatied by 1\n",
        "  p = np.repeat(1, N)\n",
        "  # Normalization step\n",
        "  p = p / p.sum()\n",
        "  \n",
        "  temp = 1.0 / A.sum(axis = 1)\n",
        "  \n",
        "  D = scipy.sparse.spdiags(temp.T, 0, *A.shape)\n",
        "  # D is transition matrix for digraph\n",
        "  W = D * A # transition matrix\n",
        "  \n",
        "  for i in range(max_iter):\n",
        "\n",
        "    x_prev = x\n",
        "    x = alpha * x * W + (1 - alpha) * p\n",
        "\n",
        "    if abs(np.sum(x - x_prev)) < tol:\n",
        "      print(\"Convergenec before reached max iteration\")\n",
        "      return x\n",
        "  \n",
        "  return x"
      ]
    },
    {
      "cell_type": "code",
      "execution_count": null,
      "metadata": {
        "id": "ABBwA9uAATJu",
        "colab": {
          "base_uri": "https://localhost:8080/"
        },
        "outputId": "9fca2c27-be6c-4a28-fc57-387267ecd378"
      },
      "outputs": [
        {
          "output_type": "stream",
          "name": "stdout",
          "text": [
            "Convergenec before reached max iteration\n"
          ]
        }
      ],
      "source": [
        "# Getting random walk for the train graph\n",
        "random_walk = random_with_restart(train_graph)\n",
        "# average random walk value to impute missing nodes\n",
        "average_random_walk = np.mean(random_walk)\n",
        "# Multiplication by 1e6 to remove very small number\n",
        "average_random_walk *= 1e6"
      ]
    },
    {
      "cell_type": "code",
      "execution_count": null,
      "metadata": {
        "id": "ofIHN1B8AzLL"
      },
      "outputs": [],
      "source": [
        "def generate_random_walk(frame):\n",
        "  \"\"\"\n",
        "  Generate the random walk frame based on the data frame passed to it for example X_Train, X_Test, etc.\n",
        "  If the node not in the train graph it will be imputed using average random walk value\n",
        "  \"\"\"\n",
        "\n",
        "  source_random_walk, destination_random_walk = [], []\n",
        "\n",
        "  for source in frame.source_node:\n",
        "    try:\n",
        "      source_random_walk.append(random_walk[source - 1] * 1e6)\n",
        "    except:\n",
        "      source_random_walk.append(average_random_walk)\n",
        "\n",
        "  for destination in frame.destination_node:\n",
        "    try:\n",
        "      destination_random_walk.append(random_walk[destination - 1] * 1e6)\n",
        "    except:\n",
        "      destination_random_walk.append(average_random_walk)\n",
        "  \n",
        "  return source_random_walk, destination_random_walk"
      ]
    },
    {
      "cell_type": "code",
      "execution_count": null,
      "metadata": {
        "id": "8gmty63iCZ2d"
      },
      "outputs": [],
      "source": [
        "x_train[\"source_random_walk\"], x_train[\"destination_random_walk\"] = generate_random_walk(x_train)\n",
        "x_test[\"source_random_walk\"], x_test[\"destination_random_walk\"] = generate_random_walk(x_test)\n",
        "x_valid[\"source_random_walk\"], x_valid[\"destination_random_walk\"] = generate_random_walk(x_valid)"
      ]
    },
    {
      "cell_type": "code",
      "execution_count": null,
      "metadata": {
        "id": "hb04grr1pUwj"
      },
      "outputs": [],
      "source": [
        "# Getting successors, predecessors, in degree and out degree for each node in the graph otherwise use imputing\n",
        "# This will make the code below run much much faster because getting those values will happen frequently\n",
        "# A simple memoization trick would improve code speed by 180X Factor\n",
        "succs = dict()\n",
        "preds = dict()\n",
        "in_degrees = dict()\n",
        "out_degrees = dict()\n",
        "\n",
        "avg = 5.6\n",
        "for i in train_graph.nodes():\n",
        "  try:\n",
        "    succs[i] = set(train_graph.successors(i))\n",
        "    preds[i] = set(train_graph.predecessors(i))\n",
        "    in_degrees[i] = train_graph.in_degree(i)\n",
        "    out_degrees[i] = train_graph.out_degree(i)\n",
        "  except:\n",
        "    succs[i] = set()\n",
        "    in_degrees[i] = avg\n",
        "    out_degrees[i] = avg"
      ]
    },
    {
      "cell_type": "markdown",
      "source": [
        "### Third-Order Resource Allocation Based on Common Neighbor Interactions (RACN)"
      ],
      "metadata": {
        "id": "VrDqfK0wwRi-"
      }
    },
    {
      "cell_type": "markdown",
      "source": [
        "This metric was designed to detech graph structure around the two target nodes, which the resources of nodes are allocated to the\n",
        "neighbors so its related to number of neighbors of the two nodes and and successors and predecessors of those neighbors, **This metric beside Random Walk With Restart is not implemented so i had to implement them myself.**"
      ],
      "metadata": {
        "id": "28Xj9npgxEQg"
      }
    },
    {
      "cell_type": "code",
      "execution_count": null,
      "metadata": {
        "id": "eRZtAmFF8pxG"
      },
      "outputs": [],
      "source": [
        "def racn(u, v):\n",
        "  \"\"\"\n",
        "  Given two nodes u and v, Return Third Order Resource Allocation Index Based on Common Neighbor Interactions \n",
        "  The function will compute two parts the first part is realted to the successors of u and v\n",
        "  The second part related to the interactions between neighbors of those two nodes.\n",
        "  \"\"\"\n",
        "  part1, part2 = 0.0, 0.0\n",
        "  # u_succ, v_succ = set(g.successors(u)), set(g.successors(v))\n",
        "  u_succ, v_succ = succs[u], succs[v]\n",
        "  s = u_succ.intersection(v_succ)\n",
        "\n",
        "  if len(s) == 0:\n",
        "    return 0\n",
        "\n",
        "  for node in s:\n",
        "    part1 += 1 / in_degrees[node]\n",
        "  \n",
        "  for i in u_succ:\n",
        "    for j in v_succ:\n",
        "      if i == j:\n",
        "        continue\n",
        "      if i in preds[j]:\n",
        "        i_n, j_n = (in_degrees[i] + out_degrees[i]), (in_degrees[j] + out_degrees[j])\n",
        "        if i_n > j_n:\n",
        "          part2 += ((1 / i_n) - (1 / j_n))\n",
        "      else:\n",
        "        continue\n",
        "  # Replace value with it's absolute values, We don't care much about the sign  \n",
        "  return np.abs(part1 + part2)"
      ]
    },
    {
      "cell_type": "code",
      "execution_count": null,
      "metadata": {
        "id": "C1jf8IpnpLZw"
      },
      "outputs": [],
      "source": [
        "def generate_racn(frame):\n",
        "  \"\"\"\n",
        "  Generate the Racn frame based on the data frame passed to it for example X_Train, X_Test, etc.\n",
        "  If the node not in the train graph it will be imputed using zero value.\n",
        "  \"\"\"\n",
        "  results = []\n",
        "  for source, destination in zip(frame.source_node, frame.destination_node):\n",
        "    try:\n",
        "      results.append(racn(source, destination))\n",
        "    except:\n",
        "      results.append(0)\n",
        "  return results"
      ]
    },
    {
      "cell_type": "code",
      "execution_count": null,
      "metadata": {
        "id": "guMRX2eT1YcB"
      },
      "outputs": [],
      "source": [
        "x_train[\"racn\"] = generate_racn(x_train)\n",
        "x_test[\"racn\"] = generate_racn(x_test)\n",
        "x_valid[\"racn\"] = generate_racn(x_valid)"
      ]
    },
    {
      "cell_type": "code",
      "source": [
        "x_train.head(10)"
      ],
      "metadata": {
        "colab": {
          "base_uri": "https://localhost:8080/",
          "height": 363
        },
        "id": "8l8dbUe-jcuk",
        "outputId": "219e2e1b-4493-4faa-9901-efcfdc1ca6bf"
      },
      "execution_count": null,
      "outputs": [
        {
          "output_type": "execute_result",
          "data": {
            "text/html": [
              "\n",
              "  <div id=\"df-7b45765b-3995-41ce-893b-baf70a9b944f\">\n",
              "    <div class=\"colab-df-container\">\n",
              "      <div>\n",
              "<style scoped>\n",
              "    .dataframe tbody tr th:only-of-type {\n",
              "        vertical-align: middle;\n",
              "    }\n",
              "\n",
              "    .dataframe tbody tr th {\n",
              "        vertical-align: top;\n",
              "    }\n",
              "\n",
              "    .dataframe thead th {\n",
              "        text-align: right;\n",
              "    }\n",
              "</style>\n",
              "<table border=\"1\" class=\"dataframe\">\n",
              "  <thead>\n",
              "    <tr style=\"text-align: right;\">\n",
              "      <th></th>\n",
              "      <th>source_node</th>\n",
              "      <th>destination_node</th>\n",
              "      <th>label</th>\n",
              "      <th>source_katz</th>\n",
              "      <th>source_rank</th>\n",
              "      <th>destination_rank</th>\n",
              "      <th>source_random_walk</th>\n",
              "      <th>destination_random_walk</th>\n",
              "      <th>racn</th>\n",
              "    </tr>\n",
              "  </thead>\n",
              "  <tbody>\n",
              "    <tr>\n",
              "      <th>0</th>\n",
              "      <td>712635</td>\n",
              "      <td>150377</td>\n",
              "      <td>1</td>\n",
              "      <td>0.000736</td>\n",
              "      <td>0.062449</td>\n",
              "      <td>0.029567</td>\n",
              "      <td>0.273411</td>\n",
              "      <td>0.965121</td>\n",
              "      <td>0.000000</td>\n",
              "    </tr>\n",
              "    <tr>\n",
              "      <th>1</th>\n",
              "      <td>1627794</td>\n",
              "      <td>174448</td>\n",
              "      <td>0</td>\n",
              "      <td>0.000725</td>\n",
              "      <td>0.021017</td>\n",
              "      <td>0.062142</td>\n",
              "      <td>0.082356</td>\n",
              "      <td>0.762205</td>\n",
              "      <td>0.000000</td>\n",
              "    </tr>\n",
              "    <tr>\n",
              "      <th>2</th>\n",
              "      <td>1304062</td>\n",
              "      <td>391971</td>\n",
              "      <td>0</td>\n",
              "      <td>0.000721</td>\n",
              "      <td>0.011936</td>\n",
              "      <td>0.088290</td>\n",
              "      <td>0.549038</td>\n",
              "      <td>0.869534</td>\n",
              "      <td>0.000000</td>\n",
              "    </tr>\n",
              "    <tr>\n",
              "      <th>3</th>\n",
              "      <td>485532</td>\n",
              "      <td>637180</td>\n",
              "      <td>0</td>\n",
              "      <td>0.000721</td>\n",
              "      <td>0.011936</td>\n",
              "      <td>0.056763</td>\n",
              "      <td>0.309079</td>\n",
              "      <td>0.263960</td>\n",
              "      <td>0.000000</td>\n",
              "    </tr>\n",
              "    <tr>\n",
              "      <th>4</th>\n",
              "      <td>583251</td>\n",
              "      <td>1021767</td>\n",
              "      <td>1</td>\n",
              "      <td>0.000736</td>\n",
              "      <td>0.033136</td>\n",
              "      <td>0.015527</td>\n",
              "      <td>0.456601</td>\n",
              "      <td>0.436576</td>\n",
              "      <td>0.000000</td>\n",
              "    </tr>\n",
              "    <tr>\n",
              "      <th>5</th>\n",
              "      <td>481131</td>\n",
              "      <td>836938</td>\n",
              "      <td>1</td>\n",
              "      <td>0.001028</td>\n",
              "      <td>0.457588</td>\n",
              "      <td>0.066770</td>\n",
              "      <td>0.788137</td>\n",
              "      <td>0.232027</td>\n",
              "      <td>0.050088</td>\n",
              "    </tr>\n",
              "    <tr>\n",
              "      <th>6</th>\n",
              "      <td>587779</td>\n",
              "      <td>334336</td>\n",
              "      <td>1</td>\n",
              "      <td>0.000820</td>\n",
              "      <td>0.226426</td>\n",
              "      <td>0.115005</td>\n",
              "      <td>0.293321</td>\n",
              "      <td>1.790829</td>\n",
              "      <td>0.462079</td>\n",
              "    </tr>\n",
              "    <tr>\n",
              "      <th>7</th>\n",
              "      <td>1491051</td>\n",
              "      <td>773032</td>\n",
              "      <td>0</td>\n",
              "      <td>0.000783</td>\n",
              "      <td>0.134629</td>\n",
              "      <td>0.011936</td>\n",
              "      <td>0.549038</td>\n",
              "      <td>0.146073</td>\n",
              "      <td>0.000000</td>\n",
              "    </tr>\n",
              "    <tr>\n",
              "      <th>8</th>\n",
              "      <td>189069</td>\n",
              "      <td>272812</td>\n",
              "      <td>1</td>\n",
              "      <td>0.000721</td>\n",
              "      <td>0.011936</td>\n",
              "      <td>0.066705</td>\n",
              "      <td>0.675744</td>\n",
              "      <td>0.750177</td>\n",
              "      <td>0.000000</td>\n",
              "    </tr>\n",
              "    <tr>\n",
              "      <th>9</th>\n",
              "      <td>1416904</td>\n",
              "      <td>1007057</td>\n",
              "      <td>1</td>\n",
              "      <td>0.000971</td>\n",
              "      <td>0.367171</td>\n",
              "      <td>0.017330</td>\n",
              "      <td>0.082356</td>\n",
              "      <td>0.630529</td>\n",
              "      <td>0.000000</td>\n",
              "    </tr>\n",
              "  </tbody>\n",
              "</table>\n",
              "</div>\n",
              "      <button class=\"colab-df-convert\" onclick=\"convertToInteractive('df-7b45765b-3995-41ce-893b-baf70a9b944f')\"\n",
              "              title=\"Convert this dataframe to an interactive table.\"\n",
              "              style=\"display:none;\">\n",
              "        \n",
              "  <svg xmlns=\"http://www.w3.org/2000/svg\" height=\"24px\"viewBox=\"0 0 24 24\"\n",
              "       width=\"24px\">\n",
              "    <path d=\"M0 0h24v24H0V0z\" fill=\"none\"/>\n",
              "    <path d=\"M18.56 5.44l.94 2.06.94-2.06 2.06-.94-2.06-.94-.94-2.06-.94 2.06-2.06.94zm-11 1L8.5 8.5l.94-2.06 2.06-.94-2.06-.94L8.5 2.5l-.94 2.06-2.06.94zm10 10l.94 2.06.94-2.06 2.06-.94-2.06-.94-.94-2.06-.94 2.06-2.06.94z\"/><path d=\"M17.41 7.96l-1.37-1.37c-.4-.4-.92-.59-1.43-.59-.52 0-1.04.2-1.43.59L10.3 9.45l-7.72 7.72c-.78.78-.78 2.05 0 2.83L4 21.41c.39.39.9.59 1.41.59.51 0 1.02-.2 1.41-.59l7.78-7.78 2.81-2.81c.8-.78.8-2.07 0-2.86zM5.41 20L4 18.59l7.72-7.72 1.47 1.35L5.41 20z\"/>\n",
              "  </svg>\n",
              "      </button>\n",
              "      \n",
              "  <style>\n",
              "    .colab-df-container {\n",
              "      display:flex;\n",
              "      flex-wrap:wrap;\n",
              "      gap: 12px;\n",
              "    }\n",
              "\n",
              "    .colab-df-convert {\n",
              "      background-color: #E8F0FE;\n",
              "      border: none;\n",
              "      border-radius: 50%;\n",
              "      cursor: pointer;\n",
              "      display: none;\n",
              "      fill: #1967D2;\n",
              "      height: 32px;\n",
              "      padding: 0 0 0 0;\n",
              "      width: 32px;\n",
              "    }\n",
              "\n",
              "    .colab-df-convert:hover {\n",
              "      background-color: #E2EBFA;\n",
              "      box-shadow: 0px 1px 2px rgba(60, 64, 67, 0.3), 0px 1px 3px 1px rgba(60, 64, 67, 0.15);\n",
              "      fill: #174EA6;\n",
              "    }\n",
              "\n",
              "    [theme=dark] .colab-df-convert {\n",
              "      background-color: #3B4455;\n",
              "      fill: #D2E3FC;\n",
              "    }\n",
              "\n",
              "    [theme=dark] .colab-df-convert:hover {\n",
              "      background-color: #434B5C;\n",
              "      box-shadow: 0px 1px 3px 1px rgba(0, 0, 0, 0.15);\n",
              "      filter: drop-shadow(0px 1px 2px rgba(0, 0, 0, 0.3));\n",
              "      fill: #FFFFFF;\n",
              "    }\n",
              "  </style>\n",
              "\n",
              "      <script>\n",
              "        const buttonEl =\n",
              "          document.querySelector('#df-7b45765b-3995-41ce-893b-baf70a9b944f button.colab-df-convert');\n",
              "        buttonEl.style.display =\n",
              "          google.colab.kernel.accessAllowed ? 'block' : 'none';\n",
              "\n",
              "        async function convertToInteractive(key) {\n",
              "          const element = document.querySelector('#df-7b45765b-3995-41ce-893b-baf70a9b944f');\n",
              "          const dataTable =\n",
              "            await google.colab.kernel.invokeFunction('convertToInteractive',\n",
              "                                                     [key], {});\n",
              "          if (!dataTable) return;\n",
              "\n",
              "          const docLinkHtml = 'Like what you see? Visit the ' +\n",
              "            '<a target=\"_blank\" href=https://colab.research.google.com/notebooks/data_table.ipynb>data table notebook</a>'\n",
              "            + ' to learn more about interactive tables.';\n",
              "          element.innerHTML = '';\n",
              "          dataTable['output_type'] = 'display_data';\n",
              "          await google.colab.output.renderOutput(dataTable, element);\n",
              "          const docLink = document.createElement('div');\n",
              "          docLink.innerHTML = docLinkHtml;\n",
              "          element.appendChild(docLink);\n",
              "        }\n",
              "      </script>\n",
              "    </div>\n",
              "  </div>\n",
              "  "
            ],
            "text/plain": [
              "   source_node  destination_node  ...  destination_random_walk      racn\n",
              "0       712635            150377  ...                 0.965121  0.000000\n",
              "1      1627794            174448  ...                 0.762205  0.000000\n",
              "2      1304062            391971  ...                 0.869534  0.000000\n",
              "3       485532            637180  ...                 0.263960  0.000000\n",
              "4       583251           1021767  ...                 0.436576  0.000000\n",
              "5       481131            836938  ...                 0.232027  0.050088\n",
              "6       587779            334336  ...                 1.790829  0.462079\n",
              "7      1491051            773032  ...                 0.146073  0.000000\n",
              "8       189069            272812  ...                 0.750177  0.000000\n",
              "9      1416904           1007057  ...                 0.630529  0.000000\n",
              "\n",
              "[10 rows x 9 columns]"
            ]
          },
          "metadata": {},
          "execution_count": 6
        }
      ]
    },
    {
      "cell_type": "code",
      "source": [
        "# Dropping unrelated features columns\n",
        "x_train.drop([\"source_node\", \"destination_node\", \"label\"], axis = 1, inplace = True)\n",
        "x_test.drop([\"source_node\", \"destination_node\", \"label\"], axis = 1, inplace = True)\n",
        "x_valid.drop([\"source_node\", \"destination_node\", \"label\"], axis = 1, inplace = True)"
      ],
      "metadata": {
        "id": "LwRURn2ukE_A"
      },
      "execution_count": null,
      "outputs": []
    },
    {
      "cell_type": "code",
      "source": [
        "x_train.head()"
      ],
      "metadata": {
        "colab": {
          "base_uri": "https://localhost:8080/",
          "height": 206
        },
        "id": "OaqizX0TkQFr",
        "outputId": "0d31a2d1-a8cd-4d42-c9aa-64d3c4b06490"
      },
      "execution_count": null,
      "outputs": [
        {
          "output_type": "execute_result",
          "data": {
            "text/html": [
              "\n",
              "  <div id=\"df-3125f034-1c7b-4c42-870e-45c78d50bf12\">\n",
              "    <div class=\"colab-df-container\">\n",
              "      <div>\n",
              "<style scoped>\n",
              "    .dataframe tbody tr th:only-of-type {\n",
              "        vertical-align: middle;\n",
              "    }\n",
              "\n",
              "    .dataframe tbody tr th {\n",
              "        vertical-align: top;\n",
              "    }\n",
              "\n",
              "    .dataframe thead th {\n",
              "        text-align: right;\n",
              "    }\n",
              "</style>\n",
              "<table border=\"1\" class=\"dataframe\">\n",
              "  <thead>\n",
              "    <tr style=\"text-align: right;\">\n",
              "      <th></th>\n",
              "      <th>source_katz</th>\n",
              "      <th>source_rank</th>\n",
              "      <th>destination_rank</th>\n",
              "      <th>source_random_walk</th>\n",
              "      <th>destination_random_walk</th>\n",
              "      <th>racn</th>\n",
              "    </tr>\n",
              "  </thead>\n",
              "  <tbody>\n",
              "    <tr>\n",
              "      <th>0</th>\n",
              "      <td>0.000736</td>\n",
              "      <td>0.062449</td>\n",
              "      <td>0.029567</td>\n",
              "      <td>0.273411</td>\n",
              "      <td>0.965121</td>\n",
              "      <td>0.0</td>\n",
              "    </tr>\n",
              "    <tr>\n",
              "      <th>1</th>\n",
              "      <td>0.000725</td>\n",
              "      <td>0.021017</td>\n",
              "      <td>0.062142</td>\n",
              "      <td>0.082356</td>\n",
              "      <td>0.762205</td>\n",
              "      <td>0.0</td>\n",
              "    </tr>\n",
              "    <tr>\n",
              "      <th>2</th>\n",
              "      <td>0.000721</td>\n",
              "      <td>0.011936</td>\n",
              "      <td>0.088290</td>\n",
              "      <td>0.549038</td>\n",
              "      <td>0.869534</td>\n",
              "      <td>0.0</td>\n",
              "    </tr>\n",
              "    <tr>\n",
              "      <th>3</th>\n",
              "      <td>0.000721</td>\n",
              "      <td>0.011936</td>\n",
              "      <td>0.056763</td>\n",
              "      <td>0.309079</td>\n",
              "      <td>0.263960</td>\n",
              "      <td>0.0</td>\n",
              "    </tr>\n",
              "    <tr>\n",
              "      <th>4</th>\n",
              "      <td>0.000736</td>\n",
              "      <td>0.033136</td>\n",
              "      <td>0.015527</td>\n",
              "      <td>0.456601</td>\n",
              "      <td>0.436576</td>\n",
              "      <td>0.0</td>\n",
              "    </tr>\n",
              "  </tbody>\n",
              "</table>\n",
              "</div>\n",
              "      <button class=\"colab-df-convert\" onclick=\"convertToInteractive('df-3125f034-1c7b-4c42-870e-45c78d50bf12')\"\n",
              "              title=\"Convert this dataframe to an interactive table.\"\n",
              "              style=\"display:none;\">\n",
              "        \n",
              "  <svg xmlns=\"http://www.w3.org/2000/svg\" height=\"24px\"viewBox=\"0 0 24 24\"\n",
              "       width=\"24px\">\n",
              "    <path d=\"M0 0h24v24H0V0z\" fill=\"none\"/>\n",
              "    <path d=\"M18.56 5.44l.94 2.06.94-2.06 2.06-.94-2.06-.94-.94-2.06-.94 2.06-2.06.94zm-11 1L8.5 8.5l.94-2.06 2.06-.94-2.06-.94L8.5 2.5l-.94 2.06-2.06.94zm10 10l.94 2.06.94-2.06 2.06-.94-2.06-.94-.94-2.06-.94 2.06-2.06.94z\"/><path d=\"M17.41 7.96l-1.37-1.37c-.4-.4-.92-.59-1.43-.59-.52 0-1.04.2-1.43.59L10.3 9.45l-7.72 7.72c-.78.78-.78 2.05 0 2.83L4 21.41c.39.39.9.59 1.41.59.51 0 1.02-.2 1.41-.59l7.78-7.78 2.81-2.81c.8-.78.8-2.07 0-2.86zM5.41 20L4 18.59l7.72-7.72 1.47 1.35L5.41 20z\"/>\n",
              "  </svg>\n",
              "      </button>\n",
              "      \n",
              "  <style>\n",
              "    .colab-df-container {\n",
              "      display:flex;\n",
              "      flex-wrap:wrap;\n",
              "      gap: 12px;\n",
              "    }\n",
              "\n",
              "    .colab-df-convert {\n",
              "      background-color: #E8F0FE;\n",
              "      border: none;\n",
              "      border-radius: 50%;\n",
              "      cursor: pointer;\n",
              "      display: none;\n",
              "      fill: #1967D2;\n",
              "      height: 32px;\n",
              "      padding: 0 0 0 0;\n",
              "      width: 32px;\n",
              "    }\n",
              "\n",
              "    .colab-df-convert:hover {\n",
              "      background-color: #E2EBFA;\n",
              "      box-shadow: 0px 1px 2px rgba(60, 64, 67, 0.3), 0px 1px 3px 1px rgba(60, 64, 67, 0.15);\n",
              "      fill: #174EA6;\n",
              "    }\n",
              "\n",
              "    [theme=dark] .colab-df-convert {\n",
              "      background-color: #3B4455;\n",
              "      fill: #D2E3FC;\n",
              "    }\n",
              "\n",
              "    [theme=dark] .colab-df-convert:hover {\n",
              "      background-color: #434B5C;\n",
              "      box-shadow: 0px 1px 3px 1px rgba(0, 0, 0, 0.15);\n",
              "      filter: drop-shadow(0px 1px 2px rgba(0, 0, 0, 0.3));\n",
              "      fill: #FFFFFF;\n",
              "    }\n",
              "  </style>\n",
              "\n",
              "      <script>\n",
              "        const buttonEl =\n",
              "          document.querySelector('#df-3125f034-1c7b-4c42-870e-45c78d50bf12 button.colab-df-convert');\n",
              "        buttonEl.style.display =\n",
              "          google.colab.kernel.accessAllowed ? 'block' : 'none';\n",
              "\n",
              "        async function convertToInteractive(key) {\n",
              "          const element = document.querySelector('#df-3125f034-1c7b-4c42-870e-45c78d50bf12');\n",
              "          const dataTable =\n",
              "            await google.colab.kernel.invokeFunction('convertToInteractive',\n",
              "                                                     [key], {});\n",
              "          if (!dataTable) return;\n",
              "\n",
              "          const docLinkHtml = 'Like what you see? Visit the ' +\n",
              "            '<a target=\"_blank\" href=https://colab.research.google.com/notebooks/data_table.ipynb>data table notebook</a>'\n",
              "            + ' to learn more about interactive tables.';\n",
              "          element.innerHTML = '';\n",
              "          dataTable['output_type'] = 'display_data';\n",
              "          await google.colab.output.renderOutput(dataTable, element);\n",
              "          const docLink = document.createElement('div');\n",
              "          docLink.innerHTML = docLinkHtml;\n",
              "          element.appendChild(docLink);\n",
              "        }\n",
              "      </script>\n",
              "    </div>\n",
              "  </div>\n",
              "  "
            ],
            "text/plain": [
              "   source_katz  source_rank  ...  destination_random_walk  racn\n",
              "0     0.000736     0.062449  ...                 0.965121   0.0\n",
              "1     0.000725     0.021017  ...                 0.762205   0.0\n",
              "2     0.000721     0.011936  ...                 0.869534   0.0\n",
              "3     0.000721     0.011936  ...                 0.263960   0.0\n",
              "4     0.000736     0.033136  ...                 0.436576   0.0\n",
              "\n",
              "[5 rows x 6 columns]"
            ]
          },
          "metadata": {},
          "execution_count": 13
        }
      ]
    },
    {
      "cell_type": "code",
      "execution_count": null,
      "metadata": {
        "id": "vTtlemzZ1Qol"
      },
      "outputs": [],
      "source": [
        "x_train.to_csv(\"Data/x_train_2.csv\", index = False)\n",
        "x_test.to_csv(\"Data/x_test_2.csv\", index = False)\n",
        "x_valid.to_csv(\"Data/x_valid_2.csv\", index = False)"
      ]
    }
  ],
  "metadata": {
    "colab": {
      "collapsed_sections": [
        "KGsPT3L4neqz",
        "ame1WjHtluKX",
        "DjyG0sDZ8l5G",
        "klSoOVWSDDjd",
        "26pZhS-XR2h6",
        "VrDqfK0wwRi-"
      ],
      "name": "Generating Dataset.ipynb",
      "provenance": [],
      "mount_file_id": "1uPGnyQFKjBJ_hMQ4Q-L3opOwvhDqRPxh",
      "authorship_tag": "ABX9TyPuP1ACp9+tpPXPF7+mLOFv"
    },
    "kernelspec": {
      "display_name": "Python 3",
      "name": "python3"
    },
    "language_info": {
      "name": "python"
    }
  },
  "nbformat": 4,
  "nbformat_minor": 0
}